{
 "cells": [
  {
   "cell_type": "markdown",
   "id": "5978f6b1",
   "metadata": {},
   "source": [
    "# QURI SDK Showcase"
   ]
  },
  {
   "cell_type": "markdown",
   "id": "4a680200",
   "metadata": {},
   "source": [
    "## Easy installation\n",
    "\n",
    "Requires Python3.10 or later. Optionally define a virtual environment"
   ]
  },
  {
   "cell_type": "code",
   "execution_count": null,
   "id": "e6a1bae9",
   "metadata": {
    "vscode": {
     "languageId": "shellscript"
    }
   },
   "outputs": [],
   "source": [
    "python -m venv .venv\n",
    "source .venv/bin/activate"
   ]
  },
  {
   "cell_type": "markdown",
   "id": "71588290",
   "metadata": {},
   "source": [
    "then install"
   ]
  },
  {
   "cell_type": "code",
   "execution_count": null,
   "id": "14ebabf8",
   "metadata": {
    "vscode": {
     "languageId": "shellscript"
    }
   },
   "outputs": [],
   "source": [
    "pip install quri-parts quri-algo quri-vm"
   ]
  },
  {
   "cell_type": "markdown",
   "id": "ad0784dc",
   "metadata": {},
   "source": [
    "## Easy definition of quantum circuits"
   ]
  },
  {
   "cell_type": "code",
   "execution_count": 46,
   "id": "163e80c0",
   "metadata": {},
   "outputs": [
    {
     "name": "stdout",
     "output_type": "stream",
     "text": [
      "   ___          \n",
      "  | H |         \n",
      "--|0  |-----●---\n",
      "  |___|     |   \n",
      "           _|_  \n",
      "          |CX | \n",
      "----------|1  |-\n",
      "          |___| \n"
     ]
    }
   ],
   "source": [
    "from quri_parts.circuit import QuantumCircuit\n",
    "\n",
    "qubit_count = 2\n",
    "\n",
    "circuit = QuantumCircuit(qubit_count)  # create an empty quantum circuit with 2 qubits\n",
    "circuit.add_H_gate(0)  # Add Hadamard gate on 0'th qubit\n",
    "circuit.add_CNOT_gate(0,1)\n",
    "\n",
    "circuit.draw()"
   ]
  },
  {
   "cell_type": "markdown",
   "id": "46f463f4",
   "metadata": {},
   "source": [
    "## Easy sampling\n",
    "\n",
    "Circuits have a sample method"
   ]
  },
  {
   "cell_type": "code",
   "execution_count": 47,
   "id": "5113d70c",
   "metadata": {},
   "outputs": [
    {
     "data": {
      "text/plain": [
       "Counter({0: 504, 3: 496})"
      ]
     },
     "execution_count": 47,
     "metadata": {},
     "output_type": "execute_result"
    }
   ],
   "source": [
    "circuit.sample(1000)  # noise-free sampling simulation using Qulacs"
   ]
  },
  {
   "cell_type": "markdown",
   "id": "b114f275",
   "metadata": {},
   "source": [
    "## Using virtual machines\n",
    "\n",
    "We use virtual machines with our algorithms. These virtual machines mimic quantum device architectures (with or without error correction) and return results from estimations or sampling experiments.\n",
    "\n",
    "They can be combined with out algorithm suite to run phase estimation algorithms with accurate simulated results or skip the algorithm execution in favour of resource estimation for the algorithms"
   ]
  },
  {
   "cell_type": "code",
   "execution_count": 48,
   "id": "0e1160e8",
   "metadata": {},
   "outputs": [],
   "source": [
    "from quri_vm import VM\n",
    "from quri_parts.backend.devices import clifford_t_device, star_device\n",
    "from quri_parts.backend.units import TimeUnit, TimeValue\n",
    "\n",
    "physical_error_rate=1.0e-5\n",
    "d=7\n",
    "qec_cycle_us=1.0\n",
    "delta_sk=1.0e-5\n",
    "mode_block=\"compact\"\n",
    "\n",
    "clifford_t_device_property = clifford_t_device.generate_device_property(\n",
    "        qubit_count=qubit_count,\n",
    "        code_distance=d,\n",
    "        qec_cycle=TimeValue(qec_cycle_us, TimeUnit.MICROSECOND),\n",
    "        delta_sk=delta_sk,\n",
    "        physical_error_rate=physical_error_rate,\n",
    "        mode_block=mode_block\n",
    "    )\n",
    "star_device_property = star_device.generate_device_property(\n",
    "        qubit_count=qubit_count,\n",
    "        code_distance=d,\n",
    "        qec_cycle=TimeValue(qec_cycle_us, TimeUnit.MICROSECOND),\n",
    "        physical_error_rate=physical_error_rate,\n",
    "    )\n",
    "ftqc_vm = VM.from_device_prop(clifford_t_device_property)\n",
    "star_vm = VM.from_device_prop(star_device_property)"
   ]
  },
  {
   "cell_type": "markdown",
   "id": "2bcf600e",
   "metadata": {},
   "source": [
    "Using this we can sample"
   ]
  },
  {
   "cell_type": "code",
   "execution_count": 49,
   "id": "0ce95e84",
   "metadata": {},
   "outputs": [
    {
     "data": {
      "text/plain": [
       "Counter({0: 512, 3: 488})"
      ]
     },
     "execution_count": 49,
     "metadata": {},
     "output_type": "execute_result"
    }
   ],
   "source": [
    "ftqc_vm.sample(circuit, shots=1000)"
   ]
  },
  {
   "cell_type": "markdown",
   "id": "ad0844bf",
   "metadata": {},
   "source": [
    "or analyze a quantum circuit"
   ]
  },
  {
   "cell_type": "code",
   "execution_count": 50,
   "id": "b1a4534e",
   "metadata": {},
   "outputs": [
    {
     "name": "stdout",
     "output_type": "stream",
     "text": [
      "AnalyzeResult(lowering_level=<LoweringLevel.ArchLogicalCircuit: 1>,\n",
      "              qubit_count=2,\n",
      "              gate_count=2,\n",
      "              depth=2,\n",
      "              latency=TimeValue(value=35000.0, unit=<TimeUnit.NANOSECOND>),\n",
      "              fidelity=0.999999994290949)\n",
      "AnalyzeResult(lowering_level=<LoweringLevel.ArchLogicalCircuit: 1>,\n",
      "              qubit_count=2,\n",
      "              gate_count=2,\n",
      "              depth=2,\n",
      "              latency=TimeValue(value=35000.0, unit=<TimeUnit.NANOSECOND>),\n",
      "              fidelity=0.9999999983688426)\n"
     ]
    }
   ],
   "source": [
    "from pprint import pprint\n",
    "\n",
    "pprint(ftqc_vm.analyze(circuit))\n",
    "pprint(star_vm.analyze(circuit))"
   ]
  },
  {
   "cell_type": "markdown",
   "id": "99eb6bcd",
   "metadata": {},
   "source": [
    "## Generating circuits with circuit factories\n",
    "\n",
    "We have circuit factories that can generate complex circuits such as time-evolution circuits, etc. We can use these to generate time-evolution circuits any generic qubit Hamiltonian"
   ]
  },
  {
   "cell_type": "code",
   "execution_count": 51,
   "id": "2f271c9d",
   "metadata": {},
   "outputs": [
    {
     "name": "stdout",
     "output_type": "stream",
     "text": [
      "   ___     ___             ___     ___                  \n",
      "  |PR |   |PR |           |PR |   |PR |                 \n",
      "--|0  |---|3  |-----------|7  |---|10 |-----------------\n",
      "  |   |   |___|           |   |   |___|                 \n",
      "  |   |    ___     ___    |   |    ___     ___          \n",
      "  |   |   |PR |   |PR |   |   |   |PR |   |PR |         \n",
      "--|   |---|1  |---|4  |---|   |---|8  |---|11 |---------\n",
      "  |___|   |   |   |___|   |___|   |   |   |___|         \n",
      "          |   |    ___     ___    |   |    ___     ___  \n",
      "          |   |   |PR |   |PR |   |   |   |PR |   |PR | \n",
      "----------|   |---|2  |---|5  |---|   |---|9  |---|12 |-\n",
      "          |___|   |   |   |___|   |___|   |   |   |___| \n",
      "                  |   |    ___            |   |    ___  \n",
      "                  |   |   |PR |           |   |   |PR | \n",
      "------------------|   |---|6  |-----------|   |---|13 |-\n",
      "                  |___|   |___|           |___|   |___| \n"
     ]
    }
   ],
   "source": [
    "from quri_parts.core.operator import Operator, pauli_label\n",
    "\n",
    "from quri_algo.circuit.time_evolution.trotter_time_evo import TrotterTimeEvolutionCircuitFactory\n",
    "from quri_algo.problem import QubitHamiltonian\n",
    "\n",
    "N_TROTTER=2\n",
    "EVOLUTION_TIME=0.1\n",
    "QUBIT_COUNT=4\n",
    "\n",
    "# Hamiltonian operator\n",
    "hamiltonian = Operator()\n",
    "hamiltonian.add_term(pauli_label(\"X0 X1\"), 1.0)\n",
    "hamiltonian.add_term(pauli_label(\"X1 X2\"), 1.0)\n",
    "hamiltonian.add_term(pauli_label(\"X2 X3\"), 1.0)\n",
    "hamiltonian.add_term(pauli_label(\"Z0\"), -1.0)\n",
    "hamiltonian.add_term(pauli_label(\"Z1\"), -1.0)\n",
    "hamiltonian.add_term(pauli_label(\"Z2\"), -1.0)\n",
    "hamiltonian.add_term(pauli_label(\"Z3\"), -1.0)\n",
    "\n",
    "# Input for quantum algorithms\n",
    "hamiltonian_input = QubitHamiltonian(QUBIT_COUNT, hamiltonian)\n",
    "\n",
    "# Time evolution operator\n",
    "time_evo_circuit_factory = TrotterTimeEvolutionCircuitFactory(hamiltonian_input, n_trotter=N_TROTTER)\n",
    "\n",
    "time_evo_circuit = time_evo_circuit_factory(EVOLUTION_TIME)  # generate time evolution circuit and draw it\n",
    "time_evo_circuit.draw()"
   ]
  },
  {
   "cell_type": "markdown",
   "id": "b11dab69",
   "metadata": {},
   "source": [
    "Each VM instance has a transpiler that it uses to transform circuits like the above into gate-based operations that can be executed on the device. In this case the pauli-rotations will be expanded into concrete gates."
   ]
  },
  {
   "cell_type": "code",
   "execution_count": 52,
   "id": "b7e5f591",
   "metadata": {},
   "outputs": [
    {
     "name": "stdout",
     "output_type": "stream",
     "text": [
      "   ___     ___     ___     ___     ___     ___     ___                          \n",
      "  | H |   |CX |   |RZ |   |CX |   | H |   |RZ |   | H |                         \n",
      "--|0  |---|2  |---|3  |---|4  |---|5  |---|21 |---|25 |-------------------------\n",
      "  |___|   |___|   |___|   |___|   |___|   |___|   |___|                         \n",
      "   ___      |               |      ___     ___     ___     ___     ___     ___  \n",
      "  | H |     |               |     | H |   | H |   |CX |   |RZ |   |CX |   | H | \n",
      "--|1  |-----●---------------●-----|6  |---|7  |---|9  |---|10 |---|11 |---|12 |-\n",
      "  |___|                           |___|   |___|   |___|   |___|   |___|   |___| \n",
      "   ___                                              |               |      ___  \n",
      "  | H |                                             |               |     | H | \n",
      "--|8  |---------------------------------------------●---------------●-----|13 |-\n",
      "  |___|                                                                   |___| \n",
      "   ___                                                                          \n",
      "  | H |                                                                         \n",
      "--|14 |-------------------------------------------------------------------------\n",
      "  |___|                                                                         \n",
      "\n",
      "\n",
      "================================================================================\n",
      "\n",
      "                   ___     ___     ___     ___     ___                          \n",
      "                  |CX |   |RZ |   |CX |   | H |   |RZ |                         \n",
      "------------------|27 |---|28 |---|29 |---|30 |---|46 |-------------------------\n",
      "                  |___|   |___|   |___|   |___|   |___|                         \n",
      "   ___     ___      |               |      ___     ___     ___     ___     ___  \n",
      "  |RZ |   | H |     |               |     | H |   | H |   |CX |   |RZ |   |CX | \n",
      "--|22 |---|26 |-----●---------------●-----|31 |---|32 |---|34 |---|35 |---|36 |-\n",
      "  |___|   |___|                           |___|   |___|   |___|   |___|   |___| \n",
      "   ___                             ___     ___     ___      |               |   \n",
      "  | H |                           | H |   |RZ |   | H |     |               |   \n",
      "--|15 |-----●---------------●-----|20 |---|23 |---|33 |-----●---------------●---\n",
      "  |___|     |               |     |___|   |___|   |___|                         \n",
      "           _|_     ___     _|_     ___     ___     ___                          \n",
      "          |CX |   |RZ |   |CX |   | H |   |RZ |   | H |                         \n",
      "----------|16 |---|17 |---|18 |---|19 |---|24 |---|39 |-------------------------\n",
      "          |___|   |___|   |___|   |___|   |___|   |___|                         \n",
      "\n",
      "\n",
      "================================================================================\n",
      "\n",
      "                                                        \n",
      "                                                        \n",
      "--------------------------------------------------------\n",
      "                                                        \n",
      "   ___     ___                                          \n",
      "  | H |   |RZ |                                         \n",
      "--|37 |---|47 |-----------------------------------------\n",
      "  |___|   |___|                                         \n",
      "   ___     ___                             ___     ___  \n",
      "  | H |   | H |                           | H |   |RZ | \n",
      "--|38 |---|40 |-----●---------------●-----|45 |---|48 |-\n",
      "  |___|   |___|     |               |     |___|   |___| \n",
      "                   _|_     ___     _|_     ___     ___  \n",
      "                  |CX |   |RZ |   |CX |   | H |   |RZ | \n",
      "------------------|41 |---|42 |---|43 |---|44 |---|49 |-\n",
      "                  |___|   |___|   |___|   |___|   |___| \n"
     ]
    }
   ],
   "source": [
    "transpiled_circuit = star_vm.transpile(time_evo_circuit)  # transpile the circuit to the device\n",
    "transpiled_circuit.draw()  # draw the transpiled circuit"
   ]
  },
  {
   "cell_type": "markdown",
   "id": "9a1f54dd",
   "metadata": {},
   "source": [
    "## Support for external SDKs\n",
    "\n",
    "We interface with a range of SDKs for example qiskit"
   ]
  },
  {
   "cell_type": "code",
   "execution_count": 20,
   "id": "3c7484ff",
   "metadata": {
    "vscode": {
     "languageId": "shellscript"
    }
   },
   "outputs": [
    {
     "name": "stdout",
     "output_type": "stream",
     "text": [
      "Requirement already satisfied: quri-parts[qiskit] in /home/drokles/.cache/pypoetry/virtualenvs/quri-sdk-notebooks-AzU4R8Lq-py3.11/lib/python3.11/site-packages (0.22.0)\n",
      "Requirement already satisfied: quri-parts-algo in /home/drokles/.cache/pypoetry/virtualenvs/quri-sdk-notebooks-AzU4R8Lq-py3.11/lib/python3.11/site-packages (from quri-parts[qiskit]) (0.22.0)\n",
      "Requirement already satisfied: quri-parts-chem in /home/drokles/.cache/pypoetry/virtualenvs/quri-sdk-notebooks-AzU4R8Lq-py3.11/lib/python3.11/site-packages (from quri-parts[qiskit]) (0.22.0)\n",
      "Requirement already satisfied: quri-parts-circuit in /home/drokles/.cache/pypoetry/virtualenvs/quri-sdk-notebooks-AzU4R8Lq-py3.11/lib/python3.11/site-packages (from quri-parts[qiskit]) (0.22.0)\n",
      "Requirement already satisfied: quri-parts-core in /home/drokles/.cache/pypoetry/virtualenvs/quri-sdk-notebooks-AzU4R8Lq-py3.11/lib/python3.11/site-packages (from quri-parts[qiskit]) (0.22.0)\n",
      "Requirement already satisfied: quri-parts-qiskit in /home/drokles/.cache/pypoetry/virtualenvs/quri-sdk-notebooks-AzU4R8Lq-py3.11/lib/python3.11/site-packages (from quri-parts[qiskit]) (0.22.0)\n",
      "Requirement already satisfied: quri-parts-rust in /home/drokles/.cache/pypoetry/virtualenvs/quri-sdk-notebooks-AzU4R8Lq-py3.11/lib/python3.11/site-packages (from quri-parts[qiskit]) (0.22.0)\n",
      "Requirement already satisfied: scipy<2.0.0,>=1.9.1 in /home/drokles/.cache/pypoetry/virtualenvs/quri-sdk-notebooks-AzU4R8Lq-py3.11/lib/python3.11/site-packages (from quri-parts-algo->quri-parts[qiskit]) (1.14.1)\n",
      "Requirement already satisfied: typing-extensions<5.0.0,>=4.1.1 in /home/drokles/.cache/pypoetry/virtualenvs/quri-sdk-notebooks-AzU4R8Lq-py3.11/lib/python3.11/site-packages (from quri-parts-algo->quri-parts[qiskit]) (4.12.2)\n",
      "Requirement already satisfied: numpy>=1.22.0 in /home/drokles/.cache/pypoetry/virtualenvs/quri-sdk-notebooks-AzU4R8Lq-py3.11/lib/python3.11/site-packages (from quri-parts-circuit->quri-parts[qiskit]) (1.26.4)\n",
      "Requirement already satisfied: networkx in /home/drokles/.cache/pypoetry/virtualenvs/quri-sdk-notebooks-AzU4R8Lq-py3.11/lib/python3.11/site-packages (from quri-parts-core->quri-parts[qiskit]) (3.4.2)\n",
      "Requirement already satisfied: quri-parts-qulacs in /home/drokles/.cache/pypoetry/virtualenvs/quri-sdk-notebooks-AzU4R8Lq-py3.11/lib/python3.11/site-packages (from quri-parts-core->quri-parts[qiskit]) (0.22.0)\n",
      "Requirement already satisfied: pydantic<3.0,>=2.0 in /home/drokles/.cache/pypoetry/virtualenvs/quri-sdk-notebooks-AzU4R8Lq-py3.11/lib/python3.11/site-packages (from quri-parts-qiskit->quri-parts[qiskit]) (2.10.3)\n",
      "Requirement already satisfied: qiskit<2,>=1 in /home/drokles/.cache/pypoetry/virtualenvs/quri-sdk-notebooks-AzU4R8Lq-py3.11/lib/python3.11/site-packages (from quri-parts-qiskit->quri-parts[qiskit]) (1.3.0)\n",
      "Requirement already satisfied: qiskit-ibm-runtime<0.30.0,>=0.29.0 in /home/drokles/.cache/pypoetry/virtualenvs/quri-sdk-notebooks-AzU4R8Lq-py3.11/lib/python3.11/site-packages (from quri-parts-qiskit->quri-parts[qiskit]) (0.29.1)\n",
      "Requirement already satisfied: annotated-types>=0.6.0 in /home/drokles/.cache/pypoetry/virtualenvs/quri-sdk-notebooks-AzU4R8Lq-py3.11/lib/python3.11/site-packages (from pydantic<3.0,>=2.0->quri-parts-qiskit->quri-parts[qiskit]) (0.7.0)\n",
      "Requirement already satisfied: pydantic-core==2.27.1 in /home/drokles/.cache/pypoetry/virtualenvs/quri-sdk-notebooks-AzU4R8Lq-py3.11/lib/python3.11/site-packages (from pydantic<3.0,>=2.0->quri-parts-qiskit->quri-parts[qiskit]) (2.27.1)\n",
      "Requirement already satisfied: rustworkx>=0.15.0 in /home/drokles/.cache/pypoetry/virtualenvs/quri-sdk-notebooks-AzU4R8Lq-py3.11/lib/python3.11/site-packages (from qiskit<2,>=1->quri-parts-qiskit->quri-parts[qiskit]) (0.15.1)\n",
      "Requirement already satisfied: sympy>=1.3 in /home/drokles/.cache/pypoetry/virtualenvs/quri-sdk-notebooks-AzU4R8Lq-py3.11/lib/python3.11/site-packages (from qiskit<2,>=1->quri-parts-qiskit->quri-parts[qiskit]) (1.13.3)\n",
      "Requirement already satisfied: dill>=0.3 in /home/drokles/.cache/pypoetry/virtualenvs/quri-sdk-notebooks-AzU4R8Lq-py3.11/lib/python3.11/site-packages (from qiskit<2,>=1->quri-parts-qiskit->quri-parts[qiskit]) (0.3.9)\n",
      "Requirement already satisfied: python-dateutil>=2.8.0 in /home/drokles/.cache/pypoetry/virtualenvs/quri-sdk-notebooks-AzU4R8Lq-py3.11/lib/python3.11/site-packages (from qiskit<2,>=1->quri-parts-qiskit->quri-parts[qiskit]) (2.9.0.post0)\n",
      "Requirement already satisfied: stevedore>=3.0.0 in /home/drokles/.cache/pypoetry/virtualenvs/quri-sdk-notebooks-AzU4R8Lq-py3.11/lib/python3.11/site-packages (from qiskit<2,>=1->quri-parts-qiskit->quri-parts[qiskit]) (5.4.0)\n",
      "Requirement already satisfied: symengine<0.14,>=0.11 in /home/drokles/.cache/pypoetry/virtualenvs/quri-sdk-notebooks-AzU4R8Lq-py3.11/lib/python3.11/site-packages (from qiskit<2,>=1->quri-parts-qiskit->quri-parts[qiskit]) (0.13.0)\n",
      "Requirement already satisfied: requests>=2.19 in /home/drokles/.cache/pypoetry/virtualenvs/quri-sdk-notebooks-AzU4R8Lq-py3.11/lib/python3.11/site-packages (from qiskit-ibm-runtime<0.30.0,>=0.29.0->quri-parts-qiskit->quri-parts[qiskit]) (2.32.3)\n",
      "Requirement already satisfied: requests-ntlm>=1.1.0 in /home/drokles/.cache/pypoetry/virtualenvs/quri-sdk-notebooks-AzU4R8Lq-py3.11/lib/python3.11/site-packages (from qiskit-ibm-runtime<0.30.0,>=0.29.0->quri-parts-qiskit->quri-parts[qiskit]) (1.3.0)\n",
      "Requirement already satisfied: urllib3>=1.21.1 in /home/drokles/.cache/pypoetry/virtualenvs/quri-sdk-notebooks-AzU4R8Lq-py3.11/lib/python3.11/site-packages (from qiskit-ibm-runtime<0.30.0,>=0.29.0->quri-parts-qiskit->quri-parts[qiskit]) (2.2.3)\n",
      "Requirement already satisfied: websocket-client>=1.5.1 in /home/drokles/.cache/pypoetry/virtualenvs/quri-sdk-notebooks-AzU4R8Lq-py3.11/lib/python3.11/site-packages (from qiskit-ibm-runtime<0.30.0,>=0.29.0->quri-parts-qiskit->quri-parts[qiskit]) (1.8.0)\n",
      "Requirement already satisfied: ibm-platform-services>=0.22.6 in /home/drokles/.cache/pypoetry/virtualenvs/quri-sdk-notebooks-AzU4R8Lq-py3.11/lib/python3.11/site-packages (from qiskit-ibm-runtime<0.30.0,>=0.29.0->quri-parts-qiskit->quri-parts[qiskit]) (0.59.0)\n",
      "Requirement already satisfied: qulacs>=0.5.6 in /home/drokles/.cache/pypoetry/virtualenvs/quri-sdk-notebooks-AzU4R8Lq-py3.11/lib/python3.11/site-packages (from quri-parts-qulacs->quri-parts-core->quri-parts[qiskit]) (0.6.10)\n",
      "Requirement already satisfied: ibm-cloud-sdk-core<4.0.0,>=3.22.0 in /home/drokles/.cache/pypoetry/virtualenvs/quri-sdk-notebooks-AzU4R8Lq-py3.11/lib/python3.11/site-packages (from ibm-platform-services>=0.22.6->qiskit-ibm-runtime<0.30.0,>=0.29.0->quri-parts-qiskit->quri-parts[qiskit]) (3.22.0)\n",
      "Requirement already satisfied: six>=1.5 in /home/drokles/.cache/pypoetry/virtualenvs/quri-sdk-notebooks-AzU4R8Lq-py3.11/lib/python3.11/site-packages (from python-dateutil>=2.8.0->qiskit<2,>=1->quri-parts-qiskit->quri-parts[qiskit]) (1.17.0)\n",
      "Requirement already satisfied: charset-normalizer<4,>=2 in /home/drokles/.cache/pypoetry/virtualenvs/quri-sdk-notebooks-AzU4R8Lq-py3.11/lib/python3.11/site-packages (from requests>=2.19->qiskit-ibm-runtime<0.30.0,>=0.29.0->quri-parts-qiskit->quri-parts[qiskit]) (3.4.0)\n",
      "Requirement already satisfied: idna<4,>=2.5 in /home/drokles/.cache/pypoetry/virtualenvs/quri-sdk-notebooks-AzU4R8Lq-py3.11/lib/python3.11/site-packages (from requests>=2.19->qiskit-ibm-runtime<0.30.0,>=0.29.0->quri-parts-qiskit->quri-parts[qiskit]) (3.10)\n",
      "Requirement already satisfied: certifi>=2017.4.17 in /home/drokles/.cache/pypoetry/virtualenvs/quri-sdk-notebooks-AzU4R8Lq-py3.11/lib/python3.11/site-packages (from requests>=2.19->qiskit-ibm-runtime<0.30.0,>=0.29.0->quri-parts-qiskit->quri-parts[qiskit]) (2024.8.30)\n",
      "Requirement already satisfied: cryptography>=1.3 in /home/drokles/.cache/pypoetry/virtualenvs/quri-sdk-notebooks-AzU4R8Lq-py3.11/lib/python3.11/site-packages (from requests-ntlm>=1.1.0->qiskit-ibm-runtime<0.30.0,>=0.29.0->quri-parts-qiskit->quri-parts[qiskit]) (44.0.0)\n",
      "Requirement already satisfied: pyspnego>=0.4.0 in /home/drokles/.cache/pypoetry/virtualenvs/quri-sdk-notebooks-AzU4R8Lq-py3.11/lib/python3.11/site-packages (from requests-ntlm>=1.1.0->qiskit-ibm-runtime<0.30.0,>=0.29.0->quri-parts-qiskit->quri-parts[qiskit]) (0.11.2)\n",
      "Requirement already satisfied: pbr>=2.0.0 in /home/drokles/.cache/pypoetry/virtualenvs/quri-sdk-notebooks-AzU4R8Lq-py3.11/lib/python3.11/site-packages (from stevedore>=3.0.0->qiskit<2,>=1->quri-parts-qiskit->quri-parts[qiskit]) (6.1.0)\n",
      "Requirement already satisfied: mpmath<1.4,>=1.1.0 in /home/drokles/.cache/pypoetry/virtualenvs/quri-sdk-notebooks-AzU4R8Lq-py3.11/lib/python3.11/site-packages (from sympy>=1.3->qiskit<2,>=1->quri-parts-qiskit->quri-parts[qiskit]) (1.3.0)\n",
      "Requirement already satisfied: cffi>=1.12 in /home/drokles/.cache/pypoetry/virtualenvs/quri-sdk-notebooks-AzU4R8Lq-py3.11/lib/python3.11/site-packages (from cryptography>=1.3->requests-ntlm>=1.1.0->qiskit-ibm-runtime<0.30.0,>=0.29.0->quri-parts-qiskit->quri-parts[qiskit]) (1.17.1)\n",
      "Requirement already satisfied: PyJWT<3.0.0,>=2.8.0 in /home/drokles/.cache/pypoetry/virtualenvs/quri-sdk-notebooks-AzU4R8Lq-py3.11/lib/python3.11/site-packages (from ibm-cloud-sdk-core<4.0.0,>=3.22.0->ibm-platform-services>=0.22.6->qiskit-ibm-runtime<0.30.0,>=0.29.0->quri-parts-qiskit->quri-parts[qiskit]) (2.10.1)\n",
      "Requirement already satisfied: pycparser in /home/drokles/.cache/pypoetry/virtualenvs/quri-sdk-notebooks-AzU4R8Lq-py3.11/lib/python3.11/site-packages (from cffi>=1.12->cryptography>=1.3->requests-ntlm>=1.1.0->qiskit-ibm-runtime<0.30.0,>=0.29.0->quri-parts-qiskit->quri-parts[qiskit]) (2.22)\n",
      "\n",
      "\u001b[1m[\u001b[0m\u001b[34;49mnotice\u001b[0m\u001b[1;39;49m]\u001b[0m\u001b[39;49m A new release of pip is available: \u001b[0m\u001b[31;49m24.3.1\u001b[0m\u001b[39;49m -> \u001b[0m\u001b[32;49m25.1.1\u001b[0m\n",
      "\u001b[1m[\u001b[0m\u001b[34;49mnotice\u001b[0m\u001b[1;39;49m]\u001b[0m\u001b[39;49m To update, run: \u001b[0m\u001b[32;49mpip install --upgrade pip\u001b[0m\n",
      "Note: you may need to restart the kernel to use updated packages.\n"
     ]
    }
   ],
   "source": [
    "pip install quri-parts[qiskit]"
   ]
  },
  {
   "cell_type": "markdown",
   "id": "bdeafb44",
   "metadata": {},
   "source": [
    "We can use qiskit for various tasks, including transpilation"
   ]
  },
  {
   "cell_type": "code",
   "execution_count": 53,
   "id": "a2e18892",
   "metadata": {},
   "outputs": [
    {
     "name": "stdout",
     "output_type": "stream",
     "text": [
      "   ___     ___     ___     ___     ___     ___     ___                          \n",
      "  | H |   |CX |   |RZ |   |CX |   | H |   |RZ |   | H |                         \n",
      "--|0  |---|2  |---|3  |---|4  |---|5  |---|6  |---|7  |-------------------------\n",
      "  |___|   |___|   |___|   |___|   |___|   |___|   |___|                         \n",
      "   ___      |               |      ___     ___     ___     ___     ___     ___  \n",
      "  | H |     |               |     |CX |   |RZ |   |CX |   | H |   |RZ |   | H | \n",
      "--|1  |-----●---------------●-----|9  |---|10 |---|11 |---|12 |---|13 |---|14 |-\n",
      "  |___|                           |___|   |___|   |___|   |___|   |___|   |___| \n",
      "   ___                              |               |                           \n",
      "  | H |                             |               |                           \n",
      "--|8  |-----------------------------●---------------●-------●---------------●---\n",
      "  |___|                                                     |               |   \n",
      "   ___                                                     _|_     ___     _|_  \n",
      "  | H |                                                   |CX |   |RZ |   |CX | \n",
      "--|20 |---------------------------------------------------|21 |---|22 |---|23 |-\n",
      "  |___|                                                   |___|   |___|   |___| \n",
      "\n",
      "\n",
      "================================================================================\n",
      "\n",
      "   ___     ___     ___     ___     ___                                          \n",
      "  |CX |   |RZ |   |CX |   | H |   |RZ |                                         \n",
      "--|15 |---|16 |---|17 |---|18 |---|19 |-----------------------------------------\n",
      "  |___|   |___|   |___|   |___|   |___|                                         \n",
      "    |               |      ___     ___     ___     ___     ___                  \n",
      "    |               |     |CX |   |RZ |   |CX |   | H |   |RZ |                 \n",
      "----●---------------●-----|27 |---|28 |---|29 |---|30 |---|31 |-----------------\n",
      "                          |___|   |___|   |___|   |___|   |___|                 \n",
      "   ___     ___     ___      |               |                              ___  \n",
      "  | H |   |RZ |   | H |     |               |                             | H | \n",
      "--|24 |---|25 |---|26 |-----●---------------●-------●---------------●-----|38 |-\n",
      "  |___|   |___|   |___|                             |               |     |___| \n",
      "   ___     ___     ___                             _|_     ___     _|_     ___  \n",
      "  | H |   |RZ |   | H |                           |CX |   |RZ |   |CX |   | H | \n",
      "--|32 |---|33 |---|34 |---------------------------|35 |---|36 |---|37 |---|40 |-\n",
      "  |___|   |___|   |___|                           |___|   |___|   |___|   |___| \n",
      "\n",
      "\n",
      "================================================================================\n",
      "\n",
      "        \n",
      "        \n",
      "--------\n",
      "        \n",
      "        \n",
      "        \n",
      "--------\n",
      "        \n",
      "   ___  \n",
      "  |RZ | \n",
      "--|39 |-\n",
      "  |___| \n",
      "   ___  \n",
      "  |RZ | \n",
      "--|41 |-\n",
      "  |___| \n"
     ]
    }
   ],
   "source": [
    "\n",
    "from quri_parts.qiskit.circuit.transpile import QiskitTranspiler\n",
    "\n",
    "OPTIMIZATION_LEVEL = 3\n",
    "\n",
    "transpiler = QiskitTranspiler(\n",
    "    basis_gates=[\"CNOT\", \"H\", \"S\", \"Sdag\", \"RZ\"],\n",
    "    optimization_level=OPTIMIZATION_LEVEL\n",
    "    )\n",
    "optimized_circuit = transpiler(transpiled_circuit)\n",
    "optimized_circuit.draw()  # draw the optimized circuit"
   ]
  },
  {
   "cell_type": "markdown",
   "id": "a5c75aee",
   "metadata": {},
   "source": [
    "The transpiler we have defined above interfaces with quri-parts circuits, so we don't need to convert circuits to qiskit circuits first."
   ]
  },
  {
   "cell_type": "markdown",
   "id": "302a8bba",
   "metadata": {},
   "source": [
    "Let's briefly compare"
   ]
  },
  {
   "cell_type": "code",
   "execution_count": 54,
   "id": "d74478af",
   "metadata": {},
   "outputs": [
    {
     "name": "stdout",
     "output_type": "stream",
     "text": [
      "Depth of transpiled circuit:  27\n",
      "Depth of optimized circuit:  21\n"
     ]
    }
   ],
   "source": [
    "print(\"Depth of transpiled circuit: \", transpiled_circuit.depth)\n",
    "print(\"Depth of optimized circuit: \", optimized_circuit.depth)"
   ]
  },
  {
   "cell_type": "markdown",
   "id": "7403140b",
   "metadata": {},
   "source": [
    "## Tools for circuit inspection\n",
    "\n",
    "We can verify the two circuits are the same by computing the Hilbert-Schmidt test"
   ]
  },
  {
   "cell_type": "code",
   "execution_count": 55,
   "id": "5d396ec4",
   "metadata": {},
   "outputs": [
    {
     "name": "stdout",
     "output_type": "stream",
     "text": [
      "The Hilbert-Schmidt cost is:  -3.0531133177191805e-16\n"
     ]
    }
   ],
   "source": [
    "from quri_algo.core.cost_functions import HilbertSchmidtTest\n",
    "\n",
    "hs_test = HilbertSchmidtTest(ftqc_vm.estimate)  # uses the ftqc_vm as backend\n",
    "print(\"The Hilbert-Schmidt cost is: \", hs_test(transpiled_circuit, optimized_circuit).value.real)  # compare the transpiled circuit and the optimized circuit"
   ]
  },
  {
   "cell_type": "markdown",
   "id": "2cc93f2c",
   "metadata": {},
   "source": [
    "## Easy to use quantum algorithms\n",
    "\n",
    "We can import ready made algorithms and run them easily"
   ]
  },
  {
   "cell_type": "code",
   "execution_count": 56,
   "id": "ee9b36d0",
   "metadata": {},
   "outputs": [],
   "source": [
    "from quri_parts.algo.ansatz import Z2SymmetryPreservingReal\n",
    "\n",
    "from quri_algo.algo.compiler import QAQC\n",
    "\n",
    "REPS=10\n",
    "\n",
    "ansatz=Z2SymmetryPreservingReal(qubit_count,reps=REPS)\n",
    "qaqc=QAQC(cost_fn=hs_test)  # create a QAQC instance with the cost function we defined earlier\n",
    "\n",
    "compilation_result = qaqc.run(time_evo_circuit_factory,ansatz,evolution_time=EVOLUTION_TIME)"
   ]
  },
  {
   "cell_type": "markdown",
   "id": "6d51236a",
   "metadata": {},
   "source": [
    "We can plot the cost history too"
   ]
  },
  {
   "cell_type": "code",
   "execution_count": 57,
   "id": "06805e86",
   "metadata": {},
   "outputs": [
    {
     "data": {
      "image/png": "[encoded data removed]",
      "text/plain": [
       "<Figure size 800x600 with 1 Axes>"
      ]
     },
     "metadata": {},
     "output_type": "display_data"
    }
   ],
   "source": [
    "import matplotlib.pyplot as plt\n",
    "\n",
    "# Assuming compilation_result contains some metrics to plot\n",
    "# Extracting example data (replace with actual data from compilation_result)\n",
    "iterations = range(len(compilation_result.cost_function_history[1:]))\n",
    "costs = compilation_result.cost_function_history[1:]\n",
    "\n",
    "# Plotting the cost history\n",
    "plt.figure(figsize=(8, 6))\n",
    "plt.plot(iterations, costs, marker='o', label='Hilbert-Schmidt test')\n",
    "plt.title('QAQC Optimization History')\n",
    "plt.xlabel('Iteration')\n",
    "plt.ylabel('Cost')\n",
    "plt.legend()\n",
    "plt.grid(True)\n",
    "plt.show()"
   ]
  },
  {
   "cell_type": "markdown",
   "id": "1f306163",
   "metadata": {},
   "source": [
    "## Tools for resource analysis\n",
    "\n",
    "We can analyze the run-time on a quantum device and the fidelity"
   ]
  },
  {
   "cell_type": "code",
   "execution_count": 58,
   "id": "b3d565d5",
   "metadata": {},
   "outputs": [
    {
     "name": "stdout",
     "output_type": "stream",
     "text": [
      "Algorithm runtime: 25.196208333333335 h, minimum fidelity: 0.9996428778397548\n"
     ]
    }
   ],
   "source": [
    "N_SHOTS = 1000\n",
    "\n",
    "analysis = qaqc.analyze(time_evo_circuit_factory, ansatz, compilation_result, ftqc_vm.analyze, N_SHOTS, evolution_time=0.1)\n",
    "\n",
    "print(f\"Algorithm runtime: {analysis.total_latency.in_ns()*1e-9/3600} h, minimum fidelity: {min(analysis.circuit_fidelities.values())}\")"
   ]
  },
  {
   "cell_type": "markdown",
   "id": "2fc4b688",
   "metadata": {},
   "source": [
    "## Ground state energy estimation\n",
    "\n",
    "We can perform ground state energy estimation using the statistical phase estimation algorithm, which uses time-evolution with the Hadamard test to resolve eigenenergies. We provide classes that facilitate the Hadamard test by quantum circuit sampling."
   ]
  },
  {
   "cell_type": "code",
   "execution_count": 59,
   "id": "5a2257ad",
   "metadata": {},
   "outputs": [],
   "source": [
    "from quri_algo.core.estimator.time_evolution.trotter import (\n",
    "    TrotterTimeEvolutionHadamardTest\n",
    ")\n",
    "trotter_time_evolution_estimator = TrotterTimeEvolutionHadamardTest(\n",
    "    hamiltonian_input, ftqc_vm.sample, n_trotter=N_TROTTER\n",
    ")"
   ]
  },
  {
   "cell_type": "markdown",
   "id": "de7851bb",
   "metadata": {},
   "source": [
    "In addition a trial state must be provided as input for the algorithm. SPE relies on trial states that overlap well with the actual ground state."
   ]
  },
  {
   "cell_type": "code",
   "execution_count": null,
   "id": "b103782e",
   "metadata": {},
   "outputs": [],
   "source": [
    "from quri_parts.core.state import quantum_state\n",
    "\n",
    "state = quantum_state(QUBIT_COUNT,bits=0b0000)"
   ]
  },
  {
   "cell_type": "markdown",
   "id": "8a7ce2f5",
   "metadata": {},
   "source": [
    "Before continuing we obtain the analytical solution"
   ]
  },
  {
   "cell_type": "code",
   "execution_count": 61,
   "id": "364a4133",
   "metadata": {},
   "outputs": [],
   "source": [
    "import numpy as np\n",
    "from quri_parts.core.operator import get_sparse_matrix\n",
    "\n",
    "vals, vecs = np.linalg.eigh(get_sparse_matrix(hamiltonian).toarray())"
   ]
  },
  {
   "cell_type": "markdown",
   "id": "d54d3703",
   "metadata": {},
   "source": [
    "Since we use the `0b0000` computational basis state The overlap is found simply by"
   ]
  },
  {
   "cell_type": "code",
   "execution_count": 100,
   "id": "fee70a3d",
   "metadata": {},
   "outputs": [
    {
     "data": {
      "text/plain": [
       "0.813445895443181"
      ]
     },
     "execution_count": 100,
     "metadata": {},
     "output_type": "execute_result"
    }
   ],
   "source": [
    "np.abs(vecs[0][0])**2"
   ]
  },
  {
   "cell_type": "markdown",
   "id": "61817eb6",
   "metadata": {},
   "source": [
    "This is a decent situation for SPE"
   ]
  },
  {
   "cell_type": "code",
   "execution_count": 94,
   "id": "2877c998",
   "metadata": {},
   "outputs": [
    {
     "name": "stdout",
     "output_type": "stream",
     "text": [
      "SPEResult(phase=-0.023739285733119952,\n",
      "          signal_functions=[<quri_algo.algo.phase_estimation.spe.utils.signal.SPEDiscreteSignalFunction object at 0x7393545de8d0>])\n",
      "Obtained SPE energy:  -4.74785714662399\n",
      "Error:  0.010913336519643657\n"
     ]
    }
   ],
   "source": [
    "from quri_algo.algo.phase_estimation.spe.lt22 import SingleSignalLT22GSEE\n",
    "from quri_algo.algo.phase_estimation.spe import StepFunctionParam\n",
    "D_MAX = 1000\n",
    "DELTA = 1e-5\n",
    "N_SAMPLE = 100000\n",
    "\n",
    "signal_param = StepFunctionParam(d=D_MAX, delta=DELTA, n_sample=N_SAMPLE)\n",
    "\n",
    "TAU = 1 / 200\n",
    "ETA = 0.5\n",
    "\n",
    "lt22_algorithm = SingleSignalLT22GSEE(trotter_time_evolution_estimator, tau=TAU)\n",
    "\n",
    "spe_result = lt22_algorithm(state, signal_param, ETA)\n",
    "lt22_gs_energy = spe_result.phase / TAU\n",
    "pprint(spe_result)\n",
    "print(\"Obtained SPE energy: \", lt22_gs_energy)\n",
    "print(\"Error: \", np.abs(lt22_gs_energy - np.min(vals)))"
   ]
  }
 ],
 "metadata": {
  "kernelspec": {
   "display_name": "quri-sdk-notebooks-AzU4R8Lq-py3.11",
   "language": "python",
   "name": "python3"
  },
  "language_info": {
   "codemirror_mode": {
    "name": "ipython",
    "version": 3
   },
   "file_extension": ".py",
   "mimetype": "text/x-python",
   "name": "python",
   "nbconvert_exporter": "python",
   "pygments_lexer": "ipython3",
   "version": "3.11.12"
  }
 },
 "nbformat": 4,
 "nbformat_minor": 5
}
