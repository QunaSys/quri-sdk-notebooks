{
 "cells": [
  {
   "cell_type": "markdown",
   "id": "fa5c9364",
   "metadata": {},
   "source": [
    "# QURI SDK workshop\n",
    "\n",
    "This notebook is for training in use of QURI SDK. It includes training on\n",
    "\n",
    "- Using QURI Parts for circuit definitions and sampling\n",
    "- Using QURI VM to define virtual machines for resource estimation and analysis\n",
    "- Using QURI Algo to run predefined quantum algorithms\n",
    "- Circuit synthesis using qsub\n",
    "\n",
    "\n",
    "Each section contains exercise to test your understanding, please try to complete all of them.\n",
    "\n",
    "## Prerequisites\n",
    "\n",
    "To use this notebook, the following libraries are required. Please run the cell below to set up your environment.\n",
    "- quri-parts-circuit: 0.22.0\n",
    "- quri-parts-core: 0.22.0\n",
    "- quri-parts-qulacs: 0.22.0\n",
    "- quri-parts-rust: 0.22.0\n",
    "- quri-algo: 0.1.2\n",
    "- quri-vm: 0.1.0"
   ]
  },
  {
   "cell_type": "code",
   "execution_count": null,
   "id": "ddff55c4",
   "metadata": {},
   "outputs": [],
   "source": [
    "import subprocess\n",
    "import sys\n",
    "from importlib.metadata import version as get_dist_version, PackageNotFoundError\n",
    "\n",
    "def is_colab():\n",
    "    try:\n",
    "        import google.colab\n",
    "        return True\n",
    "    except ImportError:\n",
    "        return False\n",
    "\n",
    "def check_and_install(package, required_version, auto_install=False):\n",
    "    try:\n",
    "        installed_version = get_dist_version(package)\n",
    "        if installed_version != required_version:\n",
    "            print(f\"⚠️ Version mismatch for {package}.\")\n",
    "            print(f\"    Installed: {installed_version}, Required: {required_version}\")\n",
    "            print(\"    Please consider aligning the version manually if necessary.\")\n",
    "        else:\n",
    "            print(f\"✅ {package} version is as expected ({installed_version})\")\n",
    "    except PackageNotFoundError:\n",
    "        print(f\"❌ {package} is not installed.\")\n",
    "        if auto_install or is_colab():\n",
    "            print(f\"📦 Installing {package}=={required_version} ...\")\n",
    "            try:\n",
    "                subprocess.check_call([sys.executable, \"-m\", \"pip\", \"install\", f\"{package}=={required_version}\"])\n",
    "                print(f\"✅ {package} installation completed successfully.\")\n",
    "            except subprocess.CalledProcessError:\n",
    "                print(f\"❌ Failed to install {package}.\")\n",
    "        else:\n",
    "            user_input = input(f\"Do you want to install {package}=={required_version}? [y/N]: \")\n",
    "            if user_input.lower() == 'y':\n",
    "                print(f\"📦 Installing {package} ...\")\n",
    "                try:\n",
    "                    subprocess.check_call([sys.executable, \"-m\", \"pip\", \"install\", f\"{package}=={required_version}\"])\n",
    "                    print(f\"✅ {package} installation completed successfully.\")\n",
    "                except subprocess.CalledProcessError:\n",
    "                    print(f\"❌ Failed to install {package}.\")\n",
    "            else:\n",
    "                print(f\"⏭️ Skipped installation of {package}.\")\n",
    "\n",
    "\n",
    "qp_packages = [\"qulacs\", \"qsub\"]\n",
    "for package in qp_packages:\n",
    "  check_and_install(\"quri-parts.\" + package, \"0.22.0\")\n",
    "\n",
    "check_and_install(\"quri-algo\", \"0.1.2\")\n",
    "check_and_install(\"quri-vm\", \"0.1.2\")"
   ]
  },
  {
   "cell_type": "markdown",
   "id": "5048344c",
   "metadata": {},
   "source": [
    "## QURI Parts basics\n",
    "\n",
    "In this section we will introduce some basic QURI Parts code for circuit definition. In this section you will learn\n",
    "\n",
    "- How to define circuits in quri parts\n",
    "- Manipulations you can perform on circuits\n",
    "- How to define parametric circuits\n",
    "- How to use predefined ansatze\n",
    "- How to use samplers and estimators\n",
    "\n",
    "### Quantum circuits\n",
    "\n",
    "First, let's define a basic circuit. For this we need to import `QuantumCircuit`"
   ]
  },
  {
   "cell_type": "code",
   "execution_count": 1,
   "id": "a14443cd",
   "metadata": {},
   "outputs": [
    {
     "name": "stdout",
     "output_type": "stream",
     "text": [
      "   ___          \n",
      "  | H |         \n",
      "--|0  |-----●---\n",
      "  |___|     |   \n",
      "           _|_  \n",
      "          |CX | \n",
      "----------|1  |-\n",
      "          |___| \n"
     ]
    }
   ],
   "source": [
    "from quri_parts.circuit import QuantumCircuit\n",
    "\n",
    "qubit_count = 2\n",
    "\n",
    "circuit = QuantumCircuit(qubit_count)  # create an empty quantum circuit with 2 qubits\n",
    "circuit.add_H_gate(0)  # Add Hadamard gate on 0'th qubit\n",
    "circuit.add_CNOT_gate(0,1)\n",
    "\n",
    "circuit.draw()"
   ]
  },
  {
   "cell_type": "markdown",
   "id": "b57160bd",
   "metadata": {},
   "source": [
    "As seen above, the `QuantumCircuit` object has its own methods to add quantum gates. We can also instantiate a `QuantumCircuit` directly from a sequence of gates"
   ]
  },
  {
   "cell_type": "code",
   "execution_count": 2,
   "id": "aeee3832",
   "metadata": {},
   "outputs": [
    {
     "name": "stdout",
     "output_type": "stream",
     "text": [
      "True\n"
     ]
    }
   ],
   "source": [
    "from quri_parts.circuit.gates import H, CNOT\n",
    "circuit_variant = QuantumCircuit(qubit_count, gates=[H(0), CNOT(0, 1)])\n",
    "\n",
    "print(circuit == circuit_variant)  # True"
   ]
  },
  {
   "cell_type": "markdown",
   "id": "1cb573b7",
   "metadata": {},
   "source": [
    "We can also add circuits"
   ]
  },
  {
   "cell_type": "code",
   "execution_count": 3,
   "id": "0d04ddff",
   "metadata": {},
   "outputs": [
    {
     "name": "stdout",
     "output_type": "stream",
     "text": [
      "True\n"
     ]
    }
   ],
   "source": [
    "circuit_sum = QuantumCircuit(qubit_count, gates=[H(0)]) + QuantumCircuit(qubit_count, gates=[CNOT(0, 1)])\n",
    "\n",
    "print(circuit == circuit_sum)  # True"
   ]
  },
  {
   "cell_type": "markdown",
   "id": "91770906",
   "metadata": {},
   "source": [
    "In order to sample this circuit, we can use its sample method"
   ]
  },
  {
   "cell_type": "code",
   "execution_count": 4,
   "id": "1959d65f",
   "metadata": {},
   "outputs": [
    {
     "data": {
      "text/plain": [
       "Counter({3: 513, 0: 487})"
      ]
     },
     "execution_count": 4,
     "metadata": {},
     "output_type": "execute_result"
    }
   ],
   "source": [
    "circuit.sample(1000)  # Sample the circuit 1000 times"
   ]
  },
  {
   "cell_type": "markdown",
   "id": "59daa5f2",
   "metadata": {},
   "source": [
    "This returns a mapping from the sampled bitstring to the number of samples resulting from the sampling experiment. The above method uses a default sampler that does not take noise into account, but draws samples from a multinomial distribution depending on the probability amplitudes of each logical state."
   ]
  },
  {
   "cell_type": "markdown",
   "id": "b776a1f6",
   "metadata": {},
   "source": [
    "### Exercise 0\n",
    "\n",
    "With what you have learned above, now try to define your own circuit that generates the following state\n",
    "\n",
    "$|\\psi> = \\frac{1}{\\sqrt{2}} (|01> + |10>)$\n",
    "\n",
    "Confirm that you got it right by\n",
    "- Drawing the circuit\n",
    "- Sampling it and comparing with your expectations\n",
    "- You can solve this problem by summing `circuit` defined above with another quantum circuit that contains only one gate. Which gate is that? And does it matter what qubit it is applied to? Test your intuition on this"
   ]
  },
  {
   "cell_type": "markdown",
   "id": "4d2a4e1f",
   "metadata": {},
   "source": [
    "### Parametric quantum circuits\n",
    "\n",
    "Here we will introduce `ParametricQuantumCircuit`. These are circuits that can be updated with parameters which map to gate angles. For this, one needs to add parametric gates."
   ]
  },
  {
   "cell_type": "code",
   "execution_count": 5,
   "id": "15a30f97",
   "metadata": {},
   "outputs": [
    {
     "name": "stdout",
     "output_type": "stream",
     "text": [
      "   ___             ___     ___  \n",
      "  | H |           |PRX|   |PRY| \n",
      "--|0  |-----●-----|2  |---|3  |-\n",
      "  |___|     |     |___|   |___| \n",
      "           _|_     ___          \n",
      "          |CX |   |PRZ|         \n",
      "----------|1  |---|4  |---------\n",
      "          |___|   |___|         \n"
     ]
    }
   ],
   "source": [
    "from quri_parts.circuit import ParametricQuantumCircuit\n",
    "\n",
    "parametric_circuit = ParametricQuantumCircuit(2)\n",
    "parametric_circuit.add_H_gate(0)\n",
    "parametric_circuit.add_CNOT_gate(0, 1)\n",
    "p_theta = parametric_circuit.add_ParametricRX_gate(0)\n",
    "p_phi = parametric_circuit.add_ParametricRY_gate(0)\n",
    "p_psi = parametric_circuit.add_ParametricRZ_gate(1)\n",
    "\n",
    "parametric_circuit.draw()"
   ]
  },
  {
   "cell_type": "markdown",
   "id": "aba002c4",
   "metadata": {},
   "source": [
    "We can get the parameter count"
   ]
  },
  {
   "cell_type": "code",
   "execution_count": 6,
   "id": "5ee31b57",
   "metadata": {},
   "outputs": [
    {
     "name": "stdout",
     "output_type": "stream",
     "text": [
      "Number of parameters in the circuit: 3\n"
     ]
    }
   ],
   "source": [
    "print(\"Number of parameters in the circuit:\", parametric_circuit.parameter_count)"
   ]
  },
  {
   "cell_type": "markdown",
   "id": "5c8ebb35",
   "metadata": {},
   "source": [
    "And then we can bind the parameters to concrete angles for their values. This returns an `ImmutableBoundParametricQuantumCircuit` object. Just like regular quantum circuits, these can be sampled"
   ]
  },
  {
   "cell_type": "code",
   "execution_count": 7,
   "id": "ec7fa43e",
   "metadata": {},
   "outputs": [
    {
     "data": {
      "text/plain": [
       "Counter({3: 504, 0: 488, 1: 4, 2: 4})"
      ]
     },
     "execution_count": 7,
     "metadata": {},
     "output_type": "execute_result"
    }
   ],
   "source": [
    "bound_circuit = parametric_circuit.bind_parameters([0.1, 0.2, 0.3])\n",
    "bound_circuit.sample(1000)"
   ]
  },
  {
   "cell_type": "markdown",
   "id": "efde9a12",
   "metadata": {},
   "source": [
    "However, with parametric circuits we can also sample them without binding the parameters. We just have to provide the parameters when calling the sample method."
   ]
  },
  {
   "cell_type": "code",
   "execution_count": 8,
   "id": "21943297",
   "metadata": {},
   "outputs": [
    {
     "data": {
      "text/plain": [
       "Counter({0: 507, 3: 476, 1: 9, 2: 8})"
      ]
     },
     "execution_count": 8,
     "metadata": {},
     "output_type": "execute_result"
    }
   ],
   "source": [
    "parametric_circuit.sample(1000, [0.1, 0.2, 0.3])"
   ]
  },
  {
   "cell_type": "markdown",
   "id": "e6614822",
   "metadata": {},
   "source": [
    "By default, parametric circuits that have been defined in this way have a trivial parameter mapping, since each parameter corresponds directly to a quantum gate."
   ]
  },
  {
   "cell_type": "code",
   "execution_count": 9,
   "id": "45620569",
   "metadata": {},
   "outputs": [
    {
     "data": {
      "text/plain": [
       "True"
      ]
     },
     "execution_count": 9,
     "metadata": {},
     "output_type": "execute_result"
    }
   ],
   "source": [
    "parametric_circuit.has_trivial_parameter_mapping"
   ]
  },
  {
   "cell_type": "markdown",
   "id": "700f3452",
   "metadata": {},
   "source": [
    "However we can also imagine adding a linear parameter mapping, which is done using the `LinearMappedUnboundParametricQuantumCircuit`"
   ]
  },
  {
   "cell_type": "code",
   "execution_count": 10,
   "id": "5a4085e6",
   "metadata": {},
   "outputs": [],
   "source": [
    "import numpy as np\n",
    "from quri_parts.circuit import LinearMappedUnboundParametricQuantumCircuit, CONST\n",
    "\n",
    "linear_param_circuit = LinearMappedUnboundParametricQuantumCircuit(2)\n",
    "theta, phi = linear_param_circuit.add_parameters(\"theta\", \"phi\")\n",
    "\n",
    "linear_param_circuit.add_H_gate(0)\n",
    "linear_param_circuit.add_CNOT_gate(0, 1)\n",
    "linear_param_circuit.add_ParametricRX_gate(0, {theta: 1/2, phi: 1/3, CONST: np.pi/2})\n",
    "linear_param_circuit.add_ParametricRY_gate(0, {theta: -1/2, phi: 1/3})\n",
    "linear_param_circuit.add_ParametricRZ_gate(1, {theta: 1/3, phi: -1/2, CONST: -np.pi/2})"
   ]
  },
  {
   "cell_type": "markdown",
   "id": "88c50cd9",
   "metadata": {},
   "source": [
    "Notice that the workflow differs slightly, as we have to define the parameters beforehand and then add them when adding the parametric circuits. Each parameter represents a term in a linear equation with a coefficient, which is mapped to in the second argument to the parametric gate. There is also a `CONST` which just represent constant terms.\n",
    "\n",
    "We can inspect the mapping of the parameters to gate angles by looking at the parameter mapping"
   ]
  },
  {
   "cell_type": "code",
   "execution_count": 11,
   "id": "9b92de92",
   "metadata": {},
   "outputs": [
    {
     "name": "stdout",
     "output_type": "stream",
     "text": [
      "{Parameter(name=): mappingproxy({Parameter(name=): -1.5707963267948966,\n",
      "                                 Parameter(name=phi): -0.5,\n",
      "                                 Parameter(name=theta): 0.3333333333333333}),\n",
      " Parameter(name=): mappingproxy({Parameter(name=phi): 0.3333333333333333,\n",
      "                                 Parameter(name=theta): -0.5}),\n",
      " Parameter(name=): mappingproxy({Parameter(name=): 1.5707963267948966,\n",
      "                                 Parameter(name=phi): 0.3333333333333333,\n",
      "                                 Parameter(name=theta): 0.5})}\n"
     ]
    }
   ],
   "source": [
    "from pprint import pprint\n",
    "\n",
    "pprint(linear_param_circuit.param_mapping.mapping)"
   ]
  },
  {
   "cell_type": "markdown",
   "id": "45909a86",
   "metadata": {},
   "source": [
    "Each key is a parameter that is directly applied to a quantum gate, and the values contain mappingproxy objects, which represent linear equations used to calculate those angles. You can carry out this calculation directly to obtain the gate angles for some set of parameters by calling a mapper"
   ]
  },
  {
   "cell_type": "code",
   "execution_count": 12,
   "id": "7bbc7a49",
   "metadata": {},
   "outputs": [
    {
     "data": {
      "text/plain": [
       "{Parameter(name=): 2.20412966012823,\n",
       " Parameter(name=): -0.1666666666666667,\n",
       " Parameter(name=): -1.6541296601282298}"
      ]
     },
     "execution_count": 12,
     "metadata": {},
     "output_type": "execute_result"
    }
   ],
   "source": [
    "linear_param_circuit.param_mapping.mapper({theta: 0.8, phi: 0.7})"
   ]
  },
  {
   "cell_type": "markdown",
   "id": "177f4650",
   "metadata": {},
   "source": [
    "Binding parameters produces an `ImmutableBoundParametricQuantumCircuit`, in the same way as with ParametricQuantumCircuit."
   ]
  },
  {
   "cell_type": "code",
   "execution_count": 13,
   "id": "422a121a",
   "metadata": {},
   "outputs": [
    {
     "data": {
      "text/plain": [
       "<quri_parts.rust.circuit.circuit_parametric.ImmutableBoundParametricQuantumCircuit at 0x11224aca0>"
      ]
     },
     "execution_count": 13,
     "metadata": {},
     "output_type": "execute_result"
    }
   ],
   "source": [
    "# linear_param_circuit.bind_parameters([0.8, 0.7])\n",
    "linear_param_circuit.bind_parameters_by_dict({theta: 0.8, phi: 0.7})"
   ]
  },
  {
   "cell_type": "markdown",
   "id": "a0e236e1",
   "metadata": {},
   "source": [
    "### Exercise 1\n",
    "\n",
    "Based on what you have learned here, write code that can perform time-evolution on a 4-qubit quantum state generated by the Hamiltonian\n",
    "\n",
    "$H = \\sum_{i=0}^{3} c_i Z_i $\n",
    "\n",
    "Where the coefficients are $\\mathbf{c} = [0.4,1.6,0.8,1.0]$. Your result should be a parametric quantum circuit that takes one parameter, `time`, as an input. Set $\\hbar = 1$"
   ]
  },
  {
   "cell_type": "markdown",
   "id": "a1f3e90e",
   "metadata": {},
   "source": [
    "## QURI VM basics\n",
    "\n",
    "In this section we will introduce QURI VM and its usage. You will learn\n",
    "\n",
    "- How to define a virtual machine\n",
    "- How to analyze quantum circuits\n",
    "- What predefined architectures are available\n",
    "\n",
    "### Virtual machines\n",
    "\n",
    "We use the `VM` class to define virtual machines. This can be done as"
   ]
  },
  {
   "cell_type": "code",
   "execution_count": 14,
   "id": "7a920a72",
   "metadata": {},
   "outputs": [],
   "source": [
    "from quri_vm import VM\n",
    "from quri_parts.backend.devices import clifford_t_device\n",
    "from quri_parts.backend.units import TimeUnit, TimeValue\n",
    "\n",
    "physical_error_rate=1.0e-5\n",
    "d=7\n",
    "qec_cycle_us=1.0\n",
    "delta_sk=1.0e-5\n",
    "mode_block=\"compact\"\n",
    "\n",
    "clifford_t_device_property = clifford_t_device.generate_device_property(\n",
    "        qubit_count=qubit_count,\n",
    "        code_distance=d,\n",
    "        qec_cycle=TimeValue(qec_cycle_us, TimeUnit.MICROSECOND),\n",
    "        delta_sk=delta_sk,\n",
    "        physical_error_rate=physical_error_rate,\n",
    "        mode_block=mode_block\n",
    "    )\n",
    "\n",
    "vm = VM.from_device_prop(clifford_t_device_property)"
   ]
  },
  {
   "cell_type": "markdown",
   "id": "636dfe8d",
   "metadata": {},
   "source": [
    "The VM defined above is a Clifford+T device. It has the capability to do resource estimates based on the surface code using the Clifford+T decomposition. The above parameters can be changed based on the specifics of the device and they correspond to standard parameters in the surface code.\n",
    "\n",
    "We can use virtual machines to sample quantum circuits, as they provide their own samplers"
   ]
  },
  {
   "cell_type": "code",
   "execution_count": 15,
   "id": "e3d6053c",
   "metadata": {},
   "outputs": [
    {
     "data": {
      "text/plain": [
       "Counter({0: 509, 3: 491})"
      ]
     },
     "execution_count": 15,
     "metadata": {},
     "output_type": "execute_result"
    }
   ],
   "source": [
    "circuit = QuantumCircuit(qubit_count, gates=[H(0), CNOT(0, 1)])\n",
    "\n",
    "vm.sample(circuit, shots=1000)"
   ]
  },
  {
   "cell_type": "markdown",
   "id": "47afc564",
   "metadata": {},
   "source": [
    "or analyze a quantum circuit"
   ]
  },
  {
   "cell_type": "code",
   "execution_count": 16,
   "id": "6137ad18",
   "metadata": {},
   "outputs": [
    {
     "name": "stdout",
     "output_type": "stream",
     "text": [
      "AnalyzeResult(lowering_level=<LoweringLevel.ArchLogicalCircuit: 1>,\n",
      "              qubit_count=2,\n",
      "              gate_count=2,\n",
      "              depth=2,\n",
      "              latency=TimeValue(value=35000.0, unit=<TimeUnit.NANOSECOND>),\n",
      "              fidelity=0.999999994290949)\n"
     ]
    }
   ],
   "source": [
    "pprint(vm.analyze(circuit))"
   ]
  },
  {
   "cell_type": "markdown",
   "id": "134ecca6",
   "metadata": {},
   "source": [
    "This gives us information about various circuit characteristics including the latency, fidelity etc. This therefore has the capability to do resource estimates for quantum algorithms of interest.\n",
    "\n",
    "Aside from the Clifford+T architecture, trapped ion and superconducting NISQ architectures as well as the partially fault tolerant STAR architecture are also available. To use those, the have to be initialized through a device property."
   ]
  },
  {
   "cell_type": "code",
   "execution_count": null,
   "id": "740e26fe",
   "metadata": {},
   "outputs": [],
   "source": [
    "from quri_parts.backend.devices import nisq_iontrap_device, nisq_spcond_lattice, star_device\n",
    "from quri_parts.circuit.topology import SquareLattice\n",
    "\n",
    "nisq_iontrap_vm = VM.from_device_prop(\n",
    "    nisq_iontrap_device.generate_device_property(\n",
    "        qubit_count=4,\n",
    "        native_gates_1q=(\"RZ\", \"SqrtX\", \"X\"),\n",
    "        native_gates_2q=(\"CNOT\",),\n",
    "        gate_error_1q=1.53e-3,\n",
    "        gate_error_2q=4e-2,\n",
    "        gate_error_meas=2.5e-3,\n",
    "        gate_time_1q=TimeValue(10, TimeUnit.MICROSECOND),\n",
    "        gate_time_2q=TimeValue(200, TimeUnit.MICROSECOND),\n",
    "        gate_time_meas=TimeValue(130, TimeUnit.MICROSECOND),\n",
    "    )\n",
    ")\n",
    "nisq_spcond_vm = VM.from_device_prop(\n",
    "    nisq_spcond_lattice.generate_device_property(\n",
    "        lattice=SquareLattice(2, 2),  # Has to be associated with a device topology\n",
    "        native_gates_1q=(\"RZ\", \"SqrtX\", \"X\"),\n",
    "        native_gates_2q=(\"CNOT\",),\n",
    "        gate_error_1q=1e-3,\n",
    "        gate_error_2q=1e-2,\n",
    "        gate_error_meas=1e-2,\n",
    "        gate_time_1q=TimeValue(60, TimeUnit.NANOSECOND),\n",
    "        gate_time_2q=TimeValue(660, TimeUnit.NANOSECOND),\n",
    "        gate_time_meas=TimeValue(1.4, TimeUnit.MICROSECOND),\n",
    "    )\n",
    ")\n",
    "star_vm = VM.from_device_prop(\n",
    "    star_device.generate_device_property(\n",
    "        qubit_count=4,\n",
    "        code_distance=7,\n",
    "        qec_cycle=TimeValue(value=1.0, unit=TimeUnit.MICROSECOND),\n",
    "        physical_error_rate=1e-4\n",
    "    )\n",
    ")"
   ]
  },
  {
   "cell_type": "markdown",
   "id": "481c3b37",
   "metadata": {},
   "source": [
    "With this in mind, we can compare the above devices.\n",
    "\n",
    "### Exercise 2\n",
    "\n",
    "Using the star_vm defined above with physical error rate $10^{-4}$, write some code to generate a circuit, then analyze your own circuit and note what the fidelity is.\n",
    "\n",
    "Now compare to the result you get when using any of the NISQ devices. Try tuning the parameters of a NISQ device until you obtain one that can compete with the STAR devices fidelity. What parameters did you get?"
   ]
  },
  {
   "cell_type": "markdown",
   "id": "81bf71de",
   "metadata": {},
   "source": [
    "## QURI Algo basics\n",
    "\n",
    "In this section we will introduce some algorithm components from QURI Algo. Among these are\n",
    "\n",
    "- Time evolution operators\n",
    "- Cost function\n",
    "- Algorithms"
   ]
  },
  {
   "cell_type": "markdown",
   "id": "5816aca4",
   "metadata": {},
   "source": [
    "### Generating time-evolution with circuit factories\n",
    "\n",
    "QURI Algo introduces circuit factories that can generate complex circuits such as time-evolution circuits, etc. We can use these to generate time-evolution circuits any generic qubit Hamiltonian"
   ]
  },
  {
   "cell_type": "code",
   "execution_count": 18,
   "id": "f9786330",
   "metadata": {},
   "outputs": [
    {
     "name": "stdout",
     "output_type": "stream",
     "text": [
      "   ___                     ___             ___     ___                     ___  \n",
      "  |PR |                   |PR |           |PR |   |PR |                   |PR | \n",
      "--|0  |-------------------|3  |-----------|4  |---|8  |-------------------|11 |-\n",
      "  |   |                   |_ _|           |___|   |   |                   |_ _| \n",
      "  |   |    ___     ___     | |                    |   |    ___     ___     | |  \n",
      "  |   |   |PR |   |PR |    | |                    |   |   |PR |   |PR |    | |  \n",
      "--|   |---|1  |---|5  |----| |--------------------|   |---|9  |---|13 |----| |--\n",
      "  |___|   |   |   |___|    | |                    |___|   |   |   |___|    | |  \n",
      "          |   |    ___     | |    ___                     |   |    ___     | |  \n",
      "          |   |   |PR |    | |   |PR |                    |   |   |PR |    | |  \n",
      "----------|   |---|2  |----| |---|6  |--------------------|   |---|10 |----| |--\n",
      "          |___|   |   |    | |   |___|                    |___|   |   |    | |  \n",
      "                  |   |   _| |_            ___                    |   |   _| |_ \n",
      "                  |   |   |   |           |PR |                   |   |   |   | \n",
      "------------------|   |---|   |-----------|7  |-------------------|   |---|   |-\n",
      "                  |___|   |___|           |___|                   |___|   |___| \n",
      "\n",
      "\n",
      "================================================================================\n",
      "\n",
      "           ___  \n",
      "          |PR | \n",
      "----------|12 |-\n",
      "          |___| \n",
      "                \n",
      "                \n",
      "----------------\n",
      "                \n",
      "  ___           \n",
      " |PR |          \n",
      "-|14 |----------\n",
      " |___|          \n",
      "           ___  \n",
      "          |PR | \n",
      "----------|15 |-\n",
      "          |___| \n"
     ]
    }
   ],
   "source": [
    "from quri_parts.core.operator import Operator, pauli_label\n",
    "\n",
    "from quri_algo.circuit.time_evolution.trotter_time_evo import TrotterTimeEvolutionCircuitFactory\n",
    "from quri_algo.problem import QubitHamiltonian\n",
    "\n",
    "N_TROTTER=2\n",
    "EVOLUTION_TIME=0.1\n",
    "QUBIT_COUNT=4\n",
    "\n",
    "# Hamiltonian operator\n",
    "hamiltonian = Operator()\n",
    "hamiltonian.add_term(pauli_label(\"X0 X1\"), 1.0)\n",
    "hamiltonian.add_term(pauli_label(\"X1 X2\"), 1.0)\n",
    "hamiltonian.add_term(pauli_label(\"X2 X3\"), 1.0)\n",
    "hamiltonian.add_term(pauli_label(\"X3 X0\"), 1.0)\n",
    "hamiltonian.add_term(pauli_label(\"Z0\"), -1.0)\n",
    "hamiltonian.add_term(pauli_label(\"Z1\"), -1.0)\n",
    "hamiltonian.add_term(pauli_label(\"Z2\"), -1.0)\n",
    "hamiltonian.add_term(pauli_label(\"Z3\"), -1.0)\n",
    "\n",
    "# Input for quantum algorithms\n",
    "hamiltonian_input = QubitHamiltonian(QUBIT_COUNT, hamiltonian)\n",
    "\n",
    "# Time evolution operator\n",
    "time_evo_circuit_factory = TrotterTimeEvolutionCircuitFactory(hamiltonian_input, n_trotter=N_TROTTER)\n",
    "\n",
    "time_evo_circuit = time_evo_circuit_factory(EVOLUTION_TIME)  # generate time evolution circuit and draw it\n",
    "time_evo_circuit.draw()"
   ]
  },
  {
   "cell_type": "markdown",
   "id": "7c5e5acb",
   "metadata": {},
   "source": [
    "The above circuit contains Pauli rotations, which are denoted generically by `PR`. These are abstract quantum gates, which represent operations like two-qubit or single qubit Pauli rotations, however, in reality they have to be facilitated by a set of gates native to the device of interest. We can use transpilers for this purpose. Each VM comes with its own transpiler, so let's try to use one and see what the result is"
   ]
  },
  {
   "cell_type": "code",
   "execution_count": 19,
   "id": "7254d3f9",
   "metadata": {},
   "outputs": [
    {
     "name": "stdout",
     "output_type": "stream",
     "text": [
      "   ___     ___     ___     ___     ___     ___                                  \n",
      "  | H |   |CX |   |RZ |   |CX |   | H |   | H |                                 \n",
      "--|0  |---|2  |---|3  |---|4  |---|5  |---|22 |---------------------------------\n",
      "  |___|   |___|   |___|   |___|   |___|   |___|                                 \n",
      "   ___      |               |      ___     ___     ___     ___     ___     ___  \n",
      "  | H |     |               |     | H |   | H |   |CX |   |RZ |   |CX |   | H | \n",
      "--|1  |-----●---------------●-----|6  |---|7  |---|9  |---|10 |---|11 |---|12 |-\n",
      "  |___|                           |___|   |___|   |___|   |___|   |___|   |___| \n",
      "   ___                                              |               |      ___  \n",
      "  | H |                                             |               |     | H | \n",
      "--|8  |---------------------------------------------●---------------●-----|13 |-\n",
      "  |___|                                                                   |___| \n",
      "   ___                                                                          \n",
      "  | H |                                                                         \n",
      "--|14 |-------------------------------------------------------------------------\n",
      "  |___|                                                                         \n",
      "\n",
      "\n",
      "================================================================================\n",
      "\n",
      "                                                                                \n",
      "                                                                                \n",
      "----------------------------------------------------●-----------------------●---\n",
      "                                                    |                       |   \n",
      "   ___     ___                                      |                       |   \n",
      "  |RZ |   | H |                                     |                       |   \n",
      "--|29 |---|33 |-------------------------------------|-----------------------|---\n",
      "  |___|   |___|                                     |                       |   \n",
      "   ___                             ___     ___      |     ___               |   \n",
      "  | H |                           | H |   |RZ |     |    | H |              |   \n",
      "--|15 |-----●---------------●-----|20 |---|30 |-----|----|40 |--------------|---\n",
      "  |___|     |               |     |___|   |___|     |    |___|              |   \n",
      "           _|_     ___     _|_     ___     ___     _|_             ___     _|_  \n",
      "          |CX |   |RZ |   |CX |   | H |   | H |   |CX |           |RZ |   |CX | \n",
      "----------|16 |---|17 |---|18 |---|19 |---|21 |---|23 |-----------|24 |---|25 |-\n",
      "          |___|   |___|   |___|   |___|   |___|   |___|           |___|   |___| \n",
      "\n",
      "\n",
      "================================================================================\n",
      "\n",
      "   ___     ___     ___     ___     ___     ___     ___     ___                  \n",
      "  | H |   |RZ |   | H |   |CX |   |RZ |   |CX |   | H |   | H |                 \n",
      "--|27 |---|28 |---|32 |---|34 |---|35 |---|36 |---|37 |---|54 |-----------------\n",
      "  |___|   |___|   |___|   |___|   |___|   |___|   |___|   |___|                 \n",
      "                            |               |      ___     ___     ___     ___  \n",
      "                            |               |     | H |   | H |   |CX |   |RZ | \n",
      "----------------------------●---------------●-----|38 |---|39 |---|41 |---|42 |-\n",
      "                                                  |___|   |___|   |___|   |___| \n",
      "                                                                    |           \n",
      "                                                                    |           \n",
      "--------------------------------------------------------------------●-----------\n",
      "                                                                                \n",
      "   ___     ___     ___                                                          \n",
      "  | H |   |RZ |   | H |                                                         \n",
      "--|26 |---|31 |---|46 |---------------------------------------------------------\n",
      "  |___|   |___|   |___|                                                         \n",
      "\n",
      "\n",
      "================================================================================\n",
      "\n",
      "                                                                                \n",
      "                                                                                \n",
      "--------------------------------------------------------------------●-----------\n",
      "                                                                    |           \n",
      "   ___     ___     ___                                              |           \n",
      "  |CX |   | H |   |RZ |                                             |           \n",
      "--|43 |---|44 |---|61 |---------------------------------------------|-----------\n",
      "  |___|   |___|   |___|                                             |           \n",
      "    |      ___     ___                             ___     ___      |           \n",
      "    |     | H |   | H |                           | H |   |RZ |     |           \n",
      "----●-----|45 |---|47 |-----●---------------●-----|52 |---|62 |-----|-----------\n",
      "          |___|   |___|     |               |     |___|   |___|     |           \n",
      "                           _|_     ___     _|_     ___     ___     _|_     ___  \n",
      "                          |CX |   |RZ |   |CX |   | H |   | H |   |CX |   |RZ | \n",
      "--------------------------|48 |---|49 |---|50 |---|51 |---|53 |---|55 |---|56 |-\n",
      "                          |___|   |___|   |___|   |___|   |___|   |___|   |___| \n",
      "\n",
      "\n",
      "================================================================================\n",
      "\n",
      "           ___     ___  \n",
      "          | H |   |RZ | \n",
      "----●-----|59 |---|60 |-\n",
      "    |     |___|   |___| \n",
      "    |                   \n",
      "    |                   \n",
      "----|-------------------\n",
      "    |                   \n",
      "    |                   \n",
      "    |                   \n",
      "----|-------------------\n",
      "    |                   \n",
      "   _|_     ___     ___  \n",
      "  |CX |   | H |   |RZ | \n",
      "--|57 |---|58 |---|63 |-\n",
      "  |___|   |___|   |___| \n"
     ]
    }
   ],
   "source": [
    "star_vm = VM.from_device_prop(\n",
    "    star_device.generate_device_property(\n",
    "        qubit_count=4,\n",
    "        code_distance=7,\n",
    "        qec_cycle=TimeValue(value=1.0, unit=TimeUnit.MICROSECOND),\n",
    "        physical_error_rate=1e-4\n",
    "    )\n",
    ")\n",
    "N_SHOTS = 1000\n",
    "\n",
    "transpiled_circuit = star_vm.transpile(time_evo_circuit)\n",
    "transpiled_circuit.draw()"
   ]
  },
  {
   "cell_type": "markdown",
   "id": "373518c4",
   "metadata": {},
   "source": [
    "And we can compare their depth"
   ]
  },
  {
   "cell_type": "code",
   "execution_count": 20,
   "id": "dd4cec3d",
   "metadata": {},
   "outputs": [
    {
     "name": "stdout",
     "output_type": "stream",
     "text": [
      "Depth of abstract circuit:  10\n",
      "Depth of star vm transpiled circuit:  42\n"
     ]
    }
   ],
   "source": [
    "print(\"Depth of abstract circuit: \", time_evo_circuit.depth)\n",
    "print(\"Depth of star vm transpiled circuit: \", transpiled_circuit.depth)"
   ]
  },
  {
   "cell_type": "markdown",
   "id": "d64c597b",
   "metadata": {},
   "source": [
    "### Exercise 3\n",
    "\n",
    "Considering the above, let's try a different Hamiltonian"
   ]
  },
  {
   "cell_type": "code",
   "execution_count": 21,
   "id": "f613e562",
   "metadata": {},
   "outputs": [],
   "source": [
    "three_qubit_hamiltonian = Operator()\n",
    "three_qubit_hamiltonian.add_term(pauli_label(\"X0 X1 X2\"), 1.0)\n",
    "three_qubit_hamiltonian.add_term(pauli_label(\"X1 X2 X3\"), 1.0)\n",
    "three_qubit_hamiltonian.add_term(pauli_label(\"X2 X3 X0\"), 1.0)\n",
    "three_qubit_hamiltonian.add_term(pauli_label(\"X3 X0 X1\"), 1.0)\n",
    "three_qubit_hamiltonian.add_term(pauli_label(\"Z0\"), -1.0)\n",
    "three_qubit_hamiltonian.add_term(pauli_label(\"Z1\"), -1.0)\n",
    "three_qubit_hamiltonian.add_term(pauli_label(\"Z2\"), -1.0)\n",
    "three_qubit_hamiltonian.add_term(pauli_label(\"Z3\"), -1.0)"
   ]
  },
  {
   "cell_type": "markdown",
   "id": "d430c6be",
   "metadata": {},
   "source": [
    "Using the above Hamiltonian, answer the following questions\n",
    "- What is the depth of the abstract and the transpiled time-evolution circuit for the same number of Trotter steps as was used previously?\n",
    "- Can you explain the difference in depth between the transpiled time-evolution circuit for the 2-qubit interacting Hamiltonian and the 3-qubit one?\n",
    "- What is the rule of thumb for how Pauli-rotations are converted into gates?\n",
    "\n",
    "Note, try not to overwrite previously defined variables because we will use them later."
   ]
  },
  {
   "cell_type": "markdown",
   "id": "90eaf25e",
   "metadata": {},
   "source": [
    "### Compiling time-evolution circuits\n",
    "\n",
    "QURI Algo comes with algorithms that can be used easily for various purposes. Here we will introduce quantum assisted quantum compiling (QAQC). This is a variational algorithm that optimizes a trial circuit until it can replicate the unitary action of a target circuit. It does so by updating the circuit parameters and evaluating a cost function that determines how close the circuits are to performing the same unitary operation on the quantum register.\n",
    "\n",
    "Using the QAQC algorithm, we can compress time-evolution circuits. We do so by defining an ansatz circuit, which is a linearly mapped parametric quantum circuit, just like the ones we've used before. Then we instantiate the algorithm itself and run it to get the compilation result."
   ]
  },
  {
   "cell_type": "code",
   "execution_count": 22,
   "id": "8be58934",
   "metadata": {},
   "outputs": [],
   "source": [
    "from quri_parts.algo.ansatz import Z2SymmetryPreservingReal\n",
    "\n",
    "from quri_algo.algo.compiler import QAQC\n",
    "\n",
    "REPS=10\n",
    "\n",
    "ansatz=Z2SymmetryPreservingReal(qubit_count,reps=REPS)\n",
    "qaqc=QAQC()\n",
    "\n",
    "compilation_result = qaqc.run(time_evo_circuit_factory,ansatz,evolution_time=EVOLUTION_TIME)"
   ]
  },
  {
   "cell_type": "markdown",
   "id": "03feab88",
   "metadata": {},
   "source": [
    "This algorithm uses the Hilbert-Schmidt test to evaluate how closely the compressed circuit is to the target circuit. We can plot the cost history too"
   ]
  },
  {
   "cell_type": "code",
   "execution_count": 42,
   "id": "abe3ca4f",
   "metadata": {},
   "outputs": [
    {
     "data": {
      "image/png": "[encoded data removed]",
      "text/plain": [
       "<Figure size 800x600 with 1 Axes>"
      ]
     },
     "metadata": {},
     "output_type": "display_data"
    }
   ],
   "source": [
    "import matplotlib.pyplot as plt\n",
    "\n",
    "# Assuming compilation_result contains some metrics to plot\n",
    "# Extracting example data (replace with actual data from compilation_result)\n",
    "iterations = range(len(compilation_result.cost_function_history[1:]))\n",
    "costs = compilation_result.cost_function_history[1:]\n",
    "\n",
    "# Plotting the cost history\n",
    "plt.figure(figsize=(8, 6))\n",
    "plt.plot(iterations, costs, marker='o', label='Hilbert-Schmidt test')\n",
    "plt.title('QAQC Optimization History')\n",
    "plt.xlabel('Iteration')\n",
    "plt.xticks(iterations)\n",
    "plt.ylabel('Cost')\n",
    "plt.legend()\n",
    "plt.grid(True)\n",
    "plt.show()"
   ]
  },
  {
   "cell_type": "markdown",
   "id": "aa636a7f",
   "metadata": {},
   "source": [
    "We can easily analyze the runtime of the algorithm on a real device too"
   ]
  },
  {
   "cell_type": "code",
   "execution_count": 24,
   "id": "1fd0b7d3",
   "metadata": {},
   "outputs": [
    {
     "name": "stdout",
     "output_type": "stream",
     "text": [
      "Algorithm runtime: 8.590069444444445 h, minimum fidelity: 0.99623500350332\n"
     ]
    }
   ],
   "source": [
    "analysis = qaqc.analyze(time_evo_circuit_factory, ansatz, compilation_result, star_vm.analyze, N_SHOTS, evolution_time=0.1)\n",
    "\n",
    "print(f\"Algorithm runtime: {analysis.total_latency.in_ns()*1e-9/3600} h, minimum fidelity: {min(analysis.circuit_fidelities.values())}\")"
   ]
  },
  {
   "cell_type": "markdown",
   "id": "89feb4cc",
   "metadata": {},
   "source": [
    "### Exercise 5\n",
    "\n",
    "In the above, we used a parity preserving ansatz. Try redoing the circuit compilation with the `SymmetryPreservingReal` and `HardwareEfficientReal` ansatze and compare. In each case answer the question\n",
    "\n",
    "- Did the algorithm converge to a better or worse cost-function value?\n",
    "- Why?"
   ]
  },
  {
   "cell_type": "markdown",
   "id": "7dcbcbf1",
   "metadata": {},
   "source": [
    "## QSUB basics\n",
    "\n",
    "In this section we will introduce qsub - the quantum circuit synthesis library. You will learn how to\n",
    "\n",
    "- Write subroutines in qsub\n",
    "- Convert subroutines to quri parts circuits"
   ]
  },
  {
   "cell_type": "markdown",
   "id": "19e7e006",
   "metadata": {},
   "source": [
    "### `Op` and `Sub`\n",
    "\n",
    "In Sub a circuit is represented as a `Sub` (subroutine) object. A `Sub` is defined as a sequence of operations on qubits and classical registers.\n",
    "\n",
    "The most basic thing you can do is to define a `Sub` using predefined `Op`s."
   ]
  },
  {
   "cell_type": "code",
   "execution_count": 25,
   "id": "2670e206",
   "metadata": {},
   "outputs": [],
   "source": [
    "from quri_parts.qsub.sub import SubBuilder\n",
    "\n",
    "# Predefined Ops\n",
    "from quri_parts.qsub.lib.std import H, CNOT, RZ\n",
    "\n",
    "# Build a circuit for 2 qubits\n",
    "b = SubBuilder(2)\n",
    "q0, q1 = b.qubits\n",
    "b.add_op(H, (q1,))\n",
    "b.add_op(CNOT, (q0, q1))\n",
    "b.add_op(RZ(-0.5), (q1,))\n",
    "b.add_op(CNOT, (q0, q1))\n",
    "b.add_op(RZ(0.5), (q1,))\n",
    "b.add_op(H, (q1,))\n",
    "sub = b.build()"
   ]
  },
  {
   "cell_type": "code",
   "execution_count": 26,
   "id": "2f073527",
   "metadata": {},
   "outputs": [
    {
     "data": {
      "image/png": "[encoded data removed]",
      "text/plain": [
       "<Figure size 596.16x194.4 with 1 Axes>"
      ]
     },
     "execution_count": 26,
     "metadata": {},
     "output_type": "execute_result"
    }
   ],
   "source": [
    "from quri_parts.qsub.visualize import draw_sub\n",
    "\n",
    "draw_sub(sub)"
   ]
  },
  {
   "cell_type": "markdown",
   "id": "2be293d6",
   "metadata": {},
   "source": [
    "Some `Op`s are parametric: in the above example, `RZ` is a parametric `Op`. It is just a function returning a (non-parametric) `Op`: `RZ(0.5)` is an `Op` with the fixed parameter 0.5."
   ]
  },
  {
   "cell_type": "markdown",
   "id": "6112767d",
   "metadata": {},
   "source": [
    "### Standard predefined `Op`s: `qsub.lib.std`\n",
    "\n",
    "`qsub.lib.std` package contains the following standard pre-defined `Op`s."
   ]
  },
  {
   "cell_type": "code",
   "execution_count": 27,
   "id": "1c2e4c53",
   "metadata": {},
   "outputs": [
    {
     "name": "stdout",
     "output_type": "stream",
     "text": [
      "Single qubit non-parametric gates:\n",
      "  lib.std.X(qubits=1, registers=0)\n",
      "  lib.std.Y(qubits=1, registers=0)\n",
      "  lib.std.Z(qubits=1, registers=0)\n",
      "  lib.std.H(qubits=1, registers=0)\n",
      "  lib.std.SqrtX(qubits=1, registers=0)\n",
      "  lib.std.SqrtXdag(qubits=1, registers=0)\n",
      "  lib.std.SqrtY(qubits=1, registers=0)\n",
      "  lib.std.SqrtYdag(qubits=1, registers=0)\n",
      "  lib.std.S(qubits=1, registers=0)\n",
      "  lib.std.Sdag(qubits=1, registers=0)\n",
      "  lib.std.T(qubits=1, registers=0)\n",
      "  lib.std.Tdag(qubits=1, registers=0)\n",
      "Single qubit parametric rotation gates:\n",
      "  lib.std.RX<0.39269908169872414>(qubits=1, registers=0)\n",
      "  lib.std.RY<0.39269908169872414>(qubits=1, registers=0)\n",
      "  lib.std.RZ<0.39269908169872414>(qubits=1, registers=0)\n",
      "  lib.std.Phase<0.39269908169872414>(qubits=1, registers=0)\n",
      "Two qubit non-parametric gates:\n",
      "  lib.std.CNOT(qubits=2, registers=0)\n",
      "  lib.std.CZ(qubits=2, registers=0)\n",
      "  lib.std.SWAP(qubits=2, registers=0)\n",
      "Three qubit non-parametric gates:\n",
      "  lib.std.Toffoli(qubits=3, registers=0)\n",
      "Measurement:\n",
      "  lib.std.M(qubits=1, registers=1)\n",
      "Classical conditional branching:\n",
      "  lib.std.Cbz(qubits=0, registers=2)\n",
      "  lib.std.Label(qubits=0, registers=1)\n"
     ]
    }
   ],
   "source": [
    "from math import pi\n",
    "from quri_parts.qsub.lib import std\n",
    "\n",
    "print(\"Single qubit non-parametric gates:\")\n",
    "for op in [\n",
    "    std.X,\n",
    "    std.Y,\n",
    "    std.Z,\n",
    "    std.H,\n",
    "    std.SqrtX,\n",
    "    std.SqrtXdag,\n",
    "    std.SqrtY,\n",
    "    std.SqrtYdag,\n",
    "    std.S,\n",
    "    std.Sdag,\n",
    "    std.T,\n",
    "    std.Tdag,\n",
    "]:\n",
    "    print(\" \", op)\n",
    "\n",
    "print(\"Single qubit parametric rotation gates:\")\n",
    "for op in [\n",
    "    std.RX,\n",
    "    std.RY,\n",
    "    std.RZ,\n",
    "    std.Phase,\n",
    "]:\n",
    "    print(\" \", op(pi/8))\n",
    "\n",
    "print(\"Two qubit non-parametric gates:\")\n",
    "for op in [\n",
    "    std.CNOT,\n",
    "    std.CZ,\n",
    "    std.SWAP,\n",
    "]:\n",
    "    print(\" \", op)\n",
    "\n",
    "print(\"Three qubit non-parametric gates:\")\n",
    "print(\" \", std.Toffoli)\n",
    "\n",
    "print(\"Measurement:\")\n",
    "print(\" \", std.M)\n",
    "\n",
    "print(\"Classical conditional branching:\")\n",
    "for op in [\n",
    "    std.Cbz,\n",
    "    std.Label,\n",
    "]:\n",
    "    print(\" \", op)\n",
    "\n",
    "\n",
    "_ = [\n",
    "\n",
    "    \"conditional\",\n",
    "\n",
    "    \"Inverse\",\n",
    "    \"Controlled\",\n",
    "    \"MultiControlled\",\n",
    "    \"scoped_and\",\n",
    "    \"scoped_and_clifford_t\",\n",
    "]\n"
   ]
  },
  {
   "cell_type": "markdown",
   "id": "0e21f18d",
   "metadata": {},
   "source": [
    "There are some parametric `Op`s that take another `Op` as their argument."
   ]
  },
  {
   "cell_type": "markdown",
   "id": "818c0ce3",
   "metadata": {},
   "source": [
    "### Inverse\n",
    "\n",
    "`Inverse` returns inverse of a given unitary operation."
   ]
  },
  {
   "cell_type": "code",
   "execution_count": 28,
   "id": "8e91ef67",
   "metadata": {},
   "outputs": [
    {
     "name": "stdout",
     "output_type": "stream",
     "text": [
      "lib.std.Inverse<lib.std.S>(qubits=1, registers=0)\n"
     ]
    }
   ],
   "source": [
    "from quri_parts.qsub.lib import std\n",
    "\n",
    "invS = std.Inverse(std.S)\n",
    "print(invS)"
   ]
  },
  {
   "cell_type": "markdown",
   "id": "4334ed0d",
   "metadata": {},
   "source": [
    "### Controlled\n",
    "\n",
    "`Controlled` represents a controlled operation of a given unitary operation. If the given unitary is $n$-qubit operation, then the returned controlled operation is $n+1$-qubit operation; The first qubit is the control qubit."
   ]
  },
  {
   "cell_type": "code",
   "execution_count": 29,
   "id": "52ddc4fb",
   "metadata": {},
   "outputs": [
    {
     "name": "stdout",
     "output_type": "stream",
     "text": [
      "lib.std.Controlled<lib.std.S>(qubits=2, registers=0)\n",
      "lib.std.Controlled<lib.std.Toffoli>(qubits=4, registers=0)\n"
     ]
    }
   ],
   "source": [
    "from quri_parts.qsub.lib import std\n",
    "\n",
    "ctrlS = std.Controlled(std.S)\n",
    "print(ctrlS)\n",
    "\n",
    "ctrlToffoli = std.Controlled(std.Toffoli)\n",
    "print(ctrlToffoli)"
   ]
  },
  {
   "cell_type": "markdown",
   "id": "97fc455a",
   "metadata": {},
   "source": [
    "### MultiControlled\n",
    "\n",
    "`MultiControlled` represents a multi-bit controlled operation of a given unitary operation. It takes three arguments: the target unitary `Op`, number of control bits (int) and control value (int). The control value is interpreted by binary representation: e.g. if `control_value=0b10100`, it is interpreted as `bit0=0`, `bit1=0`, `bit2=1`, `bit3=0` and `bit4=1`."
   ]
  },
  {
   "cell_type": "code",
   "execution_count": 30,
   "id": "1b60ad5d",
   "metadata": {},
   "outputs": [
    {
     "name": "stdout",
     "output_type": "stream",
     "text": [
      "lib.std.MultiControlled<lib.std.S, 3, 2>(qubits=4, registers=0)\n"
     ]
    }
   ],
   "source": [
    "from quri_parts.qsub.lib import std\n",
    "\n",
    "mctrlS = std.MultiControlled(std.S, 3, 0b010)\n",
    "print(mctrlS)"
   ]
  },
  {
   "cell_type": "markdown",
   "id": "3bf7795d",
   "metadata": {},
   "source": [
    "### Resolving `Op` to `Sub`\n",
    "\n",
    "An `Op` itself is just an abstract symbol. Eventually it needs to be resolved as either a primitive (native gate) or a `Sub`. How each `Op` should be resolved can be registered to a `SubRepository`, though users usually don't need to be aware of it since we provide a *default* `SubRepository`. In order to get a `Sub` corresponding to an `Op`, you can use `resolve_sub()` function. If no correspondence is registered for the given `Op`, it returns `None`:"
   ]
  },
  {
   "cell_type": "code",
   "execution_count": 31,
   "id": "4fde8521",
   "metadata": {},
   "outputs": [
    {
     "name": "stdout",
     "output_type": "stream",
     "text": [
      "None\n"
     ]
    }
   ],
   "source": [
    "from quri_parts.qsub.resolve import resolve_sub\n",
    "from quri_parts.qsub.lib import std\n",
    "\n",
    "subS = resolve_sub(std.S)\n",
    "print(subS)"
   ]
  },
  {
   "cell_type": "markdown",
   "id": "3b3269bd",
   "metadata": {},
   "source": [
    "Most operations in `qsub.lib.std` are usually treated as primitives, so no correspondence for them is registered by default."
   ]
  },
  {
   "cell_type": "markdown",
   "id": "877266f2",
   "metadata": {},
   "source": [
    "### Exercise 6\n",
    "\n",
    "Often controlled time-evolution is needed in quantum algorithms that perform ground state energy estimation (GSEE). For this exercise, we return to the Hamiltonian\n",
    "\n",
    "$H = \\sum_{i=0}^{3} c_i Z_i $\n",
    "\n",
    "Where the coefficients are $\\mathbf{c} = [0.4,1.6,0.8,1.0]$. In Exercise 1 you implemented the time-evolution operator in a quri-parts circuit. This time implement the *controlled* version. Let the first qubit be the control for the time-evolution and set the time to some constant value when implementing the time-evolution. Then\n",
    "\n",
    "confirm that you get it right by drawing the circuit.\n",
    "\n",
    "HINT: You can add controlled ops in the same way you add any other ops."
   ]
  },
  {
   "cell_type": "markdown",
   "id": "25d8358c",
   "metadata": {},
   "source": [
    "### Resolving Inverse\n",
    "\n",
    "Correspondences for `Inverse` of standard operations are registered by default."
   ]
  },
  {
   "cell_type": "code",
   "execution_count": 32,
   "id": "f97ff7d1",
   "metadata": {},
   "outputs": [
    {
     "name": "stdout",
     "output_type": "stream",
     "text": [
      "Single qubit non-parametric gates:\n",
      " Inverse(X): Sub[lib.std.X(q0)]\n",
      " Inverse(Y): Sub[lib.std.Y(q0)]\n",
      " Inverse(Z): Sub[lib.std.Z(q0)]\n",
      " Inverse(H): Sub[lib.std.H(q0)]\n",
      " Inverse(SqrtX): Sub[lib.std.SqrtXdag(q0)]\n",
      " Inverse(SqrtXdag): Sub[lib.std.SqrtX(q0)]\n",
      " Inverse(SqrtY): Sub[lib.std.SqrtYdag(q0)]\n",
      " Inverse(SqrtYdag): Sub[lib.std.SqrtY(q0)]\n",
      " Inverse(S): Sub[lib.std.Sdag(q0)]\n",
      " Inverse(Sdag): Sub[lib.std.S(q0)]\n",
      " Inverse(T): Sub[lib.std.Tdag(q0)]\n",
      " Inverse(Tdag): Sub[lib.std.T(q0)]\n",
      "Single qubit parametric rotation gates:\n",
      " Inverse(RX(pi/8)): Sub[lib.std.RX<-0.39269908169872414>(q0)]\n",
      " Inverse(RY(pi/8)): Sub[lib.std.RY<-0.39269908169872414>(q0)]\n",
      " Inverse(RZ(pi/8)): Sub[lib.std.RZ<-0.39269908169872414>(q0)]\n",
      " Inverse(Phase(pi/8)): Sub[lib.std.Phase<-0.39269908169872414>(q0)]\n",
      "Two qubit non-parametric gates:\n",
      " Inverse(CNOT): Sub[lib.std.CNOT(q0, q1)]\n",
      " Inverse(CZ): Sub[lib.std.CZ(q0, q1)]\n",
      " Inverse(SWAP): Sub[lib.std.SWAP(q0, q1)]\n",
      "Three qubit non-parametric gates:\n",
      " Inverse(Toffoli): Sub[lib.std.Toffoli(q0, q1, q2)]\n"
     ]
    }
   ],
   "source": [
    "from math import pi\n",
    "from quri_parts.qsub.resolve import resolve_sub\n",
    "from quri_parts.qsub.lib import std\n",
    "\n",
    "print(\"Single qubit non-parametric gates:\")\n",
    "for op in [\n",
    "    std.X,\n",
    "    std.Y,\n",
    "    std.Z,\n",
    "    std.H,\n",
    "    std.SqrtX,\n",
    "    std.SqrtXdag,\n",
    "    std.SqrtY,\n",
    "    std.SqrtYdag,\n",
    "    std.S,\n",
    "    std.Sdag,\n",
    "    std.T,\n",
    "    std.Tdag,\n",
    "]:\n",
    "    inv = std.Inverse(op)\n",
    "    inv_sub = resolve_sub(inv)\n",
    "    print(f\" Inverse({op.base_id[1]}): {inv_sub}\")\n",
    "\n",
    "print(\"Single qubit parametric rotation gates:\")\n",
    "for op in [\n",
    "    std.RX,\n",
    "    std.RY,\n",
    "    std.RZ,\n",
    "    std.Phase,\n",
    "]:\n",
    "    inv = std.Inverse(op(pi/8))\n",
    "    inv_sub = resolve_sub(inv)\n",
    "    print(f\" Inverse({op.base_id[1]}(pi/8)): {inv_sub}\")\n",
    "\n",
    "print(\"Two qubit non-parametric gates:\")\n",
    "for op in [\n",
    "    std.CNOT,\n",
    "    std.CZ,\n",
    "    std.SWAP,\n",
    "]:\n",
    "    inv = std.Inverse(op)\n",
    "    inv_sub = resolve_sub(inv)\n",
    "    print(f\" Inverse({op.base_id[1]}): {inv_sub}\")\n",
    "\n",
    "print(\"Three qubit non-parametric gates:\")\n",
    "inv = std.Inverse(std.Toffoli)\n",
    "inv_sub = resolve_sub(inv)\n",
    "print(f\" Inverse({std.Toffoli.base_id[1]}): {inv_sub}\")"
   ]
  },
  {
   "cell_type": "markdown",
   "id": "c016224c",
   "metadata": {},
   "source": [
    "### Resolving Controlled\n",
    "\n",
    "Correspondences for `Controlled` of standard operations are registered by default."
   ]
  },
  {
   "cell_type": "code",
   "execution_count": 33,
   "id": "5b61e2f7",
   "metadata": {},
   "outputs": [
    {
     "name": "stdout",
     "output_type": "stream",
     "text": [
      "Single qubit non-parametric gates:\n",
      " Controlled(X):\n"
     ]
    },
    {
     "data": {
      "image/png": "[encoded data removed]",
      "text/plain": [
       "<Figure size 194.4x194.4 with 1 Axes>"
      ]
     },
     "metadata": {},
     "output_type": "display_data"
    },
    {
     "name": "stdout",
     "output_type": "stream",
     "text": [
      " Controlled(Y):\n"
     ]
    },
    {
     "data": {
      "image/png": "[encoded data removed]",
      "text/plain": [
       "<Figure size 324x194.4 with 1 Axes>"
      ]
     },
     "metadata": {},
     "output_type": "display_data"
    },
    {
     "name": "stdout",
     "output_type": "stream",
     "text": [
      " Controlled(Z):\n"
     ]
    },
    {
     "data": {
      "image/png": "[encoded data removed]",
      "text/plain": [
       "<Figure size 194.4x194.4 with 1 Axes>"
      ]
     },
     "metadata": {},
     "output_type": "display_data"
    },
    {
     "name": "stdout",
     "output_type": "stream",
     "text": [
      " Controlled(H):\n"
     ]
    },
    {
     "data": {
      "image/png": "[encoded data removed]",
      "text/plain": [
       "<Figure size 531.36x194.4 with 1 Axes>"
      ]
     },
     "metadata": {},
     "output_type": "display_data"
    },
    {
     "name": "stdout",
     "output_type": "stream",
     "text": [
      " Controlled(SqrtX):\n"
     ]
    },
    {
     "data": {
      "image/png": "[encoded data removed]",
      "text/plain": [
       "<Figure size 725.76x194.4 with 1 Axes>"
      ]
     },
     "metadata": {},
     "output_type": "display_data"
    },
    {
     "name": "stdout",
     "output_type": "stream",
     "text": [
      " Controlled(SqrtXdag):\n"
     ]
    },
    {
     "data": {
      "image/png": "[encoded data removed]",
      "text/plain": [
       "<Figure size 725.76x194.4 with 1 Axes>"
      ]
     },
     "metadata": {},
     "output_type": "display_data"
    },
    {
     "name": "stdout",
     "output_type": "stream",
     "text": [
      " Controlled(SqrtY):\n"
     ]
    },
    {
     "data": {
      "image/png": "[encoded data removed]",
      "text/plain": [
       "<Figure size 596.16x194.4 with 1 Axes>"
      ]
     },
     "metadata": {},
     "output_type": "display_data"
    },
    {
     "name": "stdout",
     "output_type": "stream",
     "text": [
      " Controlled(SqrtYdag):\n"
     ]
    },
    {
     "data": {
      "image/png": "[encoded data removed]",
      "text/plain": [
       "<Figure size 596.16x194.4 with 1 Axes>"
      ]
     },
     "metadata": {},
     "output_type": "display_data"
    },
    {
     "name": "stdout",
     "output_type": "stream",
     "text": [
      " Controlled(S):\n"
     ]
    },
    {
     "data": {
      "image/png": "[encoded data removed]",
      "text/plain": [
       "<Figure size 388.8x194.4 with 1 Axes>"
      ]
     },
     "metadata": {},
     "output_type": "display_data"
    },
    {
     "name": "stdout",
     "output_type": "stream",
     "text": [
      " Controlled(Sdag):\n"
     ]
    },
    {
     "data": {
      "image/png": "[encoded data removed]",
      "text/plain": [
       "<Figure size 388.8x194.4 with 1 Axes>"
      ]
     },
     "metadata": {},
     "output_type": "display_data"
    },
    {
     "name": "stdout",
     "output_type": "stream",
     "text": [
      " Controlled(T):\n"
     ]
    },
    {
     "data": {
      "image/png": "[encoded data removed]",
      "text/plain": [
       "<Figure size 648x194.4 with 1 Axes>"
      ]
     },
     "metadata": {},
     "output_type": "display_data"
    },
    {
     "name": "stdout",
     "output_type": "stream",
     "text": [
      " Controlled(Tdag):\n"
     ]
    },
    {
     "data": {
      "image/png": "[encoded data removed]",
      "text/plain": [
       "<Figure size 648x194.4 with 1 Axes>"
      ]
     },
     "metadata": {},
     "output_type": "display_data"
    },
    {
     "name": "stdout",
     "output_type": "stream",
     "text": [
      "Single qubit parametric rotation gates:\n",
      " Controlled(RX(pi/8)):\n"
     ]
    },
    {
     "data": {
      "image/png": "[encoded data removed]",
      "text/plain": [
       "<Figure size 725.76x194.4 with 1 Axes>"
      ]
     },
     "metadata": {},
     "output_type": "display_data"
    },
    {
     "name": "stdout",
     "output_type": "stream",
     "text": [
      " Controlled(RY(pi/8)):\n"
     ]
    },
    {
     "data": {
      "image/png": "[encoded data removed]",
      "text/plain": [
       "<Figure size 596.16x194.4 with 1 Axes>"
      ]
     },
     "metadata": {},
     "output_type": "display_data"
    },
    {
     "name": "stdout",
     "output_type": "stream",
     "text": [
      " Controlled(RZ(pi/8)):\n"
     ]
    },
    {
     "data": {
      "image/png": "[encoded data removed]",
      "text/plain": [
       "<Figure size 596.16x194.4 with 1 Axes>"
      ]
     },
     "metadata": {},
     "output_type": "display_data"
    },
    {
     "name": "stdout",
     "output_type": "stream",
     "text": [
      " Controlled(Phase(pi/8)):\n"
     ]
    },
    {
     "data": {
      "image/png": "[encoded data removed]",
      "text/plain": [
       "<Figure size 622.08x194.4 with 1 Axes>"
      ]
     },
     "metadata": {},
     "output_type": "display_data"
    },
    {
     "name": "stdout",
     "output_type": "stream",
     "text": [
      "Two qubit non-parametric gates:\n",
      " Controlled(CNOT):\n"
     ]
    },
    {
     "data": {
      "image/png": "[encoded data removed]",
      "text/plain": [
       "<Figure size 194.4x280.8 with 1 Axes>"
      ]
     },
     "metadata": {},
     "output_type": "display_data"
    },
    {
     "name": "stdout",
     "output_type": "stream",
     "text": [
      " Controlled(CZ):\n"
     ]
    },
    {
     "data": {
      "image/png": "[encoded data removed]",
      "text/plain": [
       "<Figure size 194.4x280.8 with 1 Axes>"
      ]
     },
     "metadata": {},
     "output_type": "display_data"
    },
    {
     "name": "stdout",
     "output_type": "stream",
     "text": [
      " Controlled(SWAP):\n"
     ]
    },
    {
     "data": {
      "image/png": "[encoded data removed]",
      "text/plain": [
       "<Figure size 324x280.8 with 1 Axes>"
      ]
     },
     "metadata": {},
     "output_type": "display_data"
    },
    {
     "name": "stdout",
     "output_type": "stream",
     "text": [
      "Three qubit non-parametric gates:\n",
      " Controlled(Toffoli):\n"
     ]
    },
    {
     "data": {
      "image/png": "[encoded data removed]",
      "text/plain": [
       "<Figure size 194.4x367.2 with 1 Axes>"
      ]
     },
     "metadata": {},
     "output_type": "display_data"
    }
   ],
   "source": [
    "from math import pi\n",
    "from IPython.display import display\n",
    "from quri_parts.qsub.resolve import resolve_sub\n",
    "from quri_parts.qsub.visualize import draw_sub\n",
    "from quri_parts.qsub.lib import std\n",
    "\n",
    "print(\"Single qubit non-parametric gates:\")\n",
    "for op in [\n",
    "    std.X,\n",
    "    std.Y,\n",
    "    std.Z,\n",
    "    std.H,\n",
    "    std.SqrtX,\n",
    "    std.SqrtXdag,\n",
    "    std.SqrtY,\n",
    "    std.SqrtYdag,\n",
    "    std.S,\n",
    "    std.Sdag,\n",
    "    std.T,\n",
    "    std.Tdag,\n",
    "]:\n",
    "    ctrl = std.Controlled(op)\n",
    "    ctrl_sub = resolve_sub(ctrl)\n",
    "    print(f\" Controlled({op.base_id[1]}):\")\n",
    "    display(draw_sub(ctrl_sub))\n",
    "\n",
    "print(\"Single qubit parametric rotation gates:\")\n",
    "for op in [\n",
    "    std.RX,\n",
    "    std.RY,\n",
    "    std.RZ,\n",
    "    std.Phase,\n",
    "]:\n",
    "    ctrl = std.Controlled(op(pi/8))\n",
    "    ctrl_sub = resolve_sub(ctrl)\n",
    "    print(f\" Controlled({op.base_id[1]}(pi/8)):\")\n",
    "    display(draw_sub(ctrl_sub))\n",
    "\n",
    "print(\"Two qubit non-parametric gates:\")\n",
    "for op in [\n",
    "    std.CNOT,\n",
    "    std.CZ,\n",
    "    std.SWAP,\n",
    "]:\n",
    "    ctrl = std.Controlled(op)\n",
    "    ctrl_sub = resolve_sub(ctrl)\n",
    "    print(f\" Controlled({op.base_id[1]}):\")\n",
    "    display(draw_sub(ctrl_sub))\n",
    "\n",
    "print(\"Three qubit non-parametric gates:\")\n",
    "ctrl = std.Controlled(std.Toffoli)\n",
    "ctrl_sub = resolve_sub(ctrl)\n",
    "print(f\" Controlled({std.Toffoli.base_id[1]}):\")\n",
    "display(draw_sub(ctrl_sub))"
   ]
  },
  {
   "cell_type": "markdown",
   "id": "4e8ee954",
   "metadata": {},
   "source": [
    "### Resolving MultiControlled\n",
    "\n",
    "`MultiControlled` operation is resolved using Toffoli gates by default. (An alternative way to resolve it with measurement and conditional operation is also provided, which will be mentioned elsewhere.) In this construction, if the number of control bits is $k$, then $k-1$ auxiliary qubits are added inside the resolved `Sub`."
   ]
  },
  {
   "cell_type": "code",
   "execution_count": 34,
   "id": "9c2bbb84",
   "metadata": {},
   "outputs": [
    {
     "data": {
      "image/png": "[encoded data removed]",
      "text/plain": [
       "<Figure size 583.2x540 with 1 Axes>"
      ]
     },
     "execution_count": 34,
     "metadata": {},
     "output_type": "execute_result"
    }
   ],
   "source": [
    "from quri_parts.qsub.resolve import resolve_sub\n",
    "from quri_parts.qsub.visualize import draw_sub\n",
    "from quri_parts.qsub.lib import std\n",
    "\n",
    "mctrlS = std.MultiControlled(std.S, 3, 0b010)\n",
    "mctrlS_sub = resolve_sub(mctrlS)\n",
    "draw_sub(mctrlS_sub)"
   ]
  },
  {
   "cell_type": "markdown",
   "id": "dea794d8",
   "metadata": {},
   "source": [
    "In the above diagram, `q4` and `q5` are auxiliary qubits added inside the resolved `Sub`."
   ]
  },
  {
   "cell_type": "markdown",
   "id": "429c86c2",
   "metadata": {},
   "source": [
    "## Compile and analyze a `Sub`\n",
    "\n",
    "By *compiling* a `Sub`, you can perform various analysis on the compiled circuit (`MachineSub`). Let's prepare a `Sub` to be compiled:"
   ]
  },
  {
   "cell_type": "code",
   "execution_count": 35,
   "id": "8c0dcd80",
   "metadata": {},
   "outputs": [
    {
     "data": {
      "image/png": "[encoded data removed]",
      "text/plain": [
       "<Figure size 259.2x367.2 with 1 Axes>"
      ]
     },
     "execution_count": 35,
     "metadata": {},
     "output_type": "execute_result"
    }
   ],
   "source": [
    "from quri_parts.qsub.sub import SubBuilder\n",
    "from quri_parts.qsub.visualize import draw_sub\n",
    "from quri_parts.qsub.lib import std\n",
    "\n",
    "# Build a circuit for 4 qubits\n",
    "b = SubBuilder(4)\n",
    "q0, q1, q2, q3 = b.qubits\n",
    "b.add_op(std.MultiControlled(std.S, 3, 0b010), (q0, q1, q2, q3))\n",
    "b.add_op(std.Controlled(std.Sdag), (q2, q1))\n",
    "sub = b.build()\n",
    "\n",
    "draw_sub(sub)"
   ]
  },
  {
   "cell_type": "markdown",
   "id": "09cc3824",
   "metadata": {},
   "source": [
    "In order to perform compilation you need to determine `primitives`, which specifies which `Op`s you want to treat as primitives (i.e. not replaced by subroutines). When you are not sure which operations to specify as primitives, you can start with a small set and add missing primitives by inspecting an error message:"
   ]
  },
  {
   "cell_type": "code",
   "execution_count": 36,
   "id": "d63f1c2e",
   "metadata": {},
   "outputs": [
    {
     "name": "stdout",
     "output_type": "stream",
     "text": [
      "Op lib.std.X(qubits=1, registers=0) is not found in calltable.\n"
     ]
    }
   ],
   "source": [
    "from quri_parts.qsub.compile import compile_sub\n",
    "from quri_parts.qsub.lib import std\n",
    "\n",
    "primitives = (std.CNOT, std.Toffoli)\n",
    "try:\n",
    "    compiled = compile_sub(sub, primitives)\n",
    "except Exception as e:\n",
    "    print(e)"
   ]
  },
  {
   "cell_type": "markdown",
   "id": "cac33864",
   "metadata": {},
   "source": [
    "The error message above tells us that `X` is missing from `primitives`. Repeating the procedure, we can come up with the following primitives for this example."
   ]
  },
  {
   "cell_type": "code",
   "execution_count": 37,
   "id": "73d1a8bb",
   "metadata": {},
   "outputs": [
    {
     "data": {
      "image/png": "[encoded data removed]",
      "text/plain": [
       "<Figure size 259.2x367.2 with 1 Axes>"
      ]
     },
     "execution_count": 37,
     "metadata": {},
     "output_type": "execute_result"
    }
   ],
   "source": [
    "from quri_parts.qsub.compile import compile_sub\n",
    "from quri_parts.qsub.visualize import draw_msub\n",
    "from quri_parts.qsub.lib import std\n",
    "\n",
    "primitives = (std.X, std.T, std.Tdag, std.CNOT, std.Toffoli)\n",
    "compiled = compile_sub(sub, primitives)\n",
    "draw_msub(compiled)"
   ]
  },
  {
   "cell_type": "markdown",
   "id": "3a4283ce",
   "metadata": {},
   "source": [
    "Though the circuit diagram is the same as that before the compilation, the compiled subroutine (`MachineSub`) contains additional information such as definitions of subroutines called internally.\n",
    "\n",
    "After compilation you can perform several analyses using `Evaluator` and `EvaluatorHooks`."
   ]
  },
  {
   "cell_type": "markdown",
   "id": "e8ba2a8c",
   "metadata": {},
   "source": [
    "### Counting gates in the circuit\n",
    "\n",
    "You can count gates of specific types in the circuit as follows:"
   ]
  },
  {
   "cell_type": "code",
   "execution_count": 38,
   "id": "1d1ee53d",
   "metadata": {},
   "outputs": [
    {
     "name": "stdout",
     "output_type": "stream",
     "text": [
      "{'Toffoli': 4, 'Tdag': 3, 'T': 3}\n"
     ]
    }
   ],
   "source": [
    "from quri_parts.qsub.evaluate import Evaluator\n",
    "from quri_parts.qsub.eval import GateCountEvaluatorHooks\n",
    "\n",
    "gate_counter = Evaluator(GateCountEvaluatorHooks((std.T, std.Tdag, std.Toffoli)))\n",
    "gate_count = gate_counter.run(compiled)\n",
    "print({k[1]: v for k, v in gate_count.items()})"
   ]
  },
  {
   "cell_type": "markdown",
   "id": "b064084d",
   "metadata": {},
   "source": [
    "### Counting max number of auxiliary qubits required\n",
    "\n",
    "Some operations (such as `MultiControlled`) use auxiliary qubits in addition to input/output qubits of the circuit. you can count the maximum number of simultaneously required auxiliary qubits as follows:"
   ]
  },
  {
   "cell_type": "code",
   "execution_count": 39,
   "id": "6c81879a",
   "metadata": {},
   "outputs": [
    {
     "name": "stdout",
     "output_type": "stream",
     "text": [
      "Max # of aux qubits: 2\n"
     ]
    }
   ],
   "source": [
    "from quri_parts.qsub.evaluate import Evaluator\n",
    "from quri_parts.qsub.eval import AuxQubitCountEvaluatorHooks\n",
    "\n",
    "aux_counter = Evaluator(AuxQubitCountEvaluatorHooks())\n",
    "aux_count = aux_counter.run(compiled)\n",
    "print(f\"Max # of aux qubits: {aux_count}\")"
   ]
  },
  {
   "cell_type": "markdown",
   "id": "a65b47f5",
   "metadata": {},
   "source": [
    "### Expand the circuit with primitives\n",
    "\n",
    "It is possible to expand the circuit with primitives."
   ]
  },
  {
   "cell_type": "code",
   "execution_count": 40,
   "id": "c7be3ae3",
   "metadata": {},
   "outputs": [
    {
     "data": {
      "image/png": "[encoded data removed]",
      "text/plain": [
       "<Figure size 1036.8x540 with 1 Axes>"
      ]
     },
     "execution_count": 40,
     "metadata": {},
     "output_type": "execute_result"
    }
   ],
   "source": [
    "from quri_parts.qsub.expand import full_expand\n",
    "from quri_parts.qsub.visualize import draw_msub\n",
    "\n",
    "expanded = full_expand(compiled)\n",
    "draw_msub(expanded)"
   ]
  },
  {
   "cell_type": "markdown",
   "id": "96384919",
   "metadata": {},
   "source": [
    "### Exercise 7\n",
    "\n",
    "Expand the circuit that you built for exercise 6 by first defining its primitives and then using the `full_expand` function"
   ]
  },
  {
   "cell_type": "markdown",
   "id": "30d2d1c5",
   "metadata": {},
   "source": [
    "### Convert to QURI Parts circuit\n",
    "\n",
    "You can convert the compiled subroutine to a QURI Parts circuit as follows:"
   ]
  },
  {
   "cell_type": "code",
   "execution_count": 41,
   "id": "5b9aade5",
   "metadata": {},
   "outputs": [
    {
     "name": "stdout",
     "output_type": "stream",
     "text": [
      "   ___                                                                             ___                          \n",
      "  | X |                                                                           | X |                         \n",
      "--|0  |-----●-------------------------------------------------------●-------------|11 |-------------------------\n",
      "  |___|     |                                                       |             |___|                         \n",
      "            |                                                       |              ___     ___     ___     ___  \n",
      "            |                                                       |             |CX |   | T |   |CX |   |Tdg| \n",
      "------------●-------------------------------------------------------●-------------|13 |---|14 |---|15 |---|17 |-\n",
      "            |                                                       |             |___|   |___|   |___|   |___| \n",
      "   ___      |                                                       |     ___       |               |      ___  \n",
      "  | X |     |                                                       |    | X |      |               |     |Tdg| \n",
      "--|1  |-----|-------●---------------------------------------●-------|----|12 |------●---------------●-----|16 |-\n",
      "  |___|     |       |                                       |       |    |___|                            |___| \n",
      "            |       |      ___     ___     ___     ___      |       |                                           \n",
      "            |       |     |CX |   |Tdg|   |CX |   | T |     |       |                                           \n",
      "------------|-------|-----|4  |---|5  |---|6  |---|8  |-----|-------|-------------------------------------------\n",
      "            |       |     |___|   |___|   |___|   |___|     |       |                                           \n",
      "           _|_      |       |               |               |      _|_                                          \n",
      "          |TOF|     |       |               |               |     |TOF|                                         \n",
      "----------|2  |-----●-------|---------------|---------------●-----|10 |-----------------------------------------\n",
      "          |___|     |       |               |               |     |___|                                         \n",
      "                   _|_      |               |      ___     _|_                                                  \n",
      "                  |TOF|     |               |     | T |   |TOF|                                                 \n",
      "------------------|3  |-----●---------------●-----|7  |---|9  |-------------------------------------------------\n",
      "                  |___|                           |___|   |___|                                                 \n"
     ]
    }
   ],
   "source": [
    "from quri_parts.qsub.evaluate import Evaluator\n",
    "from quri_parts.qsub.eval import QURIPartsEvaluatorHooks\n",
    "from quri_parts.circuit.utils.circuit_drawer import draw_circuit\n",
    "\n",
    "qp_generator = Evaluator(QURIPartsEvaluatorHooks())\n",
    "qp_circuit = qp_generator.run(compiled)\n",
    "draw_circuit(qp_circuit, line_length=120)"
   ]
  }
 ],
 "metadata": {
  "kernelspec": {
   "display_name": ".venv",
   "language": "python",
   "name": "python3"
  },
  "language_info": {
   "codemirror_mode": {
    "name": "ipython",
    "version": 3
   },
   "file_extension": ".py",
   "mimetype": "text/x-python",
   "name": "python",
   "nbconvert_exporter": "python",
   "pygments_lexer": "ipython3",
   "version": "3.10.6"
  }
 },
 "nbformat": 4,
 "nbformat_minor": 5
}
