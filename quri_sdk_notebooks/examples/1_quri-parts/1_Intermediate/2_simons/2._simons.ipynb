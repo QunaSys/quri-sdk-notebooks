{
  "cells": [
    {
      "cell_type": "markdown",
      "metadata": {},
      "source": [
        "# Solving Simon's problem with a quantum computer"
      ]
    },
    {
      "cell_type": "markdown",
      "metadata": {},
      "source": [
        "In this section, we aim to solve the Simon's problem with a quantum computer. The Simon's problem states that:\n",
        "\n",
        "There is a function implemented by an oracle with the property:\n",
        "\n",
        "$$\n",
        "\\begin{equation}\n",
        "    f(x) = f(x \\oplus s)\n",
        "\\end{equation}\n",
        "$$\n",
        "\n",
        "\n",
        "where $s$ is either $0^n$ or a fixed unknown bit string. Find the unknown bitstring $s$.\n",
        "\n",
        "In this section, we show how to use QURI Parts to implement the algorithm that solves Simon's problem."
      ]
    },
    {
      "cell_type": "markdown",
      "metadata": {},
      "source": [
        "## Oracle function and circuit"
      ]
    },
    {
      "cell_type": "markdown",
      "metadata": {},
      "source": [
        "Suppose the function input is a bit string of length $n$, the oracle is a quantum circuit with $2n$ qubits. In this set up, the oracle is implmented with a unitary matrix that satisfies the condition:\n",
        "\n",
        "$$\n",
        "\\begin{equation}\n",
        "    U_f |j \\rangle | i \\rangle = |j \\oplus f(i) \\rangle | i \\rangle,\n",
        "\\end{equation}\n",
        "$$\n",
        "where in the left hand side of the equation, $| j \\rangle$ represents the second half of the qubits and $| i \\rangle$ represents the first half of the qubits. The function $f$ here is given by:\n",
        "\n",
        "$$\n",
        "\\begin{equation}\n",
        "    f(x) = \\min(x \\oplus s, x)\n",
        "\\end{equation}\n",
        "$$\n",
        "\n",
        "where $s$ is the unknown bit string to be solved for by the algorithm. With the above equations, we can implement the oracle as a circuit containing a unitary gate acting on all $2n$ qubits."
      ]
    },
    {
      "cell_type": "code",
      "execution_count": null,
      "metadata": {},
      "outputs": [],
      "source": [
        "import numpy as np  \n",
        "from quri_parts.core.utils.binary_field import BinaryArray, BinaryMatrix  \n",
        "from quri_parts.circuit import QuantumCircuit  \n",
        "from functools import partial  \n",
        "from typing import Callable  \n",
        "from typing_extensions import TypeAlias"
      ]
    },
    {
      "cell_type": "code",
      "execution_count": null,
      "metadata": {},
      "outputs": [],
      "source": [
        "OracleFunction: TypeAlias = Callable[[int], int]\n",
        "\n",
        "def oracle_function(x: int, s: int) -> int:\n",
        "    return min(x^s, x)\n",
        "\n",
        "def get_simon_oracle(s: int, bit_length: int) -> tuple[QuantumCircuit, OracleFunction]:\n",
        "    n_qubits = 2 * bit_length\n",
        "    U = np.zeros((2**n_qubits, 2**n_qubits))\n",
        "    for i in range(2**bit_length):\n",
        "        for j in range(2**bit_length):\n",
        "            # U|j>|i> = |j + f(i)>|i>\n",
        "            # <j + f(i)| <i|U|j> |i> = 1\n",
        "            oracle_output = ((j^oracle_function(i, s)) << bit_length) + i\n",
        "            oracle_input = (j << bit_length) + i\n",
        "            U[oracle_output, oracle_input] = 1\n",
        "    circuit = QuantumCircuit(n_qubits)\n",
        "    circuit.add_UnitaryMatrix_gate(range(n_qubits), U)\n",
        "    return circuit, partial(oracle_function, s=s)"
      ]
    },
    {
      "cell_type": "markdown",
      "metadata": {},
      "source": [
        "Now, let's examine if our oracle correctly implements the function\n",
        "\n",
        "$$\n",
        "\\begin{equation}\n",
        "    f(x) = \\min(x \\oplus s, x)\n",
        "\\end{equation}\n",
        "$$\n",
        "Here we assume $s=0011$, the bit string's length is 4 and check if $U|0000\\rangle|i\\rangle = |f(i)\\rangle|i\\rangle$."
      ]
    },
    {
      "cell_type": "code",
      "execution_count": null,
      "metadata": {},
      "outputs": [],
      "source": [
        "import pandas as pd\n",
        "import numpy as np\n",
        "from quri_parts.qulacs.simulator import evaluate_state_to_vector\n",
        "from quri_parts.core.state import ComputationalBasisState\n",
        "\n",
        "n_bit_len = 4\n",
        "s = 0b0011\n",
        "oracle, oracle_func = get_simon_oracle(s, n_bit_len)\n",
        "\n",
        "recorder = {}\n",
        "# Iterate over U|0000>|i>.\n",
        "for i in range(2**n_bit_len):\n",
        "    out_state = evaluate_state_to_vector(\n",
        "        ComputationalBasisState(2*n_bit_len, bits=i).with_gates_applied(oracle)\n",
        "    ).vector\n",
        "    second_register_out = np.where(out_state == 1)[0][0] >> n_bit_len\n",
        "    expected = oracle_func(i)\n",
        "    recorder[i] = {\"y_oracle\": second_register_out, \"y_expected\": expected}"
      ]
    },
    {
      "cell_type": "code",
      "execution_count": null,
      "metadata": {},
      "outputs": [
        {
          "name": "stdout",
          "output_type": "stream",
          "text": [
            "|            |   0 |   1 |   2 |   3 |   4 |   5 |   6 |   7 |   8 |   9 |   10 |   11 |   12 |   13 |   14 |   15 |\n",
            "|:-----------|----:|----:|----:|----:|----:|----:|----:|----:|----:|----:|-----:|-----:|-----:|-----:|-----:|-----:|\n",
            "| y_oracle   |   0 |   1 |   1 |   0 |   4 |   5 |   5 |   4 |   8 |   9 |    9 |    8 |   12 |   13 |   13 |   12 |\n",
            "| y_expected |   0 |   1 |   1 |   0 |   4 |   5 |   5 |   4 |   8 |   9 |    9 |    8 |   12 |   13 |   13 |   12 |\n"
          ]
        }
      ],
      "source": [
        "print(pd.DataFrame(recorder).T.reset_index().rename(columns={\"index\": \"x\"}).set_index(\"x\").T.to_markdown())"
      ]
    },
    {
      "cell_type": "markdown",
      "metadata": {},
      "source": [
        "With the table above, we have confirmed that the oracle is correctly implemented."
      ]
    },
    {
      "cell_type": "markdown",
      "metadata": {},
      "source": [
        "## The algorithm for solving Simon's problem"
      ]
    },
    {
      "cell_type": "markdown",
      "metadata": {},
      "source": [
        "The algorithm for solving Simon's problem consists of 2 parts. One quantum and the other classical. Here, we list out the explicit algorithm.  \n",
        "\n",
        "- (Quantum) Execute the quantum circuit multiple times to collect a set of equations\n",
        "$$\n",
        "    \\begin{align}\n",
        "        &x_0^{(1)} s_0 \\oplus \\cdots \\oplus x_{n-1}^{(1)}s_{n-1} = 0 \\nonumber \\\\\n",
        "        & \\qquad\\qquad\\qquad\\vdots \\\\\n",
        "        &x_0^{(M)} s_0 \\oplus \\cdots \\oplus x_{n-1}^{(M)}s_{n-1} = 0 \\nonumber \n",
        "    \\end{align}\n",
        "$$\n",
        "- (Classical) Solve the above equation to obtain the desired solution $s = s_{n-1}\\cdots s_0$\n",
        "\n",
        "\n",
        "The variable $M$ in the first part of the algorithm indicating the number of circuit execution in order to obtain a solution for $s$ in the classical step. As $s$ is an n-bit bit string, the number of circuit execution $M$ should at least be $n-1$ times in order for us to obtain a non-trivial solution. If $M > n-1$ that means that some circuit executions produce linear dependent equations so we need to throw them away until we get $n-1$ linear independent equations."
      ]
    },
    {
      "cell_type": "markdown",
      "metadata": {},
      "source": [
        "### Building the quatum circuit"
      ]
    },
    {
      "cell_type": "markdown",
      "metadata": {},
      "source": [
        "The algorithm circuit is given by the following figure"
      ]
    },
    {
      "cell_type": "markdown",
      "metadata": {},
      "source": [
        "![png](simon_algoritm_circuit.png)"
      ]
    },
    {
      "cell_type": "markdown",
      "metadata": {},
      "source": [
        "Now we are ready to build the quantum circuit"
      ]
    },
    {
      "cell_type": "code",
      "execution_count": null,
      "metadata": {},
      "outputs": [],
      "source": [
        "def get_simons_algorithm_circuit(oracle: QuantumCircuit) -> QuantumCircuit:\n",
        "    n_qubits = oracle.qubit_count\n",
        "    bit_length = n_qubits // 2\n",
        "    circuit = QuantumCircuit(n_qubits, cbit_count=n_qubits)\n",
        "\n",
        "    for i in range(bit_length):\n",
        "        circuit.add_H_gate(i)\n",
        "    \n",
        "    circuit.extend(oracle)\n",
        "    \n",
        "    for i in range(bit_length):\n",
        "        circuit.add_H_gate(i)\n",
        "    \n",
        "    return circuit"
      ]
    },
    {
      "cell_type": "code",
      "execution_count": null,
      "metadata": {},
      "outputs": [
        {
          "name": "stdout",
          "output_type": "stream",
          "text": [
            "   ___     ___     ___  \n",
            "  | H |   |Mat|   | H | \n",
            "--|0  |---|2  |---|3  |-\n",
            "  |___|   |   |   |___| \n",
            "   ___    |   |    ___  \n",
            "  | H |   |   |   | H | \n",
            "--|1  |---|   |---|4  |-\n",
            "  |___|   |   |   |___| \n",
            "          |   |         \n",
            "          |   |         \n",
            "----------|   |---------\n",
            "          |   |         \n",
            "          |   |         \n",
            "          |   |         \n",
            "----------|   |---------\n",
            "          |___|         \n"
          ]
        }
      ],
      "source": [
        "from quri_parts.circuit.utils.circuit_drawer import draw_circuit\n",
        "oracle, _ = get_simon_oracle(s=0b01, bit_length=2)\n",
        "algorithm_circuit = get_simons_algorithm_circuit(oracle)\n",
        "draw_circuit(algorithm_circuit)"
      ]
    },
    {
      "cell_type": "markdown",
      "metadata": {},
      "source": [
        "The circuit execution part utilizes a sampler. As the full algorithm requires at least $n-1$ circuit executions to obtain the solution for an $n$-bit bit string, we set the sampler shot count, `n_shot`, to be larger than $n-1$. Later when we implement the algorithm, we may pick $n-1$ linear independent equations out of `n_shot` equations."
      ]
    },
    {
      "cell_type": "markdown",
      "metadata": {},
      "source": [
        "We implement the function that performs circuit execution for obtaining the linear equations below. Note that the linear equations are represented by arrays of binary numbers. In QURI Parts, 1-dimensional binary arrays are represented by `BinaryArray` and 2-dimensional binary arrays are represented by `BinaryMatrix`. In the function below, a list of `BinaryArray`s are returned, where each `BinaryArray` represents the coefficient of a linear equation."
      ]
    },
    {
      "cell_type": "code",
      "execution_count": null,
      "metadata": {},
      "outputs": [],
      "source": [
        "from quri_parts.qulacs.sampler import create_qulacs_vector_sampler\n",
        "import random\n",
        "\n",
        "def execute_circuit(oracle: QuantumCircuit, n_shot: int=1000) -> list[BinaryArray]:    \n",
        "\n",
        "    n_qubits = oracle.qubit_count\n",
        "    bit_length = n_qubits // 2\n",
        "\n",
        "    algorithm = get_simons_algorithm_circuit(oracle)\n",
        "    sampler = create_qulacs_vector_sampler()\n",
        "    sampling_cnt = sampler(algorithm, n_shot)\n",
        "    eqs = []\n",
        "    for m, cnt in sampling_cnt.items():\n",
        "        eq = BinaryArray([int((m >> i) & 1) for i in range(bit_length)])\n",
        "        eqs.extend([eq] * cnt)\n",
        "    random.shuffle(eqs)\n",
        "    return eqs"
      ]
    },
    {
      "cell_type": "markdown",
      "metadata": {},
      "source": [
        "### Preparation before running the algorithm"
      ]
    },
    {
      "cell_type": "markdown",
      "metadata": {},
      "source": [
        "Before running the algorithm, we need more preparation. This is because we need to solve a set of linear equations to obtain the solution $s$. In order to do so, we need to make sure that the set of equations are linear independent. This means that we need to perform Gaussian elimination for binary equations. Here we implement the Gaussian elimination algorithm."
      ]
    },
    {
      "cell_type": "code",
      "execution_count": null,
      "metadata": {},
      "outputs": [],
      "source": [
        "from copy import deepcopy\n",
        "\n",
        "def eliminate_rest_by_pivot(\n",
        "    binary_matrix: BinaryMatrix, pivot: BinaryArray, start_row: int, col_label: int\n",
        ") -> BinaryMatrix:\n",
        "    assert pivot[col_label] == 1, pivot\n",
        "    mat = list(binary_matrix)\n",
        "    eliminated = mat[:start_row].copy()\n",
        "    for i in range(start_row, len(mat)):\n",
        "        if mat[i][col_label] == 1:\n",
        "            eliminated.append(mat[i] + pivot)\n",
        "        else:\n",
        "            eliminated.append(mat[i])\n",
        "    return BinaryMatrix(eliminated)\n",
        "\n",
        "\n",
        "def sort_rows(binary_matrix: BinaryMatrix, start_row: int) -> BinaryMatrix:\n",
        "    \"\"\"\n",
        "    start_row: first row to be swapped.\n",
        "    \"\"\"\n",
        "    mat = list(binary_matrix).copy()\n",
        "    fixed = mat[:start_row]\n",
        "    swapped = mat[start_row:].copy()\n",
        "    first_non_zero_list = [l.index(1) for l in swapped if 1 in l]\n",
        "    if len(first_non_zero_list) == 0:\n",
        "        return BinaryMatrix(fixed + swapped)\n",
        "    col_label = min(first_non_zero_list)\n",
        "    swapped = sorted(swapped, key=lambda a: list(a)[col_label], reverse=True)\n",
        "    return BinaryMatrix(fixed + swapped)\n",
        "\n",
        "\n",
        "def binary_gaussian_elimination(binary_matrix: BinaryMatrix) -> BinaryMatrix:\n",
        "    reduced_matrix = deepcopy(binary_matrix)\n",
        "    row = 0\n",
        "    col = 0\n",
        "    while row < len(binary_matrix) - 1:\n",
        "        reduced_matrix = sort_rows(reduced_matrix, row)\n",
        "        pivot = reduced_matrix[row]\n",
        "        while pivot[col] == 0 and col < len(binary_matrix[0]) - 1:\n",
        "            col += 1\n",
        "        if 1 not in pivot:\n",
        "            return reduced_matrix\n",
        "        reduced_matrix = eliminate_rest_by_pivot(\n",
        "            reduced_matrix, pivot, start_row=row+1, col_label=col\n",
        "        )\n",
        "        row += 1\n",
        "    return reduced_matrix"
      ]
    },
    {
      "cell_type": "markdown",
      "metadata": {},
      "source": [
        "Now, we are in a place to construct a solver that finds the secret bit string $s = s_{n-1}\\cdots s_{0}$ out of $n-1$ equations. The algorithm here is:\n",
        "1. Assume that one bit $s_i$ of the bit string is 1.\n",
        "2. Check whether or not removing the $i$-th column from the LHS matrix of the linear equation gives us an invertible $(n-1) \\times (n-1)$ square matrix.\n",
        "3. If yes, rewrite the linear equation as:\n",
        "    $$\n",
        "    \\begin{equation}\n",
        "        \\begin{split}\n",
        "            &x^{(1)}_0 s_0 + \\cdots + x^{(1)}_{n-1}s_{n-1} = x_i^{(1)} \\\\\n",
        "            &\\qquad \\qquad \\qquad \\vdots\\\\\n",
        "            &x^{(M)}_0 s_0 + \\cdots + x^{(M)}_{n-1}s_{n-1} = x_i^{(M)} \\\\\n",
        "        \\end{split}\n",
        "    \\end{equation}\n",
        "    $$\n",
        "    where $M = n-1$ and $x_i$ are not contained on the LHS of the equation. If not, find the $i$ that make the matrix \n",
        "    invertible.\n",
        "4. Invert the matrix M and obtain the solution $s = s_{n-1}\\cdots s_{i+1}\\;1\\;s_{i-1}\\cdots s_0$.\n",
        "5. We need to check whether the solution we obtain above satisfies the oracle function's requirement, i.e., check if $f(0) = f(s)$.\n",
        "6. If $s$ does not satisfy the oracle function's requirement, the correction should be $s = 0$.\n",
        "\n",
        "Given the above description, let's implement the algorithm. In QURI Parts, the binary matrix inversion is implemented in `quri_parts.core.utils.binary_field`. We combine it with the Gaussian elimination function we implemented above."
      ]
    },
    {
      "cell_type": "code",
      "execution_count": null,
      "metadata": {},
      "outputs": [],
      "source": [
        "from quri_parts.core.utils.binary_field import inverse\n",
        "\n",
        "def solve_binary_linear_equations(bin_matrix: BinaryMatrix, oracle_func: OracleFunction) -> BinaryArray:\n",
        "    trans = list(bin_matrix.transpose())\n",
        "    bit_len = len(bin_matrix[0])\n",
        "    zero = BinaryArray([0 for _ in range(bit_len-1)])\n",
        "    for i in range(len(trans)):\n",
        "        m = BinaryMatrix(trans[:i] + trans[i+1:]).transpose()\n",
        "        b = trans[i]\n",
        "        is_independent = zero not in binary_gaussian_elimination(m)\n",
        "        if is_independent:\n",
        "            sol_array = inverse(m) @ b\n",
        "            sol_list = list(sol_array)\n",
        "            sol_list.insert(i, 1)\n",
        "            sol_array = BinaryArray(sol_list)\n",
        "            if oracle_func(0) == oracle_func(sol_array.binary):\n",
        "                return sol_array.binary\n",
        "            return 0\n",
        "    else:\n",
        "        assert False, \"No independent solution\"\n"
      ]
    },
    {
      "cell_type": "markdown",
      "metadata": {},
      "source": [
        "### Running the algorithm"
      ]
    },
    {
      "cell_type": "markdown",
      "metadata": {},
      "source": [
        "We are finally in a place to implement the full algorithm. Here, we execute the circuit with a sampler with 1000 shots. Then, we iterate over the measurement result that represents 1000 linear equations until we find $n-1$ linear independent equations and solve it with the function above. The number of iterations should be approximate of the order of $O(n)$, so 1000 shots should be a lot more than enough."
      ]
    },
    {
      "cell_type": "code",
      "execution_count": null,
      "metadata": {},
      "outputs": [],
      "source": [
        "from quri_parts.core.utils.recording import recordable, Recorder\n",
        "from copy import deepcopy\n",
        "\n",
        "@recordable\n",
        "def run_algorithm(recorder: Recorder, oracle: QuantumCircuit, oracle_func: OracleFunction) -> int:\n",
        "    bit_length = oracle.qubit_count//2\n",
        "    binary_arrays = []\n",
        "    zero = BinaryArray([0 for _ in range(bit_length)])\n",
        "\n",
        "    def is_independent(\n",
        "        bin_array: BinaryArray, bin_arrays: list[BinaryArray], zero: BinaryArray\n",
        "    ) -> bool:\n",
        "        new_bin = bin_arrays + [bin_array]\n",
        "        return zero not in binary_gaussian_elimination(new_bin)\n",
        "\n",
        "    # Run algorithm\n",
        "    # Build the system of equations to be solved\n",
        "    oracle_accessed = 0\n",
        "\n",
        "    sampling_bin_arrays = execute_circuit(oracle)\n",
        "    for bin_array in sampling_bin_arrays:\n",
        "        oracle_accessed += 1\n",
        "        if bin_array == zero:\n",
        "            continue\n",
        "        if is_independent(bin_array, binary_arrays, zero):\n",
        "            binary_arrays.append(bin_array)\n",
        "        if len(binary_arrays) == bit_length - 1:\n",
        "            break\n",
        "    else:\n",
        "        raise RuntimeError(\"Algorithm failed.\")\n",
        "\n",
        "    recorder.info(\"oracle accessed\", oracle_accessed)\n",
        "    recorder.info(\"bin_arrays\", BinaryMatrix(deepcopy(binary_arrays)))\n",
        "\n",
        "    return solve_binary_linear_equations(BinaryMatrix(binary_arrays), oracle_func)\n",
        "    "
      ]
    },
    {
      "cell_type": "markdown",
      "metadata": {},
      "source": [
        "Let's make sure if the algorithm works as expected. Here, we assume $s = 011101$ and the input bit string's length is 6."
      ]
    },
    {
      "cell_type": "code",
      "execution_count": null,
      "metadata": {},
      "outputs": [
        {
          "data": {
            "text/plain": [
              "'011101'"
            ]
          },
          "execution_count": 11,
          "metadata": {},
          "output_type": "execute_result"
        }
      ],
      "source": [
        "from quri_parts.core.utils.recording import RecordSession, INFO\n",
        "\n",
        "session = RecordSession()\n",
        "session.set_level(INFO, run_algorithm)\n",
        "\n",
        "oracle, oracle_func = get_simon_oracle(s=0b011101, bit_length=6)\n",
        "with session.start():\n",
        "    sol = run_algorithm(oracle, oracle_func)\n",
        "\n",
        "bin(sol)[2:].zfill(6)"
      ]
    },
    {
      "cell_type": "markdown",
      "metadata": {},
      "source": [
        "### Complexity analysis"
      ]
    },
    {
      "cell_type": "markdown",
      "metadata": {},
      "source": [
        "Finally, we analyze how many calls to the oracle is required for one to obtain the solution for $s$. Here, we run the algorithm 100 times for the same oracle, and then see how many calls to the oracle are required to obtain the solution for each run."
      ]
    },
    {
      "cell_type": "code",
      "execution_count": null,
      "metadata": {},
      "outputs": [],
      "source": [
        "from quri_parts.core.utils.recording import RecordSession, INFO\n",
        "\n",
        "@recordable\n",
        "def get_statistics(recorder: Recorder, s: int, bit_length: int):\n",
        "    \n",
        "    oracle, oracle_func = get_simon_oracle(s, bit_length)\n",
        "    for _ in range(100):\n",
        "        session = RecordSession()\n",
        "        session.set_level(INFO, run_algorithm)\n",
        "        with session.start():\n",
        "            res = run_algorithm(oracle, oracle_func)\n",
        "            assert res == s\n",
        "\n",
        "        group, = session.get_records().get_history(run_algorithm)\n",
        "        oracle_accessed = group.entries[0].data[1]\n",
        "\n",
        "        recorder.info(\"accssed_number\", oracle_accessed)\n",
        "\n",
        "session = RecordSession()\n",
        "session.set_level(INFO, get_statistics)\n",
        "\n",
        "with session.start():\n",
        "    get_statistics(0b110101, 6)"
      ]
    },
    {
      "cell_type": "code",
      "execution_count": null,
      "metadata": {},
      "outputs": [
        {
          "data": {
            "text/plain": [
              "Counter({5: 37, 7: 22, 6: 20, 8: 8, 9: 6, 10: 5, 12: 2})"
            ]
          },
          "execution_count": 13,
          "metadata": {},
          "output_type": "execute_result"
        }
      ],
      "source": [
        "from collections import Counter\n",
        "group, = session.get_records().get_history(get_statistics)\n",
        "oracle_accessed_number = []\n",
        "\n",
        "for entry in group.entries:\n",
        "    oracle_accessed_number.append(entry.data[1])\n",
        "\n",
        "stats = Counter(oracle_accessed_number)\n",
        "stats"
      ]
    },
    {
      "cell_type": "code",
      "execution_count": null,
      "metadata": {},
      "outputs": [
        {
          "data": {
            "image/png": "[encoded data removed]",
            "text/plain": [
              "<Figure size 640x480 with 1 Axes>"
            ]
          },
          "metadata": {},
          "output_type": "display_data"
        }
      ],
      "source": [
        "import seaborn as sns\n",
        "import matplotlib.pyplot as plt\n",
        "\n",
        "ax = sns.barplot(stats)\n",
        "ax.set(\n",
        "    xlabel='Number of times the oracle is called',\n",
        "    ylabel=\"Number of runs that succeed with \\n n calls to the oracle\",\n",
        "    title=\"Statistics of number of access to the problem oracle\"\n",
        ")\n",
        "plt.show()"
      ]
    }
  ],
  "metadata": {
    "language_info": {
      "name": "python",
      "pygments_lexer": "ipython3"
    }
  },
  "nbformat": 4,
  "nbformat_minor": 2
}
