{
  "cells": [
    {
      "cell_type": "markdown",
      "metadata": {},
      "source": [
        "# Quantum Selected Configuration Interaction\n"
      ]
    },
    {
      "cell_type": "markdown",
      "metadata": {},
      "source": [
        "<div class=\"alert alert-info\">\n",
        "    QSCI is released under a custom source available license. This prohibits commercial use. The full license can be found <a href=\"https://github.com/QunaSys/quri-parts-qsci/blob/main/LICENSE\">here</a>.\n",
        "</div>"
      ]
    },
    {
      "cell_type": "markdown",
      "metadata": {},
      "source": [
        "In this tutorial we will introduce Quantum Selected Configuration Interaction (QSCI) from the quri-parts-qsci package in the context of early fault tolerant quantum computing (EFTQC)\n",
        "\n",
        "## Overview\n",
        "\n",
        "[QSCI](https://arxiv.org/abs/2302.11320) is a quantum algorithm that produces approximate ground states of some quantum Hamiltonian. This is done by sampling a trial wave-function that is believed to be an approximate solution to the problem and then reconstructing the Hamiltonian in the space spanned by the most significant computational basis states sampled.\n",
        "\n",
        "- QSCI is sometimes considered an EFTQC algorithm because it benefits from using deep ansatze\n",
        "- The accuracy of QSCI comes from the matrix diagonalization which is performed on classical hardware\n",
        "\n",
        "In this notebook, we will use qsci to solve a small quantum chemistry problem. First we use coupled cluster (CC) theory to obtain an approximate solution, which we encode with the unitary coupled cluster singles and doubles (UCCSD) ansatz. Finally we will estimate the fidelity of the final state obtained by real devices. The flow and major take-aways from this notebook will be\n",
        "\n",
        "1. Using `pyscf` to define an small molecule and obtain its qubit Hamiltonian as well as the CC ground state\n",
        "2. Importing the `TrotterUCCSD` ansatz from `quri_parts.openfermion.ansatz` and populating its variational parameters using the CC solution\n",
        "3. By using the `TrotterUCCSD` ansatz state, use `qsci` from `quri_parts_qsci` to obtain the QSCI ground state and ground state energy\n",
        "4. Using QURI Parts' transpiler library to transpile the resulting circuits\n",
        "5. Estimating the fidelity using QURI VM\n",
        "\n",
        "To check out the source-code we use for qsci please have a look at our [open source repository](https://github.com/QunaSys/quri-parts-qsci/)\n",
        "\n",
        "## Prerequisites\n",
        "\n",
        "Although this notebook is pretty self-contained, users will benefit from first studying\n",
        "\n",
        "- [Molecular Hamiltonian generation](https://quri-parts.qunasys.com/docs/tutorials/quantum-chemistry/hamiltonian/hamiltonian/)\n",
        "- [Sampling estimation](https://quri-parts.qunasys.com/docs/tutorials/basics/sampling_estimation/)"
      ]
    },
    {
      "cell_type": "markdown",
      "metadata": {},
      "source": [
        "## Setup and methodology testing\n",
        "\n",
        "We start with a simple problem to test our setup and methodology. This is more like a sanity check than a real test, but we want to\n",
        "\n",
        "* Define a $\\textup{H}_2$ molecule\n",
        "* Verify that CC solution works\n",
        "* Verify that the trotterUCCSD solution (almost) replicates the CC energy\n",
        "* Verify that QSCI improves on the CC energy\n",
        "\n",
        "We first define the molecule below using `pyscf` and then using the `openfermion` submodule of `quri_parts` we convert it from a fermionic Hamiltonian to one that can operate on qubits. A lot of steps, such as applying the Jordan-Wigner transformation are performed for us automatically. If you are interested in learning about them in more detail, please see the QURI Parts documentation on the [fermion-to-qubit mapping](https://quri-parts.qunasys.com/docs/tutorials/basics/mapping/) and [molecular Hamiltonians](https://quri-parts.qunasys.com/docs/tutorials/quantum-chemistry/hamiltonian/hamiltonian/)."
      ]
    },
    {
      "cell_type": "code",
      "execution_count": null,
      "metadata": {},
      "outputs": [
        {
          "name": "stdout",
          "output_type": "stream",
          "text": [
            "The exact ground state energy is: -1.1011503302326187\n",
            "The coupled cluster singles and doubles energy is: -1.1011503302444787\n"
          ]
        }
      ],
      "source": [
        "import numpy as np\n",
        "\n",
        "from pyscf import gto, scf, cc\n",
        "# Note: Import paths simplified in quri-parts >= 0.22.0\n",
        "from quri_parts.core import get_sparse_matrix\n",
        "from quri_parts.pyscf import get_spin_mo_integrals_from_mole\n",
        "from quri_parts.openfermion import get_qubit_mapped_hamiltonian, TrotterUCCSD\n",
        "\n",
        "mole = gto.M(atom=\"H 0 0 0; H 0 0 1\")\n",
        "mf = scf.RHF(mole).run(verbose=0)\n",
        "hamiltonian, mapping = get_qubit_mapped_hamiltonian(\n",
        "    *get_spin_mo_integrals_from_mole(mole, mf.mo_coeff)\n",
        ")\n",
        "\n",
        "\n",
        "vals, vecs = np.linalg.eigh(get_sparse_matrix(hamiltonian).toarray())\n",
        "\n",
        "casci_gs_e = np.min(vals)\n",
        "ccsd = cc.CCSD(mf).run(verbose=0)\n",
        "\n",
        "print(\"The exact ground state energy is:\", casci_gs_e)\n",
        "print(\"The coupled cluster singles and doubles energy is:\", ccsd.e_tot)"
      ]
    },
    {
      "cell_type": "markdown",
      "metadata": {},
      "source": [
        "The coupled cluster energy is almost identical to the exact ground state energy. This is not surprising for a small problem like $\\textup{H}_2$, but in general we expect there to be some error in the CCSD result."
      ]
    },
    {
      "cell_type": "markdown",
      "metadata": {},
      "source": [
        "### TrotterUCCSD\n",
        "\n",
        "In QURI Parts the `TrotterUCCSD` ansatz is available. It is a quantum circuit version of the CCSD state which is generated by applying an excitation operator to a reference state (usually the Hartree-Fock state). The singles and doubles cluster operators\n",
        "$$\n",
        "\\hat{T}_1 = \\sum_i \\sum_a t^i_a \\hat{a}_a^\\dagger\\hat{a}_i\n",
        "$$\n",
        "$$\n",
        "\\hat{T}_2 = \\frac{1}{4} \\sum_i \\sum_a t^{ij}_{ab} \\hat{a}_a^\\dagger\\hat{a}_b^\\dagger\\hat{a}_j\\hat{a}_i\n",
        "$$\n",
        "are used to generate the excitation operator\n",
        "$$\n",
        "e^T \\approx e^{\\hat{T}_1 + \\hat{T}_2}\n",
        "$$\n",
        "in CCSD. The RHS is an approximation because $T$ may include higher order terms representing triple or higher excitations, which are not accounted for in CCSD. The ground state energy in coupled cluster theory is then\n",
        "$$\n",
        "\\braket{\\Psi_0|e^{-\\hat{T}_1-\\hat{T}_2}\\hat{H}e^{\\hat{T}_1 + \\hat{T}_2}|\\Psi_0} = E_\\textup{CCSD}\n",
        "$$\n",
        "\n",
        "The excitation operator generates a set of states from a set of excited reference states, which must be orthogonal. This condition taken together with the above equation results in a set of non-linear algebraic equations, the coupled cluster equations, which are solved in order to obtain tensors $t^i_a$ and $t^{ij}_{ab}$ so as to minimize the ground state energy.\n",
        "\n",
        "The Unitary coupled cluster (UCC) ansatz constructs unitary operators by taking a modified approach using anti-Hermitian cluster operators, constructed from the cluster operators from CC theory. Generically, the UCC energy is then obtained as\n",
        "$$\n",
        "\\braket{\\Psi_0|e^{-\\hat{T}+\\hat{T}^\\dagger}\\hat{H}e^{\\hat{T} - \\hat{T}^\\dagger}|\\Psi_0} = E_\\textup{UCC},\n",
        "$$\n",
        "and $\\hat{T}$ may again be truncated to include only singles and doubles if needed. The excitation operator can be generated through a Trotter decomposition, [which can be realized as a quantum circuit ansatz](https://pubs.acs.org/doi/10.1021/acs.jpca.3c02781). That is the `TrotterUCCSD` ansatz, which we will use in the following."
      ]
    },
    {
      "cell_type": "markdown",
      "metadata": {},
      "source": [
        "First we need a function that can convert the one-body and two-body cluster operators into parameters for the `TrotterUCCSD` ansatz."
      ]
    },
    {
      "cell_type": "code",
      "execution_count": null,
      "metadata": {},
      "outputs": [],
      "source": [
        "from typing import Sequence\n",
        "\n",
        "import numpy.typing as npt\n",
        "\n",
        "\n",
        "def ccsd_param_to_circuit_param(\n",
        "    uccsd: TrotterUCCSD,\n",
        "    n_electrons: int,\n",
        "    t1: npt.NDArray[np.complex128],\n",
        "    t2: npt.NDArray[np.complex128],\n",
        ") -> Sequence[float]:\n",
        "    in_param_list = uccsd.param_mapping.in_params\n",
        "    param_list = []\n",
        "\n",
        "    for param in in_param_list:\n",
        "        name_split = param.name.split(\"_\")\n",
        "        if name_split[0] == \"s\":\n",
        "            _, i_str, j_str = name_split\n",
        "            i, j = int(i_str), int(j_str) - n_electrons // 2\n",
        "            param_list.append(t1[i, j])\n",
        "\n",
        "        if name_split[0] == \"d\":\n",
        "            _, i_str, j_str, a_str, b_str = name_split\n",
        "            i, j, b, a = (\n",
        "                int(i_str),\n",
        "                int(j_str),\n",
        "                int(b_str) - n_electrons // 2,\n",
        "                int(a_str) - n_electrons // 2,\n",
        "            )\n",
        "            param_list.append(t2[i, j, a, b])\n",
        "    return param_list"
      ]
    },
    {
      "cell_type": "markdown",
      "metadata": {},
      "source": [
        "We specify the numer of trotter steps and other metaparameters in the trotter UCCSD ansatz below"
      ]
    },
    {
      "cell_type": "code",
      "execution_count": null,
      "metadata": {},
      "outputs": [],
      "source": [
        "TROTTER_STEPS = 1\n",
        "USE_SINGLES = True\n",
        "REDUCE_PARAMETER = True"
      ]
    },
    {
      "cell_type": "markdown",
      "metadata": {},
      "source": [
        "Then the following code will generate the ansatz prepared with parameters obtained using coupled cluster theory"
      ]
    },
    {
      "cell_type": "code",
      "execution_count": null,
      "metadata": {},
      "outputs": [],
      "source": [
        "uccsd = TrotterUCCSD(\n",
        "    mole.nao * 2,\n",
        "    mole.nelectron,\n",
        "    trotter_number=TROTTER_STEPS,\n",
        "    use_singles=USE_SINGLES,\n",
        "    singlet_excitation=REDUCE_PARAMETER,\n",
        ")\n",
        "param = ccsd_param_to_circuit_param(uccsd, mole.nelectron, ccsd.t1, ccsd.t2)"
      ]
    },
    {
      "cell_type": "markdown",
      "metadata": {},
      "source": [
        "Let's check the energy obtained by the Trotterized UCCSD"
      ]
    },
    {
      "cell_type": "code",
      "execution_count": null,
      "metadata": {},
      "outputs": [
        {
          "name": "stdout",
          "output_type": "stream",
          "text": [
            "The coupled cluster singles and doubles energy is: -1.1011503302444787\n",
            "The Trotter unitary coupled cluster singles and doubles energy is: -1.1011464405909297\n"
          ]
        }
      ],
      "source": [
        "from quri_parts.qulacs.estimator import (\n",
        "    create_qulacs_vector_concurrent_parametric_estimator,\n",
        ")\n",
        "from quri_parts.core import quantum_state, apply_circuit # >= 0.22.0\n",
        "\n",
        "hf_state = quantum_state(mole.nao * 2, bits=2**mole.nelectron - 1)\n",
        "estimator = create_qulacs_vector_concurrent_parametric_estimator()\n",
        "state = apply_circuit(uccsd, hf_state)\n",
        "estimate = estimator(hamiltonian, state, [param])\n",
        "print(\"The coupled cluster singles and doubles energy is:\", ccsd.e_tot)\n",
        "print(\n",
        "    \"The Trotter unitary coupled cluster singles and doubles energy is:\",\n",
        "    estimate[0].value.real,\n",
        ")"
      ]
    },
    {
      "cell_type": "markdown",
      "metadata": {},
      "source": [
        "Here we see that the Trotter UCCSD energy is very close to the CCSD energy."
      ]
    },
    {
      "cell_type": "markdown",
      "metadata": {},
      "source": [
        "### Noise\n",
        "\n",
        "Now it's time to look at how actual quantum devices will behave. For this we introduce noise.\n",
        "\n",
        "We will use QURI VM for this. QURI VM allows us to define abstract virtual machines that can run QURI Parts circuits. We can specify device type with error rates as well as architecture details such as error correction.\n",
        "\n",
        "The VM itself contains a noisy estimator based on Qulacs for the purposes of emulation. It can be called using the `estimate` method."
      ]
    },
    {
      "cell_type": "markdown",
      "metadata": {},
      "source": [
        "Now, let's define a partially error corrected STAR device. This is an error corrected device so we will set the error rate, but for shallow circuits the effective error rate should be very modest."
      ]
    },
    {
      "cell_type": "code",
      "execution_count": null,
      "metadata": {},
      "outputs": [],
      "source": [
        "from quri_vm import VM\n",
        "\n",
        "from quri_parts.backend.devices import star_device\n",
        "from quri_parts.backend.units import TimeUnit, TimeValue\n",
        "\n",
        "ERROR_RATE = 1e-4\n",
        "\n",
        "star_vm = VM.from_device_prop(\n",
        "    star_device.generate_device_property(\n",
        "        qubit_count=4,\n",
        "        code_distance=7,\n",
        "        qec_cycle=TimeValue(1, TimeUnit.MICROSECOND),\n",
        "        physical_error_rate=ERROR_RATE\n",
        "    )\n",
        ")"
      ]
    },
    {
      "cell_type": "markdown",
      "metadata": {},
      "source": [
        "Let's try to get an estimate of the UCCSD energy using the above VM"
      ]
    },
    {
      "cell_type": "code",
      "execution_count": null,
      "metadata": {},
      "outputs": [
        {
          "name": "stdout",
          "output_type": "stream",
          "text": [
            "The coupled cluster singles and doubles energy is: -1.1011503302444787\n",
            "The noisy Trotter unitary coupled cluster singles and doubles energy is: -1.100903247039786\n"
          ]
        }
      ],
      "source": [
        "hf_state = quantum_state(mole.nao * 2, bits=2**mole.nelectron - 1)\n",
        "state = apply_circuit(uccsd, hf_state)\n",
        "bound_state = state.bind_parameters(param)\n",
        "estimate = star_vm.estimate(hamiltonian, bound_state)\n",
        "print(\"The coupled cluster singles and doubles energy is:\", ccsd.e_tot)\n",
        "print(\n",
        "    \"The noisy Trotter unitary coupled cluster singles and doubles energy is:\",\n",
        "    estimate.value.real,\n",
        ")"
      ]
    },
    {
      "cell_type": "markdown",
      "metadata": {},
      "source": [
        "The error is clearly high compared to previously, but it's not too bad"
      ]
    },
    {
      "cell_type": "markdown",
      "metadata": {},
      "source": [
        "### QSCI\n",
        "\n",
        "We then run [qsci](https://arxiv.org/abs/2302.11320). To run it we have to specify the number of shots, the Hamiltonian, approximate ground states to draw samples from and the number of states to pick out. QSCI is especially sensitive to the number of states picked out as this both determines the accuracy of the end result as well as the complexity of the classical diagonalization. $\\textup{H}_2$ has 2 electrons and in the STO-3g atomic orbital basis therefore 4 molecular orbitals, which each are represented by a qubit.\n",
        "\n",
        "Since the logical value of each bit represents its occupancy, the number of states of interest is limited to those with a total occupation of $2$. For this reason, even though there are 16 basis states available in the quantum register, only 6 of them are relevant. Let us see how far we can get with only 4 of those 6 states."
      ]
    },
    {
      "cell_type": "code",
      "execution_count": null,
      "metadata": {},
      "outputs": [],
      "source": [
        "BASIS_STATES = 4\n",
        "TOTAL_SHOTS = 50000"
      ]
    },
    {
      "cell_type": "markdown",
      "metadata": {},
      "source": [
        "We will use the sampler from the virtual machine"
      ]
    },
    {
      "cell_type": "code",
      "execution_count": null,
      "metadata": {},
      "outputs": [],
      "source": [
        "from typing import Iterable\n",
        "\n",
        "from quri_parts.circuit import ImmutableQuantumCircuit\n",
        "from quri_parts.core.sampling import ConcurrentSampler, MeasurementCounts\n",
        "\n",
        "\n",
        "def create_concurrent_sampler_from_vm(\n",
        "    vm: VM,\n",
        ") -> ConcurrentSampler:\n",
        "    \"\"\"Create a simple :class:`~ConcurrentSampler` using a\n",
        "    :class:`~SamplingBackend`.\"\"\"\n",
        "\n",
        "    def sampler(\n",
        "        shot_circuit_pairs: Iterable[tuple[ImmutableQuantumCircuit, int]]\n",
        "    ) -> Iterable[MeasurementCounts]:\n",
        "        jobs = [\n",
        "            vm.sample(circuit, n_shots) for circuit, n_shots in shot_circuit_pairs\n",
        "        ]\n",
        "        return map(lambda j: j, jobs)\n",
        "\n",
        "    return sampler"
      ]
    },
    {
      "cell_type": "code",
      "execution_count": null,
      "metadata": {},
      "outputs": [],
      "source": [
        "from quri_parts_qsci import qsci\n",
        "\n",
        "sampler = create_concurrent_sampler_from_vm(star_vm)\n",
        "bound_state = state.bind_parameters(param)\n",
        "eigs, _ = qsci(\n",
        "    hamiltonian, [bound_state], sampler, total_shots=TOTAL_SHOTS, num_states_pick_out=4\n",
        ")"
      ]
    },
    {
      "cell_type": "markdown",
      "metadata": {},
      "source": [
        "So to summarize"
      ]
    },
    {
      "cell_type": "code",
      "execution_count": null,
      "metadata": {},
      "outputs": [
        {
          "name": "stdout",
          "output_type": "stream",
          "text": [
            "The exact GS energy is -1.1011503302326187\n",
            "The coupled cluster energy is -1.1011503302444787, with relative error 1.0770717651098494e-11\n",
            "The Trotter UCCSD energy is -1.100903247039786, with relative error 0.0002243864312155841\n",
            "The qsci gs energy is -1.1011503302326187, with relative error 0.0\n"
          ]
        }
      ],
      "source": [
        "err = lambda x: abs(x / casci_gs_e - 1)\n",
        "print(f\"The exact GS energy is {casci_gs_e}\")\n",
        "print(\n",
        "    f\"The coupled cluster energy is {ccsd.e_tot}, with relative error {err(ccsd.e_tot)}\"\n",
        ")\n",
        "print(\n",
        "    f\"The Trotter UCCSD energy is {estimate.value.real}, with relative error {err(estimate.value.real)}\"\n",
        ")\n",
        "print(f\"The qsci gs energy is {eigs[0]}, with relative error {err(eigs[0])}\")"
      ]
    },
    {
      "cell_type": "markdown",
      "metadata": {},
      "source": [
        "In conclusion, for this simple system coupled cluster is enough to determine the GS energy with virtually no error. The Trotterized quantum gate version of the ansatz, i.e. Trotter UCCSD is still very accurate for this test case, but we can see that there is a finite error. Once we include noise, the error starts to become more noticable, however, it still produces a good enough quantum state to be used by QSCI later. QSCI then finds a ground state with no error, even though the number of reference states sampled is 2/3 the total Hilbert space and even though we included noise in the sampling simulation."
      ]
    },
    {
      "cell_type": "markdown",
      "metadata": {},
      "source": [
        "## $\\textup{H}_N$\n",
        "\n",
        "Let's try it again with a more interesting example, and let's add more qubits.\n",
        "\n",
        "First we define functions that we will need. For convenience, we again duplicate the function that gives us circuit parameters from CCSD."
      ]
    },
    {
      "cell_type": "code",
      "execution_count": null,
      "metadata": {},
      "outputs": [],
      "source": [
        "import numpy.typing as npt\n",
        "import numpy as np\n",
        "\n",
        "from typing import Sequence\n",
        "from quri_parts.openfermion import TrotterUCCSD # >= 0.22.0\n",
        "\n",
        "def ccsd_param_to_circuit_param(\n",
        "    uccsd: TrotterUCCSD,\n",
        "    n_electrons: int,\n",
        "    t1: npt.NDArray[np.complex128],\n",
        "    t2: npt.NDArray[np.complex128],\n",
        ") -> Sequence[float]:\n",
        "    in_param_list = uccsd.param_mapping.in_params\n",
        "    param_list = []\n",
        "\n",
        "    for param in in_param_list:\n",
        "        name_split = param.name.split(\"_\")\n",
        "        if name_split[0] == \"s\":\n",
        "            _, i_str, j_str = name_split\n",
        "            i, j = int(i_str), int(j_str) - n_electrons // 2\n",
        "            param_list.append(t1[i, j])\n",
        "\n",
        "        if name_split[0] == \"d\":\n",
        "            _, i_str, j_str, a_str, b_str = name_split\n",
        "            i, j, b, a = (\n",
        "                int(i_str),\n",
        "                int(j_str),\n",
        "                int(b_str) - n_electrons // 2,\n",
        "                int(a_str) - n_electrons // 2,\n",
        "            )\n",
        "            param_list.append(t2[i, j, a, b])\n",
        "    return param_list"
      ]
    },
    {
      "cell_type": "markdown",
      "metadata": {},
      "source": [
        "We define metaparameters both for the `TrotterUCCSD` ansatz, but also `qsci` function."
      ]
    },
    {
      "cell_type": "code",
      "execution_count": null,
      "metadata": {},
      "outputs": [],
      "source": [
        "TROTTER_STEPS = 1\n",
        "USE_SINGLES = True\n",
        "REDUCE_PARAMETER = True\n",
        "BASIS_STATES = 64"
      ]
    },
    {
      "cell_type": "markdown",
      "metadata": {},
      "source": [
        "The following function let's us obtain the Hamiltonian as well as derived objects such as the CCSD object, etc."
      ]
    },
    {
      "cell_type": "code",
      "execution_count": null,
      "metadata": {},
      "outputs": [],
      "source": [
        "from pyscf import gto, scf, cc\n",
        "from scipy.sparse.linalg import eigsh\n",
        "# Note: Import paths simplified in quri-parts >= 0.22.0\n",
        "from quri_parts.core import get_sparse_matrix, Operator\n",
        "from quri_parts.pyscf import get_spin_mo_integrals_from_mole\n",
        "from quri_parts.openfermion import get_qubit_mapped_hamiltonian\n",
        "from quri_parts.core import quantum_state, apply_circuit\n",
        "from quri_parts.core.state import QuantumState\n",
        "\n",
        "from quri_parts.chem.mol import ActiveSpace\n",
        "\n",
        "def get_hn_hamiltonian(n) -> tuple[float, cc.ccsd.CCSD, QuantumState, Operator]:\n",
        "    n_active_ele = n\n",
        "    n_active_orb = n\n",
        "    active_space = ActiveSpace(n_active_ele=n_active_ele, n_active_orb=n_active_orb)\n",
        "\n",
        "    mole = gto.M(atom=\"H 0 0 0\" + \"\".join([f\"; H 0 0 {i}\" for i in range(1, n)]))\n",
        "    mf = scf.RHF(mole).run(verbose=0)\n",
        "    hamiltonian, _ = get_qubit_mapped_hamiltonian(\n",
        "        *get_spin_mo_integrals_from_mole(mole, mf.mo_coeff, active_space)\n",
        "    )\n",
        "    sps_hamiltonian = get_sparse_matrix(hamiltonian)\n",
        "    gse = eigsh(sps_hamiltonian, k=1, which=\"SA\")[0][0]\n",
        "\n",
        "    ccsd = cc.CCSD(mf).run(verbose=0)\n",
        "\n",
        "    uccsd = TrotterUCCSD(\n",
        "        n_active_orb * 2,\n",
        "        n_active_ele,\n",
        "        trotter_number=TROTTER_STEPS,\n",
        "        use_singles=USE_SINGLES,\n",
        "        singlet_excitation=REDUCE_PARAMETER,\n",
        "    )\n",
        "    param = ccsd_param_to_circuit_param(uccsd, n_active_ele, ccsd.t1, ccsd.t2)\n",
        "    hf_state = quantum_state(n_active_orb * 2, bits=2**n_active_ele - 1)\n",
        "    state = apply_circuit(uccsd, hf_state)\n",
        "    bound_state = state.bind_parameters(param)\n",
        "\n",
        "    return gse, ccsd, bound_state, hamiltonian"
      ]
    },
    {
      "cell_type": "markdown",
      "metadata": {},
      "source": [
        "Let's quickly test it all out before moving on. We can again use $\\textup{H}_2$ for this."
      ]
    },
    {
      "cell_type": "code",
      "execution_count": null,
      "metadata": {},
      "outputs": [
        {
          "name": "stdout",
          "output_type": "stream",
          "text": [
            "The FCI GS energy is -1.1011503302326164\n",
            "The coupled cluster energy is -1.1011503302444787, with relative error 1.0772716052542819e-11\n",
            "The Trotter UCCSD energy is -1.100903247039786, with relative error 0.0002243864312135857\n",
            "The qsci gs energy is -1.1011503302326187, with relative error 1.9984014443252818e-15\n"
          ]
        }
      ],
      "source": [
        "from quri_parts_qsci import qsci\n",
        "\n",
        "gse, ccsd, bound_state, hamiltonian = get_hn_hamiltonian(2)\n",
        "gse_uccsd = star_vm.estimate(hamiltonian, bound_state).value.real\n",
        "gse_qsci = qsci(\n",
        "    hamiltonian,\n",
        "    [bound_state],\n",
        "    sampler,\n",
        "    total_shots=TOTAL_SHOTS,\n",
        "    num_states_pick_out=BASIS_STATES,\n",
        ")[0][0]\n",
        "\n",
        "\n",
        "err = lambda x: abs(x / gse - 1)\n",
        "print(f\"The FCI GS energy is {gse}\")\n",
        "print(\n",
        "    f\"The coupled cluster energy is {ccsd.e_tot}, with relative error {err(ccsd.e_tot)}\"\n",
        ")\n",
        "print(f\"The Trotter UCCSD energy is {gse_uccsd}, with relative error {err(gse_uccsd)}\")\n",
        "print(f\"The qsci gs energy is {gse_qsci}, with relative error {err(gse_qsci)}\")"
      ]
    },
    {
      "cell_type": "markdown",
      "metadata": {},
      "source": [
        "### Resource estimation\n",
        "\n",
        "The noise model we used earlier was mainly in place to illustrate how to build noise models in `quri_parts`. However, we can utilize QURI VM to also elucidate on the fidelity obtained with real device parameters. These devices will have error rates that are different from the `ERROR_RATE` we defined earlier and the resulting fidelity will depend on whether the architecture performs error correction or not.\n",
        "\n",
        "We will look at the fidelity that we can expect with the STAR architecture for this example circuit and compare it to a NISQ architecture. We use the`VM` to obtain circuit fidelity estimates.\n",
        "\n",
        "`VM` contains both a transpiler, estimator and noise simulator depending on the device chosen, making it a very convenient tool. We will illustrate it below."
      ]
    },
    {
      "cell_type": "code",
      "execution_count": null,
      "metadata": {},
      "outputs": [
        {
          "name": "stdout",
          "output_type": "stream",
          "text": [
            "Circuit analysis obtained using STAR architecture with physical error rate: 1e-06\n",
            "AnalyzeResult(lowering_level=<LoweringLevel.ArchLogicalCircuit: 1>,\n",
            "              qubit_count=4,\n",
            "              gate_count=320,\n",
            "              depth=174,\n",
            "              latency=TimeValue(value=2716000.0, unit=<TimeUnit.NANOSECOND>),\n",
            "              fidelity=0.9999978666446765)\n",
            "Circuit analysis obtained using STAR architecture with physical error rate: 1e-05\n",
            "AnalyzeResult(lowering_level=<LoweringLevel.ArchLogicalCircuit: 1>,\n",
            "              qubit_count=4,\n",
            "              gate_count=320,\n",
            "              depth=174,\n",
            "              latency=TimeValue(value=2716000.0, unit=<TimeUnit.NANOSECOND>),\n",
            "              fidelity=0.9999784137297987)\n",
            "Circuit analysis obtained using STAR architecture with physical error rate: 0.0001\n",
            "AnalyzeResult(lowering_level=<LoweringLevel.ArchLogicalCircuit: 1>,\n",
            "              qubit_count=4,\n",
            "              gate_count=320,\n",
            "              depth=174,\n",
            "              latency=TimeValue(value=2716000.0, unit=<TimeUnit.NANOSECOND>),\n",
            "              fidelity=0.9972588905235101)\n",
            "Circuit analysis obtained using STAR architecture with physical error rate: 0.001\n",
            "AnalyzeResult(lowering_level=<LoweringLevel.ArchLogicalCircuit: 1>,\n",
            "              qubit_count=4,\n",
            "              gate_count=320,\n",
            "              depth=174,\n",
            "              latency=TimeValue(value=2716000.0, unit=<TimeUnit.NANOSECOND>),\n",
            "              fidelity=1.0035485401402494e-11)\n",
            "Circuit analysis obtained using NISQ architecture:\n",
            "AnalyzeResult(lowering_level=<LoweringLevel.ArchLogicalCircuit: 1>,\n",
            "              qubit_count=4,\n",
            "              gate_count=678,\n",
            "              depth=439,\n",
            "              latency=TimeValue(value=216000.0, unit=<TimeUnit.NANOSECOND>),\n",
            "              fidelity=0.9643493462836475)\n"
          ]
        }
      ],
      "source": [
        "from pprint import pprint\n",
        "\n",
        "from quri_parts.backend.devices import nisq_spcond_lattice, star_device\n",
        "from quri_parts.backend.units import TimeValue, TimeUnit\n",
        "from quri_parts.circuit.topology import SquareLattice\n",
        "from quri_vm import VM\n",
        "\n",
        "def get_star_vm(p: float) -> VM:\n",
        "    return VM.from_device_prop(\n",
        "        star_device.generate_device_property(\n",
        "            qubit_count=4,\n",
        "            code_distance=7,\n",
        "            qec_cycle=TimeValue(1, TimeUnit.MICROSECOND),\n",
        "            physical_error_rate=p\n",
        "        )\n",
        "    )\n",
        "\n",
        "error_rates = np.logspace(-6,-3,4,base=10)\n",
        "star_vms = [get_star_vm(p) for p in error_rates]\n",
        "\n",
        "\n",
        "nisq_vm = VM.from_device_prop(\n",
        "    nisq_spcond_lattice.generate_device_property(\n",
        "        lattice=SquareLattice(4, 4),\n",
        "        native_gates_1q=(\"RZ\", \"SqrtX\", \"X\"),\n",
        "        native_gates_2q=(\"CNOT\",),\n",
        "        gate_error_1q=1e-5,\n",
        "        gate_error_2q=1e-4,\n",
        "        gate_error_meas=1e-3,\n",
        "        gate_time_1q=TimeValue(60, TimeUnit.NANOSECOND),\n",
        "        gate_time_2q=TimeValue(660, TimeUnit.NANOSECOND),\n",
        "        gate_time_meas=TimeValue(1.4, TimeUnit.MICROSECOND),\n",
        "    )\n",
        ")\n",
        "\n",
        "for star_vm, p in zip(star_vms, error_rates):\n",
        "    print(\n",
        "        \"Circuit analysis obtained using STAR architecture with physical error rate:\", p\n",
        "    )\n",
        "    pprint(star_vm.analyze(bound_state.circuit))\n",
        "print(\n",
        "    \"Circuit analysis obtained using NISQ architecture:\"\n",
        ")\n",
        "pprint(nisq_vm.analyze(bound_state.circuit))"
      ]
    },
    {
      "cell_type": "markdown",
      "metadata": {},
      "source": [
        "Now lets see what happens when we try to solve some more complicated problems using the `TrotterUCCSD` ansatz. In general the circuits will be deeper as more terms in the CCSD solution result in more unitary rotations which must be encoded in quantum circuits, thus resulting in deeper circuits.\n",
        "\n",
        "Below we will do a series of calculations, the first is to obtain the `TrotterUCCSD` energy and error then compare it with that of `qsci`. These calculations are carried out using the `star_vm`."
      ]
    },
    {
      "cell_type": "code",
      "execution_count": null,
      "metadata": {},
      "outputs": [
        {
          "name": "stdout",
          "output_type": "stream",
          "text": [
            "The Trotter UCCSD energy of H2 molecule is -1.09871873207537, with absolute error 0.0024315981572449186.\n",
            "The qsci gs energy is -1.1011503302326187, with absolute error 3.774758283725532e-15\n"
          ]
        },
        {
          "name": "stdout",
          "output_type": "stream",
          "text": [
            "The Trotter UCCSD energy of H4 molecule is -2.13224806720042, with absolute error 0.03413938143433892.\n",
            "The qsci gs energy is -2.1662389774043094, with absolute error 0.0001484712304495872\n"
          ]
        }
      ],
      "source": [
        "ccsd_exact_err = []\n",
        "n_list = [2, 4]\n",
        "\n",
        "BASIS_STATES = 256\n",
        "\n",
        "samplers = [create_concurrent_sampler_from_vm(vm) for vm in star_vms]\n",
        "qsci_energy_err_lists = [np.zeros(len(n_list)) for _ in range(len(samplers))]\n",
        "trotter_uccsd_energy_err_lists = [np.zeros(len(n_list)) for _ in range(len(samplers))]\n",
        "\n",
        "\n",
        "def get_energy_vm(vm: VM, hamiltonian: Operator, bound_state: QuantumState, sampler: ConcurrentSampler) -> tuple[float, float]:\n",
        "    gse_uccsd = vm.estimate(hamiltonian, bound_state).value.real\n",
        "    gse_qsci = qsci(\n",
        "        hamiltonian,\n",
        "        [bound_state],\n",
        "        sampler,\n",
        "        total_shots=TOTAL_SHOTS,\n",
        "        num_states_pick_out=BASIS_STATES,\n",
        "    )[0][0]\n",
        "\n",
        "    return gse_uccsd, gse_qsci\n",
        "\n",
        "\n",
        "for i, n in enumerate(n_list):\n",
        "    gse, ccsd, bound_state, hamiltonian = get_hn_hamiltonian(n)\n",
        "    err_abs = lambda x: abs(x - gse)\n",
        "\n",
        "    ccsd_exact_err.append(err_abs(ccsd.e_tot))\n",
        "\n",
        "    for vm, s, trotter_uccsd_energy_err, qsci_energy_err in zip(star_vms, samplers, trotter_uccsd_energy_err_lists, qsci_energy_err_lists):\n",
        "        gse_uccsd, gse_qsci = get_energy_vm(vm, hamiltonian, bound_state, s)\n",
        "        trotter_uccsd_energy_err[i] = err_abs(gse_uccsd)\n",
        "        qsci_energy_err[i] = err_abs(gse_qsci)\n",
        "    print(\n",
        "        f\"The Trotter UCCSD energy of H{n} molecule is {gse_uccsd}, with absolute error {err_abs(gse_uccsd)}.\"\n",
        "    )\n",
        "    print(f\"The qsci gs energy is {gse_qsci}, with absolute error {err_abs(gse_qsci)}\")"
      ]
    },
    {
      "cell_type": "markdown",
      "metadata": {},
      "source": [
        "Let's plot energy error as a function of the molecular complexity, bearing in mind that the simulations carried out have not included noise"
      ]
    },
    {
      "cell_type": "code",
      "execution_count": null,
      "metadata": {},
      "outputs": [
        {
          "data": {
            "text/plain": [
              "Text(0, 0.5, 'Error')"
            ]
          },
          "execution_count": 18,
          "metadata": {},
          "output_type": "execute_result"
        },
        {
          "data": {
            "image/png": "[encoded data removed]",
            "text/plain": [
              "<Figure size 640x480 with 1 Axes>"
            ]
          },
          "metadata": {},
          "output_type": "display_data"
        }
      ],
      "source": [
        "import matplotlib.pyplot as plt\n",
        "from matplotlib.pyplot import Axes\n",
        "\n",
        "ax: Axes = plt.axes()\n",
        "\n",
        "linestyles = (\"--\", \"-.\", \":\", (0, (3, 5, 1, 5, 1, 5)))\n",
        "\n",
        "for trotter_uccsd_energy_err, s in zip(trotter_uccsd_energy_err_lists, linestyles):\n",
        "    ax.semilogy(n_list, trotter_uccsd_energy_err, color= \"blue\", linestyle = s)\n",
        "for qsci_energy_err, s in zip(qsci_energy_err_lists, linestyles):\n",
        "    ax.semilogy(n_list, qsci_energy_err, color= \"red\", linestyle = s)\n",
        "\n",
        "ax.legend(\n",
        "    [\n",
        "        \"Trotter UCCSD Energy Error, error_rate = 10^-6\",\n",
        "        \"Trotter UCCSD Energy Error, error_rate = 10^-5\",\n",
        "        \"Trotter UCCSD Energy Error, error_rate = 10^-4\",\n",
        "        \"Trotter UCCSD Energy Error, error_rate = 10^-3\",\n",
        "        \"QSCI Energy Error, error_rate = 10^-6\",\n",
        "        \"QSCI Energy Error, error_rate = 10^-5\",\n",
        "        \"QSCI Energy Error, error_rate = 10^-4\",\n",
        "        \"QSCI Energy Error, error_rate = 10^-3\",\n",
        "    ]\n",
        ")\n",
        "ax.set_xticks(n_list)\n",
        "ax.set_title(f\"R={BASIS_STATES} QSCI with TrotterUCCSD input state on STAR architecture\")\n",
        "ax.set_xlabel(\"N hydrogen atoms\")\n",
        "ax.set_ylabel(\"Error\")"
      ]
    },
    {
      "cell_type": "markdown",
      "metadata": {},
      "source": [
        "As seen above the QSCI energy error is consistently lower than the one obtained by TrotterUCCSD. This is because QSCI can obtain nearly exact results as long as a substantial amount of reference states are used. Even in the presence of a modest amount of noise, as long as the noise does not alter the set of preferred reference states that are obtained from sampling, the resulting diagonalization is unaffected. This is what makes QSCI a powerful technique.\n",
        "\n",
        "Now let's also look at the resulting fidelity, this time including device dependent results that depend on noise.\n",
        "\n",
        "In the below calculation we will set the 2-qubit gate error for the NISQ device as it is the main source of error. The value chosen is typical for a superconducting qubit device. For the STAR device, since the 2-qubit gates are implemented using the surface code, we base the error on the 1-qubit gates only which have in general lower error rates."
      ]
    },
    {
      "cell_type": "code",
      "execution_count": null,
      "metadata": {},
      "outputs": [
        {
          "name": "stderr",
          "output_type": "stream",
          "text": [
            "\r",
            "  0%|                                              | 0/3 [00:00<?, ?it/s]"
          ]
        },
        {
          "name": "stderr",
          "output_type": "stream",
          "text": [
            "\r",
            " 33%|████████████▋                         | 1/3 [00:00<00:01,  1.83it/s]"
          ]
        },
        {
          "name": "stderr",
          "output_type": "stream",
          "text": [
            "\r",
            " 67%|█████████████████████████▎            | 2/3 [00:03<00:02,  2.04s/it]"
          ]
        },
        {
          "name": "stderr",
          "output_type": "stream",
          "text": [
            "\r",
            "100%|██████████████████████████████████████| 3/3 [02:18<00:00, 62.55s/it]"
          ]
        },
        {
          "name": "stderr",
          "output_type": "stream",
          "text": [
            "\r",
            "100%|██████████████████████████████████████| 3/3 [02:18<00:00, 46.06s/it]"
          ]
        },
        {
          "name": "stderr",
          "output_type": "stream",
          "text": [
            "\n"
          ]
        }
      ],
      "source": [
        "from tqdm import tqdm\n",
        "\n",
        "\n",
        "# We rewrite this function to skip the costly exact diagonalization\n",
        "def get_hn_hamiltonian_uccsd(n):\n",
        "    n_active_ele = n\n",
        "    n_active_orb = n\n",
        "    active_space = ActiveSpace(n_active_ele=n_active_ele, n_active_orb=n_active_orb)\n",
        "\n",
        "    mole = gto.M(atom=\"H 0 0 0\" + \"\".join([f\"; H 0 0 {i}\" for i in range(1, n)]))\n",
        "    mf = scf.RHF(mole).run(verbose=0)\n",
        "    hamiltonian, _ = get_qubit_mapped_hamiltonian(\n",
        "        *get_spin_mo_integrals_from_mole(mole, mf.mo_coeff, active_space)\n",
        "    )\n",
        "\n",
        "    ccsd = cc.CCSD(mf).run(verbose=0)\n",
        "\n",
        "    uccsd = TrotterUCCSD(\n",
        "        n_active_orb * 2,\n",
        "        n_active_ele,\n",
        "        trotter_number=TROTTER_STEPS,\n",
        "        use_singles=USE_SINGLES,\n",
        "        singlet_excitation=REDUCE_PARAMETER,\n",
        "    )\n",
        "    param = ccsd_param_to_circuit_param(uccsd, n_active_ele, ccsd.t1, ccsd.t2)\n",
        "    hf_state = quantum_state(n_active_orb * 2, bits=2**n_active_ele - 1)\n",
        "    state = apply_circuit(uccsd, hf_state)\n",
        "    bound_state = state.bind_parameters(param)\n",
        "\n",
        "    return ccsd, bound_state, hamiltonian\n",
        "\n",
        "\n",
        "circuit_fidelity_nisq = []\n",
        "circuit_fidelity_star_4 = []\n",
        "circuit_fidelity_star_5 = []\n",
        "circuit_fidelity_star_6 = []\n",
        "n_list = [2, 4, 6]\n",
        "\n",
        "\n",
        "for n in tqdm(n_list):\n",
        "    ccsd, bound_state, hamiltonian = get_hn_hamiltonian_uccsd(n)\n",
        "\n",
        "    fidelity_star = star_vms[0].analyze(bound_state.circuit).fidelity\n",
        "    circuit_fidelity_star_6.append(fidelity_star)\n",
        "\n",
        "    fidelity_star = star_vms[1].analyze(bound_state.circuit).fidelity\n",
        "    circuit_fidelity_star_5.append(fidelity_star)\n",
        "\n",
        "    fidelity_star = star_vms[2].analyze(bound_state.circuit).fidelity\n",
        "    circuit_fidelity_star_4.append(fidelity_star)\n",
        "\n",
        "    fidelity_nisq = nisq_vm.analyze(bound_state.circuit).fidelity\n",
        "    circuit_fidelity_nisq.append(fidelity_nisq)"
      ]
    },
    {
      "cell_type": "code",
      "execution_count": null,
      "metadata": {},
      "outputs": [
        {
          "data": {
            "text/plain": [
              "Text(0, 0.5, 'Fidelity')"
            ]
          },
          "execution_count": 20,
          "metadata": {},
          "output_type": "execute_result"
        },
        {
          "data": {
            "image/png": "[encoded data removed]",
            "text/plain": [
              "<Figure size 640x480 with 1 Axes>"
            ]
          },
          "metadata": {},
          "output_type": "display_data"
        }
      ],
      "source": [
        "import matplotlib.pyplot as plt\n",
        "from matplotlib.pyplot import Axes\n",
        "\n",
        "ax: Axes = plt.axes()\n",
        "\n",
        "ax.plot(n_list, circuit_fidelity_star_4, color= \"blue\", linestyle = \"--\")\n",
        "ax.plot(n_list, circuit_fidelity_star_5, color= \"blue\", linestyle = \"-.\")\n",
        "ax.plot(n_list, circuit_fidelity_star_6, color= \"blue\", linestyle = \":\")\n",
        "ax.plot(n_list, circuit_fidelity_nisq, color= \"red\")\n",
        "ax.legend(\n",
        "    [\n",
        "        \"STAR architecture, physical error_rate = 10^-4\",\n",
        "        \"STAR architecture, physical error_rate = 10^-5\",\n",
        "        \"STAR architecture, physical error_rate = 10^-6\",\n",
        "        \"NISQ architecture, two-qubit error_rate = 10^-4\",\n",
        "    ]\n",
        ")\n",
        "ax.set_title(\"TrotterUCCSD input state expected fidelity\")\n",
        "ax.set_xlabel(\"N hydrogen atoms\")\n",
        "ax.set_xticks(n_list)\n",
        "ax.set_ylabel(\"Fidelity\")"
      ]
    },
    {
      "cell_type": "markdown",
      "metadata": {},
      "source": [
        "## Summary\n",
        "\n",
        "This notebook introduced QSCI based on the TrotterUCCSD ansatz. The learning outcomes included\n",
        "\n",
        "- Simple molecular Hamiltonians and CC theory using PySCF\n",
        "- TrotterUCCSD ansatz\n",
        "- Using QSCI\n",
        "- Transpiling and optimizing circuits\n",
        "- Estimating fidelities of deep circuits with different architectures\n",
        "- The performance of QSCI based on Trotter UCCSD\n"
      ]
    }
  ],
  "metadata": {
    "language_info": {
      "name": "python",
      "pygments_lexer": "ipython3"
    }
  },
  "nbformat": 4,
  "nbformat_minor": 2
}
