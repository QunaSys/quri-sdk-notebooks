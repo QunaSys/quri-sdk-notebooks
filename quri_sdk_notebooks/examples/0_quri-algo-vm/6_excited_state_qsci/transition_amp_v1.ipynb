{
 "cells": [
  {
   "cell_type": "code",
   "execution_count": 2,
   "id": "1ca2ae90",
   "metadata": {},
   "outputs": [],
   "source": [
    "import numpy as np\n",
    "from openfermion.chem import geometry_from_pubchem\n",
    "from quri_parts.chem import cas\n",
    "from quri_parts.pyscf.mol import get_spin_mo_integrals_from_mole\n",
    "from quri_parts.openfermion.mol import get_qubit_mapped_hamiltonian\n",
    "from quri_parts.openfermion.ansatz import TrotterUCCSD\n",
    "from quri_parts.core.operator import get_sparse_matrix\n",
    "from pyscf import gto, scf, mcscf, cc\n",
    "from quri_parts_qsci import qsci\n",
    "from quri_parts.chem.mol import ActiveSpaceMolecularOrbitals, ActiveSpace\n",
    "from quri_parts.pyscf.mol import PySCFMolecularOrbitals\n",
    "from quri_parts.core.state import quantum_state\n",
    "\n",
    "from typing import Sequence\n",
    "\n",
    "import numpy.typing as npt"
   ]
  },
  {
   "cell_type": "markdown",
   "id": "5196849c",
   "metadata": {},
   "source": [
    "# Generate Hamiltonian of AB (azobenzene)\n",
    "1. Hamiltonian\n",
    "2. Exact ground state energy\n",
    "3. Approximated energy includes electron correlation effects from single and double excitations. "
   ]
  },
  {
   "cell_type": "code",
   "execution_count": 3,
   "id": "a49e0a60",
   "metadata": {},
   "outputs": [],
   "source": [
    "def from_Hartree_to_eV(Hartree_energy):\n",
    "    return Hartree_energy/27.21"
   ]
  },
  {
   "cell_type": "code",
   "execution_count": 6,
   "id": "a6b2cf05",
   "metadata": {},
   "outputs": [
    {
     "name": "stdout",
     "output_type": "stream",
     "text": [
      "converged SCF energy = -562.053344724957\n",
      "Hamiltonian:  (-561.2163615469071+0j)*I + (0.07929207448087101+0j)*Z0 + (0.07929207448087101+0j)*Z1 + (0.041737792195591525+0j)*Z2 + (0.04173779219559153+0j)*Z3 + (-0.11119726823032403+0j)*Z4 + (-0.111197268230324+0j)*Z5 + (-0.08721715886289064+0j)*Z6 + (-0.08721715886289064+0j)*Z7 + (0.0548897971305265+0j)*Z0 Z1 + -0.0015964182704949286*X0 Z1 X2 + -0.0015964182704949286*Y0 Z1 Y2 + (0.029990484826448983+0j)*Z0 Z2 + (0.05354451192305687+0j)*Z0 Z3 + -1.9995608176371332e-05*X0 Z1 Z2 Z3 X4 + -1.9995608176371332e-05*Y0 Z1 Z2 Z3 Y4 + (0.049962972036554226+0j)*Z0 Z4 + (0.051003560119291025+0j)*Z0 Z5 + 0.014257630971931865*X0 Z1 Z2 Z3 Z4 Z5 X6 + 0.014257630971931865*Y0 Z1 Z2 Z3 Z4 Z5 Y6 + (0.042956653593804545+0j)*Z0 Z6 + (0.054897656325667496+0j)*Z0 Z7 + (0.05354451192305687+0j)*Z1 Z2 + -0.0015964182704949286*X1 Z2 X3 + -0.0015964182704949286*Y1 Z2 Y3 + (0.029990484826448983+0j)*Z1 Z3 + (0.051003560119291025+0j)*Z1 Z4 + -1.9995608176371332e-05*X1 Z2 Z3 Z4 X5 + -1.9995608176371332e-05*Y1 Z2 Z3 Z4 Y5 + (0.049962972036554226+0j)*Z1 Z5 + (0.054897656325667496+0j)*Z1 Z6 + 0.014257630971931869*X1 Z2 Z3 Z4 Z5 Z6 X7 + 0.014257630971931869*Y1 Z2 Z3 Z4 Z5 Z6 Y7 + (0.042956653593804545+0j)*Z1 Z7 + (0.057990427246538724+0j)*Z2 Z3 + 4.66690413649657e-06*X2 Z3 X4 + 4.66690413649657e-06*Y2 Z3 Y4 + (0.06491734184585306+0j)*Z2 Z4 + (0.0670774629248398+0j)*Z2 Z5 + -0.0011474790833820294*X2 Z3 Z4 Z5 X6 + -0.0011474790833820294*Y2 Z3 Z4 Z5 Y6 + (0.04528889639337968+0j)*Z2 Z6 + (0.053647378571754514+0j)*Z2 Z7 + (0.0670774629248398+0j)*Z3 Z4 + 4.666904136496569e-06*X3 Z4 X5 + 4.666904136496569e-06*Y3 Z4 Y5 + (0.06491734184585306+0j)*Z3 Z5 + (0.053647378571754514+0j)*Z3 Z6 + -0.0011474790833820294*X3 Z4 Z5 Z6 X7 + -0.0011474790833820294*Y3 Z4 Z5 Z6 Y7 + (0.04528889639337968+0j)*Z3 Z7 + (0.12646292650468657+0j)*Z4 Z5 + 5.920724267478631e-05*X4 Z5 X6 + 5.920724267478631e-05*Y4 Z5 Y6 + (0.04933525277461553+0j)*Z4 Z6 + (0.05002731782107277+0j)*Z4 Z7 + (0.05002731782107277+0j)*Z5 Z6 + 5.920724267478631e-05*X5 Z6 X7 + 5.920724267478631e-05*Y5 Z6 Y7 + (0.04933525277461553+0j)*Z5 Z7 + (0.05627096753720354+0j)*Z6 Z7 + -0.0018830904519785423*Z0 X1 Z2 X3 + -0.0018830904519785423*Z0 Y1 Z2 Y3 + -1.5119888333235646e-06*Z0 X1 Z2 Z3 Z4 X5 + -1.5119888333235646e-06*Z0 Y1 Z2 Z3 Z4 Y5 + -0.001762251129399239*Z0 X1 Z2 Z3 Z4 Z5 Z6 X7 + -0.001762251129399239*Z0 Y1 Z2 Z3 Z4 Z5 Z6 Y7 + -0.0018830904519785423*X0 X2 + -0.0018830904519785423*Y0 Y2 + -1.5119888333235648e-06*X0 Z2 Z3 X4 + -1.5119888333235648e-06*Y0 Z2 Z3 Y4 + -0.0017622511293992388*X0 Z2 Z3 Z4 Z5 X6 + -0.0017622511293992388*Y0 Z2 Z3 Z4 Z5 Y6 + -0.023554027096607883*X0 X1 Y2 Y3 + 0.023554027096607883*X0 Y1 Y2 X3 + 0.023554027096607883*Y0 X1 X2 Y3 + -0.023554027096607883*Y0 Y1 X2 X3 + 4.5087730411057876e-07*X0 X1 Y2 Z3 Z4 Y5 + -4.5087730411057876e-07*X0 Y1 Y2 Z3 Z4 X5 + -4.5087730411057876e-07*Y0 X1 X2 Z3 Z4 Y5 + 4.5087730411057876e-07*Y0 Y1 X2 Z3 Z4 X5 + -2.5528093909750128e-05*X0 X1 Y2 Z3 Z4 Z5 Z6 Y7 + 2.5528093909750128e-05*X0 Y1 Y2 Z3 Z4 Z5 Z6 X7 + 2.5528093909750128e-05*Y0 X1 X2 Z3 Z4 Z5 Z6 Y7 + -2.5528093909750128e-05*Y0 Y1 X2 Z3 Z4 Z5 Z6 X7 + 4.508773041105787e-07*X0 X1 X3 X4 + 4.508773041105787e-07*X0 Y1 Y3 X4 + 4.508773041105787e-07*Y0 X1 X3 Y4 + 4.508773041105787e-07*Y0 Y1 Y3 Y4 + -2.5528093909750128e-05*X0 X1 X3 Z4 Z5 X6 + -2.5528093909750128e-05*X0 Y1 Y3 Z4 Z5 X6 + -2.5528093909750128e-05*Y0 X1 X3 Z4 Z5 Y6 + -2.5528093909750128e-05*Y0 Y1 Y3 Z4 Z5 Y6 + -0.0010405880827367943*X0 X1 Y4 Y5 + 0.0010405880827367943*X0 Y1 Y4 X5 + 0.0010405880827367943*Y0 X1 X4 Y5 + -0.0010405880827367943*Y0 Y1 X4 X5 + 1.6247650067623807e-05*X0 X1 Y4 Z5 Z6 Y7 + -1.6247650067623807e-05*X0 Y1 Y4 Z5 Z6 X7 + -1.6247650067623807e-05*Y0 X1 X4 Z5 Z6 Y7 + 1.6247650067623807e-05*Y0 Y1 X4 Z5 Z6 X7 + 1.6247650067623807e-05*X0 X1 X5 X6 + 1.6247650067623807e-05*X0 Y1 Y5 X6 + 1.6247650067623807e-05*Y0 X1 X5 Y6 + 1.6247650067623807e-05*Y0 Y1 Y5 Y6 + -0.011941002731862951*X0 X1 Y6 Y7 + 0.011941002731862951*X0 Y1 Y6 X7 + 0.011941002731862951*Y0 X1 X6 Y7 + -0.011941002731862951*Y0 Y1 X6 X7 + -2.139342703795074e-07*Z0 X2 Z3 X4 + -2.139342703795074e-07*Z0 Y2 Z3 Y4 + 0.00036241775255620656*Z0 X2 Z3 Z4 Z5 X6 + 0.00036241775255620656*Z0 Y2 Z3 Z4 Z5 Y6 + -1.0865965931147263e-06*X0 Z1 Z3 X4 + -1.0865965931147263e-06*Y0 Z1 Z3 Y4 + -0.0065650392962439946*X0 Z1 Z3 Z4 Z5 X6 + -0.0065650392962439946*Y0 Z1 Z3 Z4 Z5 Y6 + 1.253351780439396e-05*X0 Z1 X2 X4 Z5 X6 + 1.4478907554690234e-05*X0 Z1 X2 Y4 Z5 Y6 + -1.945389750296274e-06*X0 Z1 Y2 Y4 Z5 X6 + -1.945389750296274e-06*Y0 Z1 X2 X4 Z5 Y6 + 1.4478907554690234e-05*Y0 Z1 Y2 X4 Z5 X6 + 1.253351780439396e-05*Y0 Z1 Y2 Y4 Z5 Y6 + 2.369430337310713e-07*Z0 X3 Z4 X5 + 2.369430337310713e-07*Z0 Y3 Z4 Y5 + 0.0003368896586464563*Z0 X3 Z4 Z5 Z6 X7 + 0.0003368896586464563*Z0 Y3 Z4 Z5 Z6 Y7 + 0.0017440722566683929*X0 Z1 X2 Z3 + 0.0017440722566683929*Y0 Z1 Y2 Z3 + 1.955419366074597e-06*X0 Z1 X2 X3 Z4 X5 + 1.955419366074597e-06*X0 Z1 X2 Y3 Z4 Y5 + 1.955419366074597e-06*Y0 Z1 Y2 X3 Z4 X5 + 1.955419366074597e-06*Y0 Z1 Y2 Y3 Z4 Y5 + -0.0023511989864240094*X0 Z1 X2 X3 Z4 Z5 Z6 X7 + -0.0023511989864240094*X0 Z1 X2 Y3 Z4 Z5 Z6 Y7 + -0.0023511989864240094*Y0 Z1 Y2 X3 Z4 Z5 Z6 X7 + -0.0023511989864240094*Y0 Z1 Y2 Y3 Z4 Z5 Z6 Y7 + -3.042015959189323e-06*X0 Z1 Z2 X4 + -3.042015959189323e-06*Y0 Z1 Z2 Y4 + -0.004213840309819986*X0 Z1 Z2 Z4 Z5 X6 + -0.004213840309819986*Y0 Z1 Z2 Z4 Z5 Y6 + -4.760056631565043e-05*X0 Z1 Z2 X3 Y4 Y5 + 4.760056631565043e-05*X0 Z1 Z2 Y3 Y4 X5 + 4.760056631565043e-05*Y0 Z1 Z2 X3 X4 Y5 + -4.760056631565043e-05*Y0 Z1 Z2 Y3 X4 X5 + -5.2213098207307446e-06*X0 Z1 Z2 X3 Y4 Z5 Z6 Y7 + 5.2213098207307446e-06*X0 Z1 Z2 Y3 Y4 Z5 Z6 X7 + 5.2213098207307446e-06*Y0 Z1 Z2 X3 X4 Z5 Z6 Y7 + -5.2213098207307446e-06*Y0 Z1 Z2 Y3 X4 Z5 Z6 X7 + -7.1666995710270176e-06*X0 Z1 Z2 X3 X5 X6 + -7.1666995710270176e-06*X0 Z1 Z2 Y3 Y5 X6 + -7.1666995710270176e-06*Y0 Z1 Z2 X3 X5 Y6 + -7.1666995710270176e-06*Y0 Z1 Z2 Y3 Y5 Y6 + 0.0007650992995827451*X0 Z1 Z2 X3 Y6 Y7 + -0.0007650992995827451*X0 Z1 Z2 Y3 Y6 X7 + -0.0007650992995827451*Y0 Z1 Z2 X3 X6 Y7 + 0.0007650992995827451*Y0 Z1 Z2 Y3 X6 X7 + -1.6053931749673795e-05*Z0 X4 Z5 X6 + -1.6053931749673795e-05*Z0 Y4 Z5 Y6 + -0.0005194156210716802*X0 Z1 X2 Z4 + -0.0005194156210716802*Y0 Z1 Y2 Z4 + -0.012117020247665868*X0 Z1 Z2 Z3 Z5 X6 + -0.012117020247665868*Y0 Z1 Z2 Z3 Z5 Y6 + 1.9371831795001267e-07*Z0 X5 Z6 X7 + 1.9371831795001267e-07*Z0 Y5 Z6 Y7 + -0.0005670161873873305*X0 Z1 X2 Z5 + -0.0005670161873873305*Y0 Z1 Y2 Z5 + 1.970021737542098e-05*X0 Z1 X2 X5 Z6 X7 + 1.970021737542098e-05*X0 Z1 X2 Y5 Z6 Y7 + 1.970021737542098e-05*Y0 Z1 Y2 X5 Z6 X7 + 1.970021737542098e-05*Y0 Z1 Y2 Y5 Z6 Y7 + -5.021496756243313e-06*X0 Z1 Z2 Z3 X4 Z5 + -5.021496756243313e-06*Y0 Z1 Z2 Z3 Y4 Z5 + 0.0004865100547857658*X0 Z1 Z2 Z3 X4 X5 Z6 X7 + 0.0004865100547857658*X0 Z1 Z2 Z3 X4 Y5 Z6 Y7 + 0.0004865100547857658*Y0 Z1 Z2 Z3 Y4 X5 Z6 X7 + 0.0004865100547857658*Y0 Z1 Z2 Z3 Y4 Y5 Z6 Y7 + -0.012603530302451633*X0 Z1 Z2 Z3 Z4 X6 + -0.012603530302451633*Y0 Z1 Z2 Z3 Z4 Y6 + -2.5361406133266723e-05*X0 Z1 Z2 Z3 Z4 X5 Y6 Y7 + 2.5361406133266723e-05*X0 Z1 Z2 Z3 Z4 Y5 Y6 X7 + 2.5361406133266723e-05*Y0 Z1 Z2 Z3 Z4 X5 X6 Y7 + -2.5361406133266723e-05*Y0 Z1 Z2 Z3 Z4 Y5 X6 X7 + 0.0008893607214145042*X0 Z1 X2 Z6 + 0.0008893607214145042*Y0 Z1 Y2 Z6 + 2.236899462454366e-05*X0 Z1 Z2 Z3 X4 Z6 + 2.236899462454366e-05*Y0 Z1 Z2 Z3 Y4 Z6 + 0.0016544600209972495*X0 Z1 X2 Z7 + 0.0016544600209972495*Y0 Z1 Y2 Z7 + -2.992411508723063e-06*X0 Z1 Z2 Z3 X4 Z7 + -2.992411508723063e-06*Y0 Z1 Z2 Z3 Y4 Z7 + -0.002078269828854176*X0 Z1 Z2 Z3 Z4 Z5 X6 Z7 + -0.002078269828854176*Y0 Z1 Z2 Z3 Z4 Z5 Y6 Z7 + 2.369430337310713e-07*Z1 X2 Z3 X4 + 2.369430337310713e-07*Z1 Y2 Z3 Y4 + 0.0003368896586464563*Z1 X2 Z3 Z4 Z5 X6 + 0.0003368896586464563*Z1 Y2 Z3 Z4 Z5 Y6 + 0.0017440722566683929*X1 X3 + 0.0017440722566683929*Y1 Y3 + -3.042015959189323e-06*X1 Z3 Z4 X5 + -3.042015959189323e-06*Y1 Z3 Z4 Y5 + -0.004213840309819986*X1 Z3 Z4 Z5 Z6 X7 + -0.004213840309819986*Y1 Z3 Z4 Z5 Z6 Y7 + -1.955419366074597e-06*X1 X2 Y3 Y4 + 1.955419366074597e-06*X1 Y2 Y3 X4 + 1.955419366074597e-06*Y1 X2 X3 Y4 + -1.955419366074597e-06*Y1 Y2 X3 X4 + 0.0023511989864240094*X1 X2 Y3 Z4 Z5 Y6 + -0.0023511989864240094*X1 Y2 Y3 Z4 Z5 X6 + -0.0023511989864240094*Y1 X2 X3 Z4 Z5 Y6 + 0.0023511989864240094*Y1 Y2 X3 Z4 Z5 X6 + -4.760056631565043e-05*X1 X2 X4 X5 + -4.760056631565043e-05*X1 Y2 Y4 X5 + -4.760056631565043e-05*Y1 X2 X4 Y5 + -4.760056631565043e-05*Y1 Y2 Y4 Y5 + -7.1666995710270176e-06*X1 X2 X4 Z5 Z6 X7 + -7.1666995710270176e-06*X1 Y2 Y4 Z5 Z6 X7 + -7.1666995710270176e-06*Y1 X2 X4 Z5 Z6 Y7 + -7.1666995710270176e-06*Y1 Y2 Y4 Z5 Z6 Y7 + -5.2213098207307446e-06*X1 X2 Y5 Y6 + 5.2213098207307446e-06*X1 Y2 Y5 X6 + 5.2213098207307446e-06*Y1 X2 X5 Y6 + -5.2213098207307446e-06*Y1 Y2 X5 X6 + 0.0007650992995827451*X1 X2 X6 X7 + 0.0007650992995827451*X1 Y2 Y6 X7 + 0.0007650992995827451*Y1 X2 X6 Y7 + 0.0007650992995827451*Y1 Y2 Y6 Y7 + -2.139342703795074e-07*Z1 X3 Z4 X5 + -2.139342703795074e-07*Z1 Y3 Z4 Y5 + 0.00036241775255620656*Z1 X3 Z4 Z5 Z6 X7 + 0.00036241775255620656*Z1 Y3 Z4 Z5 Z6 Y7 + -1.0865965931147263e-06*X1 Z2 Z4 X5 + -1.0865965931147263e-06*Y1 Z2 Z4 Y5 + -0.0065650392962439946*X1 Z2 Z4 Z5 Z6 X7 + -0.0065650392962439946*Y1 Z2 Z4 Z5 Z6 Y7 + 1.253351780439396e-05*X1 Z2 X3 X5 Z6 X7 + 1.4478907554690234e-05*X1 Z2 X3 Y5 Z6 Y7 + -1.945389750296274e-06*X1 Z2 Y3 Y5 Z6 X7 + -1.945389750296274e-06*Y1 Z2 X3 X5 Z6 Y7 + 1.4478907554690234e-05*Y1 Z2 Y3 X5 Z6 X7 + 1.253351780439396e-05*Y1 Z2 Y3 Y5 Z6 Y7 + 1.9371831795001267e-07*Z1 X4 Z5 X6 + 1.9371831795001267e-07*Z1 Y4 Z5 Y6 + -0.0005670161873873305*X1 Z2 X3 Z4 + -0.0005670161873873305*Y1 Z2 Y3 Z4 + 1.970021737542098e-05*X1 Z2 X3 X4 Z5 X6 + 1.970021737542098e-05*X1 Z2 X3 Y4 Z5 Y6 + 1.970021737542098e-05*Y1 Z2 Y3 X4 Z5 X6 + 1.970021737542098e-05*Y1 Z2 Y3 Y4 Z5 Y6 + -5.021496756243313e-06*X1 Z2 Z3 X5 + -5.021496756243313e-06*Y1 Z2 Z3 Y5 + -0.012603530302451633*X1 Z2 Z3 Z5 Z6 X7 + -0.012603530302451633*Y1 Z2 Z3 Z5 Z6 Y7 + -0.0004865100547857658*X1 Z2 Z3 X4 Y5 Y6 + 0.0004865100547857658*X1 Z2 Z3 Y4 Y5 X6 + 0.0004865100547857658*Y1 Z2 Z3 X4 X5 Y6 + -0.0004865100547857658*Y1 Z2 Z3 Y4 X5 X6 + -2.5361406133266723e-05*X1 Z2 Z3 X4 X6 X7 + -2.5361406133266723e-05*X1 Z2 Z3 Y4 Y6 X7 + -2.5361406133266723e-05*Y1 Z2 Z3 X4 X6 Y7 + -2.5361406133266723e-05*Y1 Z2 Z3 Y4 Y6 Y7 + -1.6053931749673795e-05*Z1 X5 Z6 X7 + -1.6053931749673795e-05*Z1 Y5 Z6 Y7 + -0.0005194156210716802*X1 Z2 X3 Z5 + -0.0005194156210716802*Y1 Z2 Y3 Z5 + -0.012117020247665868*X1 Z2 Z3 Z4 Z6 X7 + -0.012117020247665868*Y1 Z2 Z3 Z4 Z6 Y7 + 0.0016544600209972495*X1 Z2 X3 Z6 + 0.0016544600209972495*Y1 Z2 Y3 Z6 + -2.992411508723063e-06*X1 Z2 Z3 Z4 X5 Z6 + -2.992411508723063e-06*Y1 Z2 Z3 Z4 Y5 Z6 + -0.002078269828854176*X1 Z2 Z3 Z4 Z5 X7 + -0.002078269828854176*Y1 Z2 Z3 Z4 Z5 Y7 + 0.0008893607214145042*X1 Z2 X3 Z7 + 0.0008893607214145042*Y1 Z2 Y3 Z7 + 2.236899462454366e-05*X1 Z2 Z3 Z4 X5 Z7 + 2.236899462454366e-05*Y1 Z2 Z3 Z4 Y5 Z7 + -6.729921543488557e-08*Z2 X3 Z4 X5 + -6.729921543488557e-08*Z2 Y3 Z4 Y5 + 0.00017201738191195627*Z2 X3 Z4 Z5 Z6 X7 + 0.00017201738191195627*Z2 Y3 Z4 Z5 Z6 Y7 + -6.729921543488556e-08*X2 X4 + -6.729921543488556e-08*Y2 Y4 + 0.00017201738191195625*X2 Z4 Z5 X6 + 0.00017201738191195625*Y2 Z4 Z5 Y6 + -0.0021601210789867443*X2 X3 Y4 Y5 + 0.0021601210789867443*X2 Y3 Y4 X5 + 0.0021601210789867443*Y2 X3 X4 Y5 + -0.0021601210789867443*Y2 Y3 X4 X5 + 1.0322270053377605e-05*X2 X3 Y4 Z5 Z6 Y7 + -1.0322270053377605e-05*X2 Y3 Y4 Z5 Z6 X7 + -1.0322270053377605e-05*Y2 X3 X4 Z5 Z6 Y7 + 1.0322270053377605e-05*Y2 Y3 X4 Z5 Z6 X7 + 1.0322270053377605e-05*X2 X3 X5 X6 + 1.0322270053377605e-05*X2 Y3 Y5 X6 + 1.0322270053377605e-05*Y2 X3 X5 Y6 + 1.0322270053377605e-05*Y2 Y3 Y5 Y6 + -0.008358482178374833*X2 X3 Y6 Y7 + 0.008358482178374833*X2 Y3 Y6 X7 + 0.008358482178374833*Y2 X3 X6 Y7 + -0.008358482178374833*Y2 Y3 X6 X7 + -4.7253269697831847e-05*Z2 X4 Z5 X6 + -4.7253269697831847e-05*Z2 Y4 Z5 Y6 + 0.0009970901379166058*X2 Z3 Z5 X6 + 0.0009970901379166058*Y2 Z3 Z5 Y6 + -3.693099964445424e-05*Z2 X5 Z6 X7 + -3.693099964445424e-05*Z2 Y5 Z6 Y7 + -1.2570336864271564e-06*X2 Z3 X4 Z5 + -1.2570336864271564e-06*Y2 Z3 Y4 Z5 + -3.430267362248481e-05*X2 Z3 X4 X5 Z6 X7 + -3.430267362248481e-05*X2 Z3 X4 Y5 Z6 Y7 + -3.430267362248481e-05*Y2 Z3 Y4 X5 Z6 X7 + -3.430267362248481e-05*Y2 Z3 Y4 Y5 Z6 Y7 + 0.0010313928115390906*X2 Z3 Z4 X6 + 0.0010313928115390906*Y2 Z3 Z4 Y6 + 4.9031538966950655e-06*X2 Z3 Z4 X5 Y6 Y7 + -4.9031538966950655e-06*X2 Z3 Z4 Y5 Y6 X7 + -4.9031538966950655e-06*Y2 Z3 Z4 X5 X6 Y7 + 4.9031538966950655e-06*Y2 Z3 Z4 Y5 X6 X7 + -4.1781098015457714e-06*X2 Z3 X4 Z6 + -4.1781098015457714e-06*Y2 Z3 Y4 Z6 + 7.250440951492942e-07*X2 Z3 X4 Z7 + 7.250440951492942e-07*Y2 Z3 Y4 Z7 + -9.678693496944327e-06*X2 Z3 Z4 Z5 X6 Z7 + -9.678693496944327e-06*Y2 Z3 Z4 Z5 Y6 Z7 + -3.693099964445424e-05*Z3 X4 Z5 X6 + -3.693099964445424e-05*Z3 Y4 Z5 Y6 + -1.2570336864271564e-06*X3 X5 + -1.2570336864271564e-06*Y3 Y5 + 0.0010313928115390906*X3 Z5 Z6 X7 + 0.0010313928115390906*Y3 Z5 Z6 Y7 + 3.430267362248481e-05*X3 X4 Y5 Y6 + -3.430267362248481e-05*X3 Y4 Y5 X6 + -3.430267362248481e-05*Y3 X4 X5 Y6 + 3.430267362248481e-05*Y3 Y4 X5 X6 + 4.9031538966950655e-06*X3 X4 X6 X7 + 4.9031538966950655e-06*X3 Y4 Y6 X7 + 4.9031538966950655e-06*Y3 X4 X6 Y7 + 4.9031538966950655e-06*Y3 Y4 Y6 Y7 + -4.7253269697831847e-05*Z3 X5 Z6 X7 + -4.7253269697831847e-05*Z3 Y5 Z6 Y7 + 0.0009970901379166058*X3 Z4 Z6 X7 + 0.0009970901379166058*Y3 Z4 Z6 Y7 + 7.250440951492942e-07*X3 Z4 X5 Z6 + 7.250440951492942e-07*Y3 Z4 Y5 Z6 + -9.678693496944327e-06*X3 Z4 Z5 X7 + -9.678693496944327e-06*Y3 Z4 Z5 Y7 + -4.1781098015457714e-06*X3 Z4 X5 Z7 + -4.1781098015457714e-06*Y3 Z4 Y5 Z7 + -0.00016902639114209367*Z4 X5 Z6 X7 + -0.00016902639114209367*Z4 Y5 Z6 Y7 + -0.00016902639114209367*X4 X6 + -0.00016902639114209367*Y4 Y6 + -0.0006920650464572386*X4 X5 Y6 Y7 + 0.0006920650464572386*X4 Y5 Y6 X7 + 0.0006920650464572386*Y4 X5 X6 Y7 + -0.0006920650464572386*Y4 Y5 X6 X7 + 9.774843674308961e-06*X4 Z5 X6 Z7 + 9.774843674308961e-06*Y4 Z5 Y6 Z7 + 9.774843674308961e-06*X5 X7 + 9.774843674308961e-06*Y5 Y7\n",
      "The exact ground state energy is: -20.656290746782723 eV\n",
      "The coupled cluster singles and doubles energy is: -20.691857326512174 eV\n"
     ]
    }
   ],
   "source": [
    "from scipy.sparse.linalg import eigsh\n",
    "\n",
    "atom = geometry_from_pubchem(\"azobenzene\") \n",
    "mole = gto.M(atom=atom)\n",
    "mf = scf.RHF(mole).run()\n",
    "\n",
    "active_space = cas(4, 4)\n",
    "hamiltonian, mapping = get_qubit_mapped_hamiltonian(\n",
    "    *get_spin_mo_integrals_from_mole(mole, mf.mo_coeff, active_space)\n",
    ")\n",
    "\n",
    "vals, vecs = eigsh(get_sparse_matrix(hamiltonian).toarray(), k=4, which=\"SA\")\n",
    "\n",
    "casci_gs_e = np.min(vals)\n",
    "ccsd = cc.CCSD(mf).run(verbose=0)\n",
    "\n",
    "print(\"Hamiltonian: \", hamiltonian)\n",
    "print(f\"The exact ground state energy is: {from_Hartree_to_eV(casci_gs_e)} eV\")\n",
    "print(f\"The coupled cluster singles and doubles energy is: {from_Hartree_to_eV(ccsd.e_tot)} eV\")"
   ]
  },
  {
   "cell_type": "code",
   "execution_count": 123,
   "id": "4a667c57",
   "metadata": {},
   "outputs": [
    {
     "data": {
      "text/plain": [
       "array([0.        , 0.00831725, 0.00837364, 0.00831725])"
      ]
     },
     "execution_count": 123,
     "metadata": {},
     "output_type": "execute_result"
    }
   ],
   "source": [
    "from_Hartree_to_eV(vals-vals[0])"
   ]
  },
  {
   "cell_type": "code",
   "execution_count": 7,
   "id": "2fd8ac1d",
   "metadata": {},
   "outputs": [],
   "source": [
    "from quri_parts.chem.mol.models import OrbitalType\n",
    "\n",
    "asmo = ActiveSpaceMolecularOrbitals(\n",
    "    PySCFMolecularOrbitals(mole, mf.mo_coeff), active_space\n",
    ")\n",
    "\n",
    "forzen_orbs = [i for i in range(mole.nao) if asmo.orb_type(i) != OrbitalType.ACTIVE]\n",
    "\n",
    "ccsd = cc.CCSD(mf, frozen=forzen_orbs).run(verbose=0)"
   ]
  },
  {
   "cell_type": "code",
   "execution_count": 9,
   "id": "df779f25",
   "metadata": {},
   "outputs": [],
   "source": [
    "from typing import Sequence\n",
    "\n",
    "import numpy.typing as npt\n",
    "\n",
    "\n",
    "def ccsd_param_to_circuit_param(\n",
    "    uccsd: TrotterUCCSD,\n",
    "    n_electrons: int,\n",
    "    t1: npt.NDArray[np.complex128],\n",
    "    t2: npt.NDArray[np.complex128],\n",
    ") -> Sequence[float]:\n",
    "    in_param_list = uccsd.param_mapping.in_params\n",
    "    param_list = []\n",
    "\n",
    "    for param in in_param_list:\n",
    "        name_split = param.name.split(\"_\")\n",
    "        if name_split[0] == \"s\":\n",
    "            _, i_str, j_str = name_split\n",
    "            i, j = int(i_str), int(j_str) - n_electrons // 2\n",
    "            param_list.append(t1[i, j])\n",
    "\n",
    "        if name_split[0] == \"d\":\n",
    "            _, i_str, j_str, a_str, b_str = name_split\n",
    "            i, j, b, a = (\n",
    "                int(i_str),\n",
    "                int(j_str),\n",
    "                int(b_str) - n_electrons // 2,\n",
    "                int(a_str) - n_electrons // 2,\n",
    "            )\n",
    "            param_list.append(t2[i, j, a, b])\n",
    "    return param_list\n"
   ]
  },
  {
   "cell_type": "code",
   "execution_count": 266,
   "id": "609ad6de",
   "metadata": {},
   "outputs": [],
   "source": [
    "from quri_parts.qulacs.estimator import (\n",
    "    create_qulacs_vector_concurrent_parametric_estimator,\n",
    ")\n",
    "from quri_parts.core.state import quantum_state, apply_circuit\n",
    "\n",
    "TROTTER_STEPS = 1\n",
    "USE_SINGLES = True\n",
    "REDUCE_PARAMETER = True\n",
    "\n",
    "uccsd = TrotterUCCSD(\n",
    "        active_space.n_active_orb * 2,\n",
    "        active_space.n_active_ele,\n",
    "        trotter_number=TROTTER_STEPS,\n",
    "        use_singles=USE_SINGLES,\n",
    "        singlet_excitation=REDUCE_PARAMETER,\n",
    "    )\n",
    "param = ccsd_param_to_circuit_param(uccsd, active_space.n_active_ele, ccsd.t1, ccsd.t2)\n",
    "hf_state = quantum_state(active_space.n_active_orb * 2, bits=2**active_space.n_active_ele - 1)\n",
    "state = apply_circuit(uccsd, hf_state)\n",
    "bound_state = state.bind_parameters(param)"
   ]
  },
  {
   "cell_type": "code",
   "execution_count": 12,
   "id": "0443213c",
   "metadata": {},
   "outputs": [
    {
     "name": "stdout",
     "output_type": "stream",
     "text": [
      "The coupled cluster singles and doubles energy is: -20.656290717085593\n",
      "The Trotter unitary coupled cluster singles and doubles energy is: -20.6562907247294\n",
      "Error:  7.64380410002866e-09\n"
     ]
    }
   ],
   "source": [
    "estimator = create_qulacs_vector_concurrent_parametric_estimator()\n",
    "estimate = estimator(hamiltonian, state, [param])\n",
    "\n",
    "print(\"The coupled cluster singles and doubles energy is:\", from_Hartree_to_eV(ccsd.e_tot))\n",
    "print(\n",
    "    \"The Trotter unitary coupled cluster singles and doubles energy is:\",\n",
    "    from_Hartree_to_eV(estimate[0].value.real),\n",
    ")\n",
    "print(\"Error: \", from_Hartree_to_eV(ccsd.e_tot-estimate[0].value.real))"
   ]
  },
  {
   "cell_type": "markdown",
   "id": "bc0ab0fb",
   "metadata": {},
   "source": [
    "## Excited states"
   ]
  },
  {
   "cell_type": "code",
   "execution_count": 119,
   "id": "d0015cd4",
   "metadata": {},
   "outputs": [],
   "source": [
    "exc_bits = (2**active_space.n_active_ele - 1) ^ 0b0011000 \n",
    "excited_state = quantum_state(active_space.n_active_orb * 2, bits=exc_bits) \n",
    "ex_state_circuit = apply_circuit(uccsd, excited_state)\n",
    "bound1_state = ex_state_circuit.bind_parameters(param)\n"
   ]
  },
  {
   "cell_type": "code",
   "execution_count": 22,
   "id": "03c71ba4",
   "metadata": {},
   "outputs": [
    {
     "name": "stdout",
     "output_type": "stream",
     "text": [
      "Energy difference:  -0.00851674620296459\n"
     ]
    }
   ],
   "source": [
    "estimator = create_qulacs_vector_concurrent_parametric_estimator()\n",
    "estimate = estimator(hamiltonian, ex_state_circuit, [param])\n",
    "print(\n",
    "    \"Energy difference: \",\n",
    "    from_Hartree_to_eV(ccsd.e_tot-estimate[0].value.real),\n",
    ")"
   ]
  },
  {
   "cell_type": "markdown",
   "id": "3ff754d5",
   "metadata": {},
   "source": [
    "# QSCI"
   ]
  },
  {
   "cell_type": "code",
   "execution_count": 323,
   "id": "402938fe",
   "metadata": {},
   "outputs": [],
   "source": [
    "from quri_vm import VM\n",
    "\n",
    "from quri_parts.backend.devices import star_device\n",
    "from quri_parts.backend.units import TimeUnit, TimeValue\n",
    "\n",
    "from typing import Iterable\n",
    "\n",
    "from quri_parts.circuit import ImmutableQuantumCircuit\n",
    "from quri_parts.core.sampling import ConcurrentSampler, MeasurementCounts\n",
    "from quri_parts.qulacs.sampler import create_qulacs_general_vector_sampler\n",
    "from quri_parts_qsci import qsci\n",
    "\n",
    "BASIS_STATES = None\n",
    "TOTAL_SHOTS = 10000\n",
    "\n",
    "sampler = create_qulacs_general_vector_sampler()\n",
    "\n",
    "bound_state = state.bind_parameters(param)\n",
    "eigs, _ = qsci(\n",
    "    hamiltonian, [bound_state], sampler, total_shots=TOTAL_SHOTS, num_states_pick_out=BASIS_STATES\n",
    ")\n"
   ]
  },
  {
   "cell_type": "code",
   "execution_count": 324,
   "id": "2dca6c25",
   "metadata": {},
   "outputs": [],
   "source": [
    "from typing import Sequence\n",
    "import numpy as np\n",
    "from scipy.optimize import minimize\n",
    "from quri_parts.core.state import quantum_state\n",
    "\n",
    "def create_state(bits, params):\n",
    "    approx_circuit = uccsd.bind_parameters(params)\n",
    "    approx_exc_state = quantum_state(approx_circuit.qubit_count, circuit=approx_circuit, bits=bits)\n",
    "    return approx_exc_state\n",
    "\n",
    "def get_cost(exc_bits: Sequence[int], sampler, hamiltonian, fixed_state=[]):\n",
    "    def f(x):\n",
    "        approx_exc_state = create_state(bits=exc_bits, params=x)\n",
    "        quantum_states = fixed_state+[approx_exc_state]\n",
    "        vals, _ = qsci(\n",
    "            hamiltonian,\n",
    "            quantum_states,\n",
    "            sampler,\n",
    "            total_shots=TOTAL_SHOTS,\n",
    "            num_states_pick_out=BASIS_STATES\n",
    "        )\n",
    "        return np.sum(vals)\n",
    "    \n",
    "\n",
    "    return f"
   ]
  },
  {
   "cell_type": "code",
   "execution_count": 327,
   "id": "06b791e9",
   "metadata": {},
   "outputs": [
    {
     "name": "stderr",
     "output_type": "stream",
     "text": [
      "/home/string-3/anaconda3/envs/QC/lib/python3.10/site-packages/scipy/optimize/_numdiff.py:619: ComplexWarning: Casting complex values to real discards the imaginary part\n",
      "  J_transposed[i] = df / dx\n"
     ]
    },
    {
     "name": "stdout",
     "output_type": "stream",
     "text": [
      "exc_mask: 0 Energy difference:  0.00017221890093470802\n",
      "exc_mask: 17 Energy difference:  0.01180278155781947\n"
     ]
    },
    {
     "name": "stderr",
     "output_type": "stream",
     "text": [
      "/home/string-3/anaconda3/envs/QC/lib/python3.10/site-packages/scipy/optimize/_lbfgsb_py.py:433: ComplexWarning: Casting complex values to real discards the imaginary part\n",
      "  _lbfgsb.setulb(m, x, low_bnd, upper_bnd, nbd, f, g, factr, pgtol, wa,\n"
     ]
    },
    {
     "name": "stdout",
     "output_type": "stream",
     "text": [
      "exc_mask: 33 Energy difference:  0.011652166075096173\n",
      "exc_mask: 65 Energy difference:  0.013562504301333073\n",
      "exc_mask: 129 Energy difference:  0.011802488611940849\n",
      "exc_mask: 60 Energy difference:  0.025213276787249612\n"
     ]
    }
   ],
   "source": [
    "sampler = create_qulacs_general_vector_sampler()\n",
    "\n",
    "exc_masks = [0b00000000, 0b00010001, 0b00100001, 0b01000001, 0b10000001, 0b00111100]\n",
    "# exc_masks = [0b00000000, 0b00000000, 0b00000000, 0b00000000]\n",
    "fixed_state = []\n",
    "for exc_mask in exc_masks:\n",
    "    bits = (2**active_space.n_active_ele - 1) ^ exc_mask\n",
    "    cost = get_cost(\n",
    "        exc_bits=bits,\n",
    "        sampler=sampler,\n",
    "        hamiltonian=hamiltonian,\n",
    "        fixed_state=fixed_state\n",
    "    )\n",
    "\n",
    "    bounds = [(-10**-1, 10**-1) for _ in range(uccsd.parameter_count)]\n",
    "    sol = minimize(\n",
    "        cost,\n",
    "        x0=np.random.uniform(-10**-2, 10**-2, uccsd.parameter_count),\n",
    "        method=\"L-BFGS-B\",\n",
    "        bounds=bounds,\n",
    "        options={\"maxiter\": 500000, \"disp\": True}\n",
    "    )\n",
    "\n",
    "    excited_state = quantum_state(active_space.n_active_orb * 2, bits=bits) \n",
    "    ex_state_circuit = apply_circuit(uccsd, excited_state)\n",
    "\n",
    "    estimator = create_qulacs_vector_concurrent_parametric_estimator()\n",
    "    estimate = estimator(hamiltonian, ex_state_circuit, [list(sol.x)])\n",
    "    print(\n",
    "        f\"exc_mask: {exc_mask}\",\n",
    "        \"Energy difference: \",\n",
    "        from_Hartree_to_eV(estimate[0].value.real-ccsd.e_tot),\n",
    "    )\n",
    "    #fixed_state.append(create_state(bits, params=sol.x))\n"
   ]
  },
  {
   "cell_type": "code",
   "execution_count": 292,
   "id": "082adf05",
   "metadata": {},
   "outputs": [
    {
     "name": "stdout",
     "output_type": "stream",
     "text": [
      "Energy difference:  0.0925024286129064\n"
     ]
    }
   ],
   "source": [
    "estimator = create_qulacs_vector_concurrent_parametric_estimator()\n",
    "estimate = estimator(hamiltonian, ex_state_circuit, [list(sol.x)])\n",
    "print(\n",
    "    \"Energy difference: \",\n",
    "    from_Hartree_to_eV(estimate[0].value.real-ccsd.e_tot),\n",
    ")"
   ]
  },
  {
   "cell_type": "code",
   "execution_count": 230,
   "id": "7fc4af6c",
   "metadata": {},
   "outputs": [
    {
     "data": {
      "text/plain": [
       "array([-2.96971287e-08,  8.31722436e-03,  8.37360885e-03,  8.31722436e-03])"
      ]
     },
     "execution_count": 230,
     "metadata": {},
     "output_type": "execute_result"
    }
   ],
   "source": [
    "from_Hartree_to_eV(vals-ccsd.e_tot)"
   ]
  },
  {
   "cell_type": "code",
   "execution_count": 210,
   "id": "f366459e",
   "metadata": {},
   "outputs": [
    {
     "data": {
      "text/plain": [
       "'0b1111'"
      ]
     },
     "execution_count": 210,
     "metadata": {},
     "output_type": "execute_result"
    }
   ],
   "source": [
    "bin(2**active_space.n_active_ele - 1)"
   ]
  },
  {
   "cell_type": "code",
   "execution_count": 216,
   "id": "8a8ad0c9",
   "metadata": {},
   "outputs": [
    {
     "data": {
      "text/plain": [
       "'0b100111'"
      ]
     },
     "execution_count": 216,
     "metadata": {},
     "output_type": "execute_result"
    }
   ],
   "source": [
    "bin((2**active_space.n_active_ele - 1) ^ 0b101000)"
   ]
  },
  {
   "cell_type": "code",
   "execution_count": 268,
   "id": "6a589ba0",
   "metadata": {},
   "outputs": [
    {
     "name": "stdout",
     "output_type": "stream",
     "text": [
      "The exact GS energy is -20.656290746782723\n",
      "The coupled cluster energy is -20.656290717085593, with relative error 1.4376796420023652e-09\n",
      "The Trotter UCCSD energy is -20.647635813749528, with relative error 0.00041899744437634556\n",
      "The qsci gs energy is -20.656284795538582, with relative error 2.8810807384260784e-07\n"
     ]
    }
   ],
   "source": [
    "err = lambda x: abs(x / casci_gs_e - 1)\n",
    "print(f\"The exact GS energy is {from_Hartree_to_eV(casci_gs_e)}\")\n",
    "print(\n",
    "    f\"The coupled cluster energy is {from_Hartree_to_eV(ccsd.e_tot)}, with relative error {err(ccsd.e_tot)}\"\n",
    ")\n",
    "print(\n",
    "    f\"The Trotter UCCSD energy is {from_Hartree_to_eV(estimate[0].value.real)}, with relative error {err(estimate[0].value.real)}\"\n",
    ")\n",
    "print(f\"The qsci gs energy is {from_Hartree_to_eV(eigs[0])}, with relative error {err(eigs[0])}\")"
   ]
  },
  {
   "cell_type": "code",
   "execution_count": null,
   "id": "13e340b0",
   "metadata": {},
   "outputs": [],
   "source": []
  }
 ],
 "metadata": {
  "kernelspec": {
   "display_name": "QC",
   "language": "python",
   "name": "python3"
  },
  "language_info": {
   "codemirror_mode": {
    "name": "ipython",
    "version": 3
   },
   "file_extension": ".py",
   "mimetype": "text/x-python",
   "name": "python",
   "nbconvert_exporter": "python",
   "pygments_lexer": "ipython3",
   "version": "3.10.16"
  }
 },
 "nbformat": 4,
 "nbformat_minor": 5
}
