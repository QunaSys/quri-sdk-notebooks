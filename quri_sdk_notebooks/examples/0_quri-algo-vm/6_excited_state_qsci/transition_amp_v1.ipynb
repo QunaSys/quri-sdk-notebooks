{
 "cells": [
  {
   "cell_type": "code",
   "execution_count": 62,
   "id": "1ca2ae90",
   "metadata": {},
   "outputs": [],
   "source": [
    "import numpy as np\n",
    "from openfermion.chem import geometry_from_pubchem\n",
    "from quri_parts.chem import cas\n",
    "from quri_parts.pyscf.mol import get_spin_mo_integrals_from_mole\n",
    "from quri_parts.openfermion.mol import get_qubit_mapped_hamiltonian\n",
    "from quri_parts.openfermion.ansatz import TrotterUCCSD\n",
    "from quri_parts.core.operator import get_sparse_matrix\n",
    "from pyscf import gto, scf, mcscf, cc, ci\n",
    "from quri_parts_qsci import qsci\n",
    "from quri_parts.chem.mol import ActiveSpaceMolecularOrbitals, ActiveSpace\n",
    "from quri_parts.pyscf.mol import PySCFMolecularOrbitals\n",
    "from quri_parts.core.state import quantum_state\n",
    "\n",
    "from typing import Sequence\n",
    "\n",
    "import numpy.typing as npt"
   ]
  },
  {
   "cell_type": "markdown",
   "id": "308f7456",
   "metadata": {},
   "source": [
    "1. Hamiltonian generation. (Refer to [tutorial](https://quri-sdk.qunasys.com/docs/tutorials/quri-parts/quantum-chemistry/hamiltonian))\n",
    "2. Use PySCF to compute CASCI energy (the same as computing exact excitation energy)\n",
    "3. Use PySCF to compute CCSD amplitudes in the case of non-trivial active space. \n",
    "4. Describe QSCI algorithm for excited state (assume start from HF)\n",
    "5. Describe cost function for QSCI (remember to stress that grad optimizer doesn't make sense)\n",
    "6. Run the algorithm & plot."
   ]
  },
  {
   "cell_type": "markdown",
   "id": "5196849c",
   "metadata": {},
   "source": [
    "# Generate Hamiltonian of AB (azobenzene)\n",
    "1. Hamiltonian\n",
    "2. Exact ground state energy\n",
    "3. Approximated energy includes electron correlation effects from single and double excitations. "
   ]
  },
  {
   "cell_type": "code",
   "execution_count": 59,
   "id": "a6b2cf05",
   "metadata": {},
   "outputs": [
    {
     "name": "stdout",
     "output_type": "stream",
     "text": [
      "converged SCF energy = -562.053344724964\n",
      "Hamiltonian:  (-561.216361546909+0j)*I + (0.07929207448090994+0j)*Z0 + (0.07929207448090994+0j)*Z1 + (0.04173779219560608+0j)*Z2 + (0.04173779219560608+0j)*Z3 + (-0.11119726823032844+0j)*Z4 + (-0.1111972682303285+0j)*Z5 + (-0.08721715886294745+0j)*Z6 + (-0.08721715886294745+0j)*Z7 + (0.054889797130520154+0j)*Z0 Z1 + -0.0015964182709082898*X0 Z1 X2 + -0.0015964182709082898*Y0 Z1 Y2 + (0.029990484826442333+0j)*Z0 Z2 + (0.05354451192306399+0j)*Z0 Z3 + -1.999560816308268e-05*X0 Z1 Z2 Z3 X4 + -1.999560816308268e-05*Y0 Z1 Z2 Z3 Y4 + (0.0499629720365348+0j)*Z0 Z4 + (0.05100356011927254+0j)*Z0 Z5 + 0.014257630971934407*X0 Z1 Z2 Z3 Z4 Z5 X6 + 0.014257630971934407*Y0 Z1 Z2 Z3 Z4 Z5 Y6 + (0.04295665359379545+0j)*Z0 Z6 + (0.05489765632565704+0j)*Z0 Z7 + (0.05354451192306399+0j)*Z1 Z2 + -0.0015964182709082898*X1 Z2 X3 + -0.0015964182709082898*Y1 Z2 Y3 + (0.029990484826442333+0j)*Z1 Z3 + (0.05100356011927254+0j)*Z1 Z4 + -1.999560816308268e-05*X1 Z2 Z3 Z4 X5 + -1.999560816308268e-05*Y1 Z2 Z3 Z4 Y5 + (0.0499629720365348+0j)*Z1 Z5 + (0.05489765632565704+0j)*Z1 Z6 + 0.014257630971934405*X1 Z2 Z3 Z4 Z5 Z6 X7 + 0.014257630971934405*Y1 Z2 Z3 Z4 Z5 Z6 Y7 + (0.04295665359379545+0j)*Z1 Z7 + (0.057990427246515694+0j)*Z2 Z3 + 4.666904132277645e-06*X2 Z3 X4 + 4.666904132277645e-06*Y2 Z3 Y4 + (0.06491734184581506+0j)*Z2 Z4 + (0.06707746292480228+0j)*Z2 Z5 + -0.0011474790834005502*X2 Z3 Z4 Z5 X6 + -0.0011474790834005502*Y2 Z3 Z4 Z5 Y6 + (0.045288896393380726+0j)*Z2 Z6 + (0.05364737857176345+0j)*Z2 Z7 + (0.06707746292480228+0j)*Z3 Z4 + 4.666904132277644e-06*X3 Z4 X5 + 4.666904132277644e-06*Y3 Z4 Y5 + (0.06491734184581506+0j)*Z3 Z5 + (0.05364737857176345+0j)*Z3 Z6 + -0.0011474790834005498*X3 Z4 Z5 Z6 X7 + -0.0011474790834005498*Y3 Z4 Z5 Z6 Y7 + (0.045288896393380726+0j)*Z3 Z7 + (0.12646292650454763+0j)*Z4 Z5 + 5.920724264940157e-05*X4 Z5 X6 + 5.920724264940157e-05*Y4 Z5 Y6 + (0.04933525277460422+0j)*Z4 Z6 + (0.05002731782106236+0j)*Z4 Z7 + (0.05002731782106236+0j)*Z5 Z6 + 5.920724264940153e-05*X5 Z6 X7 + 5.920724264940153e-05*Y5 Z6 Y7 + (0.04933525277460422+0j)*Z5 Z7 + (0.05627096753722747+0j)*Z6 Z7 + -0.0018830904519240993*Z0 X1 Z2 X3 + -0.0018830904519240993*Z0 Y1 Z2 Y3 + -1.5119888340629899e-06*Z0 X1 Z2 Z3 Z4 X5 + -1.5119888340629899e-06*Z0 Y1 Z2 Z3 Z4 Y5 + -0.0017622511293993808*Z0 X1 Z2 Z3 Z4 Z5 Z6 X7 + -0.0017622511293993808*Z0 Y1 Z2 Z3 Z4 Z5 Z6 Y7 + -0.0018830904519240993*X0 X2 + -0.0018830904519240993*Y0 Y2 + -1.51198883406299e-06*X0 Z2 Z3 X4 + -1.51198883406299e-06*Y0 Z2 Z3 Y4 + -0.0017622511293993806*X0 Z2 Z3 Z4 Z5 X6 + -0.0017622511293993806*Y0 Z2 Z3 Z4 Z5 Y6 + -0.023554027096621653*X0 X1 Y2 Y3 + 0.023554027096621653*X0 Y1 Y2 X3 + 0.023554027096621653*Y0 X1 X2 Y3 + -0.023554027096621653*Y0 Y1 X2 X3 + 4.508773040112568e-07*X0 X1 Y2 Z3 Z4 Y5 + -4.508773040112568e-07*X0 Y1 Y2 Z3 Z4 X5 + -4.508773040112568e-07*Y0 X1 X2 Z3 Z4 Y5 + 4.508773040112568e-07*Y0 Y1 X2 Z3 Z4 X5 + -2.5528093911517265e-05*X0 X1 Y2 Z3 Z4 Z5 Z6 Y7 + 2.5528093911517265e-05*X0 Y1 Y2 Z3 Z4 Z5 Z6 X7 + 2.5528093911517265e-05*Y0 X1 X2 Z3 Z4 Z5 Z6 Y7 + -2.5528093911517265e-05*Y0 Y1 X2 Z3 Z4 Z5 Z6 X7 + 4.5087730401125684e-07*X0 X1 X3 X4 + 4.5087730401125684e-07*X0 Y1 Y3 X4 + 4.5087730401125684e-07*Y0 X1 X3 Y4 + 4.5087730401125684e-07*Y0 Y1 Y3 Y4 + -2.5528093911517265e-05*X0 X1 X3 Z4 Z5 X6 + -2.5528093911517265e-05*X0 Y1 Y3 Z4 Z5 X6 + -2.5528093911517265e-05*Y0 X1 X3 Z4 Z5 Y6 + -2.5528093911517265e-05*Y0 Y1 Y3 Z4 Z5 Y6 + -0.0010405880827377384*X0 X1 Y4 Y5 + 0.0010405880827377384*X0 Y1 Y4 X5 + 0.0010405880827377384*Y0 X1 X4 Y5 + -0.0010405880827377384*Y0 Y1 X4 X5 + 1.6247650060384376e-05*X0 X1 Y4 Z5 Z6 Y7 + -1.6247650060384376e-05*X0 Y1 Y4 Z5 Z6 X7 + -1.6247650060384376e-05*Y0 X1 X4 Z5 Z6 Y7 + 1.6247650060384376e-05*Y0 Y1 X4 Z5 Z6 X7 + 1.6247650060384376e-05*X0 X1 X5 X6 + 1.6247650060384376e-05*X0 Y1 Y5 X6 + 1.6247650060384376e-05*Y0 X1 X5 Y6 + 1.6247650060384376e-05*Y0 Y1 Y5 Y6 + -0.011941002731861595*X0 X1 Y6 Y7 + 0.011941002731861595*X0 Y1 Y6 X7 + 0.011941002731861595*Y0 X1 X6 Y7 + -0.011941002731861595*Y0 Y1 X6 X7 + -2.1393427020598392e-07*Z0 X2 Z3 X4 + -2.1393427020598392e-07*Z0 Y2 Z3 Y4 + 0.0003624177525560938*Z0 X2 Z3 Z4 Z5 X6 + 0.0003624177525560938*Z0 Y2 Z3 Z4 Z5 Y6 + -1.0865965949784417e-06*X0 Z1 Z3 X4 + -1.0865965949784417e-06*Y0 Z1 Z3 Y4 + -0.006565039296245348*X0 Z1 Z3 Z4 Z5 X6 + -0.006565039296245348*Y0 Z1 Z3 Z4 Z5 Y6 + 1.2533517803653169e-05*X0 Z1 X2 X4 Z5 X6 + 1.4478907554178164e-05*X0 Z1 X2 Y4 Z5 Y6 + -1.945389750524994e-06*X0 Z1 Y2 Y4 Z5 X6 + -1.945389750524994e-06*Y0 Z1 X2 X4 Z5 Y6 + 1.4478907554178164e-05*Y0 Z1 Y2 X4 Z5 X6 + 1.2533517803653169e-05*Y0 Z1 Y2 Y4 Z5 Y6 + 2.369430338052729e-07*Z0 X3 Z4 X5 + 2.369430338052729e-07*Z0 Y3 Z4 Y5 + 0.00033688965864457653*Z0 X3 Z4 Z5 Z6 X7 + 0.00033688965864457653*Z0 Y3 Z4 Z5 Z6 Y7 + 0.001744072256608077*X0 Z1 X2 Z3 + 0.001744072256608077*Y0 Z1 Y2 Z3 + 1.9554193657469892e-06*X0 Z1 X2 X3 Z4 X5 + 1.9554193657469892e-06*X0 Z1 X2 Y3 Z4 Y5 + 1.9554193657469892e-06*Y0 Z1 Y2 X3 Z4 X5 + 1.9554193657469892e-06*Y0 Z1 Y2 Y3 Z4 Y5 + -0.0023511989864324987*X0 Z1 X2 X3 Z4 Z5 Z6 X7 + -0.0023511989864324987*X0 Z1 X2 Y3 Z4 Z5 Z6 Y7 + -0.0023511989864324987*Y0 Z1 Y2 X3 Z4 Z5 Z6 X7 + -0.0023511989864324987*Y0 Z1 Y2 Y3 Z4 Z5 Z6 Y7 + -3.042015960725431e-06*X0 Z1 Z2 X4 + -3.042015960725431e-06*Y0 Z1 Z2 Y4 + -0.00421384030981285*X0 Z1 Z2 Z4 Z5 X6 + -0.00421384030981285*Y0 Z1 Z2 Z4 Z5 Y6 + -4.760056631133679e-05*X0 Z1 Z2 X3 Y4 Y5 + 4.760056631133679e-05*X0 Z1 Z2 Y3 Y4 X5 + 4.760056631133679e-05*Y0 Z1 Z2 X3 X4 Y5 + -4.760056631133679e-05*Y0 Z1 Z2 Y3 X4 X5 + -5.221309820405822e-06*X0 Z1 Z2 X3 Y4 Z5 Z6 Y7 + 5.221309820405822e-06*X0 Z1 Z2 Y3 Y4 Z5 Z6 X7 + 5.221309820405822e-06*Y0 Z1 Z2 X3 X4 Z5 Z6 Y7 + -5.221309820405822e-06*Y0 Z1 Z2 Y3 X4 Z5 Z6 X7 + -7.166699570930816e-06*X0 Z1 Z2 X3 X5 X6 + -7.166699570930816e-06*X0 Z1 Z2 Y3 Y5 X6 + -7.166699570930816e-06*Y0 Z1 Z2 X3 X5 Y6 + -7.166699570930816e-06*Y0 Z1 Z2 Y3 Y5 Y6 + 0.0007650992996480082*X0 Z1 Z2 X3 Y6 Y7 + -0.0007650992996480082*X0 Z1 Z2 Y3 Y6 X7 + -0.0007650992996480082*Y0 Z1 Z2 X3 X6 Y7 + 0.0007650992996480082*Y0 Z1 Z2 Y3 X6 X7 + -1.6053931740152118e-05*Z0 X4 Z5 X6 + -1.6053931740152118e-05*Z0 Y4 Z5 Y6 + -0.000519415621027457*X0 Z1 X2 Z4 + -0.000519415621027457*Y0 Z1 Y2 Z4 + -0.012117020247656433*X0 Z1 Z2 Z3 Z5 X6 + -0.012117020247656433*Y0 Z1 Z2 Z3 Z5 Y6 + 1.9371832023225803e-07*Z0 X5 Z6 X7 + 1.9371832023225803e-07*Z0 Y5 Z6 Y7 + -0.0005670161873387938*X0 Z1 X2 Z5 + -0.0005670161873387938*Y0 Z1 Y2 Z5 + 1.9700217374583988e-05*X0 Z1 X2 X5 Z6 X7 + 1.9700217374583988e-05*X0 Z1 X2 Y5 Z6 Y7 + 1.9700217374583988e-05*Y0 Z1 Y2 X5 Z6 X7 + 1.9700217374583988e-05*Y0 Z1 Y2 Y5 Z6 Y7 + -5.02149676050585e-06*X0 Z1 Z2 Z3 X4 Z5 + -5.02149676050585e-06*Y0 Z1 Z2 Z3 Y4 Z5 + 0.0004865100547836108*X0 Z1 Z2 Z3 X4 X5 Z6 X7 + 0.0004865100547836108*X0 Z1 Z2 Z3 X4 Y5 Z6 Y7 + 0.0004865100547836108*Y0 Z1 Z2 Z3 Y4 X5 Z6 X7 + 0.0004865100547836108*Y0 Z1 Z2 Z3 Y4 Y5 Z6 Y7 + -0.012603530302440043*X0 Z1 Z2 Z3 Z4 X6 + -0.012603530302440043*Y0 Z1 Z2 Z3 Z4 Y6 + -2.53614061197772e-05*X0 Z1 Z2 Z3 Z4 X5 Y6 Y7 + 2.53614061197772e-05*X0 Z1 Z2 Z3 Z4 Y5 Y6 X7 + 2.53614061197772e-05*Y0 Z1 Z2 Z3 Z4 X5 X6 Y7 + -2.53614061197772e-05*Y0 Z1 Z2 Z3 Z4 Y5 X6 X7 + 0.0008893607215407205*X0 Z1 X2 Z6 + 0.0008893607215407205*Y0 Z1 Y2 Z6 + 2.2368994611430264e-05*X0 Z1 Z2 Z3 X4 Z6 + 2.2368994611430264e-05*Y0 Z1 Z2 Z3 Y4 Z6 + 0.0016544600211887287*X0 Z1 X2 Z7 + 0.0016544600211887287*Y0 Z1 Y2 Z7 + -2.9924115083469364e-06*X0 Z1 Z2 Z3 X4 Z7 + -2.9924115083469364e-06*Y0 Z1 Z2 Z3 Y4 Z7 + -0.002078269828843774*X0 Z1 Z2 Z3 Z4 Z5 X6 Z7 + -0.002078269828843774*Y0 Z1 Z2 Z3 Z4 Z5 Y6 Z7 + 2.369430338052729e-07*Z1 X2 Z3 X4 + 2.369430338052729e-07*Z1 Y2 Z3 Y4 + 0.00033688965864457653*Z1 X2 Z3 Z4 Z5 X6 + 0.00033688965864457653*Z1 Y2 Z3 Z4 Z5 Y6 + 0.001744072256608077*X1 X3 + 0.001744072256608077*Y1 Y3 + -3.042015960725431e-06*X1 Z3 Z4 X5 + -3.042015960725431e-06*Y1 Z3 Z4 Y5 + -0.00421384030981285*X1 Z3 Z4 Z5 Z6 X7 + -0.00421384030981285*Y1 Z3 Z4 Z5 Z6 Y7 + -1.9554193657469892e-06*X1 X2 Y3 Y4 + 1.9554193657469892e-06*X1 Y2 Y3 X4 + 1.9554193657469892e-06*Y1 X2 X3 Y4 + -1.9554193657469892e-06*Y1 Y2 X3 X4 + 0.0023511989864324987*X1 X2 Y3 Z4 Z5 Y6 + -0.0023511989864324987*X1 Y2 Y3 Z4 Z5 X6 + -0.0023511989864324987*Y1 X2 X3 Z4 Z5 Y6 + 0.0023511989864324987*Y1 Y2 X3 Z4 Z5 X6 + -4.760056631133679e-05*X1 X2 X4 X5 + -4.760056631133679e-05*X1 Y2 Y4 X5 + -4.760056631133679e-05*Y1 X2 X4 Y5 + -4.760056631133679e-05*Y1 Y2 Y4 Y5 + -7.166699570930816e-06*X1 X2 X4 Z5 Z6 X7 + -7.166699570930816e-06*X1 Y2 Y4 Z5 Z6 X7 + -7.166699570930816e-06*Y1 X2 X4 Z5 Z6 Y7 + -7.166699570930816e-06*Y1 Y2 Y4 Z5 Z6 Y7 + -5.221309820405822e-06*X1 X2 Y5 Y6 + 5.221309820405822e-06*X1 Y2 Y5 X6 + 5.221309820405822e-06*Y1 X2 X5 Y6 + -5.221309820405822e-06*Y1 Y2 X5 X6 + 0.0007650992996480082*X1 X2 X6 X7 + 0.0007650992996480082*X1 Y2 Y6 X7 + 0.0007650992996480082*Y1 X2 X6 Y7 + 0.0007650992996480082*Y1 Y2 Y6 Y7 + -2.1393427020598392e-07*Z1 X3 Z4 X5 + -2.1393427020598392e-07*Z1 Y3 Z4 Y5 + 0.0003624177525560938*Z1 X3 Z4 Z5 Z6 X7 + 0.0003624177525560938*Z1 Y3 Z4 Z5 Z6 Y7 + -1.0865965949784417e-06*X1 Z2 Z4 X5 + -1.0865965949784417e-06*Y1 Z2 Z4 Y5 + -0.006565039296245348*X1 Z2 Z4 Z5 Z6 X7 + -0.006565039296245348*Y1 Z2 Z4 Z5 Z6 Y7 + 1.2533517803653169e-05*X1 Z2 X3 X5 Z6 X7 + 1.4478907554178164e-05*X1 Z2 X3 Y5 Z6 Y7 + -1.945389750524994e-06*X1 Z2 Y3 Y5 Z6 X7 + -1.945389750524994e-06*Y1 Z2 X3 X5 Z6 Y7 + 1.4478907554178164e-05*Y1 Z2 Y3 X5 Z6 X7 + 1.2533517803653169e-05*Y1 Z2 Y3 Y5 Z6 Y7 + 1.9371832023225803e-07*Z1 X4 Z5 X6 + 1.9371832023225803e-07*Z1 Y4 Z5 Y6 + -0.0005670161873387938*X1 Z2 X3 Z4 + -0.0005670161873387938*Y1 Z2 Y3 Z4 + 1.9700217374583988e-05*X1 Z2 X3 X4 Z5 X6 + 1.9700217374583988e-05*X1 Z2 X3 Y4 Z5 Y6 + 1.9700217374583988e-05*Y1 Z2 Y3 X4 Z5 X6 + 1.9700217374583988e-05*Y1 Z2 Y3 Y4 Z5 Y6 + -5.02149676050585e-06*X1 Z2 Z3 X5 + -5.02149676050585e-06*Y1 Z2 Z3 Y5 + -0.012603530302440043*X1 Z2 Z3 Z5 Z6 X7 + -0.012603530302440043*Y1 Z2 Z3 Z5 Z6 Y7 + -0.0004865100547836108*X1 Z2 Z3 X4 Y5 Y6 + 0.0004865100547836108*X1 Z2 Z3 Y4 Y5 X6 + 0.0004865100547836108*Y1 Z2 Z3 X4 X5 Y6 + -0.0004865100547836108*Y1 Z2 Z3 Y4 X5 X6 + -2.53614061197772e-05*X1 Z2 Z3 X4 X6 X7 + -2.53614061197772e-05*X1 Z2 Z3 Y4 Y6 X7 + -2.53614061197772e-05*Y1 Z2 Z3 X4 X6 Y7 + -2.53614061197772e-05*Y1 Z2 Z3 Y4 Y6 Y7 + -1.6053931740152118e-05*Z1 X5 Z6 X7 + -1.6053931740152118e-05*Z1 Y5 Z6 Y7 + -0.000519415621027457*X1 Z2 X3 Z5 + -0.000519415621027457*Y1 Z2 Y3 Z5 + -0.012117020247656433*X1 Z2 Z3 Z4 Z6 X7 + -0.012117020247656433*Y1 Z2 Z3 Z4 Z6 Y7 + 0.0016544600211887287*X1 Z2 X3 Z6 + 0.0016544600211887287*Y1 Z2 Y3 Z6 + -2.9924115083469364e-06*X1 Z2 Z3 Z4 X5 Z6 + -2.9924115083469364e-06*Y1 Z2 Z3 Z4 Y5 Z6 + -0.002078269828843774*X1 Z2 Z3 Z4 Z5 X7 + -0.002078269828843774*Y1 Z2 Z3 Z4 Z5 Y7 + 0.0008893607215407205*X1 Z2 X3 Z7 + 0.0008893607215407205*Y1 Z2 Y3 Z7 + 2.2368994611430264e-05*X1 Z2 Z3 Z4 X5 Z7 + 2.2368994611430264e-05*Y1 Z2 Z3 Z4 Y5 Z7 + -6.729921539985645e-08*Z2 X3 Z4 X5 + -6.729921539985645e-08*Z2 Y3 Z4 Y5 + 0.00017201738192812655*Z2 X3 Z4 Z5 Z6 X7 + 0.00017201738192812655*Z2 Y3 Z4 Z5 Z6 Y7 + -6.729921539985645e-08*X2 X4 + -6.729921539985645e-08*Y2 Y4 + 0.00017201738192812655*X2 Z4 Z5 X6 + 0.00017201738192812655*Y2 Z4 Z5 Y6 + -0.0021601210789872205*X2 X3 Y4 Y5 + 0.0021601210789872205*X2 Y3 Y4 X5 + 0.0021601210789872205*Y2 X3 X4 Y5 + -0.0021601210789872205*Y2 Y3 X4 X5 + 1.032227004873651e-05*X2 X3 Y4 Z5 Z6 Y7 + -1.032227004873651e-05*X2 Y3 Y4 Z5 Z6 X7 + -1.032227004873651e-05*Y2 X3 X4 Z5 Z6 Y7 + 1.032227004873651e-05*Y2 Y3 X4 Z5 Z6 X7 + 1.0322270048736511e-05*X2 X3 X5 X6 + 1.0322270048736511e-05*X2 Y3 Y5 X6 + 1.0322270048736511e-05*Y2 X3 X5 Y6 + 1.0322270048736511e-05*Y2 Y3 Y5 Y6 + -0.008358482178382722*X2 X3 Y6 Y7 + 0.008358482178382722*X2 Y3 Y6 X7 + 0.008358482178382722*Y2 X3 X6 Y7 + -0.008358482178382722*Y2 Y3 X6 X7 + -4.725326967161111e-05*Z2 X4 Z5 X6 + -4.725326967161111e-05*Z2 Y4 Z5 Y6 + 0.0009970901379490766*X2 Z3 Z5 X6 + 0.0009970901379490766*Y2 Z3 Z5 Y6 + -3.69309996228746e-05*Z2 X5 Z6 X7 + -3.69309996228746e-05*Z2 Y5 Z6 Y7 + -1.2570336860557492e-06*X2 Z3 X4 Z5 + -1.2570336860557492e-06*Y2 Z3 Y4 Z5 + -3.430267362299484e-05*X2 Z3 X4 X5 Z6 X7 + -3.430267362299484e-05*X2 Z3 X4 Y5 Z6 Y7 + -3.430267362299484e-05*Y2 Z3 Y4 X5 Z6 X7 + -3.430267362299484e-05*Y2 Z3 Y4 Y5 Z6 Y7 + 0.0010313928115720716*X2 Z3 Z4 X6 + 0.0010313928115720716*Y2 Z3 Z4 Y6 + 4.903153895463329e-06*X2 Z3 Z4 X5 Y6 Y7 + -4.903153895463329e-06*X2 Z3 Z4 Y5 Y6 X7 + -4.903153895463329e-06*Y2 Z3 Z4 X5 X6 Y7 + 4.903153895463329e-06*Y2 Z3 Z4 Y5 X6 X7 + -4.1781098005376565e-06*X2 Z3 X4 Z6 + -4.1781098005376565e-06*Y2 Z3 Y4 Z6 + 7.250440949256716e-07*X2 Z3 X4 Z7 + 7.250440949256716e-07*Y2 Z3 Y4 Z7 + -9.678693518882131e-06*X2 Z3 Z4 Z5 X6 Z7 + -9.678693518882131e-06*Y2 Z3 Z4 Z5 Y6 Z7 + -3.69309996228746e-05*Z3 X4 Z5 X6 + -3.69309996228746e-05*Z3 Y4 Z5 Y6 + -1.2570336860557492e-06*X3 X5 + -1.2570336860557492e-06*Y3 Y5 + 0.0010313928115720716*X3 Z5 Z6 X7 + 0.0010313928115720716*Y3 Z5 Z6 Y7 + 3.430267362299484e-05*X3 X4 Y5 Y6 + -3.430267362299484e-05*X3 Y4 Y5 X6 + -3.430267362299484e-05*Y3 X4 X5 Y6 + 3.430267362299484e-05*Y3 Y4 X5 X6 + 4.903153895463329e-06*X3 X4 X6 X7 + 4.903153895463329e-06*X3 Y4 Y6 X7 + 4.903153895463329e-06*Y3 X4 X6 Y7 + 4.903153895463329e-06*Y3 Y4 Y6 Y7 + -4.725326967161111e-05*Z3 X5 Z6 X7 + -4.725326967161111e-05*Z3 Y5 Z6 Y7 + 0.0009970901379490766*X3 Z4 Z6 X7 + 0.0009970901379490766*Y3 Z4 Z6 Y7 + 7.250440949256716e-07*X3 Z4 X5 Z6 + 7.250440949256716e-07*Y3 Z4 Y5 Z6 + -9.678693518882131e-06*X3 Z4 Z5 X7 + -9.678693518882131e-06*Y3 Z4 Z5 Y7 + -4.1781098005376565e-06*X3 Z4 X5 Z7 + -4.1781098005376565e-06*Y3 Z4 Y5 Z7 + -0.000169026391049879*Z4 X5 Z6 X7 + -0.000169026391049879*Z4 Y5 Z6 Y7 + -0.00016902639104987902*X4 X6 + -0.00016902639104987902*Y4 Y6 + -0.000692065046458148*X4 X5 Y6 Y7 + 0.000692065046458148*X4 Y5 Y6 X7 + 0.000692065046458148*Y4 X5 X6 Y7 + -0.000692065046458148*Y4 Y5 X6 X7 + 9.774843669802568e-06*X4 Z5 X6 Z7 + 9.774843669802568e-06*Y4 Z5 Y6 Z7 + 9.774843669802568e-06*X5 X7 + 9.774843669802568e-06*Y5 Y7\n"
     ]
    }
   ],
   "source": [
    "from scipy.sparse.linalg import eigsh\n",
    "\n",
    "atom = geometry_from_pubchem(\"azobenzene\") \n",
    "mole = gto.M(atom=atom)\n",
    "mf = scf.RHF(mole).run()\n",
    "\n",
    "active_space = cas(4, 4)\n",
    "hamiltonian, mapping = get_qubit_mapped_hamiltonian(\n",
    "    *get_spin_mo_integrals_from_mole(mole, mf.mo_coeff, active_space)\n",
    ")\n",
    "print(\"Hamiltonian: \", hamiltonian)"
   ]
  },
  {
   "cell_type": "markdown",
   "id": "23bb7da4",
   "metadata": {},
   "source": [
    "Compute exact excited state with PySCF."
   ]
  },
  {
   "cell_type": "code",
   "execution_count": 61,
   "id": "4ad51d92",
   "metadata": {},
   "outputs": [
    {
     "name": "stdout",
     "output_type": "stream",
     "text": [
      "CASCI state   0  E = -562.057671219962  E(CI) = -2.20745364895083  S^2 = 0.0000000\n",
      "CASCI state   1  E = -561.829824515092  E(CI) = -1.97960694408039  S^2 = 2.0000000\n",
      "CASCI state   2  E = -561.812652554593  E(CI) = -1.96243498358126  S^2 = 0.0000000\n",
      "CASCI state   3  E = -561.752682574618  E(CI) = -1.90246500360593  S^2 = 2.0000000\n",
      "CASCI state   4  E = -561.747970360663  E(CI) = -1.89775278965169  S^2 = 2.0000000\n",
      "CASCI state   5  E = -561.740607983118  E(CI) = -1.89039041210674  S^2 = 0.0000000\n",
      "CASCI state   6  E = -561.734241645807  E(CI) = -1.88402407479578  S^2 = 2.0000000\n",
      "CASCI state   7  E = -561.682073804748  E(CI) = -1.83185623373618  S^2 = 0.0000000\n",
      "CASCI state   8  E = -561.642062543434  E(CI) = -1.79184497242193  S^2 = 0.0000000\n",
      "CASCI state   9  E = -561.607468237758  E(CI) = -1.75725066674659  S^2 = 6.0000000\n",
      "CASCI state  10  E = -561.586873951967  E(CI) = -1.73665638095497  S^2 = 2.0000000\n"
     ]
    },
    {
     "data": {
      "text/plain": [
       "array([-562.05767122, -561.82982452, -561.81265255, -561.75268257,\n",
       "       -561.74797036, -561.74060798, -561.73424165, -561.6820738 ,\n",
       "       -561.64206254, -561.60746824, -561.58687395])"
      ]
     },
     "execution_count": 61,
     "metadata": {},
     "output_type": "execute_result"
    }
   ],
   "source": [
    "mc = mcscf.CASCI(mf, active_space.n_active_orb, active_space.n_active_ele)\n",
    "mc.fcisolver.nstates = 11\n",
    "mc.kernel(verbose=0)\n",
    "mc.e_tot"
   ]
  },
  {
   "cell_type": "markdown",
   "id": "85de2dbe",
   "metadata": {},
   "source": [
    "Compute CCSD with PySCF with non-trivial active space.\n",
    "Explain the `ActiveSpaceMolecularOrbitals` object in qp. How to use it to identify active orbitals"
   ]
  },
  {
   "cell_type": "code",
   "execution_count": 18,
   "id": "2fd8ac1d",
   "metadata": {},
   "outputs": [],
   "source": [
    "from quri_parts.chem.mol.models import OrbitalType\n",
    "\n",
    "asmo = ActiveSpaceMolecularOrbitals(\n",
    "    PySCFMolecularOrbitals(mole, mf.mo_coeff), active_space\n",
    ")\n",
    "\n",
    "forzen_orbs = [i for i in range(mole.nao) if asmo.orb_type(i) != OrbitalType.ACTIVE]\n",
    "\n",
    "ccsd = cc.CCSD(mf, frozen=forzen_orbs).run(verbose=0)"
   ]
  },
  {
   "cell_type": "code",
   "execution_count": 19,
   "id": "df779f25",
   "metadata": {},
   "outputs": [],
   "source": [
    "from typing import Sequence\n",
    "\n",
    "import numpy.typing as npt\n",
    "\n",
    "\n",
    "def ccsd_param_to_circuit_param(\n",
    "    uccsd: TrotterUCCSD,\n",
    "    n_electrons: int,\n",
    "    t1: npt.NDArray[np.complex128],\n",
    "    t2: npt.NDArray[np.complex128],\n",
    ") -> Sequence[float]:\n",
    "    in_param_list = uccsd.param_mapping.in_params\n",
    "    param_list = []\n",
    "\n",
    "    for param in in_param_list:\n",
    "        name_split = param.name.split(\"_\")\n",
    "        if name_split[0] == \"s\":\n",
    "            _, i_str, j_str = name_split\n",
    "            i, j = int(i_str), int(j_str) - n_electrons // 2\n",
    "            param_list.append(t1[i, j])\n",
    "\n",
    "        if name_split[0] == \"d\":\n",
    "            _, i_str, j_str, a_str, b_str = name_split\n",
    "            i, j, b, a = (\n",
    "                int(i_str),\n",
    "                int(j_str),\n",
    "                int(b_str) - n_electrons // 2,\n",
    "                int(a_str) - n_electrons // 2,\n",
    "            )\n",
    "            param_list.append(t2[i, j, a, b])\n",
    "    return param_list\n"
   ]
  },
  {
   "cell_type": "code",
   "execution_count": 33,
   "id": "609ad6de",
   "metadata": {},
   "outputs": [],
   "source": [
    "from quri_parts.qulacs.estimator import (\n",
    "    create_qulacs_vector_concurrent_parametric_estimator,\n",
    ")\n",
    "from quri_parts.core.state import quantum_state, apply_circuit\n",
    "\n",
    "TROTTER_STEPS = 1\n",
    "USE_SINGLES = True\n",
    "REDUCE_PARAMETER = True\n",
    "\n",
    "uccsd = TrotterUCCSD(\n",
    "    active_space.n_active_orb * 2,\n",
    "    active_space.n_active_ele,\n",
    "    trotter_number=TROTTER_STEPS,\n",
    "    use_singles=USE_SINGLES,\n",
    "    singlet_excitation=REDUCE_PARAMETER,\n",
    ")\n",
    "param = ccsd_param_to_circuit_param(uccsd, active_space.n_active_ele, ccsd.t1, ccsd.t2)\n",
    "hf_state = quantum_state(active_space.n_active_orb * 2, bits=2**active_space.n_active_ele - 1)\n",
    "state = apply_circuit(uccsd, hf_state)\n",
    "uccsd_bound_state = state.bind_parameters(param)"
   ]
  },
  {
   "cell_type": "code",
   "execution_count": null,
   "id": "8c2b29c1",
   "metadata": {},
   "outputs": [],
   "source": [
    "from scipy.special import binom\n",
    "\n",
    "def get_cisd_size(active_space: ActiveSpace) -> int:\n",
    "    n_orb = active_space.n_active_orb\n",
    "    occ = active_space.n_active_ele // 2\n",
    "    un_occ = n_orb - occ\n",
    "    single = binom(occ, 1) * binom(un_occ, 1) * 2\n",
    "    double = binom(occ, 2) * binom(un_occ, 2) * 2 + (binom(occ, 1) * binom(un_occ, 1))**2\n",
    "    return int(1 + single + double)\n",
    "\n",
    "cisd_size = get_cisd_size(active_space)"
   ]
  },
  {
   "cell_type": "code",
   "execution_count": 73,
   "id": "fbf84fd6",
   "metadata": {},
   "outputs": [
    {
     "name": "stdout",
     "output_type": "stream",
     "text": [
      "RCISD root 0  E = -562.0576692731087\n",
      "RCISD root 1  E = -561.8097497841408\n",
      "RCISD root 2  E = -561.7386761840094\n",
      "RCISD root 3  E = -561.6820484814361\n",
      "RCISD root 4  E = -561.6419212432834\n",
      "RCISD root 5  E = -561.5697350286264\n",
      "RCISD root 6  E = -561.4675268864721\n",
      "RCISD root 7  E = -561.4306455754595\n",
      "RCISD root 8  E = -561.404033751234\n",
      "RCISD root 9  E = -561.3631207402732\n",
      "RCISD root 10  E = -561.3208463907112\n"
     ]
    },
    {
     "data": {
      "text/plain": [
       "array([-562.05766927, -561.80974978, -561.73867618, -561.68204848,\n",
       "       -561.64192124, -561.56973503, -561.46752689, -561.43064558,\n",
       "       -561.40403375, -561.36312074, -561.32084639])"
      ]
     },
     "execution_count": 73,
     "metadata": {},
     "output_type": "execute_result"
    }
   ],
   "source": [
    "cisd_solver = ci.CISD(mf, forzen_orbs)\n",
    "cisd_solver.nstates = 11\n",
    "cisd_solver.run().e_tot"
   ]
  },
  {
   "cell_type": "markdown",
   "id": "3ff754d5",
   "metadata": {},
   "source": [
    "# QSCI"
   ]
  },
  {
   "cell_type": "markdown",
   "id": "3381a2ca",
   "metadata": {},
   "source": [
    "Show UCCSD QSCI gives good approximation to GS energy."
   ]
  },
  {
   "cell_type": "code",
   "execution_count": 86,
   "id": "402938fe",
   "metadata": {},
   "outputs": [],
   "source": [
    "from quri_parts.qulacs.sampler import create_qulacs_general_vector_sampler\n",
    "from quri_parts_qsci import qsci\n",
    "\n",
    "BASIS_STATES = None\n",
    "TOTAL_SHOTS = 10000\n",
    "\n",
    "sampler = create_qulacs_general_vector_sampler()\n",
    "\n",
    "bound_state = state.bind_parameters(param)\n",
    "eigs, _ = qsci(\n",
    "    hamiltonian, [bound_state], sampler, total_shots=TOTAL_SHOTS, num_states_pick_out=BASIS_STATES\n",
    ")\n"
   ]
  },
  {
   "cell_type": "markdown",
   "id": "ad933513",
   "metadata": {},
   "source": [
    "Explain \n",
    "1. QSCI for excited states\n",
    "2. How to build the cost function "
   ]
  },
  {
   "cell_type": "code",
   "execution_count": 95,
   "id": "3c7b5b76",
   "metadata": {},
   "outputs": [],
   "source": [
    "import functools\n",
    "from quri_parts.core.state import ComputationalBasisSuperposition\n",
    "\n",
    "def get_qsci_basis_size(qsci_vecs: Sequence[ComputationalBasisSuperposition]) -> int:\n",
    "    return len(\n",
    "        set(functools.reduce(\n",
    "            lambda x, y: x + y, [[b.bits for b in s[1]] for s in qsci_vecs]\n",
    "        ))\n",
    "    )"
   ]
  },
  {
   "cell_type": "code",
   "execution_count": 98,
   "id": "2dca6c25",
   "metadata": {},
   "outputs": [],
   "source": [
    "from typing import Sequence, Callable\n",
    "import numpy as np\n",
    "import numpy.typing as npt\n",
    "from scipy.optimize import minimize\n",
    "from quri_parts.core.state import quantum_state\n",
    "from quri_parts.core.sampling import ConcurrentSampler\n",
    "from quri_parts.core.operator import Operator\n",
    "from quri_parts.core.state import CircuitQuantumState\n",
    "from quri_parts.core.utils.recording import Recorder, recordable\n",
    "\n",
    "def create_state(bits: int, params: npt.NDArray[np.float64]) -> CircuitQuantumState:\n",
    "    approx_circuit = uccsd.bind_parameters(params)\n",
    "    approx_exc_state = quantum_state(approx_circuit.qubit_count, circuit=approx_circuit, bits=bits)\n",
    "    return approx_exc_state\n",
    "\n",
    "\n",
    "@recordable\n",
    "def get_cost(\n",
    "    recorder: Recorder,\n",
    "    exc_bits: Sequence[int], \n",
    "    sampler: ConcurrentSampler, \n",
    "    hamiltonian: Operator, \n",
    "    fixed_state: Sequence[CircuitQuantumState]\n",
    ") -> Callable[[npt.NDArray[np.float64]], float]:\n",
    "    def f(x: npt.NDArray[np.float64]) -> float:\n",
    "        approx_exc_state = create_state(bits=exc_bits, params=x)\n",
    "        quantum_states = fixed_state + [approx_exc_state]\n",
    "        vals, vecs = qsci(\n",
    "            hamiltonian,\n",
    "            quantum_states,\n",
    "            sampler,\n",
    "            total_shots=TOTAL_SHOTS,\n",
    "            num_states_pick_out=BASIS_STATES\n",
    "        )\n",
    "        recorder.info(f\"QSCI basis size ({len(fixed_state)})-th excitation\", get_qsci_basis_size(vecs))\n",
    "        return np.sum(vals)\n",
    "\n",
    "    return f"
   ]
  },
  {
   "cell_type": "markdown",
   "id": "ea2ec1d1",
   "metadata": {},
   "source": [
    "Explain optimization loop. Include grad-based optimizer doesn;t make sense"
   ]
  },
  {
   "cell_type": "code",
   "execution_count": 99,
   "id": "06b791e9",
   "metadata": {},
   "outputs": [
    {
     "ename": "IndexError",
     "evalue": "list index out of range",
     "output_type": "error",
     "traceback": [
      "\u001b[0;31m---------------------------------------------------------------------------\u001b[0m",
      "\u001b[0;31mIndexError\u001b[0m                                Traceback (most recent call last)",
      "Cell \u001b[0;32mIn[99], line 23\u001b[0m\n\u001b[1;32m     15\u001b[0m cost \u001b[38;5;241m=\u001b[39m get_cost(\n\u001b[1;32m     16\u001b[0m     exc_bits\u001b[38;5;241m=\u001b[39mbits,\n\u001b[1;32m     17\u001b[0m     sampler\u001b[38;5;241m=\u001b[39msampler,\n\u001b[1;32m     18\u001b[0m     hamiltonian\u001b[38;5;241m=\u001b[39mhamiltonian,\n\u001b[1;32m     19\u001b[0m     fixed_state\u001b[38;5;241m=\u001b[39mfixed_state\n\u001b[1;32m     20\u001b[0m )\n\u001b[1;32m     22\u001b[0m bounds \u001b[38;5;241m=\u001b[39m [(\u001b[38;5;241m-\u001b[39m\u001b[38;5;241m10\u001b[39m\u001b[38;5;241m*\u001b[39m\u001b[38;5;241m*\u001b[39m\u001b[38;5;241m-\u001b[39m\u001b[38;5;241m1\u001b[39m, \u001b[38;5;241m10\u001b[39m\u001b[38;5;241m*\u001b[39m\u001b[38;5;241m*\u001b[39m\u001b[38;5;241m-\u001b[39m\u001b[38;5;241m1\u001b[39m) \u001b[38;5;28;01mfor\u001b[39;00m _ \u001b[38;5;129;01min\u001b[39;00m \u001b[38;5;28mrange\u001b[39m(uccsd\u001b[38;5;241m.\u001b[39mparameter_count)]\n\u001b[0;32m---> 23\u001b[0m sol \u001b[38;5;241m=\u001b[39m \u001b[43mminimize\u001b[49m\u001b[43m(\u001b[49m\n\u001b[1;32m     24\u001b[0m \u001b[43m    \u001b[49m\u001b[43mcost\u001b[49m\u001b[43m,\u001b[49m\n\u001b[1;32m     25\u001b[0m \u001b[43m    \u001b[49m\u001b[43mx0\u001b[49m\u001b[38;5;241;43m=\u001b[39;49m\u001b[43mnp\u001b[49m\u001b[38;5;241;43m.\u001b[39;49m\u001b[43mrandom\u001b[49m\u001b[38;5;241;43m.\u001b[39;49m\u001b[43muniform\u001b[49m\u001b[43m(\u001b[49m\u001b[38;5;241;43m-\u001b[39;49m\u001b[38;5;241;43m10\u001b[39;49m\u001b[38;5;241;43m*\u001b[39;49m\u001b[38;5;241;43m*\u001b[39;49m\u001b[38;5;241;43m-\u001b[39;49m\u001b[38;5;241;43m2\u001b[39;49m\u001b[43m,\u001b[49m\u001b[43m \u001b[49m\u001b[38;5;241;43m10\u001b[39;49m\u001b[38;5;241;43m*\u001b[39;49m\u001b[38;5;241;43m*\u001b[39;49m\u001b[38;5;241;43m-\u001b[39;49m\u001b[38;5;241;43m2\u001b[39;49m\u001b[43m,\u001b[49m\u001b[43m \u001b[49m\u001b[43muccsd\u001b[49m\u001b[38;5;241;43m.\u001b[39;49m\u001b[43mparameter_count\u001b[49m\u001b[43m)\u001b[49m\u001b[43m,\u001b[49m\n\u001b[1;32m     26\u001b[0m \u001b[43m    \u001b[49m\u001b[43mmethod\u001b[49m\u001b[38;5;241;43m=\u001b[39;49m\u001b[38;5;124;43m\"\u001b[39;49m\u001b[38;5;124;43mCOBYLA\u001b[39;49m\u001b[38;5;124;43m\"\u001b[39;49m\u001b[43m,\u001b[49m\n\u001b[1;32m     27\u001b[0m \u001b[43m    \u001b[49m\u001b[43mbounds\u001b[49m\u001b[38;5;241;43m=\u001b[39;49m\u001b[43mbounds\u001b[49m\u001b[43m,\u001b[49m\n\u001b[1;32m     28\u001b[0m \u001b[43m    \u001b[49m\u001b[43moptions\u001b[49m\u001b[38;5;241;43m=\u001b[39;49m\u001b[43m{\u001b[49m\u001b[38;5;124;43m\"\u001b[39;49m\u001b[38;5;124;43mmaxiter\u001b[39;49m\u001b[38;5;124;43m\"\u001b[39;49m\u001b[43m:\u001b[49m\u001b[43m \u001b[49m\u001b[38;5;241;43m50\u001b[39;49m\u001b[43m,\u001b[49m\u001b[43m \u001b[49m\u001b[38;5;124;43m\"\u001b[39;49m\u001b[38;5;124;43mdisp\u001b[39;49m\u001b[38;5;124;43m\"\u001b[39;49m\u001b[43m:\u001b[49m\u001b[43m \u001b[49m\u001b[38;5;28;43;01mTrue\u001b[39;49;00m\u001b[43m}\u001b[49m\n\u001b[1;32m     29\u001b[0m \u001b[43m\u001b[49m\u001b[43m)\u001b[49m\n\u001b[1;32m     31\u001b[0m excited_state \u001b[38;5;241m=\u001b[39m quantum_state(\n\u001b[1;32m     32\u001b[0m     active_space\u001b[38;5;241m.\u001b[39mn_active_orb \u001b[38;5;241m*\u001b[39m \u001b[38;5;241m2\u001b[39m, bits\u001b[38;5;241m=\u001b[39mbits, circuit\u001b[38;5;241m=\u001b[39muccsd\u001b[38;5;241m.\u001b[39mbind_parameters(sol\u001b[38;5;241m.\u001b[39mx)\n\u001b[1;32m     33\u001b[0m )\n\u001b[1;32m     34\u001b[0m fixed_state\u001b[38;5;241m.\u001b[39mappend(create_state(bits, params\u001b[38;5;241m=\u001b[39msol\u001b[38;5;241m.\u001b[39mx))\n",
      "File \u001b[0;32m~/Desktop/quri-sdk-notebooks/.venv/lib/python3.11/site-packages/scipy/optimize/_minimize.py:737\u001b[0m, in \u001b[0;36mminimize\u001b[0;34m(fun, x0, args, method, jac, hess, hessp, bounds, constraints, tol, callback, options)\u001b[0m\n\u001b[1;32m    734\u001b[0m     res \u001b[38;5;241m=\u001b[39m _minimize_tnc(fun, x0, args, jac, bounds, callback\u001b[38;5;241m=\u001b[39mcallback,\n\u001b[1;32m    735\u001b[0m                         \u001b[38;5;241m*\u001b[39m\u001b[38;5;241m*\u001b[39moptions)\n\u001b[1;32m    736\u001b[0m \u001b[38;5;28;01melif\u001b[39;00m meth \u001b[38;5;241m==\u001b[39m \u001b[38;5;124m'\u001b[39m\u001b[38;5;124mcobyla\u001b[39m\u001b[38;5;124m'\u001b[39m:\n\u001b[0;32m--> 737\u001b[0m     res \u001b[38;5;241m=\u001b[39m \u001b[43m_minimize_cobyla\u001b[49m\u001b[43m(\u001b[49m\u001b[43mfun\u001b[49m\u001b[43m,\u001b[49m\u001b[43m \u001b[49m\u001b[43mx0\u001b[49m\u001b[43m,\u001b[49m\u001b[43m \u001b[49m\u001b[43margs\u001b[49m\u001b[43m,\u001b[49m\u001b[43m \u001b[49m\u001b[43mconstraints\u001b[49m\u001b[43m,\u001b[49m\u001b[43m \u001b[49m\u001b[43mcallback\u001b[49m\u001b[38;5;241;43m=\u001b[39;49m\u001b[43mcallback\u001b[49m\u001b[43m,\u001b[49m\n\u001b[1;32m    738\u001b[0m \u001b[43m                           \u001b[49m\u001b[43mbounds\u001b[49m\u001b[38;5;241;43m=\u001b[39;49m\u001b[43mbounds\u001b[49m\u001b[43m,\u001b[49m\u001b[43m \u001b[49m\u001b[38;5;241;43m*\u001b[39;49m\u001b[38;5;241;43m*\u001b[39;49m\u001b[43moptions\u001b[49m\u001b[43m)\u001b[49m\n\u001b[1;32m    739\u001b[0m \u001b[38;5;28;01melif\u001b[39;00m meth \u001b[38;5;241m==\u001b[39m \u001b[38;5;124m'\u001b[39m\u001b[38;5;124mcobyqa\u001b[39m\u001b[38;5;124m'\u001b[39m:\n\u001b[1;32m    740\u001b[0m     res \u001b[38;5;241m=\u001b[39m _minimize_cobyqa(fun, x0, args, bounds, constraints, callback,\n\u001b[1;32m    741\u001b[0m                            \u001b[38;5;241m*\u001b[39m\u001b[38;5;241m*\u001b[39moptions)\n",
      "File \u001b[0;32m~/Desktop/quri-sdk-notebooks/.venv/lib/python3.11/site-packages/scipy/optimize/_cobyla_py.py:35\u001b[0m, in \u001b[0;36msynchronized.<locals>.wrapper\u001b[0;34m(*args, **kwargs)\u001b[0m\n\u001b[1;32m     32\u001b[0m \u001b[38;5;129m@functools\u001b[39m\u001b[38;5;241m.\u001b[39mwraps(func)\n\u001b[1;32m     33\u001b[0m \u001b[38;5;28;01mdef\u001b[39;00m \u001b[38;5;21mwrapper\u001b[39m(\u001b[38;5;241m*\u001b[39margs, \u001b[38;5;241m*\u001b[39m\u001b[38;5;241m*\u001b[39mkwargs):\n\u001b[1;32m     34\u001b[0m     \u001b[38;5;28;01mwith\u001b[39;00m _module_lock:\n\u001b[0;32m---> 35\u001b[0m         \u001b[38;5;28;01mreturn\u001b[39;00m \u001b[43mfunc\u001b[49m\u001b[43m(\u001b[49m\u001b[38;5;241;43m*\u001b[39;49m\u001b[43margs\u001b[49m\u001b[43m,\u001b[49m\u001b[43m \u001b[49m\u001b[38;5;241;43m*\u001b[39;49m\u001b[38;5;241;43m*\u001b[39;49m\u001b[43mkwargs\u001b[49m\u001b[43m)\u001b[49m\n",
      "File \u001b[0;32m~/Desktop/quri-sdk-notebooks/.venv/lib/python3.11/site-packages/scipy/optimize/_cobyla_py.py:278\u001b[0m, in \u001b[0;36m_minimize_cobyla\u001b[0;34m(fun, x0, args, constraints, rhobeg, tol, maxiter, disp, catol, callback, bounds, **unknown_options)\u001b[0m\n\u001b[1;32m    275\u001b[0m \u001b[38;5;28;01mdef\u001b[39;00m \u001b[38;5;21m_jac\u001b[39m(x, \u001b[38;5;241m*\u001b[39margs):\n\u001b[1;32m    276\u001b[0m     \u001b[38;5;28;01mreturn\u001b[39;00m \u001b[38;5;28;01mNone\u001b[39;00m\n\u001b[0;32m--> 278\u001b[0m sf \u001b[38;5;241m=\u001b[39m \u001b[43m_prepare_scalar_function\u001b[49m\u001b[43m(\u001b[49m\u001b[43mfun\u001b[49m\u001b[43m,\u001b[49m\u001b[43m \u001b[49m\u001b[43mx0\u001b[49m\u001b[43m,\u001b[49m\u001b[43m \u001b[49m\u001b[43margs\u001b[49m\u001b[38;5;241;43m=\u001b[39;49m\u001b[43margs\u001b[49m\u001b[43m,\u001b[49m\u001b[43m \u001b[49m\u001b[43mjac\u001b[49m\u001b[38;5;241;43m=\u001b[39;49m\u001b[43m_jac\u001b[49m\u001b[43m)\u001b[49m\n\u001b[1;32m    280\u001b[0m \u001b[38;5;28;01mdef\u001b[39;00m \u001b[38;5;21mcalcfc\u001b[39m(x, con):\n\u001b[1;32m    281\u001b[0m     f \u001b[38;5;241m=\u001b[39m sf\u001b[38;5;241m.\u001b[39mfun(x)\n",
      "File \u001b[0;32m~/Desktop/quri-sdk-notebooks/.venv/lib/python3.11/site-packages/scipy/optimize/_optimize.py:288\u001b[0m, in \u001b[0;36m_prepare_scalar_function\u001b[0;34m(fun, x0, jac, args, bounds, epsilon, finite_diff_rel_step, hess)\u001b[0m\n\u001b[1;32m    284\u001b[0m     bounds \u001b[38;5;241m=\u001b[39m (\u001b[38;5;241m-\u001b[39mnp\u001b[38;5;241m.\u001b[39minf, np\u001b[38;5;241m.\u001b[39minf)\n\u001b[1;32m    286\u001b[0m \u001b[38;5;66;03m# ScalarFunction caches. Reuse of fun(x) during grad\u001b[39;00m\n\u001b[1;32m    287\u001b[0m \u001b[38;5;66;03m# calculation reduces overall function evaluations.\u001b[39;00m\n\u001b[0;32m--> 288\u001b[0m sf \u001b[38;5;241m=\u001b[39m \u001b[43mScalarFunction\u001b[49m\u001b[43m(\u001b[49m\u001b[43mfun\u001b[49m\u001b[43m,\u001b[49m\u001b[43m \u001b[49m\u001b[43mx0\u001b[49m\u001b[43m,\u001b[49m\u001b[43m \u001b[49m\u001b[43margs\u001b[49m\u001b[43m,\u001b[49m\u001b[43m \u001b[49m\u001b[43mgrad\u001b[49m\u001b[43m,\u001b[49m\u001b[43m \u001b[49m\u001b[43mhess\u001b[49m\u001b[43m,\u001b[49m\n\u001b[1;32m    289\u001b[0m \u001b[43m                    \u001b[49m\u001b[43mfinite_diff_rel_step\u001b[49m\u001b[43m,\u001b[49m\u001b[43m \u001b[49m\u001b[43mbounds\u001b[49m\u001b[43m,\u001b[49m\u001b[43m \u001b[49m\u001b[43mepsilon\u001b[49m\u001b[38;5;241;43m=\u001b[39;49m\u001b[43mepsilon\u001b[49m\u001b[43m)\u001b[49m\n\u001b[1;32m    291\u001b[0m \u001b[38;5;28;01mreturn\u001b[39;00m sf\n",
      "File \u001b[0;32m~/Desktop/quri-sdk-notebooks/.venv/lib/python3.11/site-packages/scipy/optimize/_differentiable_functions.py:222\u001b[0m, in \u001b[0;36mScalarFunction.__init__\u001b[0;34m(self, fun, x0, args, grad, hess, finite_diff_rel_step, finite_diff_bounds, epsilon)\u001b[0m\n\u001b[1;32m    219\u001b[0m     finite_diff_options[\u001b[38;5;124m\"\u001b[39m\u001b[38;5;124mas_linear_operator\u001b[39m\u001b[38;5;124m\"\u001b[39m] \u001b[38;5;241m=\u001b[39m \u001b[38;5;28;01mTrue\u001b[39;00m\n\u001b[1;32m    221\u001b[0m \u001b[38;5;66;03m# Initial function evaluation\u001b[39;00m\n\u001b[0;32m--> 222\u001b[0m \u001b[38;5;28;43mself\u001b[39;49m\u001b[38;5;241;43m.\u001b[39;49m\u001b[43m_update_fun\u001b[49m\u001b[43m(\u001b[49m\u001b[43m)\u001b[49m\n\u001b[1;32m    224\u001b[0m \u001b[38;5;66;03m# Initial gradient evaluation\u001b[39;00m\n\u001b[1;32m    225\u001b[0m \u001b[38;5;28mself\u001b[39m\u001b[38;5;241m.\u001b[39m_wrapped_grad, \u001b[38;5;28mself\u001b[39m\u001b[38;5;241m.\u001b[39m_ngev \u001b[38;5;241m=\u001b[39m _wrapper_grad(\n\u001b[1;32m    226\u001b[0m     grad,\n\u001b[1;32m    227\u001b[0m     fun\u001b[38;5;241m=\u001b[39m\u001b[38;5;28mself\u001b[39m\u001b[38;5;241m.\u001b[39m_wrapped_fun,\n\u001b[1;32m    228\u001b[0m     args\u001b[38;5;241m=\u001b[39margs,\n\u001b[1;32m    229\u001b[0m     finite_diff_options\u001b[38;5;241m=\u001b[39mfinite_diff_options\n\u001b[1;32m    230\u001b[0m )\n",
      "File \u001b[0;32m~/Desktop/quri-sdk-notebooks/.venv/lib/python3.11/site-packages/scipy/optimize/_differentiable_functions.py:294\u001b[0m, in \u001b[0;36mScalarFunction._update_fun\u001b[0;34m(self)\u001b[0m\n\u001b[1;32m    292\u001b[0m \u001b[38;5;28;01mdef\u001b[39;00m \u001b[38;5;21m_update_fun\u001b[39m(\u001b[38;5;28mself\u001b[39m):\n\u001b[1;32m    293\u001b[0m     \u001b[38;5;28;01mif\u001b[39;00m \u001b[38;5;129;01mnot\u001b[39;00m \u001b[38;5;28mself\u001b[39m\u001b[38;5;241m.\u001b[39mf_updated:\n\u001b[0;32m--> 294\u001b[0m         fx \u001b[38;5;241m=\u001b[39m \u001b[38;5;28;43mself\u001b[39;49m\u001b[38;5;241;43m.\u001b[39;49m\u001b[43m_wrapped_fun\u001b[49m\u001b[43m(\u001b[49m\u001b[38;5;28;43mself\u001b[39;49m\u001b[38;5;241;43m.\u001b[39;49m\u001b[43mx\u001b[49m\u001b[43m)\u001b[49m\n\u001b[1;32m    295\u001b[0m         \u001b[38;5;28;01mif\u001b[39;00m fx \u001b[38;5;241m<\u001b[39m \u001b[38;5;28mself\u001b[39m\u001b[38;5;241m.\u001b[39m_lowest_f:\n\u001b[1;32m    296\u001b[0m             \u001b[38;5;28mself\u001b[39m\u001b[38;5;241m.\u001b[39m_lowest_x \u001b[38;5;241m=\u001b[39m \u001b[38;5;28mself\u001b[39m\u001b[38;5;241m.\u001b[39mx\n",
      "File \u001b[0;32m~/Desktop/quri-sdk-notebooks/.venv/lib/python3.11/site-packages/scipy/optimize/_differentiable_functions.py:20\u001b[0m, in \u001b[0;36m_wrapper_fun.<locals>.wrapped\u001b[0;34m(x)\u001b[0m\n\u001b[1;32m     16\u001b[0m ncalls[\u001b[38;5;241m0\u001b[39m] \u001b[38;5;241m+\u001b[39m\u001b[38;5;241m=\u001b[39m \u001b[38;5;241m1\u001b[39m\n\u001b[1;32m     17\u001b[0m \u001b[38;5;66;03m# Send a copy because the user may overwrite it.\u001b[39;00m\n\u001b[1;32m     18\u001b[0m \u001b[38;5;66;03m# Overwriting results in undefined behaviour because\u001b[39;00m\n\u001b[1;32m     19\u001b[0m \u001b[38;5;66;03m# fun(self.x) will change self.x, with the two no longer linked.\u001b[39;00m\n\u001b[0;32m---> 20\u001b[0m fx \u001b[38;5;241m=\u001b[39m \u001b[43mfun\u001b[49m\u001b[43m(\u001b[49m\u001b[43mnp\u001b[49m\u001b[38;5;241;43m.\u001b[39;49m\u001b[43mcopy\u001b[49m\u001b[43m(\u001b[49m\u001b[43mx\u001b[49m\u001b[43m)\u001b[49m\u001b[43m,\u001b[49m\u001b[43m \u001b[49m\u001b[38;5;241;43m*\u001b[39;49m\u001b[43margs\u001b[49m\u001b[43m)\u001b[49m\n\u001b[1;32m     21\u001b[0m \u001b[38;5;66;03m# Make sure the function returns a true scalar\u001b[39;00m\n\u001b[1;32m     22\u001b[0m \u001b[38;5;28;01mif\u001b[39;00m \u001b[38;5;129;01mnot\u001b[39;00m np\u001b[38;5;241m.\u001b[39misscalar(fx):\n",
      "Cell \u001b[0;32mIn[98], line 35\u001b[0m, in \u001b[0;36mget_cost.<locals>.f\u001b[0;34m(x)\u001b[0m\n\u001b[1;32m     27\u001b[0m quantum_states \u001b[38;5;241m=\u001b[39m fixed_state \u001b[38;5;241m+\u001b[39m [approx_exc_state]\n\u001b[1;32m     28\u001b[0m vals, vecs \u001b[38;5;241m=\u001b[39m qsci(\n\u001b[1;32m     29\u001b[0m     hamiltonian,\n\u001b[1;32m     30\u001b[0m     quantum_states,\n\u001b[0;32m   (...)\u001b[0m\n\u001b[1;32m     33\u001b[0m     num_states_pick_out\u001b[38;5;241m=\u001b[39mBASIS_STATES\n\u001b[1;32m     34\u001b[0m )\n\u001b[0;32m---> 35\u001b[0m \u001b[43mrecorder\u001b[49m\u001b[38;5;241;43m.\u001b[39;49m\u001b[43minfo\u001b[49m\u001b[43m(\u001b[49m\u001b[38;5;124;43mf\u001b[39;49m\u001b[38;5;124;43m\"\u001b[39;49m\u001b[38;5;124;43mQSCI basis size (\u001b[39;49m\u001b[38;5;132;43;01m{\u001b[39;49;00m\u001b[38;5;28;43mlen\u001b[39;49m\u001b[43m(\u001b[49m\u001b[43mfixed_state\u001b[49m\u001b[43m)\u001b[49m\u001b[38;5;132;43;01m}\u001b[39;49;00m\u001b[38;5;124;43m)-th excitation\u001b[39;49m\u001b[38;5;124;43m\"\u001b[39;49m\u001b[43m,\u001b[49m\u001b[43m \u001b[49m\u001b[43mget_qsci_basis_size\u001b[49m\u001b[43m(\u001b[49m\u001b[43mvecs\u001b[49m\u001b[43m)\u001b[49m\u001b[43m)\u001b[49m\n\u001b[1;32m     36\u001b[0m \u001b[38;5;28;01mreturn\u001b[39;00m np\u001b[38;5;241m.\u001b[39msum(vals)\n",
      "File \u001b[0;32m~/Desktop/quri-sdk-notebooks/.venv/lib/python3.11/site-packages/quri_parts/core/utils/recording.py:162\u001b[0m, in \u001b[0;36mRecorder.info\u001b[0;34m(self, key, value)\u001b[0m\n\u001b[1;32m    160\u001b[0m \u001b[38;5;28;01mdef\u001b[39;00m \u001b[38;5;21minfo\u001b[39m(\u001b[38;5;28mself\u001b[39m, key: _RecKey, value: _RecValue) \u001b[38;5;241m-\u001b[39m\u001b[38;5;241m>\u001b[39m \u001b[38;5;28;01mNone\u001b[39;00m:\n\u001b[1;32m    161\u001b[0m \u001b[38;5;250m    \u001b[39m\u001b[38;5;124;03m\"\"\"Records the given data with `INFO` level.\"\"\"\u001b[39;00m\n\u001b[0;32m--> 162\u001b[0m     \u001b[38;5;28;43mself\u001b[39;49m\u001b[38;5;241;43m.\u001b[39;49m\u001b[43mrecord\u001b[49m\u001b[43m(\u001b[49m\u001b[43mINFO\u001b[49m\u001b[43m,\u001b[49m\u001b[43m \u001b[49m\u001b[43mkey\u001b[49m\u001b[43m,\u001b[49m\u001b[43m \u001b[49m\u001b[43mvalue\u001b[49m\u001b[43m)\u001b[49m\n",
      "File \u001b[0;32m~/Desktop/quri-sdk-notebooks/.venv/lib/python3.11/site-packages/quri_parts/core/utils/recording.py:154\u001b[0m, in \u001b[0;36mRecorder.record\u001b[0;34m(self, level, key, value)\u001b[0m\n\u001b[1;32m    152\u001b[0m \u001b[38;5;28;01mfor\u001b[39;00m session \u001b[38;5;129;01min\u001b[39;00m _active_sessions:\n\u001b[1;32m    153\u001b[0m     \u001b[38;5;28;01mif\u001b[39;00m session\u001b[38;5;241m.\u001b[39mis_enabled_for(level, \u001b[38;5;28mself\u001b[39m\u001b[38;5;241m.\u001b[39m_func_id):\n\u001b[0;32m--> 154\u001b[0m         \u001b[43msession\u001b[49m\u001b[38;5;241;43m.\u001b[39;49m\u001b[43mhandler\u001b[49m\u001b[43m(\u001b[49m\u001b[43mlevel\u001b[49m\u001b[43m,\u001b[49m\u001b[43m \u001b[49m\u001b[38;5;28;43mself\u001b[39;49m\u001b[38;5;241;43m.\u001b[39;49m\u001b[43m_func_id\u001b[49m\u001b[43m,\u001b[49m\u001b[43m \u001b[49m\u001b[43mkey\u001b[49m\u001b[43m,\u001b[49m\u001b[43m \u001b[49m\u001b[43mvalue\u001b[49m\u001b[43m)\u001b[49m\n",
      "File \u001b[0;32m~/Desktop/quri-sdk-notebooks/.venv/lib/python3.11/site-packages/quri_parts/core/utils/recording.py:306\u001b[0m, in \u001b[0;36mRecordSession.handler\u001b[0;34m(self, level, fid, key, value)\u001b[0m\n\u001b[1;32m    300\u001b[0m \u001b[38;5;250m\u001b[39m\u001b[38;5;124;03m\"\"\"Handles a data recording event.\u001b[39;00m\n\u001b[1;32m    301\u001b[0m \n\u001b[1;32m    302\u001b[0m \u001b[38;5;124;03mInternally, a :class:`RecordEntry` for the event is created and\u001b[39;00m\n\u001b[1;32m    303\u001b[0m \u001b[38;5;124;03mloggers associated with the session are invoked.\u001b[39;00m\n\u001b[1;32m    304\u001b[0m \u001b[38;5;124;03m\"\"\"\u001b[39;00m\n\u001b[1;32m    305\u001b[0m entry \u001b[38;5;241m=\u001b[39m RecordEntry(level, fid, (key, value))\n\u001b[0;32m--> 306\u001b[0m group \u001b[38;5;241m=\u001b[39m \u001b[38;5;28;43mself\u001b[39;49m\u001b[38;5;241;43m.\u001b[39;49m\u001b[43m_group_stack\u001b[49m\u001b[43m[\u001b[49m\u001b[38;5;241;43m-\u001b[39;49m\u001b[38;5;241;43m1\u001b[39;49m\u001b[43m]\u001b[49m\n\u001b[1;32m    307\u001b[0m group\u001b[38;5;241m.\u001b[39madd_entry(entry)\n\u001b[1;32m    308\u001b[0m \u001b[38;5;28mself\u001b[39m\u001b[38;5;241m.\u001b[39m_log(entry, group)\n",
      "\u001b[0;31mIndexError\u001b[0m: list index out of range"
     ]
    }
   ],
   "source": [
    "from quri_parts.core.utils.recording import INFO, RecordSession\n",
    "\n",
    "# Create a record session and set the record level\n",
    "session = RecordSession()\n",
    "session.set_level(INFO, get_cost)\n",
    "\n",
    "sampler = create_qulacs_general_vector_sampler()\n",
    "\n",
    "exc_masks = [0 for _ in range(10)]\n",
    "fixed_state = [uccsd_bound_state]\n",
    "\n",
    "with session.start():\n",
    "    for exc_mask in exc_masks:\n",
    "        bits = (2**active_space.n_active_ele - 1) ^ exc_mask\n",
    "        cost = get_cost(\n",
    "            exc_bits=bits,\n",
    "            sampler=sampler,\n",
    "            hamiltonian=hamiltonian,\n",
    "            fixed_state=fixed_state\n",
    "        )\n",
    "\n",
    "        bounds = [(-10**-1, 10**-1) for _ in range(uccsd.parameter_count)]\n",
    "        sol = minimize(\n",
    "            cost,\n",
    "            x0=np.random.uniform(-10**-2, 10**-2, uccsd.parameter_count),\n",
    "            method=\"COBYLA\",\n",
    "            bounds=bounds,\n",
    "            options={\"maxiter\": 50, \"disp\": True}\n",
    "        )\n",
    "\n",
    "        excited_state = quantum_state(\n",
    "            active_space.n_active_orb * 2, bits=bits, circuit=uccsd.bind_parameters(sol.x)\n",
    "        )\n",
    "        fixed_state.append(create_state(bits, params=sol.x))\n"
   ]
  },
  {
   "cell_type": "code",
   "execution_count": 77,
   "id": "594ef354",
   "metadata": {},
   "outputs": [
    {
     "data": {
      "text/plain": [
       "array([-562.05766927, -561.82694646, -561.80974978, -561.75263823,\n",
       "       -561.74600883, -561.73867618, -561.73413462, -561.68204848,\n",
       "       -561.64192124, -561.60746824, -561.58687247])"
      ]
     },
     "execution_count": 77,
     "metadata": {},
     "output_type": "execute_result"
    }
   ],
   "source": [
    "qsci(hamiltonian, fixed_state, sampler, TOTAL_SHOTS, BASIS_STATES)[0]"
   ]
  },
  {
   "cell_type": "code",
   "execution_count": 58,
   "id": "e0f1b23a",
   "metadata": {},
   "outputs": [
    {
     "data": {
      "text/plain": [
       "array([-562.05767122, -561.82982452, -561.81265255, -561.75268257,\n",
       "       -561.74797036, -561.74060798, -561.73424165, -561.6820738 ,\n",
       "       -561.64206254, -561.60746824, -561.58687395])"
      ]
     },
     "execution_count": 58,
     "metadata": {},
     "output_type": "execute_result"
    }
   ],
   "source": [
    "mc.e_tot"
   ]
  },
  {
   "cell_type": "markdown",
   "id": "7b69e468",
   "metadata": {},
   "source": [
    "Plot"
   ]
  },
  {
   "cell_type": "code",
   "execution_count": 89,
   "id": "fc2da93c",
   "metadata": {},
   "outputs": [
    {
     "data": {
      "text/plain": [
       "36"
      ]
     },
     "execution_count": 89,
     "metadata": {},
     "output_type": "execute_result"
    }
   ],
   "source": [
    "import functools\n",
    "\n",
    "len(set(functools.reduce(\n",
    "    lambda x, y: x + y,\n",
    "    [[b.bits for b in s[1]] for s in qsci(hamiltonian, fixed_state, sampler, TOTAL_SHOTS, BASIS_STATES)[1]]\n",
    ")))"
   ]
  }
 ],
 "metadata": {
  "kernelspec": {
   "display_name": ".venv",
   "language": "python",
   "name": "python3"
  },
  "language_info": {
   "codemirror_mode": {
    "name": "ipython",
    "version": 3
   },
   "file_extension": ".py",
   "mimetype": "text/x-python",
   "name": "python",
   "nbconvert_exporter": "python",
   "pygments_lexer": "ipython3",
   "version": "3.11.10"
  }
 },
 "nbformat": 4,
 "nbformat_minor": 5
}
