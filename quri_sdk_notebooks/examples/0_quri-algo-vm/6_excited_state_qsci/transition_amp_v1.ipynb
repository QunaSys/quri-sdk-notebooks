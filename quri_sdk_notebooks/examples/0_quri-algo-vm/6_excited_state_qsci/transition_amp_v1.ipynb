{
 "cells": [
  {
   "cell_type": "code",
   "execution_count": 1,
   "id": "1ca2ae90",
   "metadata": {},
   "outputs": [],
   "source": [
    "import numpy as np\n",
    "from openfermion.chem import geometry_from_pubchem\n",
    "from quri_parts.chem import cas\n",
    "from quri_parts.pyscf.mol import get_spin_mo_integrals_from_mole\n",
    "from quri_parts.openfermion.mol import get_qubit_mapped_hamiltonian\n",
    "from quri_parts.openfermion.ansatz import TrotterUCCSD\n",
    "from quri_parts.core.operator import get_sparse_matrix\n",
    "from pyscf import gto, scf, mcscf, cc\n",
    "from quri_parts_qsci import qsci\n",
    "from quri_parts.chem.mol import ActiveSpaceMolecularOrbitals, ActiveSpace\n",
    "from quri_parts.pyscf.mol import PySCFMolecularOrbitals\n",
    "from quri_parts.core.state import quantum_state\n",
    "\n",
    "from typing import Sequence\n",
    "\n",
    "import numpy.typing as npt"
   ]
  },
  {
   "cell_type": "markdown",
   "id": "5196849c",
   "metadata": {},
   "source": [
    "# Generate Hamiltonian of AB (azobenzene)\n",
    "1. Hamiltonian\n",
    "2. Exact ground state energy\n",
    "3. Approximated energy includes electron correlation effects from single and double excitations. "
   ]
  },
  {
   "cell_type": "code",
   "execution_count": 2,
   "id": "a49e0a60",
   "metadata": {},
   "outputs": [],
   "source": [
    "def from_Hartree_to_eV(Hartree_energy):\n",
    "    return Hartree_energy/27.21"
   ]
  },
  {
   "cell_type": "code",
   "execution_count": 5,
   "id": "cc3e5272",
   "metadata": {},
   "outputs": [
    {
     "name": "stdout",
     "output_type": "stream",
     "text": [
      "converged SCF energy = -562.053344724961\n",
      "Hamiltonian:  (-561.2163615469058+0j)*I + (0.07929207448091026+0j)*Z0 + (0.07929207448091027+0j)*Z1 + (0.041737792195638924+0j)*Z2 + (0.04173779219563891+0j)*Z3 + (-0.1111972682302581+0j)*Z4 + (-0.11119726823025808+0j)*Z5 + (-0.08721715886291209+0j)*Z6 + (-0.08721715886291209+0j)*Z7 + (0.05488979713052594+0j)*Z0 Z1 + -0.0015964182706902658*X0 Z1 X2 + -0.0015964182706902658*Y0 Z1 Y2 + (0.02999048482644298+0j)*Z0 Z2 + (0.053544511923058855+0j)*Z0 Z3 + -1.9995608177153797e-05*X0 Z1 Z2 Z3 X4 + -1.9995608177153797e-05*Y0 Z1 Z2 Z3 Y4 + (0.049962972036537816+0j)*Z0 Z4 + (0.051003560119276446+0j)*Z0 Z5 + 0.014257630971906847*X0 Z1 Z2 Z3 Z4 Z5 X6 + 0.014257630971906847*Y0 Z1 Z2 Z3 Z4 Z5 Y6 + (0.0429566535937987+0j)*Z0 Z6 + (0.05489765632566161+0j)*Z0 Z7 + (0.053544511923058855+0j)*Z1 Z2 + -0.0015964182706902658*X1 Z2 X3 + -0.0015964182706902658*Y1 Z2 Y3 + (0.02999048482644298+0j)*Z1 Z3 + (0.051003560119276446+0j)*Z1 Z4 + -1.9995608177153797e-05*X1 Z2 Z3 Z4 X5 + -1.9995608177153797e-05*Y1 Z2 Z3 Z4 Y5 + (0.049962972036537816+0j)*Z1 Z5 + (0.05489765632566161+0j)*Z1 Z6 + 0.014257630971906849*X1 Z2 Z3 Z4 Z5 Z6 X7 + 0.014257630971906849*Y1 Z2 Z3 Z4 Z5 Z6 Y7 + (0.0429566535937987+0j)*Z1 Z7 + (0.05799042724652125+0j)*Z2 Z3 + 4.666904135624567e-06*X2 Z3 X4 + 4.666904135624567e-06*Y2 Z3 Y4 + (0.0649173418458103+0j)*Z2 Z4 + (0.0670774629247976+0j)*Z2 Z5 + -0.0011474790833881248*X2 Z3 Z4 Z5 X6 + -0.0011474790833881248*Y2 Z3 Z4 Z5 Y6 + (0.04528889639337697+0j)*Z2 Z6 + (0.05364737857175799+0j)*Z2 Z7 + (0.0670774629247976+0j)*Z3 Z4 + 4.666904135624567e-06*X3 Z4 X5 + 4.666904135624567e-06*Y3 Z4 Y5 + (0.0649173418458103+0j)*Z3 Z5 + (0.05364737857175799+0j)*Z3 Z6 + -0.0011474790833881248*X3 Z4 Z5 Z6 X7 + -0.0011474790833881248*Y3 Z4 Z5 Z6 Y7 + (0.04528889639337697+0j)*Z3 Z7 + (0.12646292650453195+0j)*Z4 Z5 + 5.920724267810121e-05*X4 Z5 X6 + 5.920724267810121e-05*Y4 Z5 Y6 + (0.049335252774601476+0j)*Z4 Z6 + (0.05002731782106036+0j)*Z4 Z7 + (0.05002731782106036+0j)*Z5 Z6 + 5.920724267810121e-05*X5 Z6 X7 + 5.920724267810121e-05*Y5 Z6 Y7 + (0.049335252774601476+0j)*Z5 Z7 + (0.05627096753721289+0j)*Z6 Z7 + -0.001883090451958597*Z0 X1 Z2 X3 + -0.001883090451958597*Z0 Y1 Z2 Y3 + -1.511988833294732e-06*Z0 X1 Z2 Z3 Z4 X5 + -1.511988833294732e-06*Z0 Y1 Z2 Z3 Z4 Y5 + -0.0017622511294000248*Z0 X1 Z2 Z3 Z4 Z5 Z6 X7 + -0.0017622511294000248*Z0 Y1 Z2 Z3 Z4 Z5 Z6 Y7 + -0.001883090451958597*X0 X2 + -0.001883090451958597*Y0 Y2 + -1.511988833294732e-06*X0 Z2 Z3 X4 + -1.511988833294732e-06*Y0 Z2 Z3 Y4 + -0.0017622511294000248*X0 Z2 Z3 Z4 Z5 X6 + -0.0017622511294000248*Y0 Z2 Z3 Z4 Z5 Y6 + -0.023554027096615877*X0 X1 Y2 Y3 + 0.023554027096615877*X0 Y1 Y2 X3 + 0.023554027096615877*Y0 X1 X2 Y3 + -0.023554027096615877*Y0 Y1 X2 X3 + 4.508773040210168e-07*X0 X1 Y2 Z3 Z4 Y5 + -4.508773040210168e-07*X0 Y1 Y2 Z3 Z4 X5 + -4.508773040210168e-07*Y0 X1 X2 Z3 Z4 Y5 + 4.508773040210168e-07*Y0 Y1 X2 Z3 Z4 X5 + -2.5528093911019752e-05*X0 X1 Y2 Z3 Z4 Z5 Z6 Y7 + 2.5528093911019752e-05*X0 Y1 Y2 Z3 Z4 Z5 Z6 X7 + 2.5528093911019752e-05*Y0 X1 X2 Z3 Z4 Z5 Z6 Y7 + -2.5528093911019752e-05*Y0 Y1 X2 Z3 Z4 Z5 Z6 X7 + 4.508773040210167e-07*X0 X1 X3 X4 + 4.508773040210167e-07*X0 Y1 Y3 X4 + 4.508773040210167e-07*Y0 X1 X3 Y4 + 4.508773040210167e-07*Y0 Y1 Y3 Y4 + -2.5528093911019752e-05*X0 X1 X3 Z4 Z5 X6 + -2.5528093911019752e-05*X0 Y1 Y3 Z4 Z5 X6 + -2.5528093911019752e-05*Y0 X1 X3 Z4 Z5 Y6 + -2.5528093911019752e-05*Y0 Y1 Y3 Z4 Z5 Y6 + -0.001040588082738633*X0 X1 Y4 Y5 + 0.001040588082738633*X0 Y1 Y4 X5 + 0.001040588082738633*Y0 X1 X4 Y5 + -0.001040588082738633*Y0 Y1 X4 X5 + 1.6247650068615754e-05*X0 X1 Y4 Z5 Z6 Y7 + -1.6247650068615754e-05*X0 Y1 Y4 Z5 Z6 X7 + -1.6247650068615754e-05*Y0 X1 X4 Z5 Z6 Y7 + 1.6247650068615754e-05*Y0 Y1 X4 Z5 Z6 X7 + 1.6247650068615754e-05*X0 X1 X5 X6 + 1.6247650068615754e-05*X0 Y1 Y5 X6 + 1.6247650068615754e-05*Y0 X1 X5 Y6 + 1.6247650068615754e-05*Y0 Y1 Y5 Y6 + -0.011941002731862905*X0 X1 Y6 Y7 + 0.011941002731862905*X0 Y1 Y6 X7 + 0.011941002731862905*Y0 X1 X6 Y7 + -0.011941002731862905*Y0 Y1 X6 X7 + -2.1393426994736774e-07*Z0 X2 Z3 X4 + -2.1393426994736774e-07*Z0 Y2 Z3 Y4 + 0.00036241775255750413*Z0 X2 Z3 Z4 Z5 X6 + 0.00036241775255750413*Z0 Y2 Z3 Z4 Z5 Y6 + -1.0865965929329441e-06*X0 Z1 Z3 X4 + -1.0865965929329441e-06*Y0 Z1 Z3 Y4 + -0.006565039296245316*X0 Z1 Z3 Z4 Z5 X6 + -0.006565039296245316*Y0 Z1 Z3 Z4 Z5 Y6 + 1.2533517795661488e-05*X0 Z1 X2 X4 Z5 X6 + 1.4478907546328967e-05*X0 Z1 X2 Y4 Z5 Y6 + -1.9453897506674784e-06*X0 Z1 Y2 Y4 Z5 X6 + -1.9453897506674784e-06*Y0 Z1 X2 X4 Z5 Y6 + 1.4478907546328967e-05*Y0 Z1 Y2 X4 Z5 X6 + 1.2533517795661488e-05*Y0 Z1 Y2 Y4 Z5 Y6 + 2.3694303407364906e-07*Z0 X3 Z4 X5 + 2.3694303407364906e-07*Z0 Y3 Z4 Y5 + 0.0003368896586464844*Z0 X3 Z4 Z5 Z6 X7 + 0.0003368896586464844*Z0 Y3 Z4 Z5 Z6 Y7 + 0.0017440722566440965*X0 Z1 X2 Z3 + 0.0017440722566440965*Y0 Z1 Y2 Z3 + 1.9554193661155744e-06*X0 Z1 X2 X3 Z4 X5 + 1.9554193661155744e-06*X0 Z1 X2 Y3 Z4 Y5 + 1.9554193661155744e-06*Y0 Z1 Y2 X3 Z4 X5 + 1.9554193661155744e-06*Y0 Z1 Y2 Y3 Z4 Y5 + -0.002351198986432218*X0 Z1 X2 X3 Z4 Z5 Z6 X7 + -0.002351198986432218*X0 Z1 X2 Y3 Z4 Z5 Z6 Y7 + -0.002351198986432218*Y0 Z1 Y2 X3 Z4 Z5 Z6 X7 + -0.002351198986432218*Y0 Z1 Y2 Y3 Z4 Z5 Z6 Y7 + -3.0420159590485183e-06*X0 Z1 Z2 X4 + -3.0420159590485183e-06*Y0 Z1 Z2 Y4 + -0.004213840309813098*X0 Z1 Z2 Z4 Z5 X6 + -0.004213840309813098*Y0 Z1 Z2 Z4 Z5 Y6 + -4.7600566313721413e-05*X0 Z1 Z2 X3 Y4 Y5 + 4.7600566313721413e-05*X0 Z1 Z2 Y3 Y4 X5 + 4.7600566313721413e-05*Y0 Z1 Z2 X3 X4 Y5 + -4.7600566313721413e-05*Y0 Z1 Z2 Y3 X4 X5 + -5.221309817401505e-06*X0 Z1 Z2 X3 Y4 Z5 Z6 Y7 + 5.221309817401505e-06*X0 Z1 Z2 Y3 Y4 Z5 Z6 X7 + 5.221309817401505e-06*Y0 Z1 Z2 X3 X4 Z5 Z6 Y7 + -5.221309817401505e-06*Y0 Z1 Z2 Y3 X4 Z5 Z6 X7 + -7.166699568068985e-06*X0 Z1 Z2 X3 X5 X6 + -7.166699568068985e-06*X0 Z1 Z2 Y3 Y5 X6 + -7.166699568068985e-06*Y0 Z1 Z2 X3 X5 Y6 + -7.166699568068985e-06*Y0 Z1 Z2 Y3 Y5 Y6 + 0.0007650992996173949*X0 Z1 Z2 X3 Y6 Y7 + -0.0007650992996173949*X0 Z1 Z2 Y3 Y6 X7 + -0.0007650992996173949*Y0 Z1 Z2 X3 X6 Y7 + 0.0007650992996173949*Y0 Z1 Z2 Y3 X6 X7 + -1.605393175005943e-05*Z0 X4 Z5 X6 + -1.605393175005943e-05*Z0 Y4 Z5 Y6 + -0.0005194156210525517*X0 Z1 X2 Z4 + -0.0005194156210525517*Y0 Z1 Y2 Z4 + -0.012117020247655782*X0 Z1 Z2 Z3 Z5 X6 + -0.012117020247655782*Y0 Z1 Z2 Z3 Z5 Y6 + 1.93718318556325e-07*Z0 X5 Z6 X7 + 1.93718318556325e-07*Z0 Y5 Z6 Y7 + -0.0005670161873662732*X0 Z1 X2 Z5 + -0.0005670161873662732*Y0 Z1 Y2 Z5 + 1.9700217363730474e-05*X0 Z1 X2 X5 Z6 X7 + 1.9700217363730474e-05*X0 Z1 X2 Y5 Z6 Y7 + 1.9700217363730474e-05*Y0 Z1 Y2 X5 Z6 X7 + 1.9700217363730474e-05*Y0 Z1 Y2 Y5 Z6 Y7 + -5.021496755856268e-06*X0 Z1 Z2 Z3 X4 Z5 + -5.021496755856268e-06*Y0 Z1 Z2 Z3 Y4 Z5 + 0.0004865100547836042*X0 Z1 Z2 Z3 X4 X5 Z6 X7 + 0.0004865100547836042*X0 Z1 Z2 Z3 X4 Y5 Z6 Y7 + 0.0004865100547836042*Y0 Z1 Z2 Z3 Y4 X5 Z6 X7 + 0.0004865100547836042*Y0 Z1 Z2 Z3 Y4 Y5 Z6 Y7 + -0.012603530302439386*X0 Z1 Z2 Z3 Z4 X6 + -0.012603530302439386*Y0 Z1 Z2 Z3 Z4 Y6 + -2.5361406134917374e-05*X0 Z1 Z2 Z3 Z4 X5 Y6 Y7 + 2.5361406134917374e-05*X0 Z1 Z2 Z3 Z4 Y5 Y6 X7 + 2.5361406134917374e-05*Y0 Z1 Z2 Z3 Z4 X5 X6 Y7 + -2.5361406134917374e-05*Y0 Z1 Z2 Z3 Z4 Y5 X6 X7 + 0.000889360721478909*X0 Z1 X2 Z6 + 0.000889360721478909*Y0 Z1 Y2 Z6 + 2.2368994626126618e-05*X0 Z1 Z2 Z3 X4 Z6 + 2.2368994626126618e-05*Y0 Z1 Z2 Z3 Y4 Z6 + 0.001654460021096304*X0 Z1 X2 Z7 + 0.001654460021096304*Y0 Z1 Y2 Z7 + -2.992411508790753e-06*X0 Z1 Z2 Z3 X4 Z7 + -2.992411508790753e-06*Y0 Z1 Z2 Z3 Y4 Z7 + -0.0020782698288425512*X0 Z1 Z2 Z3 Z4 Z5 X6 Z7 + -0.0020782698288425512*Y0 Z1 Z2 Z3 Z4 Z5 Y6 Z7 + 2.3694303407364906e-07*Z1 X2 Z3 X4 + 2.3694303407364906e-07*Z1 Y2 Z3 Y4 + 0.0003368896586464844*Z1 X2 Z3 Z4 Z5 X6 + 0.0003368896586464844*Z1 Y2 Z3 Z4 Z5 Y6 + 0.0017440722566440965*X1 X3 + 0.0017440722566440965*Y1 Y3 + -3.0420159590485183e-06*X1 Z3 Z4 X5 + -3.0420159590485183e-06*Y1 Z3 Z4 Y5 + -0.004213840309813098*X1 Z3 Z4 Z5 Z6 X7 + -0.004213840309813098*Y1 Z3 Z4 Z5 Z6 Y7 + -1.9554193661155744e-06*X1 X2 Y3 Y4 + 1.9554193661155744e-06*X1 Y2 Y3 X4 + 1.9554193661155744e-06*Y1 X2 X3 Y4 + -1.9554193661155744e-06*Y1 Y2 X3 X4 + 0.002351198986432218*X1 X2 Y3 Z4 Z5 Y6 + -0.002351198986432218*X1 Y2 Y3 Z4 Z5 X6 + -0.002351198986432218*Y1 X2 X3 Z4 Z5 Y6 + 0.002351198986432218*Y1 Y2 X3 Z4 Z5 X6 + -4.7600566313721413e-05*X1 X2 X4 X5 + -4.7600566313721413e-05*X1 Y2 Y4 X5 + -4.7600566313721413e-05*Y1 X2 X4 Y5 + -4.7600566313721413e-05*Y1 Y2 Y4 Y5 + -7.166699568068985e-06*X1 X2 X4 Z5 Z6 X7 + -7.166699568068985e-06*X1 Y2 Y4 Z5 Z6 X7 + -7.166699568068985e-06*Y1 X2 X4 Z5 Z6 Y7 + -7.166699568068985e-06*Y1 Y2 Y4 Z5 Z6 Y7 + -5.221309817401505e-06*X1 X2 Y5 Y6 + 5.221309817401505e-06*X1 Y2 Y5 X6 + 5.221309817401505e-06*Y1 X2 X5 Y6 + -5.221309817401505e-06*Y1 Y2 X5 X6 + 0.0007650992996173949*X1 X2 X6 X7 + 0.0007650992996173949*X1 Y2 Y6 X7 + 0.0007650992996173949*Y1 X2 X6 Y7 + 0.0007650992996173949*Y1 Y2 Y6 Y7 + -2.1393426994736774e-07*Z1 X3 Z4 X5 + -2.1393426994736774e-07*Z1 Y3 Z4 Y5 + 0.00036241775255750413*Z1 X3 Z4 Z5 Z6 X7 + 0.00036241775255750413*Z1 Y3 Z4 Z5 Z6 Y7 + -1.0865965929329441e-06*X1 Z2 Z4 X5 + -1.0865965929329441e-06*Y1 Z2 Z4 Y5 + -0.006565039296245316*X1 Z2 Z4 Z5 Z6 X7 + -0.006565039296245316*Y1 Z2 Z4 Z5 Z6 Y7 + 1.2533517795661488e-05*X1 Z2 X3 X5 Z6 X7 + 1.4478907546328967e-05*X1 Z2 X3 Y5 Z6 Y7 + -1.9453897506674784e-06*X1 Z2 Y3 Y5 Z6 X7 + -1.9453897506674784e-06*Y1 Z2 X3 X5 Z6 Y7 + 1.4478907546328967e-05*Y1 Z2 Y3 X5 Z6 X7 + 1.2533517795661488e-05*Y1 Z2 Y3 Y5 Z6 Y7 + 1.93718318556325e-07*Z1 X4 Z5 X6 + 1.93718318556325e-07*Z1 Y4 Z5 Y6 + -0.0005670161873662732*X1 Z2 X3 Z4 + -0.0005670161873662732*Y1 Z2 Y3 Z4 + 1.9700217363730474e-05*X1 Z2 X3 X4 Z5 X6 + 1.9700217363730474e-05*X1 Z2 X3 Y4 Z5 Y6 + 1.9700217363730474e-05*Y1 Z2 Y3 X4 Z5 X6 + 1.9700217363730474e-05*Y1 Z2 Y3 Y4 Z5 Y6 + -5.021496755856268e-06*X1 Z2 Z3 X5 + -5.021496755856268e-06*Y1 Z2 Z3 Y5 + -0.012603530302439386*X1 Z2 Z3 Z5 Z6 X7 + -0.012603530302439386*Y1 Z2 Z3 Z5 Z6 Y7 + -0.0004865100547836042*X1 Z2 Z3 X4 Y5 Y6 + 0.0004865100547836042*X1 Z2 Z3 Y4 Y5 X6 + 0.0004865100547836042*Y1 Z2 Z3 X4 X5 Y6 + -0.0004865100547836042*Y1 Z2 Z3 Y4 X5 X6 + -2.5361406134917374e-05*X1 Z2 Z3 X4 X6 X7 + -2.5361406134917374e-05*X1 Z2 Z3 Y4 Y6 X7 + -2.5361406134917374e-05*Y1 Z2 Z3 X4 X6 Y7 + -2.5361406134917374e-05*Y1 Z2 Z3 Y4 Y6 Y7 + -1.605393175005943e-05*Z1 X5 Z6 X7 + -1.605393175005943e-05*Z1 Y5 Z6 Y7 + -0.0005194156210525517*X1 Z2 X3 Z5 + -0.0005194156210525517*Y1 Z2 Y3 Z5 + -0.012117020247655782*X1 Z2 Z3 Z4 Z6 X7 + -0.012117020247655782*Y1 Z2 Z3 Z4 Z6 Y7 + 0.001654460021096304*X1 Z2 X3 Z6 + 0.001654460021096304*Y1 Z2 Y3 Z6 + -2.992411508790753e-06*X1 Z2 Z3 Z4 X5 Z6 + -2.992411508790753e-06*Y1 Z2 Z3 Z4 Y5 Z6 + -0.0020782698288425512*X1 Z2 Z3 Z4 Z5 X7 + -0.0020782698288425512*Y1 Z2 Z3 Z4 Z5 Y7 + 0.000889360721478909*X1 Z2 X3 Z7 + 0.000889360721478909*Y1 Z2 Y3 Z7 + 2.2368994626126618e-05*X1 Z2 Z3 Z4 X5 Z7 + 2.2368994626126618e-05*Y1 Z2 Z3 Z4 Y5 Z7 + -6.729921493382783e-08*Z2 X3 Z4 X5 + -6.729921493382783e-08*Z2 Y3 Z4 Y5 + 0.00017201738191954368*Z2 X3 Z4 Z5 Z6 X7 + 0.00017201738191954368*Z2 Y3 Z4 Z5 Z6 Y7 + -6.729921493382781e-08*X2 X4 + -6.729921493382781e-08*Y2 Y4 + 0.00017201738191954368*X2 Z4 Z5 X6 + 0.00017201738191954368*Y2 Z4 Z5 Y6 + -0.0021601210789872903*X2 X3 Y4 Y5 + 0.0021601210789872903*X2 Y3 Y4 X5 + 0.0021601210789872903*Y2 X3 X4 Y5 + -0.0021601210789872903*Y2 Y3 X4 X5 + 1.0322270053626837e-05*X2 X3 Y4 Z5 Z6 Y7 + -1.0322270053626837e-05*X2 Y3 Y4 Z5 Z6 X7 + -1.0322270053626837e-05*Y2 X3 X4 Z5 Z6 Y7 + 1.0322270053626837e-05*Y2 Y3 X4 Z5 Z6 X7 + 1.0322270053626837e-05*X2 X3 X5 X6 + 1.0322270053626837e-05*X2 Y3 Y5 X6 + 1.0322270053626837e-05*Y2 X3 X5 Y6 + 1.0322270053626837e-05*Y2 Y3 Y5 Y6 + -0.00835848217838102*X2 X3 Y6 Y7 + 0.00835848217838102*X2 Y3 Y6 X7 + 0.00835848217838102*Y2 X3 X6 Y7 + -0.00835848217838102*Y2 Y3 X6 X7 + -4.725326970153548e-05*Z2 X4 Z5 X6 + -4.725326970153548e-05*Z2 Y4 Z5 Y6 + 0.000997090137935985*X2 Z3 Z5 X6 + 0.000997090137935985*Y2 Z3 Z5 Y6 + -3.693099964790864e-05*Z2 X5 Z6 X7 + -3.693099964790864e-05*Z2 Y5 Z6 Y7 + -1.2570336852388558e-06*X2 Z3 X4 Z5 + -1.2570336852388558e-06*Y2 Z3 Y4 Z5 + -3.4302673622763646e-05*X2 Z3 X4 X5 Z6 X7 + -3.4302673622763646e-05*X2 Z3 X4 Y5 Z6 Y7 + -3.4302673622763646e-05*Y2 Z3 Y4 X5 Z6 X7 + -3.4302673622763646e-05*Y2 Z3 Y4 Y5 Z6 Y7 + 0.0010313928115587487*X2 Z3 Z4 X6 + 0.0010313928115587487*Y2 Z3 Z4 Y6 + 4.903153894982054e-06*X2 Z3 Z4 X5 Y6 Y7 + -4.903153894982054e-06*X2 Z3 Z4 Y5 Y6 X7 + -4.903153894982054e-06*Y2 Z3 Z4 X5 X6 Y7 + 4.903153894982054e-06*Y2 Z3 Z4 Y5 X6 X7 + -4.178109800130065e-06*X2 Z3 X4 Z6 + -4.178109800130065e-06*Y2 Z3 Y4 Z6 + 7.250440948519896e-07*X2 Z3 X4 Z7 + 7.250440948519896e-07*Y2 Z3 Y4 Z7 + -9.678693507747924e-06*X2 Z3 Z4 Z5 X6 Z7 + -9.678693507747924e-06*Y2 Z3 Z4 Z5 Y6 Z7 + -3.693099964790864e-05*Z3 X4 Z5 X6 + -3.693099964790864e-05*Z3 Y4 Z5 Y6 + -1.2570336852388558e-06*X3 X5 + -1.2570336852388558e-06*Y3 Y5 + 0.0010313928115587487*X3 Z5 Z6 X7 + 0.0010313928115587487*Y3 Z5 Z6 Y7 + 3.4302673622763646e-05*X3 X4 Y5 Y6 + -3.4302673622763646e-05*X3 Y4 Y5 X6 + -3.4302673622763646e-05*Y3 X4 X5 Y6 + 3.4302673622763646e-05*Y3 Y4 X5 X6 + 4.903153894982054e-06*X3 X4 X6 X7 + 4.903153894982054e-06*X3 Y4 Y6 X7 + 4.903153894982054e-06*Y3 X4 X6 Y7 + 4.903153894982054e-06*Y3 Y4 Y6 Y7 + -4.725326970153548e-05*Z3 X5 Z6 X7 + -4.725326970153548e-05*Z3 Y5 Z6 Y7 + 0.000997090137935985*X3 Z4 Z6 X7 + 0.000997090137935985*Y3 Z4 Z6 Y7 + 7.250440948519896e-07*X3 Z4 X5 Z6 + 7.250440948519896e-07*Y3 Z4 Y5 Z6 + -9.678693507747924e-06*X3 Z4 Z5 X7 + -9.678693507747924e-06*Y3 Z4 Z5 Y7 + -4.178109800130065e-06*X3 Z4 X5 Z7 + -4.178109800130065e-06*Y3 Z4 Y5 Z7 + -0.00016902639115254348*Z4 X5 Z6 X7 + -0.00016902639115254348*Z4 Y5 Z6 Y7 + -0.00016902639115254345*X4 X6 + -0.00016902639115254345*Y4 Y6 + -0.0006920650464588829*X4 X5 Y6 Y7 + 0.0006920650464588829*X4 Y5 Y6 X7 + 0.0006920650464588829*Y4 X5 X6 Y7 + -0.0006920650464588829*Y4 Y5 X6 X7 + 9.774843673967322e-06*X4 Z5 X6 Z7 + 9.774843673967322e-06*Y4 Z5 Y6 Z7 + 9.774843673967322e-06*X5 X7 + 9.774843673967322e-06*Y5 Y7\n",
      "The exact ground state energy is: -20.656290746782737 eV\n",
      "The coupled cluster singles and doubles energy is: -20.69185732651234 eV\n"
     ]
    }
   ],
   "source": [
    "atom = geometry_from_pubchem(\"azobenzene\")\n",
    "mole = gto.M(atom=atom)\n",
    "mf = scf.RHF(mole).run()\n",
    "\n",
    "active_space = cas(4, 4)\n",
    "hamiltonian, mapping = get_qubit_mapped_hamiltonian(\n",
    "    *get_spin_mo_integrals_from_mole(mole, mf.mo_coeff, active_space)\n",
    ")\n",
    "\n",
    "vals, vecs = np.linalg.eigh(get_sparse_matrix(hamiltonian).toarray())\n",
    "\n",
    "casci_gs_e = np.min(vals)\n",
    "ccsd = cc.CCSD(mf).run(verbose=0)\n",
    "\n",
    "print(\"Hamiltonian: \", hamiltonian)\n",
    "print(f\"The exact ground state energy is: {from_Hartree_to_eV(casci_gs_e)} eV\")\n",
    "print(f\"The coupled cluster singles and doubles energy is: {from_Hartree_to_eV(ccsd.e_tot)} eV\")"
   ]
  },
  {
   "cell_type": "code",
   "execution_count": 6,
   "id": "963c750f",
   "metadata": {},
   "outputs": [
    {
     "data": {
      "text/plain": [
       "[0.0,\n",
       " 0.00831725405732661,\n",
       " 0.008317254057330787,\n",
       " 0.008373638547204007,\n",
       " 0.008373638547224898,\n",
       " 0.008373638547229076,\n",
       " 0.00900472860596129,\n",
       " 0.009572315526184831,\n",
       " 0.009572315526193188,\n",
       " 0.009583214165120814]"
      ]
     },
     "execution_count": 6,
     "metadata": {},
     "output_type": "execute_result"
    }
   ],
   "source": [
    "[from_Hartree_to_eV(val-vals[0]) for val in vals[:10]]"
   ]
  },
  {
   "cell_type": "code",
   "execution_count": 48,
   "id": "df779f25",
   "metadata": {},
   "outputs": [],
   "source": [
    "from typing import Sequence\n",
    "\n",
    "import numpy.typing as npt\n",
    "\n",
    "\n",
    "def ccsd_param_to_circuit_param(\n",
    "    uccsd: TrotterUCCSD,\n",
    "    n_electrons: int,\n",
    "    t1: npt.NDArray[np.complex128],\n",
    "    t2: npt.NDArray[np.complex128],\n",
    ") -> Sequence[float]:\n",
    "    in_param_list = uccsd.param_mapping.in_params\n",
    "    param_list = []\n",
    "\n",
    "    for param in in_param_list:\n",
    "        name_split = param.name.split(\"_\")\n",
    "        if name_split[0] == \"s\":\n",
    "            _, i_str, j_str = name_split\n",
    "            i, j = int(i_str), int(j_str) - n_electrons // 2\n",
    "            param_list.append(t1[i, j])\n",
    "\n",
    "        if name_split[0] == \"d\":\n",
    "            _, i_str, j_str, a_str, b_str = name_split\n",
    "            i, j, b, a = (\n",
    "                int(i_str),\n",
    "                int(j_str),\n",
    "                int(b_str) - n_electrons // 2,\n",
    "                int(a_str) - n_electrons // 2,\n",
    "            )\n",
    "            param_list.append(t2[i, j, a, b])\n",
    "    return param_list\n"
   ]
  },
  {
   "cell_type": "code",
   "execution_count": 46,
   "id": "609ad6de",
   "metadata": {},
   "outputs": [],
   "source": [
    "from quri_parts.qulacs.estimator import (\n",
    "    create_qulacs_vector_concurrent_parametric_estimator,\n",
    ")\n",
    "from quri_parts.core.state import quantum_state, apply_circuit\n",
    "\n",
    "TROTTER_STEPS = 1\n",
    "USE_SINGLES = True\n",
    "REDUCE_PARAMETER = True\n",
    "BASIS_STATES = 64\n",
    "\n",
    "uccsd = TrotterUCCSD(\n",
    "        active_space.n_active_orb * 2,\n",
    "        active_space.n_active_ele,\n",
    "        trotter_number=TROTTER_STEPS,\n",
    "        use_singles=USE_SINGLES,\n",
    "        singlet_excitation=REDUCE_PARAMETER,\n",
    "    )\n",
    "param = ccsd_param_to_circuit_param(uccsd, active_space.n_active_ele, ccsd.t1, ccsd.t2)\n",
    "hf_state = quantum_state(active_space.n_active_orb * 2, bits=2**active_space.n_active_ele - 1)\n",
    "state = apply_circuit(uccsd, hf_state)\n",
    "bound_state = state.bind_parameters(param)"
   ]
  },
  {
   "cell_type": "code",
   "execution_count": null,
   "id": "0443213c",
   "metadata": {},
   "outputs": [
    {
     "name": "stdout",
     "output_type": "stream",
     "text": [
      "The coupled cluster singles and doubles energy is: -20.69185732651236\n",
      "The Trotter unitary coupled cluster singles and doubles energy is: -20.65613213482361\n"
     ]
    }
   ],
   "source": [
    "estimator = create_qulacs_vector_concurrent_parametric_estimator()\n",
    "estimate = estimator(hamiltonian, state, [param])\n",
    "print(\"The coupled cluster singles and doubles energy is:\", from_Hartree_to_eV(ccsd.e_tot))\n",
    "print(\n",
    "    \"The Trotter unitary coupled cluster singles and doubles energy is:\",\n",
    "    from_Hartree_to_eV(estimate[0].value.real),\n",
    ")"
   ]
  },
  {
   "cell_type": "markdown",
   "id": "bc0ab0fb",
   "metadata": {},
   "source": [
    "## Excited states"
   ]
  },
  {
   "cell_type": "code",
   "execution_count": 34,
   "id": "d0015cd4",
   "metadata": {},
   "outputs": [],
   "source": [
    "exc_bits = (2**active_space.n_active_ele - 1) ^ 0b00010100 \n",
    "excited_state = quantum_state(active_space.n_active_orb * 2, bits=exc_bits) \n",
    "ex_state_circuit = apply_circuit(uccsd, excited_state)\n",
    "bound1_state = ex_state_circuit.bind_parameters(param)\n"
   ]
  },
  {
   "cell_type": "code",
   "execution_count": 38,
   "id": "03c71ba4",
   "metadata": {},
   "outputs": [
    {
     "name": "stdout",
     "output_type": "stream",
     "text": [
      "The coupled cluster singles and doubles energy is: -20.656290717085778\n",
      "The Trotter unitary coupled cluster singles and doubles energy is: -20.647456430789756\n"
     ]
    }
   ],
   "source": [
    "estimator = create_qulacs_vector_concurrent_parametric_estimator()\n",
    "estimate = estimator(hamiltonian, ex_state_circuit, [param])\n",
    "print(\"The coupled cluster singles and doubles energy is:\", from_Hartree_to_eV(ccsd.e_tot))\n",
    "print(\n",
    "    \"The Trotter unitary coupled cluster singles and doubles energy is:\",\n",
    "    from_Hartree_to_eV(estimate[0].value.real),\n",
    ")"
   ]
  },
  {
   "cell_type": "markdown",
   "id": "3ff754d5",
   "metadata": {},
   "source": [
    "# QSCI"
   ]
  },
  {
   "cell_type": "code",
   "execution_count": 11,
   "id": "402938fe",
   "metadata": {},
   "outputs": [],
   "source": [
    "from quri_vm import VM\n",
    "\n",
    "from quri_parts.backend.devices import star_device\n",
    "from quri_parts.backend.units import TimeUnit, TimeValue\n",
    "\n",
    "from typing import Iterable\n",
    "\n",
    "from quri_parts.circuit import ImmutableQuantumCircuit\n",
    "from quri_parts.core.sampling import ConcurrentSampler, MeasurementCounts\n",
    "\n",
    "BASIS_STATES = 4\n",
    "TOTAL_SHOTS = 50000\n",
    "\n",
    "star_vm = VM.from_device_prop(\n",
    "    star_device.generate_device_property(\n",
    "        qubit_count=4,\n",
    "        code_distance=7,\n",
    "        qec_cycle=TimeValue(1, TimeUnit.MICROSECOND)\n",
    "    )\n",
    ")\n",
    "\n",
    "def create_concurrent_sampler_from_vm(\n",
    "    vm: VM,\n",
    ") -> ConcurrentSampler:\n",
    "    \"\"\"Create a simple :class:`~ConcurrentSampler` using a\n",
    "    :class:`~SamplingBackend`.\"\"\"\n",
    "\n",
    "    def sampler(\n",
    "        shot_circuit_pairs: Iterable[tuple[ImmutableQuantumCircuit, int]]\n",
    "    ) -> Iterable[MeasurementCounts]:\n",
    "        jobs = [\n",
    "            vm.sample(circuit, n_shots) for circuit, n_shots in shot_circuit_pairs\n",
    "        ]\n",
    "        return map(lambda j: j, jobs)\n",
    "\n",
    "    return sampler"
   ]
  },
  {
   "cell_type": "code",
   "execution_count": 12,
   "id": "32f85525",
   "metadata": {},
   "outputs": [],
   "source": [
    "from quri_parts_qsci import qsci\n",
    "\n",
    "sampler = create_concurrent_sampler_from_vm(star_vm)\n",
    "bound_state = state.bind_parameters(param)\n",
    "eigs, _ = qsci(\n",
    "    hamiltonian, [bound_state], sampler, total_shots=TOTAL_SHOTS, num_states_pick_out=4\n",
    ")"
   ]
  },
  {
   "cell_type": "code",
   "execution_count": 16,
   "id": "6a589ba0",
   "metadata": {},
   "outputs": [
    {
     "name": "stdout",
     "output_type": "stream",
     "text": [
      "The exact GS energy is -20.656290746782773\n",
      "The coupled cluster energy is -20.656290717085778, with relative error 1.4376732027088224e-09\n",
      "The Trotter UCCSD energy is -20.65629072472936, with relative error 1.067636645757375e-09\n",
      "The qsci gs energy is -20.656288686567446, with relative error 9.973791281758793e-08\n"
     ]
    }
   ],
   "source": [
    "err = lambda x: abs(x / casci_gs_e - 1)\n",
    "print(f\"The exact GS energy is {from_Hartree_to_eV(casci_gs_e)}\")\n",
    "print(\n",
    "    f\"The coupled cluster energy is {from_Hartree_to_eV(ccsd.e_tot)}, with relative error {err(ccsd.e_tot)}\"\n",
    ")\n",
    "print(\n",
    "    f\"The Trotter UCCSD energy is {from_Hartree_to_eV(estimate[0].value.real)}, with relative error {err(estimate[0].value.real)}\"\n",
    ")\n",
    "print(f\"The qsci gs energy is {from_Hartree_to_eV(eigs[0])}, with relative error {err(eigs[0])}\")"
   ]
  },
  {
   "cell_type": "code",
   "execution_count": null,
   "id": "597785fd",
   "metadata": {},
   "outputs": [],
   "source": []
  }
 ],
 "metadata": {
  "kernelspec": {
   "display_name": "QC",
   "language": "python",
   "name": "python3"
  },
  "language_info": {
   "codemirror_mode": {
    "name": "ipython",
    "version": 3
   },
   "file_extension": ".py",
   "mimetype": "text/x-python",
   "name": "python",
   "nbconvert_exporter": "python",
   "pygments_lexer": "ipython3",
   "version": "3.10.16"
  }
 },
 "nbformat": 4,
 "nbformat_minor": 5
}
