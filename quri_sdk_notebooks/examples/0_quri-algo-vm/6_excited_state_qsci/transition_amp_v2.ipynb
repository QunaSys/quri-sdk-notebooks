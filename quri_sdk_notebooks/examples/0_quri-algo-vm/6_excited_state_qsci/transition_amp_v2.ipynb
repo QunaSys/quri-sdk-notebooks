{
 "cells": [
  {
   "cell_type": "markdown",
   "id": "41338abb",
   "metadata": {},
   "source": [
    "# Calculating Excited states' energy\n",
    "\n",
    "## Overview\n",
    "In this notebook, we demonstrate the calculation of both ground and excited state energies using CASCI, CCSD, and CISD within the PySCF. <br>\n",
    "We illustrate the conceptual difference between Configuration Interaction (CI) and Coupled Cluster methods. <br>\n",
    "\n",
    "\n",
    "Then we want calculate everything in QSCI framework. <br>\n",
    "\n",
    "\n",
    "After getting CCSD parameters, we can use it as the ground state parameter values for the UCCSD, We then apply QSCI to diagonalize the selected configuration space and estimate the ground state energy. <br> \n",
    "\n",
    "\n",
    "After obtaining the ground state energy, we extend to excited states by designing a cost function which can extract excited states sequentially through minimizing the total energy. <br>\n",
    "\n",
    "\n",
    "Finally, we compare the results obtained from exact classical simulations with those from quantum computation."
   ]
  },
  {
   "cell_type": "markdown",
   "id": "a3b5c629",
   "metadata": {},
   "source": [
    "# Generate Hamiltonian\n",
    "In this tutorial, we demonstrate how to construct a qubit Hamiltonian for a molecule.\n",
    "We will use `OpenFermion`, `PySCF`, and `Quri-Parts`.\n",
    "\n",
    "- Select the molecule you want to study. (In our case: `Azobenzene`)\n",
    "- Use `PySCF` to build this molecule an object and compute for it's orbitals and Hartree–Fock energy.\n",
    "- Define Complete Active Space (CAS) to focus on sub-system of the entire molecule to make computation easier.\n",
    "- Compute molecular integrals within the chosen active space, build the Fermionic Hamiltonian and map it to a Qubit Hamiltonian (default: Jordan–Wigner mapping)."
   ]
  },
  {
   "cell_type": "code",
   "execution_count": 2,
   "id": "bee0f231",
   "metadata": {},
   "outputs": [
    {
     "name": "stdout",
     "output_type": "stream",
     "text": [
      "converged SCF energy = -562.053344724962\n"
     ]
    }
   ],
   "source": [
    "from openfermion.chem import geometry_from_pubchem\n",
    "from quri_parts.chem import cas\n",
    "from quri_parts.pyscf.mol import get_spin_mo_integrals_from_mole\n",
    "from quri_parts.openfermion.mol import get_qubit_mapped_hamiltonian\n",
    "from pyscf import gto, scf, mcscf, cc, ci\n",
    "\n",
    "atom = geometry_from_pubchem(\"azobenzene\")\n",
    "mole = gto.M(atom=atom) \n",
    "mf = scf.RHF(mole).run() \n",
    "\n",
    "active_space = cas(4, 4)\n",
    "\n",
    "hamiltonian, mapping = get_qubit_mapped_hamiltonian(\n",
    "    *get_spin_mo_integrals_from_mole(mole, mf.mo_coeff, active_space)\n",
    ")"
   ]
  },
  {
   "cell_type": "markdown",
   "id": "1ec9958d",
   "metadata": {},
   "source": [
    "## Compute exact excited state by CASCI with PySCF.\n",
    "\n",
    "### Complete Active Space Configuration Interaction (CASCI)\n",
    "**Configuration Interaction (CI)** is one of a **post-Hartree–Fock method** for solving the electronic Schrödinger equation within the Born-Oppenheimer approximation for a quantum chemical multi-electron system. <br>\n",
    "It goes beyond the single-determinant Hartree–Fock approximation by including **electron correlation effects** through a variational wave functions, which is written as a **linear combination of configuration state functions (CSFs)**,  <br>\n",
    "$\\Psi = \\sum_{I} c_I \\Phi_I$\n",
    "where:\n",
    "- $\\Phi_I$ are many-electron basis states (determinants or CSFs),\n",
    "- $c_I$ are variational coefficients optimized by diagonalizing the Hamiltonian.\n",
    "\n",
    "\n",
    "### CASCI\n",
    "**CASCI** performs a full CI but only **within the chosen active space**: <br>\n",
    "- Inactive orbitals (always doubly occupied) and virtual orbitals (always empty) are frozen,  \n",
    "- Active orbitals allow the chosen number of active electrons to be distributed in all possible ways.  \n",
    "\n",
    "This makes CASCI to capture the **static (strong) correlation** among active orbitals.\n",
    "\n",
    "\n",
    "### PySCF Implementation\n",
    "In PySCF, `mcscf.CASCI` constructs the CASCI solver.  \n",
    "Setting `mc.fcisolver.nstates = N` requests multiple low-lying excited states by diagonalizing the Hamiltonian within the active space.\n"
   ]
  },
  {
   "cell_type": "code",
   "execution_count": 3,
   "id": "c616c752",
   "metadata": {},
   "outputs": [
    {
     "name": "stdout",
     "output_type": "stream",
     "text": [
      "CASCI state   0  E = -562.057671219960  E(CI) = -2.20745364895095  S^2 = 0.0000000\n",
      "CASCI state   1  E = -561.829824515090  E(CI) = -1.97960694408050  S^2 = 2.0000000\n",
      "CASCI state   2  E = -561.812652554591  E(CI) = -1.96243498358137  S^2 = 0.0000000\n",
      "CASCI state   3  E = -561.752682574615  E(CI) = -1.90246500360558  S^2 = 2.0000000\n",
      "CASCI state   4  E = -561.747970360661  E(CI) = -1.89775278965180  S^2 = 2.0000000\n",
      "CASCI state   5  E = -561.740607983116  E(CI) = -1.89039041210685  S^2 = 0.0000000\n"
     ]
    },
    {
     "data": {
      "text/plain": [
       "array([-562.05767122, -561.82982452, -561.81265255, -561.75268257,\n",
       "       -561.74797036, -561.74060798])"
      ]
     },
     "execution_count": 3,
     "metadata": {},
     "output_type": "execute_result"
    }
   ],
   "source": [
    "mc = mcscf.CASCI(mf, active_space.n_active_orb, active_space.n_active_ele)\n",
    "mc.fcisolver.nstates = 6 # Compute ground state + 5 excited states\n",
    "mc.kernel(verbose=0)\n",
    "mc.e_tot"
   ]
  },
  {
   "cell_type": "markdown",
   "id": "8c7d8273",
   "metadata": {},
   "source": [
    "# Compute ground state by UCCSD\n",
    "## Coupled Cluster Singles and Doubles (CCSD)\n",
    "**Coupled cluster (CC)** is another **post-HF method** in Quantum chemistry. <br>\n",
    "Unlike CI takes linear combination configuration state functions, CC uses the exponential cluster operator for considering electron correlation, <br>\n",
    "$\\Psi = e^T \\Phi$ <br>\n",
    "where:\n",
    "- T: Cluster operator.\n",
    "- $\\Phi$: Slater determinant of CI.\n",
    "\n",
    "### Cluster operator\n",
    "**Cluster operator (T)** is written in the form of $T = T_1 + T_2 + T_3 \\dots$, where $T_1$ is single excitation, $T_2$ is double excitation, etc. Which in the second quantization formalism can be written as, <br>\n",
    "- $T_1 = \\sum_{i, a} t_i^a a^\\dagger_a a_i$, \n",
    "- $T_2 = \\frac{1}{4} \\sum_{ij, ab} t_{ij}^{ab} a^\\dagger_a a^\\dagger_b a_j a_i$\n",
    "- $T_n = \\frac{1}{(n!)^2} \\sum_{i_1, \\dots, i_n, a_1, \\dots, a_n} a^\\dagger_{a_1} \\dots a^\\dagger_{a_n} a_{i_n} \\dots a_{i_1}$\n",
    "\n",
    "In **CCSD**, only $T_1$ and $T_2$ are considerated.\n",
    "\n",
    "The benefit of adopting exponential instead of linear combination is exponential guarentees the **size extensivity** of the solution. Take CCSD for example:\n",
    "$T = T_1 + T_2$, <br>\n",
    "$e^{(T_1+T_2)} = (T_1+T_2) + \\frac{1}{2!} (T_1+T_2)^2 + \\frac{1}{3!} (T_1+T_2)^3 ...$\n",
    "Even if $T$ only includes singles and doubles ($T_1 + T_2$), the exponential generates **higher-order excitations automatically**.\n",
    "\n",
    "### Coupled-cluster equations\n",
    "Schrödinger equation: $H \\ket{\\Psi} = E \\ket{\\Psi} \\to H e^T \\ket{\\Phi} = E e^T \\ket{\\Phi}$\n",
    "\n",
    "The unknown parameters ($t_i^a, t_{ij}^{ab} \\dots$) can be solved from following equation sets (CCSD):\n",
    "- $\\bra{\\Phi_0} e^{-(T_1+T_2)} H e^{(T_1+T_2)} \\ket{\\Phi_0} = E$\n",
    "- $\\bra{\\Phi_i^a} e^{-(T_1+T_2)} H e^{(T_1+T_2)} \\ket{\\Phi_0} = 0$\n",
    "- $\\bra{\\Phi_{ij}^{ab}} e^{-(T_1+T_2)} H e^{(T_1+T_2)} \\ket{\\Phi_0} = 0$\n",
    "\n",
    "After solving these equation sets, we get $\\{t_i^a\\} \\ \\text{and} \\ \\{ t_{ij}^{ab} \\}$.\n"
   ]
  },
  {
   "cell_type": "code",
   "execution_count": 4,
   "id": "811a5a3b",
   "metadata": {},
   "outputs": [],
   "source": [
    "from quri_parts.chem.mol.models import OrbitalType\n",
    "from quri_parts.chem.mol import ActiveSpaceMolecularOrbitals\n",
    "from quri_parts.pyscf.mol import PySCFMolecularOrbitals\n",
    "\n",
    "asmo = ActiveSpaceMolecularOrbitals(\n",
    "    PySCFMolecularOrbitals(mole, mf.mo_coeff), active_space\n",
    ")\n",
    "\n",
    "forzen_orbs = [i for i in range(mole.nao) if asmo.orb_type(i) != OrbitalType.ACTIVE]\n",
    "\n",
    "ccsd = cc.CCSD(mf, frozen=forzen_orbs).run(verbose=0)"
   ]
  },
  {
   "cell_type": "markdown",
   "id": "0c6729a1",
   "metadata": {},
   "source": [
    "## From CCSD to UCCSD\n",
    "On a quantum computer, one uses a **unitary coupled cluster (UCC)** ansatz to maintain unitarity:\n",
    "\n",
    "$\n",
    "|\\Psi_{\\text{UCC}}\\rangle = e^{T - T^\\dagger} |\\Phi_0\\rangle\n",
    "$\n",
    "\n",
    "- This guarantees a **variational wavefunction**, suitable for variational quantum eigensolver (VQE) algorithms.  \n",
    "- The CCSD amplitudes from classical computation are often used as **initial parameters** for the UCCSD circuit on a quantum computer.\n"
   ]
  },
  {
   "cell_type": "code",
   "execution_count": 5,
   "id": "4c7ddb94",
   "metadata": {},
   "outputs": [],
   "source": [
    "from typing import Sequence\n",
    "import numpy as np\n",
    "import numpy.typing as npt\n",
    "from quri_parts.openfermion.ansatz import TrotterUCCSD\n",
    "\n",
    "def ccsd_param_to_circuit_param(\n",
    "    uccsd: TrotterUCCSD,\n",
    "    n_electrons: int,\n",
    "    t1: npt.NDArray[np.complex128],\n",
    "    t2: npt.NDArray[np.complex128],\n",
    ") -> Sequence[float]:\n",
    "    in_param_list = uccsd.param_mapping.in_params\n",
    "    param_list = []\n",
    "\n",
    "    for param in in_param_list:\n",
    "        name_split = param.name.split(\"_\")\n",
    "        if name_split[0] == \"s\":\n",
    "            _, i_str, j_str = name_split\n",
    "            i, j = int(i_str), int(j_str) - n_electrons // 2\n",
    "            param_list.append(t1[i, j])\n",
    "\n",
    "        if name_split[0] == \"d\":\n",
    "            _, i_str, j_str, a_str, b_str = name_split\n",
    "            i, j, b, a = (\n",
    "                int(i_str),\n",
    "                int(j_str),\n",
    "                int(b_str) - n_electrons // 2,\n",
    "                int(a_str) - n_electrons // 2,\n",
    "            )\n",
    "            param_list.append(t2[i, j, a, b])\n",
    "    return param_list\n",
    "\n",
    "from quri_parts.core.state import quantum_state, apply_circuit\n",
    "\n",
    "TROTTER_STEPS = 1\n",
    "USE_SINGLES = True\n",
    "REDUCE_PARAMETER = True\n",
    "\n",
    "uccsd = TrotterUCCSD(\n",
    "    active_space.n_active_orb * 2,\n",
    "    active_space.n_active_ele,\n",
    "    trotter_number=TROTTER_STEPS,\n",
    "    use_singles=USE_SINGLES,\n",
    "    singlet_excitation=REDUCE_PARAMETER,\n",
    ")\n",
    "param = ccsd_param_to_circuit_param(uccsd, active_space.n_active_ele, ccsd.t1, ccsd.t2)\n",
    "hf_state = quantum_state(active_space.n_active_orb * 2, bits=2**active_space.n_active_ele - 1)\n",
    "state = apply_circuit(uccsd, hf_state)\n",
    "uccsd_bound_state = state.bind_parameters(param)\n"
   ]
  },
  {
   "cell_type": "markdown",
   "id": "f162216d",
   "metadata": {},
   "source": [
    "# Quantum Selected Configuration Interaction (QSCI)"
   ]
  },
  {
   "cell_type": "markdown",
   "id": "13a96a2e",
   "metadata": {},
   "source": [
    "With a initial parameters from CCSD, we can apply Quantum Selected Configuration Interaction ([QSCI](https://quri-sdk.qunasys.com/docs/examples/quri-algo-vm/qsci/)) to obtain ground state and ground state energy.\n"
   ]
  },
  {
   "cell_type": "code",
   "execution_count": 6,
   "id": "96373814",
   "metadata": {},
   "outputs": [
    {
     "name": "stdout",
     "output_type": "stream",
     "text": [
      "Ground state energy from QSCI: -562.0576151615004\n",
      "Exact Ground state (CASCI): -562.0576712199603\n",
      "Error: 5.61e-05%\n"
     ]
    }
   ],
   "source": [
    "from quri_parts.qulacs.sampler import create_qulacs_general_vector_sampler\n",
    "from quri_parts_qsci import qsci\n",
    "\n",
    "BASIS_STATES = None\n",
    "TOTAL_SHOTS = 10000\n",
    "\n",
    "sampler = create_qulacs_general_vector_sampler()\n",
    "\n",
    "eigs, _ = qsci(\n",
    "    hamiltonian, [uccsd_bound_state], sampler, total_shots=TOTAL_SHOTS, num_states_pick_out=BASIS_STATES\n",
    ")\n",
    "\n",
    "print(f\"Ground state energy from QSCI: {eigs[0]}\\nExact Ground state (CASCI): {mc.e_tot[0]}\\nError: {np.abs((mc.e_tot[0]-eigs[0])):.2e}%\")"
   ]
  },
  {
   "cell_type": "markdown",
   "id": "eaf4c0de",
   "metadata": {},
   "source": [
    "## Excited-state cost function\n",
    "After getting ground state energy, we want to go further to compute excited state energy. <br>\n",
    "To achieve this, we design a cost function based on **Quantum Subspace Configuration Interaction (QSCI)**. The main idea is to embed the candidate excited state together with already known low-energy states into a finite-dimensional subspace and then diagonalize the Hamiltonain within this subspace.\n",
    "\n",
    "### Procedure\n",
    "1. Generate a candidate excited state with random parameters.\n",
    "2. Form the subspace basis with combining fixed states + new trial state.\n",
    "3. Apply **QSCI** to obtain a set of parameter s.t. minimize the total energy to produce the correct spectrum.\n"
   ]
  },
  {
   "cell_type": "code",
   "execution_count": 7,
   "id": "72728298",
   "metadata": {},
   "outputs": [],
   "source": [
    "from typing import Callable\n",
    "from quri_parts.core.sampling import ConcurrentSampler\n",
    "from quri_parts.core.operator import Operator\n",
    "from quri_parts.core.state import CircuitQuantumState\n",
    "\n",
    "def create_state(bits: int, params: npt.NDArray[np.float64]) -> CircuitQuantumState:\n",
    "    approx_circuit = uccsd.bind_parameters(params)\n",
    "    approx_exc_state = quantum_state(approx_circuit.qubit_count, circuit=approx_circuit, bits=bits)\n",
    "    return approx_exc_state\n",
    "\n",
    "def get_cost(\n",
    "    exc_bits: int, \n",
    "    sampler: ConcurrentSampler, \n",
    "    hamiltonian: Operator, \n",
    "    fixed_state: Sequence[CircuitQuantumState]\n",
    ") -> Callable[[npt.NDArray[np.float64]], float]:\n",
    "    def f(x: npt.NDArray[np.float64]) -> float:\n",
    "        approx_exc_state = create_state(bits=exc_bits, params=x)\n",
    "        quantum_states = fixed_state + [approx_exc_state]\n",
    "        vals, vecs = qsci(\n",
    "            hamiltonian,\n",
    "            quantum_states,\n",
    "            sampler,\n",
    "            total_shots=TOTAL_SHOTS,\n",
    "            num_states_pick_out=BASIS_STATES\n",
    "        )\n",
    "        return np.sum(vals)\n",
    "\n",
    "    return f"
   ]
  },
  {
   "cell_type": "markdown",
   "id": "133de4c2",
   "metadata": {},
   "source": [
    "## Sequential excited-state search with QSCI  \n",
    "\n",
    "This is the procedure for computing excited states sequentially using the QSCI-based cost function.  \n",
    "An important note is that the optimizer cannot be a gradient-descent method.  \n",
    "This is because the cost function is defined through **subspace diagonalization**, which involves an eigenvalue problem.  \n",
    "The resulting cost is **non-analytic** and generally **non-smooth**, meaning gradients are not reliable or even well-defined.  \n",
    "Therefore, we employ **gradient-free optimizers** (e.g., COBYLA, Nelder–Mead, or Powell).  \n",
    "\n"
   ]
  },
  {
   "cell_type": "code",
   "execution_count": 8,
   "id": "36ada642",
   "metadata": {},
   "outputs": [
    {
     "name": "stdout",
     "output_type": "stream",
     "text": [
      "\n",
      "   Return from subroutine COBYLA because the MAXFUN limit has been reached.\n",
      "\n",
      "   NFVALS =   50   F =-1.123887E+03    MAXCV = 6.938894E-17\n",
      "   X = 1.000000E-01   1.000000E-01   7.915453E-02   1.000000E-01  -6.561881E-02\n",
      "       9.435684E-02  -1.000000E-01   7.684071E-02   9.855355E-03  -1.000000E-01\n",
      "      -7.349867E-02   1.507766E-02  -3.245186E-02   3.822411E-02\n",
      "\n",
      "   Return from subroutine COBYLA because the MAXFUN limit has been reached.\n",
      "\n",
      "   NFVALS =   50   F =-1.685700E+03    MAXCV = 1.110223E-16\n",
      "   X = 4.471389E-02  -9.144047E-02   1.000000E-01  -1.000000E-01  -1.000000E-01\n",
      "      -1.000000E-01  -8.410361E-02  -1.000000E-01  -7.566528E-02  -7.227921E-02\n",
      "       8.453950E-02   1.000000E-01  -1.000000E-01   3.149851E-02\n",
      "\n",
      "   Return from subroutine COBYLA because the MAXFUN limit has been reached.\n",
      "\n",
      "   NFVALS =   50   F =-2.247453E+03    MAXCV = 1.804112E-16\n",
      "   X = 1.000000E-01   1.000000E-01   1.000000E-01  -1.000000E-01  -9.984880E-02\n",
      "      -1.000000E-01   1.000000E-01   2.499983E-02   1.000000E-01   1.000000E-01\n",
      "       1.000000E-01   1.000000E-01   1.000000E-01  -9.985872E-02\n",
      "\n",
      "   Return from subroutine COBYLA because the MAXFUN limit has been reached.\n",
      "\n",
      "   NFVALS =   50   F =-2.809201E+03    MAXCV = 2.081668E-16\n",
      "   X = 1.032317E-02   1.000000E-01  -1.000000E-01   1.000000E-01  -1.000000E-01\n",
      "      -1.000000E-01  -1.000000E-01   1.000000E-01   8.506926E-02   1.000000E-01\n",
      "       4.118709E-02  -1.000000E-01   1.000000E-01   1.000000E-01\n",
      "\n",
      "   Return from subroutine COBYLA because the MAXFUN limit has been reached.\n",
      "\n",
      "   NFVALS =   50   F =-3.370941E+03    MAXCV = 1.387779E-17\n",
      "   X = 1.000000E-01   9.138772E-02   2.203694E-02  -1.000000E-01   1.000000E-01\n",
      "      -1.000000E-01  -1.000000E-01  -1.000000E-01  -1.000000E-01  -1.000000E-01\n",
      "      -1.000000E-01  -1.000000E-01  -1.000000E-01  -1.000000E-01\n"
     ]
    }
   ],
   "source": [
    "from scipy.optimize import minimize\n",
    "\n",
    "sampler = create_qulacs_general_vector_sampler()\n",
    "\n",
    "exc_masks = [0 for _ in range(5)]\n",
    "fixed_state = [uccsd_bound_state]\n",
    "\n",
    "for exc_mask in exc_masks:\n",
    "    bits = (2**active_space.n_active_ele - 1) ^ exc_mask\n",
    "    cost = get_cost(\n",
    "        exc_bits=bits,\n",
    "        sampler=sampler,\n",
    "        hamiltonian=hamiltonian,\n",
    "        fixed_state=fixed_state\n",
    "    )\n",
    "\n",
    "    bounds = [(-10**-1, 10**-1) for _ in range(uccsd.parameter_count)]\n",
    "    sol = minimize(\n",
    "        cost,\n",
    "        x0=np.random.uniform(-10**-2, 10**-2, uccsd.parameter_count),\n",
    "        method=\"COBYLA\",\n",
    "        bounds=bounds,\n",
    "        options={\"maxiter\": 50, \"disp\": True}\n",
    "    )\n",
    "\n",
    "    excited_state = quantum_state(\n",
    "        active_space.n_active_orb * 2, bits=bits, circuit=uccsd.bind_parameters(sol.x)\n",
    "    )\n",
    "    fixed_state.append(create_state(bits, params=sol.x))\n"
   ]
  },
  {
   "cell_type": "markdown",
   "id": "00066478",
   "metadata": {},
   "source": [
    "## Plotting - [Compare CASCI result and QSCI result](https://link.aps.org/doi/10.1103/PhysRevResearch.4.013173)"
   ]
  },
  {
   "cell_type": "code",
   "execution_count": 9,
   "id": "2b1018db",
   "metadata": {},
   "outputs": [
    {
     "name": "stderr",
     "output_type": "stream",
     "text": [
      "/tmp/ipykernel_2410137/3421675335.py:49: UserWarning: You passed a edgecolor/edgecolors ('black') for an unfilled marker ('x').  Matplotlib is ignoring the edgecolor in favor of the facecolor.  This behavior may change in the future.\n",
      "  ax.scatter(x_pos, cis_qc[i], color=colors[i], edgecolor='black', marker=markers[i], zorder=5)\n"
     ]
    },
    {
     "data": {
      "image/png": "[encoded data removed]",
      "text/plain": [
       "<Figure size 400x500 with 1 Axes>"
      ]
     },
     "metadata": {},
     "output_type": "display_data"
    }
   ],
   "source": [
    "import matplotlib.pyplot as plt\n",
    "from matplotlib.lines import Line2D\n",
    "\n",
    "cis_exact = mc.e_tot\n",
    "cis_qc    = qsci(hamiltonian, fixed_state, sampler, TOTAL_SHOTS, BASIS_STATES)[0]\n",
    "\n",
    "multiplicity_info = [round(mc.fcisolver.spin_square(mc.ci[i], mc.ncas, mc.nelecas)[1]) for i in range(mc.fcisolver.nstates)]\n",
    "\n",
    "labels = []\n",
    "markers = []\n",
    "colors = plt.cm.tab10.colors\n",
    "count_dict = {}\n",
    "\n",
    "for mult in multiplicity_info:\n",
    "    if mult == 1:\n",
    "        prefix, marker = \"S\", \"o\"\n",
    "    elif mult == 3:\n",
    "        prefix, marker = \"T\", \"x\"\n",
    "    elif mult == 5:\n",
    "        prefix, marker = \"Q\", \"^\"\n",
    "    elif mult == 7:\n",
    "        prefix, marker = \"H\", \"s\"\n",
    "    else:\n",
    "        prefix, marker = f\"M{mult}\", \"d\"\n",
    "\n",
    "    idx = count_dict.get(prefix, 0)\n",
    "    labels.append(f\"{prefix}{idx}\")\n",
    "    markers.append(marker)\n",
    "    count_dict[prefix] = idx + 1\n",
    "\n",
    "cis_exact = (cis_exact - cis_exact[0])*27.21 # Change to eV\n",
    "cis_qc = (cis_qc - cis_qc[0])*27.21\n",
    "\n",
    "# Sort by energy, and make label from down to up\n",
    "order = np.argsort(cis_exact)[::-1]\n",
    "\n",
    "labels   = [labels[i] for i in order]\n",
    "markers  = [markers[i] for i in order]\n",
    "cis_exact = cis_exact[order]\n",
    "cis_qc    = cis_qc[order]\n",
    "colors   = [colors[i] for i in order]\n",
    "\n",
    "fig, ax = plt.subplots(figsize=(4, 5))\n",
    "x_pos = 1.0\n",
    "width = 0.08\n",
    "\n",
    "for i in range(len(labels)):\n",
    "    ax.hlines(cis_exact[i], x_pos - width, x_pos + width, color=colors[i], lw=2)\n",
    "    ax.scatter(x_pos, cis_qc[i], color=colors[i], edgecolor='black', marker=markers[i], zorder=5)\n",
    "\n",
    "handles_casci = [Line2D([0], [0], color=c, lw=2, label=f\"{l} (CASCI)\")\n",
    "                 for c, l in zip(colors, labels)]\n",
    "handles_qc = [Line2D([0], [0], color=c, marker=m, linestyle='None',\n",
    "                     markeredgecolor=\"black\", markersize=8, label=f\"{l} (QC)\")\n",
    "              for c, m, l in zip(colors, markers, labels)]\n",
    "\n",
    "handles = handles_casci + handles_qc\n",
    "\n",
    "ax.legend(handles=handles, ncol=2, loc='center left', bbox_to_anchor=(1.0, 0.5))\n",
    "\n",
    "ax.set_xlim(0.8, 1.2)\n",
    "ax.set_xticks([x_pos])\n",
    "ax.set_xticklabels([\"cis\"])\n",
    "ax.set_ylabel(\"Energy [eV]\")\n",
    "ax.set_title(\"Energy Comparison of Excited States\")\n",
    "\n",
    "plt.show()\n"
   ]
  },
  {
   "cell_type": "markdown",
   "id": "449eeca2",
   "metadata": {},
   "source": [
    "## Appendix (A): Jordan-Wigner mapping\n",
    "\n",
    "In order to map a fermionic Hamiltonian into a qubit Hamiltonian that can be implemented on quantum circuits, we use the **Jordan–Wigner transformation**.  \n",
    "This transformation maps fermionic creation and annihilation operators into tensor products of Pauli operators.  \n",
    "\n",
    "For a system with $N$ spin-orbitals, the mapping is given by\n",
    "\n",
    "\n",
    "$a_p^\\dagger \\;\\;\\mapsto\\;\\; \\frac{1}{2}\\Bigg(\\prod_{j=0}^{p-1} Z_j\\Bigg)(X_p - iY_p),$\n",
    "\n",
    "\n",
    "\n",
    "$a_p \\;\\;\\mapsto\\;\\; \\frac{1}{2}\\Bigg(\\prod_{j=0}^{p-1} Z_j\\Bigg)(X_p + iY_p),$\n",
    "\n",
    "\n",
    "where $a_p^\\dagger$ and $a_p$ are fermionic creation and annihilation operators acting on orbital $p$, and $X_p, Y_p, Z_p$ are Pauli matrices acting on the $p$-th qubit.  \n",
    "The string of $Z$ operators ensures the correct fermionic anti-commutation relations.  \n"
   ]
  },
  {
   "cell_type": "markdown",
   "id": "f02896b5",
   "metadata": {},
   "source": [
    "## Appendix (B): Configuration Interaction Singles and Doubles(CISD)\n",
    "\n",
    "From the result below, it shows that CCSD can perform better while only consider single and double excitations."
   ]
  },
  {
   "cell_type": "code",
   "execution_count": 11,
   "id": "709728de",
   "metadata": {},
   "outputs": [
    {
     "name": "stdout",
     "output_type": "stream",
     "text": [
      "RCISD root 0  E = -562.0576692731066\n",
      "RCISD root 1  E = -561.8097497841387\n",
      "RCISD root 2  E = -561.7386761840074\n",
      "RCISD root 3  E = -561.6820484814341\n",
      "RCISD root 4  E = -561.6419212432813\n",
      "RCISD root 5  E = -561.5697350286242\n",
      "\n",
      "Energy from CISD: [-562.0576692731066, -561.8097497841387, -561.7386761840074, -561.6820484814341, -561.6419212432813, -561.5697350286242]\n",
      "Exact Energy: [-562.0576712199603, -561.8298245150899, -561.8126525545907, -561.7526825746149, -561.7479703606612, -561.7406079831162]\n",
      "Error: ['1.95e-06', '2.01e-02', '7.40e-02', '7.06e-02', '1.06e-01', '1.71e-01']%\n"
     ]
    }
   ],
   "source": [
    "cisd_solver = ci.CISD(mf, forzen_orbs)\n",
    "cisd_solver.nstates = 6\n",
    "cisd_energy = cisd_solver.run().e_tot\n",
    "\n",
    "print(f\"\\nEnergy from CISD: {list(cisd_energy)}\\nExact Energy: {list(mc.e_tot)}\\nError: {[f'{v:.2e}' for v in np.abs((mc.e_tot-cisd_energy))]}%\")"
   ]
  }
 ],
 "metadata": {
  "kernelspec": {
   "display_name": "QC",
   "language": "python",
   "name": "python3"
  },
  "language_info": {
   "codemirror_mode": {
    "name": "ipython",
    "version": 3
   },
   "file_extension": ".py",
   "mimetype": "text/x-python",
   "name": "python",
   "nbconvert_exporter": "python",
   "pygments_lexer": "ipython3",
   "version": "3.10.16"
  }
 },
 "nbformat": 4,
 "nbformat_minor": 5
}
