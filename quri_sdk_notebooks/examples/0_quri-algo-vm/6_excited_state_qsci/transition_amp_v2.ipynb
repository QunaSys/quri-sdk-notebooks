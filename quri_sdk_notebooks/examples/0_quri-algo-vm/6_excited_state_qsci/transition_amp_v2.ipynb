{
 "cells": [
  {
   "cell_type": "markdown",
   "id": "41338abb",
   "metadata": {},
   "source": [
    "# Calculating Excited states' energy\n",
    "\n",
    "## Overview\n",
    "In this notebook, we demonstrate the calculation of both ground and excited state energies using CASCI, CCSD, and CISD within the PySCF. <br>\n",
    "We illustrate the conceptual difference between Configuration Interaction (CI) and Coupled Cluster methods. <br>\n",
    "\n",
    "\n",
    "Then we want calculate everything in QSCI framework. <br>\n",
    "\n",
    "\n",
    "After getting CCSD parameters, we can use it as the ground state parameter values for the UCCSD, We then apply QSCI to diagonalize the selected configuration space and estimate the ground state energy. <br> \n",
    "\n",
    "\n",
    "After obtaining the ground state energy, we extend to excited states by designing a cost function which can extract excited states sequentially through minimizing the total energy. <br>\n",
    "\n",
    "\n",
    "Finally, we compare the results obtained from exact classical simulations with those from quantum computation."
   ]
  },
  {
   "cell_type": "markdown",
   "id": "a3b5c629",
   "metadata": {},
   "source": [
    "# Generate Hamiltonian\n",
    "In this tutorial, we demonstrate how to construct a qubit Hamiltonian for a molecule.\n",
    "We will use `OpenFermion`, `PySCF`, and `Quri-Parts`.\n",
    "\n",
    "- Select the molecule you want to study. (In our case: `Azobenzene`)\n",
    "- Use `PySCF` to build this molecule an object and compute for it's orbitals and Hartree–Fock energy.\n",
    "- Define Complete Active Space (CAS) to focus on sub-system of the entire molecule to make computation easier.\n",
    "- Compute molecular integrals within the chosen active space, build the Fermionic Hamiltonian and map it to a Qubit Hamiltonian (default: Jordan–Wigner mapping)."
   ]
  },
  {
   "cell_type": "code",
   "execution_count": 1,
   "id": "bee0f231",
   "metadata": {},
   "outputs": [
    {
     "name": "stdout",
     "output_type": "stream",
     "text": [
      "converged SCF energy = -562.053344724961\n"
     ]
    }
   ],
   "source": [
    "from openfermion.chem import geometry_from_pubchem\n",
    "from quri_parts.chem import cas\n",
    "from quri_parts.pyscf.mol import get_spin_mo_integrals_from_mole\n",
    "from quri_parts.openfermion.mol import get_qubit_mapped_hamiltonian\n",
    "from pyscf import gto, scf, mcscf, cc, ci\n",
    "\n",
    "atom = geometry_from_pubchem(\"azobenzene\")\n",
    "mole = gto.M(atom=atom) \n",
    "mf = scf.RHF(mole).run() \n",
    "\n",
    "active_space = cas(4, 4)\n",
    "\n",
    "hamiltonian, mapping = get_qubit_mapped_hamiltonian(\n",
    "    *get_spin_mo_integrals_from_mole(mole, mf.mo_coeff, active_space)\n",
    ")"
   ]
  },
  {
   "cell_type": "markdown",
   "id": "1ec9958d",
   "metadata": {},
   "source": [
    "## Compute exact excited state by CASCI with PySCF.\n",
    "\n",
    "### Complete Active Space Configuration Interaction (CASCI)\n",
    "**Configuration Interaction (CI)** is one of a **post-Hartree–Fock method** for solving the electronic Schrödinger equation within the Born-Oppenheimer approximation for a quantum chemical multi-electron system. <br>\n",
    "It goes beyond the single-determinant Hartree–Fock approximation by including **electron correlation effects** through a variational wave functions, which is written as a **linear combination of configuration state functions (CSFs)**,  <br>\n",
    "$\\Psi = \\sum_{I} c_I \\Phi_I$\n",
    "where:\n",
    "- $\\Phi_I$ are many-electron basis states (determinants or CSFs),\n",
    "- $c_I$ are variational coefficients optimized by diagonalizing the Hamiltonian.\n",
    "\n",
    "\n",
    "### CASCI\n",
    "**CASCI** performs a full CI but only **within the chosen active space**: <br>\n",
    "- Inactive orbitals (always doubly occupied) and virtual orbitals (always empty) are frozen,  \n",
    "- Active orbitals allow the chosen number of active electrons to be distributed in all possible ways.  \n",
    "\n",
    "This makes CASCI to capture the **static (strong) correlation** among active orbitals.\n",
    "\n",
    "\n",
    "### PySCF Implementation\n",
    "In PySCF, `mcscf.CASCI` constructs the CASCI solver.  \n",
    "Setting `mc.fcisolver.nstates = N` requests multiple low-lying excited states by diagonalizing the Hamiltonian within the active space.\n"
   ]
  },
  {
   "cell_type": "code",
   "execution_count": 40,
   "id": "c616c752",
   "metadata": {},
   "outputs": [
    {
     "name": "stdout",
     "output_type": "stream",
     "text": [
      "CASCI state   0  E = -562.057671219960  E(CI) = -2.20745364895095  S^2 = 0.0000000\n",
      "CASCI state   1  E = -561.829824515089  E(CI) = -1.97960694408050  S^2 = 2.0000000\n",
      "CASCI state   2  E = -561.812652554590  E(CI) = -1.96243498358137  S^2 = 0.0000000\n",
      "CASCI state   3  E = -561.752682574615  E(CI) = -1.90246500360570  S^2 = 2.0000000\n",
      "CASCI state   4  E = -561.747970360661  E(CI) = -1.89775278965180  S^2 = 2.0000000\n",
      "CASCI state   5  E = -561.740607983116  E(CI) = -1.89039041210685  S^2 = 0.0000000\n",
      "[-15293.5892339  -15287.38952506 -15286.92227601 -15285.29049286\n",
      " -15285.16227351 -15284.96194322] eV\n"
     ]
    }
   ],
   "source": [
    "mc = mcscf.CASCI(mf, active_space.n_active_orb, active_space.n_active_ele)\n",
    "mc.fcisolver.nstates = 6 # Compute ground state + 5 excited states\n",
    "mc.kernel(verbose=0)\n",
    "print(mc.e_tot*27.21, \"eV\")"
   ]
  },
  {
   "cell_type": "markdown",
   "id": "8c7d8273",
   "metadata": {},
   "source": [
    "# Compute ground state by UCCSD\n",
    "## Coupled Cluster Singles and Doubles (CCSD)\n",
    "**Coupled cluster (CC)** is another **post-HF method** in Quantum chemistry. <br>\n",
    "Unlike CI takes linear combination configuration state functions, CC uses the exponential cluster operator for considering electron correlation, <br>\n",
    "$\\Psi = e^T \\Phi$ <br>\n",
    "where:\n",
    "- T: Cluster operator.\n",
    "- $\\Phi$: Slater determinant of CI.\n",
    "\n",
    "### Cluster operator\n",
    "**Cluster operator (T)** is written in the form of $T = T_1 + T_2 + T_3 \\dots$, where $T_1$ is single excitation, $T_2$ is double excitation, etc. Which in the second quantization formalism can be written as, <br>\n",
    "- $T_1 = \\sum_{i, a} t_i^a a^\\dagger_a a_i$, \n",
    "- $T_2 = \\frac{1}{4} \\sum_{ij, ab} t_{ij}^{ab} a^\\dagger_a a^\\dagger_b a_j a_i$\n",
    "- $T_n = \\frac{1}{(n!)^2} \\sum_{i_1, \\dots, i_n, a_1, \\dots, a_n} a^\\dagger_{a_1} \\dots a^\\dagger_{a_n} a_{i_n} \\dots a_{i_1}$\n",
    "\n",
    "In **CCSD**, only $T_1$ and $T_2$ are considerated.\n",
    "\n",
    "The benefit of adopting exponential instead of linear combination is exponential guarentees the **size extensivity** of the solution. Take CCSD for example:\n",
    "$T = T_1 + T_2$, <br>\n",
    "$e^{(T_1+T_2)} = (T_1+T_2) + \\frac{1}{2!} (T_1+T_2)^2 + \\frac{1}{3!} (T_1+T_2)^3 ...$\n",
    "Even if $T$ only includes singles and doubles ($T_1 + T_2$), the exponential generates **higher-order excitations automatically**.\n",
    "\n",
    "### Coupled-cluster equations\n",
    "Schrödinger equation: $H \\ket{\\Psi} = E \\ket{\\Psi} \\to H e^T \\ket{\\Phi} = E e^T \\ket{\\Phi}$\n",
    "\n",
    "The unknown parameters ($t_i^a, t_{ij}^{ab} \\dots$) can be solved from following equation sets (CCSD):\n",
    "- $\\bra{\\Phi_0} e^{-(T_1+T_2)} H e^{(T_1+T_2)} \\ket{\\Phi_0} = E$\n",
    "- $\\bra{\\Phi_i^a} e^{-(T_1+T_2)} H e^{(T_1+T_2)} \\ket{\\Phi_0} = 0$\n",
    "- $\\bra{\\Phi_{ij}^{ab}} e^{-(T_1+T_2)} H e^{(T_1+T_2)} \\ket{\\Phi_0} = 0$\n",
    "\n",
    "After solving these equation sets, we get $\\{t_i^a\\} \\ \\text{and} \\ \\{ t_{ij}^{ab} \\}$.\n"
   ]
  },
  {
   "cell_type": "code",
   "execution_count": 3,
   "id": "811a5a3b",
   "metadata": {},
   "outputs": [],
   "source": [
    "from quri_parts.chem.mol.models import OrbitalType\n",
    "from quri_parts.chem.mol import ActiveSpaceMolecularOrbitals\n",
    "from quri_parts.pyscf.mol import PySCFMolecularOrbitals\n",
    "\n",
    "asmo = ActiveSpaceMolecularOrbitals(\n",
    "    PySCFMolecularOrbitals(mole, mf.mo_coeff), active_space\n",
    ")\n",
    "\n",
    "forzen_orbs = [i for i in range(mole.nao) if asmo.orb_type(i) != OrbitalType.ACTIVE]\n",
    "\n",
    "ccsd = cc.CCSD(mf, frozen=forzen_orbs).run(verbose=0)"
   ]
  },
  {
   "cell_type": "markdown",
   "id": "0c6729a1",
   "metadata": {},
   "source": [
    "## From CCSD to UCCSD\n",
    "On a quantum computer, one uses a **unitary coupled cluster (UCC)** ansatz to maintain unitarity:\n",
    "\n",
    "$\n",
    "|\\Psi_{\\text{UCC}}\\rangle = e^{T - T^\\dagger} |\\Phi_0\\rangle\n",
    "$\n",
    "\n",
    "- This guarantees a **variational wavefunction**, suitable for variational quantum eigensolver (VQE) algorithms.  \n",
    "- The CCSD amplitudes from classical computation are often used as **initial parameters** for the UCCSD circuit on a quantum computer.\n"
   ]
  },
  {
   "cell_type": "code",
   "execution_count": 4,
   "id": "4c7ddb94",
   "metadata": {},
   "outputs": [],
   "source": [
    "from typing import Sequence\n",
    "import numpy as np\n",
    "import numpy.typing as npt\n",
    "from quri_parts.openfermion.ansatz import TrotterUCCSD\n",
    "\n",
    "def ccsd_param_to_circuit_param(\n",
    "    uccsd: TrotterUCCSD,\n",
    "    n_electrons: int,\n",
    "    t1: npt.NDArray[np.complex128],\n",
    "    t2: npt.NDArray[np.complex128],\n",
    ") -> Sequence[float]:\n",
    "    in_param_list = uccsd.param_mapping.in_params\n",
    "    param_list = []\n",
    "\n",
    "    for param in in_param_list:\n",
    "        name_split = param.name.split(\"_\")\n",
    "        if name_split[0] == \"s\":\n",
    "            _, i_str, j_str = name_split\n",
    "            i, j = int(i_str), int(j_str) - n_electrons // 2\n",
    "            param_list.append(t1[i, j])\n",
    "\n",
    "        if name_split[0] == \"d\":\n",
    "            _, i_str, j_str, a_str, b_str = name_split\n",
    "            i, j, b, a = (\n",
    "                int(i_str),\n",
    "                int(j_str),\n",
    "                int(b_str) - n_electrons // 2,\n",
    "                int(a_str) - n_electrons // 2,\n",
    "            )\n",
    "            param_list.append(t2[i, j, a, b])\n",
    "    return param_list\n",
    "\n",
    "from quri_parts.core.state import quantum_state, apply_circuit\n",
    "\n",
    "TROTTER_STEPS = 1\n",
    "USE_SINGLES = True\n",
    "REDUCE_PARAMETER = True\n",
    "\n",
    "uccsd = TrotterUCCSD(\n",
    "    active_space.n_active_orb * 2,\n",
    "    active_space.n_active_ele,\n",
    "    trotter_number=TROTTER_STEPS,\n",
    "    use_singles=USE_SINGLES,\n",
    "    singlet_excitation=REDUCE_PARAMETER,\n",
    ")\n",
    "param = ccsd_param_to_circuit_param(uccsd, active_space.n_active_ele, ccsd.t1, ccsd.t2)\n",
    "hf_state = quantum_state(active_space.n_active_orb * 2, bits=2**active_space.n_active_ele - 1)\n",
    "state = apply_circuit(uccsd, hf_state)\n",
    "uccsd_bound_state = state.bind_parameters(param)\n"
   ]
  },
  {
   "cell_type": "markdown",
   "id": "f162216d",
   "metadata": {},
   "source": [
    "# Quantum Selected Configuration Interaction (QSCI)"
   ]
  },
  {
   "cell_type": "markdown",
   "id": "13a96a2e",
   "metadata": {},
   "source": [
    "With a initial parameters from CCSD, we can apply Quantum Selected Configuration Interaction ([QSCI](https://quri-sdk.qunasys.com/docs/examples/quri-algo-vm/qsci/)) to obtain ground state and ground state energy.\n"
   ]
  },
  {
   "cell_type": "code",
   "execution_count": 37,
   "id": "96373814",
   "metadata": {},
   "outputs": [
    {
     "name": "stdout",
     "output_type": "stream",
     "text": [
      "Ground state energy from QSCI: -15293.58482768848 eV\n",
      "Exact Ground state (CASCI): -15293.58923389511 eV\n",
      "Error: 4.41e-03 eV\n"
     ]
    }
   ],
   "source": [
    "from quri_parts.qulacs.sampler import create_qulacs_general_vector_sampler\n",
    "from quri_parts_qsci import qsci\n",
    "\n",
    "BASIS_STATES = None\n",
    "TOTAL_SHOTS = 10000\n",
    "\n",
    "sampler = create_qulacs_general_vector_sampler()\n",
    "\n",
    "eigs, _ = qsci(\n",
    "    hamiltonian, [uccsd_bound_state], sampler, total_shots=TOTAL_SHOTS, num_states_pick_out=BASIS_STATES\n",
    ")\n",
    "\n",
    "print(f\"Ground state energy from QSCI: {eigs[0]*27.21} eV\\nExact Ground state (CASCI): {mc.e_tot[0]*27.21} eV\\nError: {np.abs((mc.e_tot[0]-eigs[0]))*27.21:.2e} eV\")"
   ]
  },
  {
   "cell_type": "markdown",
   "id": "eaf4c0de",
   "metadata": {},
   "source": [
    "## Excited-state cost function\n",
    "After getting ground state energy, we want to go further to compute excited state energy. <br>\n",
    "To achieve this, we design a cost function based on **Quantum Subspace Configuration Interaction (QSCI)**. The main idea is to embed the candidate excited state together with already known low-energy states into a finite-dimensional subspace and then diagonalize the Hamiltonain within this subspace.\n",
    "\n",
    "### Procedure\n",
    "1. Generate a candidate excited state with random parameters.\n",
    "2. Form the subspace basis with combining fixed states + new trial state.\n",
    "3. Apply **QSCI** to obtain a set of parameter s.t. minimize the total energy to produce the correct spectrum.\n"
   ]
  },
  {
   "cell_type": "code",
   "execution_count": 6,
   "id": "72728298",
   "metadata": {},
   "outputs": [],
   "source": [
    "from typing import Callable, Optional\n",
    "from quri_parts.core.sampling import ConcurrentSampler\n",
    "from quri_parts.core.operator import Operator\n",
    "from quri_parts.core.state import CircuitQuantumState\n",
    "\n",
    "def create_state(bits: int, params: npt.NDArray[np.float64]) -> CircuitQuantumState:\n",
    "    approx_circuit = uccsd.bind_parameters(params)\n",
    "    approx_exc_state = quantum_state(approx_circuit.qubit_count, circuit=approx_circuit, bits=bits)\n",
    "    return approx_exc_state\n",
    "\n",
    "def get_cost(\n",
    "    exc_bits: int, \n",
    "    sampler: ConcurrentSampler, \n",
    "    hamiltonian: Operator, \n",
    "    fixed_state: Sequence[CircuitQuantumState],\n",
    "    BASIS_STATES: Optional[int] = None,\n",
    ") -> Callable[[npt.NDArray[np.float64]], float]:\n",
    "    def f(x: npt.NDArray[np.float64]) -> float:\n",
    "        approx_exc_state = create_state(bits=exc_bits, params=x)\n",
    "        quantum_states = fixed_state + [approx_exc_state]\n",
    "        vals, vecs = qsci(\n",
    "            hamiltonian,\n",
    "            quantum_states,\n",
    "            sampler,\n",
    "            total_shots=TOTAL_SHOTS,\n",
    "            num_states_pick_out=BASIS_STATES\n",
    "        )\n",
    "        return np.sum(vals)\n",
    "\n",
    "    return f"
   ]
  },
  {
   "cell_type": "markdown",
   "id": "133de4c2",
   "metadata": {},
   "source": [
    "## Sequential excited-state search with QSCI  \n",
    "\n",
    "This is the procedure for computing excited states sequentially using the QSCI-based cost function.  \n",
    "An important note is that the optimizer cannot be a gradient-descent method.  \n",
    "This is because the cost function is defined through **subspace diagonalization**, which involves an eigenvalue problem.  \n",
    "The resulting cost is **non-analytic** and generally **non-smooth**, meaning gradients are not reliable or even well-defined.  \n",
    "Therefore, we employ **gradient-free optimizers** (e.g., COBYLA, Nelder–Mead, or Powell).  \n",
    "\n"
   ]
  },
  {
   "cell_type": "code",
   "execution_count": 7,
   "id": "36ada642",
   "metadata": {},
   "outputs": [
    {
     "name": "stdout",
     "output_type": "stream",
     "text": [
      "\n",
      "   Return from subroutine COBYLA because the MAXFUN limit has been reached.\n",
      "\n",
      "   NFVALS =   50   F =-1.123887E+03    MAXCV = 1.110223E-16\n",
      "   X = 4.285283E-02   1.000000E-01   1.000000E-01   1.000000E-01   1.000000E-01\n",
      "      -7.469287E-02   1.000000E-01  -1.000000E-01  -1.000000E-01   1.000000E-01\n",
      "      -1.000000E-01  -1.000000E-01   1.000000E-01   1.000000E-01\n",
      "\n",
      "   Return from subroutine COBYLA because the MAXFUN limit has been reached.\n",
      "\n",
      "   NFVALS =   50   F =-1.685700E+03    MAXCV = 1.804112E-16\n",
      "   X = 1.000000E-01   1.000000E-01  -1.000000E-01   1.000000E-01  -1.000000E-01\n",
      "       1.000000E-01  -1.000000E-01  -1.000000E-01   1.000000E-01   1.000000E-01\n",
      "      -1.000000E-01   1.000000E-01   1.000000E-01  -1.000000E-01\n",
      "\n",
      "   Return from subroutine COBYLA because the MAXFUN limit has been reached.\n",
      "\n",
      "   NFVALS =   50   F =-2.247453E+03    MAXCV = 1.387779E-16\n",
      "   X = 3.844757E-03  -1.000000E-01  -1.000000E-01   1.000000E-01  -1.000000E-01\n",
      "       1.000000E-01   1.000000E-01  -1.000000E-01   1.000000E-01  -1.000000E-01\n",
      "       1.000000E-01   1.000000E-01   1.000000E-01   1.000000E-01\n",
      "\n",
      "   Return from subroutine COBYLA because the MAXFUN limit has been reached.\n",
      "\n",
      "   NFVALS =   50   F =-2.809201E+03    MAXCV = 5.611102E-02\n",
      "   X = 1.057678E-01   1.120212E-01   9.942304E-02  -1.041171E-01   1.029910E-01\n",
      "       1.040417E-01   1.101278E-01  -1.041934E-01   1.129316E-01   1.561110E-01\n",
      "      -8.978274E-02   9.178394E-02  -1.030329E-01   1.083055E-01\n",
      "\n",
      "   Return from subroutine COBYLA because the MAXFUN limit has been reached.\n",
      "\n",
      "   NFVALS =   50   F =-3.370941E+03    MAXCV = 1.665335E-16\n",
      "   X = 1.000000E-01   1.000000E-01   1.000000E-01  -5.000000E-02  -1.000000E-01\n",
      "       1.000000E-01   1.000000E-01  -1.000000E-01   1.000000E-01   1.000000E-01\n",
      "       1.000000E-01   1.000000E-01   1.000000E-01   1.000000E-01\n"
     ]
    }
   ],
   "source": [
    "from scipy.optimize import minimize\n",
    "\n",
    "sampler = create_qulacs_general_vector_sampler()\n",
    "\n",
    "exc_masks = [0 for _ in range(5)]\n",
    "fixed_state = [uccsd_bound_state]\n",
    "\n",
    "for exc_mask in exc_masks:\n",
    "    bits = (2**active_space.n_active_ele - 1) ^ exc_mask\n",
    "    cost = get_cost(\n",
    "        exc_bits=bits,\n",
    "        sampler=sampler,\n",
    "        hamiltonian=hamiltonian,\n",
    "        fixed_state=fixed_state,\n",
    "        BASIS_STATES=BASIS_STATES,\n",
    "    )\n",
    "\n",
    "    bounds = [(-10**-1, 10**-1) for _ in range(uccsd.parameter_count)]\n",
    "    sol = minimize(\n",
    "        cost,\n",
    "        x0=np.random.uniform(-10**-2, 10**-2, uccsd.parameter_count),\n",
    "        method=\"COBYLA\",\n",
    "        bounds=bounds,\n",
    "        options={\"maxiter\": 50, \"disp\": True}\n",
    "    )\n",
    "\n",
    "    excited_state = quantum_state(\n",
    "        active_space.n_active_orb * 2, bits=bits, circuit=uccsd.bind_parameters(sol.x)\n",
    "    )\n",
    "    fixed_state.append(create_state(bits, params=sol.x))\n"
   ]
  },
  {
   "cell_type": "markdown",
   "id": "00066478",
   "metadata": {},
   "source": [
    "## Plotting - [Compare CASCI result and QSCI result](https://link.aps.org/doi/10.1103/PhysRevResearch.4.013173)"
   ]
  },
  {
   "cell_type": "code",
   "execution_count": 8,
   "id": "2b1018db",
   "metadata": {},
   "outputs": [
    {
     "name": "stderr",
     "output_type": "stream",
     "text": [
      "/tmp/ipykernel_1140232/3421675335.py:49: UserWarning: You passed a edgecolor/edgecolors ('black') for an unfilled marker ('x').  Matplotlib is ignoring the edgecolor in favor of the facecolor.  This behavior may change in the future.\n",
      "  ax.scatter(x_pos, cis_qc[i], color=colors[i], edgecolor='black', marker=markers[i], zorder=5)\n"
     ]
    },
    {
     "data": {
      "image/png": "[encoded data removed]",
      "text/plain": [
       "<Figure size 400x500 with 1 Axes>"
      ]
     },
     "metadata": {},
     "output_type": "display_data"
    }
   ],
   "source": [
    "import matplotlib.pyplot as plt\n",
    "from matplotlib.lines import Line2D\n",
    "\n",
    "cis_exact = mc.e_tot\n",
    "cis_qc    = qsci(hamiltonian, fixed_state, sampler, TOTAL_SHOTS, BASIS_STATES)[0]\n",
    "\n",
    "multiplicity_info = [round(mc.fcisolver.spin_square(mc.ci[i], mc.ncas, mc.nelecas)[1]) for i in range(mc.fcisolver.nstates)]\n",
    "\n",
    "labels = []\n",
    "markers = []\n",
    "colors = plt.cm.tab10.colors\n",
    "count_dict = {}\n",
    "\n",
    "for mult in multiplicity_info:\n",
    "    if mult == 1:\n",
    "        prefix, marker = \"S\", \"o\"\n",
    "    elif mult == 3:\n",
    "        prefix, marker = \"T\", \"x\"\n",
    "    elif mult == 5:\n",
    "        prefix, marker = \"Q\", \"^\"\n",
    "    elif mult == 7:\n",
    "        prefix, marker = \"H\", \"s\"\n",
    "    else:\n",
    "        prefix, marker = f\"M{mult}\", \"d\"\n",
    "\n",
    "    idx = count_dict.get(prefix, 0)\n",
    "    labels.append(f\"{prefix}{idx}\")\n",
    "    markers.append(marker)\n",
    "    count_dict[prefix] = idx + 1\n",
    "\n",
    "cis_exact = (cis_exact - cis_exact[0])*27.21 # Change to eV\n",
    "cis_qc = (cis_qc - cis_qc[0])*27.21\n",
    "\n",
    "# Sort by energy, and make label from down to up\n",
    "order = np.argsort(cis_exact)[::-1]\n",
    "\n",
    "labels   = [labels[i] for i in order]\n",
    "markers  = [markers[i] for i in order]\n",
    "cis_exact = cis_exact[order]\n",
    "cis_qc    = cis_qc[order]\n",
    "colors   = [colors[i] for i in order]\n",
    "\n",
    "fig, ax = plt.subplots(figsize=(4, 5))\n",
    "x_pos = 1.0\n",
    "width = 0.08\n",
    "\n",
    "for i in range(len(labels)):\n",
    "    ax.hlines(cis_exact[i], x_pos - width, x_pos + width, color=colors[i], lw=2)\n",
    "    ax.scatter(x_pos, cis_qc[i], color=colors[i], edgecolor='black', marker=markers[i], zorder=5)\n",
    "\n",
    "handles_casci = [Line2D([0], [0], color=c, lw=2, label=f\"{l} (CASCI)\")\n",
    "                 for c, l in zip(colors, labels)]\n",
    "handles_qc = [Line2D([0], [0], color=c, marker=m, linestyle='None',\n",
    "                     markeredgecolor=\"black\", markersize=8, label=f\"{l} (QC)\")\n",
    "              for c, m, l in zip(colors, markers, labels)]\n",
    "\n",
    "handles = handles_casci + handles_qc\n",
    "\n",
    "ax.legend(handles=handles, ncol=2, loc='center left', bbox_to_anchor=(1.0, 0.5))\n",
    "\n",
    "ax.set_xlim(0.8, 1.2)\n",
    "ax.set_xticks([x_pos])\n",
    "ax.set_xticklabels([\"cis\"])\n",
    "ax.set_ylabel(\"Energy [eV]\")\n",
    "ax.set_title(\"Energy Comparison of Excited States\")\n",
    "\n",
    "plt.show()\n"
   ]
  },
  {
   "cell_type": "markdown",
   "id": "449eeca2",
   "metadata": {},
   "source": [
    "## Appendix (A): Jordan-Wigner mapping\n",
    "\n",
    "In order to map a fermionic Hamiltonian into a qubit Hamiltonian that can be implemented on quantum circuits, we use the **Jordan–Wigner transformation**.  \n",
    "This transformation maps fermionic creation and annihilation operators into tensor products of Pauli operators.  \n",
    "\n",
    "For a system with $N$ spin-orbitals, the mapping is given by\n",
    "\n",
    "\n",
    "$a_p^\\dagger \\;\\;\\mapsto\\;\\; \\frac{1}{2}\\Bigg(\\prod_{j=0}^{p-1} Z_j\\Bigg)(X_p - iY_p),$\n",
    "\n",
    "\n",
    "\n",
    "$a_p \\;\\;\\mapsto\\;\\; \\frac{1}{2}\\Bigg(\\prod_{j=0}^{p-1} Z_j\\Bigg)(X_p + iY_p),$\n",
    "\n",
    "\n",
    "where $a_p^\\dagger$ and $a_p$ are fermionic creation and annihilation operators acting on orbital $p$, and $X_p, Y_p, Z_p$ are Pauli matrices acting on the $p$-th qubit.  \n",
    "The string of $Z$ operators ensures the correct fermionic anti-commutation relations.  \n"
   ]
  },
  {
   "cell_type": "markdown",
   "id": "5016fd18",
   "metadata": {},
   "source": [
    "## Appendix (B): Configuration Interaction Single and Double (CISD)\n",
    "\n",
    "Before we dive into CISD result, we can first compute how many states can it be (Since CI doesn't have size extensivity, it has a maximum number of states). And then we can use CASCI again to check the error of CISD.\n",
    "\n",
    "### Maximum CISD size:\n",
    "1. Compute how many empty orbitals: `occ` and how many occupied orbitals: `un_occ`.\n",
    "2. Single excitation: 2 $\\times$ $\\binom{occ}{1}$ $\\times$ $\\binom{unocc}{1}$, Each select one electron from empty orbitals and occupied orbitals.\n",
    "3. Double excitation (1): Two electrons are excited from different orbitals, $(\\binom{occ}{1} \\ \\times \\ \\binom{unocc}{1})^2$\n",
    "4. Double excitation (2): Two electrons are excited from the same orbital, 2 $\\times$ $\\binom{occ}{2}$ $\\times$ $\\binom{unocc}{2}$\n",
    "\n",
    "In practice, we compute CISD by PySCF we should note that CISD size given by PySCF is typically smaller than the combinatorial count, because PySCF works with unique Slater determinants at fixed spin projection, eliminating redundant excitations."
   ]
  },
  {
   "cell_type": "code",
   "execution_count": 9,
   "id": "d2ec67a6",
   "metadata": {},
   "outputs": [
    {
     "name": "stdout",
     "output_type": "stream",
     "text": [
      "Maximum CISD size: 27\n"
     ]
    }
   ],
   "source": [
    "from scipy.special import binom\n",
    "from quri_parts.chem.mol import ActiveSpace\n",
    "\n",
    "def get_cisd_size(active_space: ActiveSpace) -> int:\n",
    "    n_orb = active_space.n_active_orb\n",
    "    occ = active_space.n_active_ele // 2\n",
    "    un_occ = n_orb - occ\n",
    "    single = binom(occ, 1) * binom(un_occ, 1) * 2\n",
    "    double = binom(occ, 2) * binom(un_occ, 2) * 2 + (binom(occ, 1) * binom(un_occ, 1))**2\n",
    "    return int(1 + single + double)\n",
    "\n",
    "cisd_size = get_cisd_size(active_space)\n",
    "print(f\"Maximum CISD size: {cisd_size}\")"
   ]
  },
  {
   "cell_type": "markdown",
   "id": "4c61b037",
   "metadata": {},
   "source": [
    "In PySCF, the CISD expansion spans 15 unique Slater determinants."
   ]
  },
  {
   "cell_type": "code",
   "execution_count": 41,
   "id": "a851019a",
   "metadata": {},
   "outputs": [
    {
     "name": "stdout",
     "output_type": "stream",
     "text": [
      "RCISD root 0  E = -562.0576692731057\n",
      "RCISD root 1  E = -561.8097497841378\n",
      "RCISD root 2  E = -561.7386761840065\n",
      "RCISD root 3  E = -561.6820484814332\n",
      "RCISD root 4  E = -561.6419212432804\n",
      "RCISD root 5  E = -561.5697350286234\n",
      "RCISD root 6  E = -561.4675268864693\n",
      "RCISD root 7  E = -561.4306455754565\n",
      "RCISD root 8  E = -561.4040337512311\n",
      "RCISD root 9  E = -561.3631207402699\n",
      "RCISD root 10  E = -561.3208463907085\n",
      "RCISD root 11  E = -561.2659553058691\n",
      "RCISD root 12  E = -561.2197824358046\n",
      "RCISD root 13  E = -561.1547452687606\n",
      "RCISD root 14  E = -561.073834207525\n",
      "\n",
      "Energy from CISD: [-15293.58918092 -15286.84329163 -15284.90937897 -15283.36853918\n",
      " -15282.27667703 -15280.31249013 -15277.53140658 -15276.52786611\n",
      " -15275.80375837 -15274.69051534 -15273.54023029 -15272.04664387\n",
      " -15270.79028008 -15269.02061876 -15266.81902879] eV\n"
     ]
    }
   ],
   "source": [
    "cisd_solver = ci.CISD(mf, forzen_orbs)\n",
    "cisd_solver.nstates = cisd_size\n",
    "cisd_energy = cisd_solver.run().e_tot\n",
    "\n",
    "print(f\"\\nEnergy from CISD: {cisd_energy*27.21} eV\")"
   ]
  },
  {
   "cell_type": "code",
   "execution_count": 25,
   "id": "0fe36e50",
   "metadata": {},
   "outputs": [],
   "source": [
    "cisd_size = 15"
   ]
  },
  {
   "cell_type": "markdown",
   "id": "4760cb57",
   "metadata": {},
   "source": [
    "### Comparison of CISD energies with CASCI and QSCI\n",
    "\n",
    "For reference, we compute CASCI with the same configuration size as CISD.\n",
    "We also apply the QSCI procedure under the same configuration for a direct comparison."
   ]
  },
  {
   "cell_type": "code",
   "execution_count": 42,
   "id": "63dee84f",
   "metadata": {},
   "outputs": [
    {
     "name": "stdout",
     "output_type": "stream",
     "text": [
      "CASCI state   0  E = -562.057671219960  E(CI) = -2.20745364895095  S^2 = 0.0000000\n",
      "CASCI state   1  E = -561.829824515089  E(CI) = -1.97960694408050  S^2 = 2.0000000\n",
      "CASCI state   2  E = -561.812652554590  E(CI) = -1.96243498358137  S^2 = 0.0000000\n",
      "CASCI state   3  E = -561.752682574615  E(CI) = -1.90246500360570  S^2 = 2.0000000\n",
      "CASCI state   4  E = -561.747970360661  E(CI) = -1.89775278965180  S^2 = 2.0000000\n",
      "CASCI state   5  E = -561.740607983116  E(CI) = -1.89039041210685  S^2 = 0.0000000\n",
      "CASCI state   6  E = -561.734241645805  E(CI) = -1.88402407479612  S^2 = 2.0000000\n",
      "CASCI state   7  E = -561.682073804745  E(CI) = -1.83185623373629  S^2 = 0.0000000\n",
      "CASCI state   8  E = -561.642062543431  E(CI) = -1.79184497242204  S^2 = 0.0000000\n",
      "CASCI state   9  E = -561.607468237756  E(CI) = -1.75725066674670  S^2 = 6.0000000\n",
      "CASCI state  10  E = -561.586873951964  E(CI) = -1.73665638095520  S^2 = 2.0000000\n",
      "CASCI state  11  E = -561.576589164516  E(CI) = -1.72637159350666  S^2 = 2.0000000\n",
      "CASCI state  12  E = -561.570512934839  E(CI) = -1.72029536383013  S^2 = 0.0000000\n",
      "CASCI state  13  E = -561.486216285939  E(CI) = -1.63599871492966  S^2 = 2.0000000\n",
      "CASCI state  14  E = -561.473195582366  E(CI) = -1.62297801135730  S^2 = 0.0000000\n",
      "\n",
      "Energy from CASCI: [-15293.5892339  -15287.38952506 -15286.92227601 -15285.29049286\n",
      " -15285.16227351 -15284.96194322 -15284.78871518 -15283.36922823\n",
      " -15282.28052181 -15281.33921075 -15280.77884023 -15280.49899117\n",
      " -15280.33365696 -15278.03994514 -15277.6856518 ] eV\n"
     ]
    }
   ],
   "source": [
    "mc = mcscf.CASCI(mf, active_space.n_active_orb, active_space.n_active_ele)\n",
    "mc.fcisolver.nstates = cisd_size\n",
    "mc.kernel(verbose=0)\n",
    "\n",
    "print(f\"\\nEnergy from CASCI: {mc.e_tot*27.21} eV\")"
   ]
  },
  {
   "cell_type": "code",
   "execution_count": null,
   "id": "b9d82f69",
   "metadata": {},
   "outputs": [
    {
     "name": "stdout",
     "output_type": "stream",
     "text": [
      "\n",
      "   Return from subroutine COBYLA because the MAXFUN limit has been reached.\n",
      "\n",
      "   NFVALS =   50   F =-1.123883E+03    MAXCV = 1.164770E-02\n",
      "   X =-1.111968E-01  -1.100457E-01  -1.076639E-01  -1.000000E-01  -5.762703E-02\n",
      "       6.546894E-02  -9.646421E-02   5.226340E-02  -7.227194E-02  -1.116477E-01\n",
      "      -9.670644E-02  -9.531221E-02   6.294035E-02   8.306630E-02\n",
      "\n",
      "   Return from subroutine COBYLA because the MAXFUN limit has been reached.\n",
      "\n",
      "   NFVALS =   50   F =-1.685694E+03    MAXCV = 0.000000E+00\n",
      "   X = 5.267167E-03  -5.480466E-03  -7.074251E-03  -1.202343E-02  -1.313867E-02\n",
      "       5.454317E-03  -7.065425E-03   4.478184E-02   8.688552E-02  -5.666565E-02\n",
      "      -4.774242E-03  -2.916518E-02   4.494122E-02  -1.130773E-02\n",
      "\n",
      "   Return from subroutine COBYLA because the MAXFUN limit has been reached.\n",
      "\n",
      "   NFVALS =   50   F =-2.247441E+03    MAXCV = 2.359224E-16\n",
      "   X =-1.000000E-01  -1.000000E-01   1.000000E-01  -1.000000E-01  -5.092225E-02\n",
      "      -2.151347E-02   8.757260E-02  -2.413164E-02  -9.070437E-02   1.000000E-01\n",
      "       1.000000E-01   6.845057E-02  -9.199899E-02   1.000000E-01\n",
      "\n",
      "   Return from subroutine COBYLA because the MAXFUN limit has been reached.\n",
      "\n",
      "   NFVALS =   50   F =-2.809185E+03    MAXCV = 4.440892E-16\n",
      "   X =-1.000000E-01   1.000000E-01  -1.000000E-01   1.000000E-01   1.000000E-01\n",
      "      -1.000000E-01  -1.000000E-01  -1.000000E-01   1.000000E-01   1.000000E-01\n",
      "      -1.000000E-01  -1.000000E-01  -1.000000E-01  -1.000000E-01\n",
      "\n",
      "   Return from subroutine COBYLA because the MAXFUN limit has been reached.\n",
      "\n",
      "   NFVALS =   50   F =-3.370920E+03    MAXCV = 3.608225E-16\n",
      "   X = 1.000000E-01  -1.000000E-01   1.000000E-01   1.000000E-01  -1.000000E-01\n",
      "       1.000000E-01  -1.000000E-01  -1.000000E-01  -1.000000E-01  -1.000000E-01\n",
      "      -1.000000E-01  -1.000000E-01  -1.000000E-01  -1.000000E-01\n",
      "\n",
      "   Return from subroutine COBYLA because the MAXFUN limit has been reached.\n",
      "\n",
      "   NFVALS =   50   F =-3.932656E+03    MAXCV = 2.498002E-16\n",
      "   X = 9.277797E-02   1.000000E-01   1.000000E-01  -1.000000E-01  -7.960065E-02\n",
      "       1.000000E-01   1.000000E-01   5.310807E-02  -3.573693E-02  -1.000000E-01\n",
      "       1.000000E-01  -1.066537E-02  -6.619014E-02   8.310519E-02\n",
      "\n",
      "   Return from subroutine COBYLA because the MAXFUN limit has been reached.\n",
      "\n",
      "   NFVALS =   50   F =-4.494338E+03    MAXCV = 8.132141E-03\n",
      "   X =-9.841674E-02   4.251688E-02  -1.047078E-01   9.773329E-02  -3.841375E-02\n",
      "      -9.884387E-02  -2.669796E-02   1.007712E-01   9.724653E-02   3.314552E-02\n",
      "      -1.081321E-01  -1.009207E-01  -1.004378E-01   1.880644E-02\n",
      "\n",
      "   Return from subroutine COBYLA because the MAXFUN limit has been reached.\n",
      "\n",
      "   NFVALS =   50   F =-5.055979E+03    MAXCV = 5.551115E-17\n",
      "   X = 1.000000E-01   1.000000E-01  -1.000000E-01  -1.000000E-01  -1.000000E-01\n",
      "       1.000000E-01  -1.000000E-01  -1.000000E-01  -1.000000E-01  -1.000000E-01\n",
      "      -1.000000E-01  -1.000000E-01  -1.000000E-01  -1.000000E-01\n",
      "\n",
      "   Return from subroutine COBYLA because the MAXFUN limit has been reached.\n",
      "\n",
      "   NFVALS =   50   F =-5.617553E+03    MAXCV = 1.746111E-02\n",
      "   X =-9.429603E-02   1.006651E-01   1.174611E-01   3.555130E-02   9.601890E-02\n",
      "       9.442766E-02  -4.841981E-02   4.149472E-02  -3.747050E-02   1.610734E-02\n",
      "      -5.138215E-02   2.050025E-02   1.123969E-01   7.313743E-03\n",
      "\n",
      "   Return from subroutine COBYLA because the MAXFUN limit has been reached.\n",
      "\n",
      "   NFVALS =   50   F =-6.179122E+03    MAXCV = 2.775558E-17\n",
      "   X = 1.000000E-01  -1.000000E-01  -1.000000E-01  -8.697103E-02  -1.000000E-01\n",
      "      -1.000000E-01  -1.000000E-01   1.000000E-01  -1.000000E-01  -6.222430E-02\n",
      "      -1.000000E-01  -8.531743E-02  -1.000000E-01  -5.378361E-02\n",
      "\n",
      "   Return from subroutine COBYLA because the MAXFUN limit has been reached.\n",
      "\n",
      "   NFVALS =   50   F =-6.740633E+03    MAXCV = 4.440892E-16\n",
      "   X =-1.000000E-01  -7.719619E-02   6.470415E-02  -1.000000E-01  -1.000000E-01\n",
      "      -1.000000E-01  -1.000000E-01  -1.000000E-01   7.952092E-03   2.186842E-02\n",
      "      -7.989241E-02  -8.178886E-02  -1.000000E-01  -9.500232E-02\n",
      "\n",
      "   Return from subroutine COBYLA because the MAXFUN limit has been reached.\n",
      "\n",
      "   NFVALS =   50   F =-7.302096E+03    MAXCV = 1.665335E-16\n",
      "   X =-1.000000E-01  -1.000000E-01  -1.000000E-01   1.000000E-01  -1.000000E-01\n",
      "       1.000000E-01   6.928499E-02  -1.000000E-01  -1.000000E-01   6.427761E-02\n",
      "      -1.000000E-01  -1.000000E-01  -3.693366E-04  -1.000000E-01\n",
      "\n",
      "   Return from subroutine COBYLA because the MAXFUN limit has been reached.\n",
      "\n",
      "   NFVALS =   50   F =-7.863372E+03    MAXCV = 1.387779E-16\n",
      "   X =-1.000000E-01  -1.000000E-01  -1.000000E-01   1.000000E-01  -1.000000E-01\n",
      "      -1.000000E-01  -1.000000E-01   1.000000E-01  -1.000000E-01   1.000000E-01\n",
      "       1.000000E-01   1.000000E-01   1.000000E-01   1.000000E-01\n",
      "\n",
      "   Return from subroutine COBYLA because the MAXFUN limit has been reached.\n",
      "\n",
      "   NFVALS =   50   F =-8.424715E+03    MAXCV = 0.000000E+00\n",
      "   X = 1.000000E-01  -3.940266E-02   1.000000E-01  -6.164038E-02  -5.233621E-02\n",
      "      -6.300447E-02  -4.934266E-02  -4.625474E-02  -8.727122E-02  -9.638952E-02\n",
      "      -6.421971E-02  -3.211677E-02  -1.579538E-02  -8.692385E-02\n"
     ]
    }
   ],
   "source": [
    "from scipy.optimize import minimize\n",
    "\n",
    "sampler = create_qulacs_general_vector_sampler()\n",
    "\n",
    "exc_masks = [0 for _ in range(cisd_size-1)]\n",
    "fixed_state = [uccsd_bound_state]\n",
    "\n",
    "for exc_mask in exc_masks:\n",
    "    bits = (2**active_space.n_active_ele - 1) ^ exc_mask\n",
    "    cost = get_cost(\n",
    "        exc_bits=bits,\n",
    "        sampler=sampler,\n",
    "        hamiltonian=hamiltonian,\n",
    "        fixed_state=fixed_state,\n",
    "        BASIS_STATES=cisd_size,\n",
    "    )\n",
    "\n",
    "    bounds = [(-10**-1, 10**-1) for _ in range(uccsd.parameter_count)]\n",
    "    sol = minimize(\n",
    "        cost,\n",
    "        x0=np.random.uniform(-10**-2, 10**-2, uccsd.parameter_count),\n",
    "        method=\"COBYLA\",\n",
    "        bounds=bounds,\n",
    "        options={\"maxiter\": 50, \"disp\": True}\n",
    "    )\n",
    "\n",
    "    excited_state = quantum_state(\n",
    "        active_space.n_active_orb * 2, bits=bits, circuit=uccsd.bind_parameters(sol.x)\n",
    "    )\n",
    "    fixed_state.append(create_state(bits, params=sol.x))\n"
   ]
  },
  {
   "cell_type": "code",
   "execution_count": 43,
   "id": "7ee3c30a",
   "metadata": {},
   "outputs": [
    {
     "data": {
      "image/png": "[encoded data removed]",
      "text/plain": [
       "<Figure size 640x480 with 1 Axes>"
      ]
     },
     "metadata": {},
     "output_type": "display_data"
    }
   ],
   "source": [
    "\n",
    "plt.plot(np.abs(mc.e_tot - qsci(hamiltonian, fixed_state, sampler, TOTAL_SHOTS, num_states_pick_out=15)[0])*27.21, marker='o', linestyle='-', label='QSCI Error')\n",
    "plt.plot(np.abs(mc.e_tot - cisd_energy)*27.21, marker='o', linestyle='-', label='CISD Error')\n",
    "\n",
    "plt.title(\"Comparison of Energy Errors (QSCI vs CISD)\")\n",
    "plt.xlabel(\"State index\")\n",
    "plt.ylabel(\"Absolute Error [eV]\")\n",
    "\n",
    "plt.legend()\n",
    "\n",
    "plt.grid(True, linestyle='--', alpha=0.6)\n",
    "\n",
    "plt.tight_layout()\n",
    "plt.show()"
   ]
  },
  {
   "cell_type": "markdown",
   "id": "5b76f31f",
   "metadata": {},
   "source": [
    "From the above result, we observed that QSCI can get more accurate energies than CISD under the same configuration size."
   ]
  }
 ],
 "metadata": {
  "kernelspec": {
   "display_name": "QC",
   "language": "python",
   "name": "python3"
  },
  "language_info": {
   "codemirror_mode": {
    "name": "ipython",
    "version": 3
   },
   "file_extension": ".py",
   "mimetype": "text/x-python",
   "name": "python",
   "nbconvert_exporter": "python",
   "pygments_lexer": "ipython3",
   "version": "3.10.16"
  }
 },
 "nbformat": 4,
 "nbformat_minor": 5
}
