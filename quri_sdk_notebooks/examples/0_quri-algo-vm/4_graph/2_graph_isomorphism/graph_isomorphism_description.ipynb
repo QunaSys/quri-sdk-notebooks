{
 "cells": [
  {
   "cell_type": "markdown",
   "id": "9f8a7ac2",
   "metadata": {},
   "source": [
    "# Graph Isomorphism Problem\n",
    "\n",
    "The Graph Isomorphism (GI) problem is a well-known problem in theoretical computer science and combinatorics. Unlike NP-complete problems, GI is in NP but has not been proven to be either in P or NP-complete, making it a fascinating intermediate problem.  \n",
    "The goal is to determine whether two given graphs are structurally identical, meaning there exists a bijective mapping between their vertex sets that preserves edge connectivity.\n",
    "\n",
    "This problem has applications in various fields, including:\n",
    "* **Chemistry**: Checking whether two molecular graphs represent the same compound.\n",
    "* **Pattern recognition**: Matching structural patterns in images or graphs.\n",
    "* **Cryptography**: Designing protocols based on the hardness of GI.\n",
    "\n",
    "## Problem Definition\n",
    "\n",
    "Given two undirected graphs **G₁ = (V₁, E₁)** and **G₂ = (V₂, E₂)** with |V₁| = |V₂| = n,  \n",
    "the goal is to determine whether there exists a bijective mapping  \n",
    "**π: V₁ → V₂** such that for all vertex pairs (u, v):\n",
    "\n",
    "$$\n",
    "(u, v) \\in E₁ \\iff (\\pi(u), \\pi(v)) \\in E₂\n",
    "$$\n",
    "\n",
    "In other words, **G₁** and **G₂** are isomorphic if their adjacency structures match under some vertex relabeling.\n",
    "\n",
    "### Graph Isomorphism demo  \n",
    "![](./graph_isomorphism_demo.png)\n"
   ]
  },
  {
   "cell_type": "markdown",
   "id": "3984dc07",
   "metadata": {},
   "source": [
    "## QUBO Hamiltonian for Graph Isomorphism\n",
    "\n",
    "To solve the Graph Isomorphism problem using QUBO, we define a binary matrix of variables $x_{v,i} \\in \\{0,1\\}$ such that:\n",
    "\n",
    "- $x_{v,i} = 1$ if vertex $v$ in $G_2$ is mapped to vertex $i$ in $G_1$\n",
    "- $x_{v,i} = 0$ otherwise\n",
    "\n",
    "This formulation ensures a bijection between the two graphs’ vertex sets and enforces edge consistency.  \n",
    "The total energy function is composed of two parts: a **bijective constraint Hamiltonian** and an **edge consistency penalty Hamiltonian**.\n",
    "\n",
    "---\n",
    "\n",
    "### 1. Bijectivity Constraint:\n",
    "\n",
    "$$\n",
    "H_A = A \\sum_v \\left( 1 - \\sum_i x_{v,i} \\right)^2\n",
    "\\;+\\;\n",
    "A \\sum_i \\left( 1 - \\sum_v x_{v,i} \\right)^2\n",
    "$$\n",
    "\n",
    "- The first term ensures that every vertex in $G_2$ maps to **exactly one** vertex in $G_1$.\n",
    "- The second term ensures that every vertex in $G_1$ receives **exactly one** mapping from $G_2$.\n",
    "- The parameter **$A > 0$** controls the penalty for violating the bijection.\n",
    "\n",
    "---\n",
    "\n",
    "### 2. Edge Consistency Penalty:\n",
    "\n",
    "$$\n",
    "H_B = B \\sum_{\\substack{i j \\notin E_1 \\\\ u v \\in E_2}} x_{u,i} x_{v,j}\n",
    "\\;+\\;\n",
    "B \\sum_{\\substack{i j \\in E_1 \\\\ u v \\notin E_2}} x_{u,i} x_{v,j}\n",
    "$$\n",
    "\n",
    "- This term penalizes mismatched edges under the proposed mapping.\n",
    "- The first term penalizes mappings that introduce extra edges not in $G_1$.\n",
    "- The second term penalizes mappings that miss edges present in $G_1$.\n",
    "- The parameter **$B > 0$** defines the penalty strength for such invalid mappings.\n",
    "\n",
    "---\n",
    "\n",
    "### Final Hamiltonian:\n",
    "\n",
    "$$\n",
    "H = H_A + H_B\n",
    "$$\n",
    "\n",
    "- If the ground state of $H$ reaches zero ($H = 0$), then the two graphs are isomorphic.\n",
    "- The number of binary variables (qubits/spins) required is $N^2$, where $N$ is the number of vertices in each graph.\n",
    "\n"
   ]
  },
  {
   "cell_type": "markdown",
   "id": "72755981",
   "metadata": {},
   "source": []
  }
 ],
 "metadata": {
  "kernelspec": {
   "display_name": "QC",
   "language": "python",
   "name": "python3"
  },
  "language_info": {
   "codemirror_mode": {
    "name": "ipython",
    "version": 3
   },
   "file_extension": ".py",
   "mimetype": "text/x-python",
   "name": "python",
   "nbconvert_exporter": "python",
   "pygments_lexer": "ipython3",
   "version": "3.10.14"
  }
 },
 "nbformat": 4,
 "nbformat_minor": 5
}
