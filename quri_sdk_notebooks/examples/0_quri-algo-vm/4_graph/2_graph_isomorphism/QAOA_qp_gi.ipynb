{
 "cells": [
  {
   "cell_type": "code",
   "execution_count": 2,
   "metadata": {},
   "outputs": [],
   "source": [
    "from quri_parts.core.operator import Operator, pauli_label, PAULI_IDENTITY, PauliLabel\n",
    "from scipy.optimize import minimize\n",
    "import numpy as np\n",
    "from quri_parts.circuit import LinearMappedUnboundParametricQuantumCircuit\n",
    "from quri_parts.core.state import quantum_state\n",
    "from quri_parts.qulacs.estimator import create_qulacs_vector_estimator\n",
    "import networkx as nx"
   ]
  },
  {
   "cell_type": "markdown",
   "metadata": {},
   "source": [
    "# Graph Isomorphism Problem\n",
    "\n",
    "The **Graph Isomorphism (GI)** problem is a well-known problem in theoretical computer science and combinatorics. Unlike NP-complete problems, GI is in NP but has not been proven to be either in P or NP-complete, making it a fascinating intermediate problem. The goal is to determine whether two given graphs are structurally identical, meaning there exists a bijective mapping between their vertex sets that preserves edge connectivity.\n",
    "\n",
    "## Applications\n",
    "\n",
    "- **Chemistry**: Checking whether two molecular graphs represent the same compound.  \n",
    "- **Pattern Recognition**: Matching structural patterns in images or graphs.  \n",
    "- **Cryptography**: Designing protocols based on the hardness of GI.  \n",
    "\n",
    "---\n",
    "\n",
    "## Problem Definition\n",
    "\n",
    "Let  \n",
    "$G_{1} = (V_{1}, E_{1}),\\quad  \n",
    "G_{2} = (V_{2}, E_{2})$  \n",
    "be two undirected graphs with $|V_{1}| = |V_{2}| = n$. We ask whether there exists a bijection  \n",
    "$\\pi : V_{1} \\longrightarrow V_{2}$  \n",
    "such that for **every** pair $(u,v)$:\n",
    "$$(u,v)\\in E_{1} \\quad\\Longleftrightarrow\\quad (\\pi(u),\\pi(v))\\in E_{2}.$$\n",
    "\n",
    "If such a $\\pi$ exists, we say $G_{1}$ and $G_{2}$ are **isomorphic**, denoted $G_{1}\\cong G_{2}$.\n",
    "\n",
    "---\n",
    "\n",
    "## Adjacency Matrix Formulation\n",
    "\n",
    "Number the vertices of each graph from $1$ to $n$. Define their **adjacency matrices**:\n",
    "\n",
    "$$\n",
    "A^{(1)} = \\bigl[a^{(1)}_{ij}\\bigr],\\quad\n",
    "a^{(1)}_{ij} =\n",
    "\\begin{cases}\n",
    "1, & (i,j)\\in E_{1},\\\\\n",
    "0, & \\text{otherwise},\n",
    "\\end{cases}\n",
    "$$\n",
    "\n",
    "$$\n",
    "A^{(2)} = \\bigl[a^{(2)}_{ij}\\bigr],\\quad\n",
    "a^{(2)}_{ij} =\n",
    "\\begin{cases}\n",
    "1, & (i,j)\\in E_{2},\\\\\n",
    "0, & \\text{otherwise}.\n",
    "\\end{cases}\n",
    "$$\n",
    "\n",
    "---\n",
    "\n",
    "## Permutation Matrix and Matrix Equation\n",
    "\n",
    "A bijection $\\pi$ on the vertex set corresponds to an $n\\times n$ **permutation matrix** $P$, where\n",
    "\n",
    "$$\n",
    "P_{k\\ell} =\n",
    "\\begin{cases}\n",
    "1, & \\ell = \\pi(k),\\\\\n",
    "0, & \\text{otherwise}.\n",
    "\\end{cases}\n",
    "$$\n",
    "\n",
    "Such a $P$ satisfies $P^T = P^{-1}$ and $P^T P = P P^T = I_{n}$. The key fact is:\n",
    "\n",
    "> **$G_{1}\\cong G_{2}$** if and only if there exists a permutation matrix $P$ such that  \n",
    "> $$\\boxed{A^{(2)} = P^T\\,A^{(1)}\\,P.}$$\n",
    "\n",
    "Equivalently,  \n",
    "$$A^{(1)} = P\\,A^{(2)}\\,P^T.$$\n",
    "\n",
    "---\n",
    "\n",
    "### Why It Works\n",
    "\n",
    "1. If $\\pi$ is an isomorphism, then  \n",
    "   $$(i,j)\\in E_{1} \\iff (\\pi(i),\\pi(j))\\in E_{2}.$$\n",
    "2. Conjugation by $P$ permutes rows and columns:  \n",
    "   $$\n",
    "   (P^T A^{(1)} P)_{k\\ell}\n",
    "   = \\sum_{i,j} P^T_{k i}\\,a^{(1)}_{ij}\\,P_{j\\ell}\n",
    "   = a^{(1)}_{\\pi^{-1}(k),\\,\\pi^{-1}(\\ell)}\n",
    "   = a^{(2)}_{k\\ell}.\n",
    "   $$\n",
    "\n",
    "---\n",
    "\n",
    "## Summary\n",
    "\n",
    "- **Graph Isomorphism** asks whether two graphs $G_{1}$ and $G_{2}$ differ only by a relabeling of vertices.  \n",
    "- By passing to adjacency matrices $A^{(1)},A^{(2)}$, the problem reduces to finding a **permutation matrix** $P$ with  \n",
    "  $$A^{(2)} = P^T A^{(1)} P.$$  \n",
    "- If such a $P$ exists, $G_{1}$ and $G_{2}$ are isomorphic; otherwise they are distinct.\n",
    "\n",
    "This matrix-based view casts GI as a **permutation-similarity** decision problem on $\\{0,1\\}$-matrices.\n",
    "\n",
    "### Graph Isomorphism demo  "
   ]
  },
  {
   "cell_type": "code",
   "execution_count": 202,
   "metadata": {},
   "outputs": [],
   "source": [
    "# Build an example graph\n",
    "nodes = 4\n",
    "\n",
    "graph1 = {\n",
    "    'nodes': list(range(nodes)),\n",
    "    'edges': [\n",
    "        (1, 0), (2, 1), (3, 2), (0, 3)\n",
    "    ]\n",
    "}\n",
    "\n",
    "graph2 = {\n",
    "    'nodes': list(range(nodes)),\n",
    "    'edges': [\n",
    "        (1, 0), (0, 2), (3, 2), (1, 3)\n",
    "    ]\n",
    "}\n",
    "\n",
    "graph3 = {\n",
    "    'nodes': list(range(nodes)),\n",
    "    'edges': [\n",
    "        (0, 1), (0, 2), (3, 2)#, (1, 3)\n",
    "    ]\n",
    "}\n",
    "\n",
    "G1 = nx.Graph()\n",
    "G1.add_nodes_from(graph1['nodes'])\n",
    "G1.add_edges_from(graph1['edges'])\n",
    "\n",
    "G2 = nx.Graph()\n",
    "G2.add_nodes_from(graph2['nodes'])\n",
    "G2.add_edges_from(graph2['edges'])\n",
    "\n",
    "G3 = nx.Graph()\n",
    "G3.add_nodes_from(graph3['nodes'])\n",
    "G3.add_edges_from(graph3['edges'])\n",
    "\n",
    "nodes = G1.nodes()\n",
    "num_qubits = G1.number_of_nodes()**2"
   ]
  },
  {
   "cell_type": "code",
   "execution_count": null,
   "metadata": {},
   "outputs": [
    {
     "data": {
      "image/png": "[encoded data removed]",
      "text/plain": [
       "<Figure size 1400x700 with 3 Axes>"
      ]
     },
     "metadata": {},
     "output_type": "display_data"
    }
   ],
   "source": [
    "import matplotlib.pyplot as plt\n",
    "%matplotlib inline\n",
    "\n",
    "full_graph_color = \"#C0C0C0\"\n",
    "pos = nx.spring_layout(G1, seed=42)\n",
    "# Create a color map for the nodes\n",
    "fig, axes = plt.subplots(1, 3, figsize=(14, 7))\n",
    "\n",
    "nx.draw(G1, pos, with_labels=True, node_color=full_graph_color, edge_color=\"gray\",\n",
    "        node_size=1500, font_size=12, font_weight=\"bold\", ax=axes[0])\n",
    "axes[0].set_title(\"Graph 1\")\n",
    "\n",
    "nx.draw(G2, pos, with_labels=True, node_color=full_graph_color, edge_color=\"gray\",\n",
    "        node_size=1500, font_size=12, font_weight=\"bold\", ax=axes[1])\n",
    "axes[1].set_title(\"Graph 2\")\n",
    "\n",
    "nx.draw(G3, pos, with_labels=True, node_color=full_graph_color, edge_color=\"gray\",\n",
    "        node_size=1500, font_size=12, font_weight=\"bold\", ax=axes[2])\n",
    "axes[2].set_title(\"Graph 3\")\n",
    "\n",
    "plt.show()"
   ]
  },
  {
   "cell_type": "markdown",
   "metadata": {},
   "source": [
    "## QUBO Hamiltonian for Graph Isomorphism\n",
    "\n",
    "To solve the Graph Isomorphism problem using QUBO, we define a binary matrix of variables $x_{v,i} \\in \\{0,1\\}$ such that:\n",
    "\n",
    "- $x_{v,i} = 1$ if vertex $v$ in $G_2$ is mapped to vertex $i$ in $G_1$\n",
    "- $x_{v,i} = 0$ otherwise\n",
    "\n",
    "This formulation ensures a bijection between the two graphs’ vertex sets and enforces edge consistency.  \n",
    "The total energy function is composed of two parts: a **bijective constraint Hamiltonian** and an **edge consistency penalty Hamiltonian**.\n",
    "\n",
    "---\n",
    "\n",
    "### 1. Bijectivity Constraint:\n",
    "\n",
    "$$\n",
    "H_A = A \\sum_v \\left( 1 - \\sum_i x_{v,i} \\right)^2\n",
    "\\;+\\;\n",
    "A \\sum_i \\left( 1 - \\sum_v x_{v,i} \\right)^2\n",
    "$$\n",
    "\n",
    "- The first term ensures that every vertex in $G_2$ maps to **exactly one** vertex in $G_1$.\n",
    "- The second term ensures that every vertex in $G_1$ receives **exactly one** mapping from $G_2$.\n",
    "- The parameter **$A > 0$** controls the penalty for violating the bijection.\n",
    "\n",
    "---\n",
    "\n",
    "### 2. Edge Consistency Penalty:\n",
    "\n",
    "$$\n",
    "H_B = B \\sum_{\\substack{i j \\notin E_1 \\\\ u v \\in E_2}} x_{u,i} x_{v,j}\n",
    "\\;+\\;\n",
    "B \\sum_{\\substack{i j \\in E_1 \\\\ u v \\notin E_2}} x_{u,i} x_{v,j}\n",
    "$$\n",
    "\n",
    "- This term penalizes mismatched edges under the proposed mapping.\n",
    "- The first term penalizes mappings that introduce extra edges not in $G_1$.\n",
    "- The second term penalizes mappings that miss edges present in $G_1$.\n",
    "- The parameter **$B > 0$** defines the penalty strength for such invalid mappings.\n",
    "\n",
    "---\n",
    "\n",
    "### Final Hamiltonian:\n",
    "\n",
    "$$\n",
    "H = H_A + H_B\n",
    "$$\n",
    "\n",
    "- If the ground state of $H$ reaches zero ($H = 0$), then the two graphs are isomorphic.\n",
    "- The number of binary variables (qubits/spins) required is $N^2$, where $N$ is the number of vertices in each graph.\n",
    "\n"
   ]
  },
  {
   "cell_type": "code",
   "execution_count": null,
   "metadata": {},
   "outputs": [],
   "source": [
    "import itertools\n",
    "\n",
    "def qubit_index(u: int, v: int, N: int) -> int:\n",
    "    \"\"\"\n",
    "    Map (u, v) to a single qubit index.\n",
    "    Assume u, v ∈ {0, 1, ..., N-1}.\n",
    "    \"\"\"\n",
    "    return u * N + v\n",
    "\n",
    "def construct_HA(n_nodes: int) -> Operator:\n",
    "    op = Operator()\n",
    "    for v in range(n_nodes):\n",
    "        # (1 - sum_u x_{u,v})^2 = 1 - 2 sum_u x_{u,v} + sum_{u1,u2} x_{u1,v} x_{u2,v}\n",
    "        # where x_{u,v}^2 = x_{u,v}, but we simply iterate over all u1, u2, including u1==u2\n",
    "        # multiplied by A\n",
    "        xvi = Operator()\n",
    "        for i in range(n_nodes):\n",
    "            q = qubit_index(i, v, n_nodes)\n",
    "            xvi += Operator({PAULI_IDENTITY: 0.5, pauli_label(f\"Z{q}\"): -0.5})\n",
    "        curr = Operator({PAULI_IDENTITY: 1.0}) - xvi\n",
    "        op += curr * curr\n",
    "\n",
    "    # sum_{u1,u2} x_{u1,v} x_{u2,v} = sum_{u1,u2} (0.5 + 0.5Z_{q1})(0.5 + 0.5Z_{q2})\n",
    "    for i in range(n_nodes):\n",
    "        xvi = Operator()\n",
    "        for v in range(n_nodes):\n",
    "            q = qubit_index(i, v, n_nodes)\n",
    "            xvi += Operator({PAULI_IDENTITY: 0.5, pauli_label(f\"Z{q}\"): -0.5})\n",
    "        curr = Operator({PAULI_IDENTITY: 1.0}) - xvi\n",
    "        op += curr * curr\n",
    "\n",
    "    return op\n",
    "\n",
    "\n",
    "def construct_penalty(g1: nx.Graph, g2: nx.Graph) -> Operator:\n",
    "    op = Operator()\n",
    "    E1 = set(frozenset({u1, u2}) for (u1 ,u2) in g1.edges())\n",
    "    E2 = set(frozenset({u1, u2}) for (u1 ,u2) in g2.edges())\n",
    "\n",
    "    A1=nx.to_numpy_array(g1, dtype=int)\n",
    "    A2=nx.to_numpy_array(g2, dtype=int)\n",
    "    n_nodes = g1.number_of_nodes()\n",
    "    for u in range(n_nodes):\n",
    "        for v in range(n_nodes):\n",
    "            if u==v: continue\n",
    "            for i in range(n_nodes):\n",
    "                for j in range(n_nodes):\n",
    "                    if i==j: continue\n",
    "                    if A1[u, v] != A2[i, j]:\n",
    "                        q1 = qubit_index(u, i, n_nodes)\n",
    "                        q2 = qubit_index(v, j, n_nodes)\n",
    "                        # x_{u1,v1} x_{u2,v2} = (0.5 + 0.5Z_{q1}) (0.5 + 0.5Z_{q2})\n",
    "                        op += Operator(\n",
    "                            {PAULI_IDENTITY: 0.5, pauli_label(f\"Z{q1}\"): -0.5}\n",
    "                        ) * Operator(\n",
    "                            {PAULI_IDENTITY: 0.5, pauli_label(f\"Z{q2}\"): -0.5}\n",
    "                        )\n",
    "    return op\n",
    "\n",
    "\n",
    "def build_graph_iso_observable(g1: nx.Graph, g2: nx.Graph, A: float, B: float):\n",
    "    \"\"\"\n",
    "    Return a dict (can be wrapped with Operator(...)) corresponding to the GI Hamiltonian:\n",
    "      H = H_A + H_B.\n",
    "    Assume G1 and G2 both have N vertices, numbered 0..N-1.\n",
    "    \"\"\"\n",
    "    op = Operator()\n",
    "    assert g1.number_of_nodes() == g2.number_of_nodes(), \"Graphs must have the same number of nodes.\"\n",
    "    n_nodes = g1.number_of_nodes()\n",
    "    op += A * construct_HA(n_nodes)\n",
    "    op += B * construct_penalty(g1, g2)\n",
    "    return op\n"
   ]
  },
  {
   "cell_type": "code",
   "execution_count": 217,
   "metadata": {},
   "outputs": [
    {
     "name": "stdout",
     "output_type": "stream",
     "text": [
      "240.0*I + -30.0*Z0 + -30.0*Z4 + -30.0*Z8 + -30.0*Z12 + 5.0*Z0 Z4 + 5.0*Z0 Z8 + 5.0*Z0 Z12 + 5.0*Z4 Z8 + 5.0*Z4 Z12 + 5.0*Z8 Z12 + -30.0*Z1 + -30.0*Z5 + -30.0*Z9 + -30.0*Z13 + 5.0*Z1 Z5 + 5.0*Z1 Z9 + 5.0*Z1 Z13 + 5.0*Z5 Z9 + 5.0*Z5 Z13 + 5.0*Z9 Z13 + -30.0*Z2 + -30.0*Z6 + -30.0*Z10 + -30.0*Z14 + 5.0*Z2 Z6 + 5.0*Z2 Z10 + 5.0*Z2 Z14 + 5.0*Z6 Z10 + 5.0*Z6 Z14 + 5.0*Z10 Z14 + -30.0*Z3 + -30.0*Z7 + -30.0*Z11 + -30.0*Z15 + 5.0*Z3 Z7 + 5.0*Z3 Z11 + 5.0*Z3 Z15 + 5.0*Z7 Z11 + 5.0*Z7 Z15 + 5.0*Z11 Z15 + 5.0*Z0 Z1 + 5.0*Z0 Z2 + 5.0*Z0 Z3 + 5.0*Z1 Z2 + 5.0*Z1 Z3 + 5.0*Z2 Z3 + 5.0*Z4 Z5 + 5.0*Z4 Z6 + 5.0*Z4 Z7 + 5.0*Z5 Z6 + 5.0*Z5 Z7 + 5.0*Z6 Z7 + 5.0*Z8 Z9 + 5.0*Z8 Z10 + 5.0*Z8 Z11 + 5.0*Z9 Z10 + 5.0*Z9 Z11 + 5.0*Z10 Z11 + 5.0*Z12 Z13 + 5.0*Z12 Z14 + 5.0*Z12 Z15 + 5.0*Z13 Z14 + 5.0*Z13 Z15 + 5.0*Z14 Z15 + 2.5*Z0 Z7 + 2.5*Z1 Z6 + 2.5*Z2 Z5 + 2.5*Z3 Z4 + 2.5*Z0 Z9 + 2.5*Z0 Z10 + 2.5*Z1 Z8 + 2.5*Z1 Z11 + 2.5*Z2 Z8 + 2.5*Z2 Z11 + 2.5*Z3 Z9 + 2.5*Z3 Z10 + 2.5*Z0 Z15 + 2.5*Z1 Z14 + 2.5*Z2 Z13 + 2.5*Z3 Z12 + 2.5*Z4 Z11 + 2.5*Z5 Z10 + 2.5*Z6 Z9 + 2.5*Z7 Z8 + 2.5*Z4 Z13 + 2.5*Z4 Z14 + 2.5*Z5 Z12 + 2.5*Z5 Z15 + 2.5*Z6 Z12 + 2.5*Z6 Z15 + 2.5*Z7 Z13 + 2.5*Z7 Z14 + 2.5*Z8 Z15 + 2.5*Z9 Z14 + 2.5*Z10 Z13 + 2.5*Z11 Z12\n",
      "ground energy:  [-7.32250209e-14]\n"
     ]
    }
   ],
   "source": [
    "from quri_parts.core.operator import get_sparse_matrix\n",
    "import numpy as np\n",
    "from scipy.sparse.linalg import eigsh\n",
    "\n",
    "cost_observable = build_graph_iso_observable(g1=G1, g2=G2, A=10, B=5)\n",
    "print(cost_observable)\n",
    "\n",
    "w, v = eigsh(get_sparse_matrix(cost_observable), k=1, which=\"SA\")\n",
    "print(\"ground energy: \", w)"
   ]
  },
  {
   "cell_type": "code",
   "execution_count": 210,
   "metadata": {},
   "outputs": [
    {
     "name": "stdout",
     "output_type": "stream",
     "text": [
      "50.0*I + -6.0*Z0 + -6.0*Z4 + -6.0*Z8 + -6.0*Z12 + 1.0*Z0 Z4 + 1.0*Z0 Z8 + 1.0*Z0 Z12 + 1.0*Z4 Z8 + 1.0*Z4 Z12 + 1.0*Z8 Z12 + -6.5*Z1 + -6.5*Z5 + -6.5*Z9 + -6.5*Z13 + 1.0*Z1 Z5 + 1.0*Z1 Z9 + 1.0*Z1 Z13 + 1.0*Z5 Z9 + 1.0*Z5 Z13 + 1.0*Z9 Z13 + -6.0*Z2 + -6.0*Z6 + -6.0*Z10 + -6.0*Z14 + 1.0*Z2 Z6 + 1.0*Z2 Z10 + 1.0*Z2 Z14 + 1.0*Z6 Z10 + 1.0*Z6 Z14 + 1.0*Z10 Z14 + -6.5*Z3 + -6.5*Z7 + -6.5*Z11 + -6.5*Z15 + 1.0*Z3 Z7 + 1.0*Z3 Z11 + 1.0*Z3 Z15 + 1.0*Z7 Z11 + 1.0*Z7 Z15 + 1.0*Z11 Z15 + 1.0*Z0 Z1 + 1.0*Z0 Z2 + 1.0*Z0 Z3 + 1.0*Z1 Z2 + 1.0*Z1 Z3 + 1.0*Z2 Z3 + 1.0*Z4 Z5 + 1.0*Z4 Z6 + 1.0*Z4 Z7 + 1.0*Z5 Z6 + 1.0*Z5 Z7 + 1.0*Z6 Z7 + 1.0*Z8 Z9 + 1.0*Z8 Z10 + 1.0*Z8 Z11 + 1.0*Z9 Z10 + 1.0*Z9 Z11 + 1.0*Z10 Z11 + 1.0*Z12 Z13 + 1.0*Z12 Z14 + 1.0*Z12 Z15 + 1.0*Z13 Z14 + 1.0*Z13 Z15 + 1.0*Z14 Z15 + 0.5*Z0 Z7 + 0.5*Z1 Z6 + 0.5*Z1 Z7 + 0.5*Z2 Z5 + 0.5*Z3 Z4 + 0.5*Z3 Z5 + 0.5*Z0 Z9 + 0.5*Z0 Z10 + 0.5*Z1 Z8 + 0.5*Z2 Z8 + 0.5*Z2 Z11 + 0.5*Z3 Z10 + 0.5*Z0 Z15 + 0.5*Z1 Z14 + 0.5*Z1 Z15 + 0.5*Z2 Z13 + 0.5*Z3 Z12 + 0.5*Z3 Z13 + 0.5*Z4 Z11 + 0.5*Z5 Z10 + 0.5*Z5 Z11 + 0.5*Z6 Z9 + 0.5*Z7 Z8 + 0.5*Z7 Z9 + 0.5*Z4 Z13 + 0.5*Z4 Z14 + 0.5*Z5 Z12 + 0.5*Z6 Z12 + 0.5*Z6 Z15 + 0.5*Z7 Z14 + 0.5*Z8 Z15 + 0.5*Z9 Z14 + 0.5*Z9 Z15 + 0.5*Z10 Z13 + 0.5*Z11 Z12 + 0.5*Z11 Z13\n",
      "ground energy:  [2.]\n"
     ]
    }
   ],
   "source": [
    "cost_observable = build_graph_iso_observable(g1=G1, g2=G3, A=2, B=1)\n",
    "print(cost_observable)\n",
    "\n",
    "w1, v1 = eigsh(get_sparse_matrix(cost_observable), k=1, which=\"SA\")\n",
    "print(\"ground energy: \", w1)"
   ]
  },
  {
   "cell_type": "code",
   "execution_count": null,
   "metadata": {},
   "outputs": [
    {
     "name": "stdout",
     "output_type": "stream",
     "text": [
      "True\n",
      "False\n"
     ]
    }
   ],
   "source": [
    "print(nx.is_isomorphic(G1, G2))\n",
    "print(nx.is_isomorphic(G2, G3))"
   ]
  },
  {
   "cell_type": "code",
   "execution_count": null,
   "metadata": {},
   "outputs": [],
   "source": [
    "def translate_operator_to_circuit(operator: Operator,\n",
    "                                  circuit: LinearMappedUnboundParametricQuantumCircuit,\n",
    "                                  gamma_idx: int) -> None:\n",
    "  \"\"\"\n",
    "  Convert an Operator (cost Hamiltonian) into the corresponding parameterized quantum circuit, implementing U_C(γ)=exp(-iγH_C).\n",
    "  \n",
    "  Parameters:\n",
    "    operator: quri_parts.core.operator.Operator, internally stored as a dict (keys are pauli_label, values are coefficients)\n",
    "    circuit: LinearMappedUnboundParametricQuantumCircuit, already created and has num_qubits qubits\n",
    "    gamma_parameter_name: the name used to bind the parameter, e.g., \"gamma_0\"\n",
    "  \"\"\"\n",
    "  gamma = circuit.add_parameter(f\"gamma_{gamma_idx}\")\n",
    "  for pauli in operator:\n",
    "    if pauli==PAULI_IDENTITY:\n",
    "      continue\n",
    "    circuit.add_ParametricPauliRotation_gate(*pauli.index_and_pauli_id_list, {gamma: -2})\n"
   ]
  },
  {
   "cell_type": "code",
   "execution_count": null,
   "metadata": {},
   "outputs": [
    {
     "name": "stdout",
     "output_type": "stream",
     "text": [
      "QAOA Cost: 38.10312777750242\n",
      "Optimized Parameter: [ 1.78830539 -1.46107386 -1.60021134  0.1399562   1.24626237 -0.03379482\n",
      "  0.20694192  0.57205197 -1.34596783  0.20487859]\n"
     ]
    }
   ],
   "source": [
    "num_qubits = G1.number_of_nodes()**2\n",
    "\n",
    "def add_U_C(circuit: LinearMappedUnboundParametricQuantumCircuit, gamma_idx) -> None:\n",
    "    \"\"\"\n",
    "    Add the U_C part of the QAOA circuit, which applies the cost Hamiltonian.\n",
    "    \"\"\"\n",
    "    return translate_operator_to_circuit(cost_observable, circuit=circuit, gamma_idx=gamma_idx)\n",
    "\n",
    "def add_U_X(circuit: LinearMappedUnboundParametricQuantumCircuit, beta_idx) -> None:\n",
    "    \"\"\"\n",
    "    Add the U_X part of the QAOA circuit, which applies RX gates to all qubits.\n",
    "    \"\"\"\n",
    "    beta = circuit.add_parameter(f\"beta_{beta_idx}\")\n",
    "    for i in range(num_qubits):\n",
    "        circuit.add_ParametricRX_gate(i, {beta: -2})\n",
    "    return circuit\n",
    "\n",
    "estimator = create_qulacs_vector_estimator()\n",
    "\n",
    "# Number of trotterization steps\n",
    "depth=5\n",
    "def QAOA_output(x: list[float]) -> float:\n",
    "    circuit = LinearMappedUnboundParametricQuantumCircuit(num_qubits)\n",
    "    ## to create superposition, apply Hadamard gate\n",
    "    for i in range(num_qubits):\n",
    "        circuit.add_H_gate(i)\n",
    "\n",
    "    ## apply  U_C, U_X\n",
    "    for i in range(depth):\n",
    "        add_U_C(circuit, i)\n",
    "        add_U_X(circuit, i)\n",
    "\n",
    "    bound_circuit = circuit.bind_parameters(x)\n",
    "    \n",
    "    # prepare |beta, gamma>\n",
    "    state = quantum_state(num_qubits, circuit=bound_circuit)\n",
    "    return estimator(cost_observable, state).value.real\n",
    "\n",
    "x0 = np.array( [0.1 for _ in range(2*depth)])\n",
    "\n",
    "## minimize with scipy.minimize\n",
    "result = minimize(QAOA_output, x0, options={'maxiter':1000}, method='powell')\n",
    "\n",
    "print(\"QAOA Cost:\", result.fun) # value after optimization\n",
    "print(\"Optimized Parameter:\", result.x) # (beta, gamma) after optimization"
   ]
  },
  {
   "cell_type": "code",
   "execution_count": 220,
   "metadata": {},
   "outputs": [
    {
     "name": "stdout",
     "output_type": "stream",
     "text": [
      "[2.52409264e-01 1.83423826e-01 1.83423826e-01 ... 6.92656572e-05\n",
      " 6.92656572e-05 5.08997291e-05]\n"
     ]
    }
   ],
   "source": [
    "from quri_parts.qulacs.simulator import evaluate_state_to_vector\n",
    "# prepare |beta, gamma> using optimized best, gamma\n",
    "\n",
    "circuit = LinearMappedUnboundParametricQuantumCircuit(num_qubits)\n",
    "## to create superposition, apply Hadamard gate (Initialization)\n",
    "for i in range(num_qubits):\n",
    "    circuit.add_H_gate(i)\n",
    "\n",
    "##apply  U_C, U_X\n",
    "for i in range(depth):\n",
    "    add_U_C(circuit, i)\n",
    "    add_U_X(circuit, i)\n",
    "\n",
    "bound_circuit = circuit.bind_parameters(result.x)\n",
    "## prepare |beta, gamma>\n",
    "state = quantum_state(num_qubits, circuit=bound_circuit)\n",
    "\n",
    "## Find the of each component of the state vector = probability distribution when observed in the z direction. (Square of the absolute value observation probability)\n",
    "probs = np.abs(evaluate_state_to_vector(state).vector)**2\n",
    "print(probs*100)"
   ]
  },
  {
   "cell_type": "code",
   "execution_count": 221,
   "metadata": {},
   "outputs": [
    {
     "data": {
      "text/plain": [
       "0.008997550150799656"
      ]
     },
     "execution_count": 221,
     "metadata": {},
     "output_type": "execute_result"
    }
   ],
   "source": [
    "max(probs)"
   ]
  },
  {
   "cell_type": "code",
   "execution_count": 223,
   "metadata": {},
   "outputs": [
    {
     "data": {
      "image/png": "[encoded data removed]",
      "text/plain": [
       "<Figure size 2000x500 with 1 Axes>"
      ]
     },
     "metadata": {},
     "output_type": "display_data"
    }
   ],
   "source": [
    "import numpy as np\n",
    "import matplotlib.pyplot as plt\n",
    "%matplotlib inline\n",
    "\n",
    "threshold = 0.008  # Only print values whose probability above threshold\n",
    "indices = np.where(probs > threshold)[0]\n",
    "z_basis_filtered = [','.join(s[i:i+int(num_qubits**0.5)] for i in range(0, len(s), int(num_qubits**0.5))) for s in [format(i, \"b\").zfill(num_qubits) for i in indices]]\n",
    "probs_filtered = probs[indices]\n",
    "\n",
    "plt.figure(figsize=(20, 5))\n",
    "plt.xlabel(\"states\")\n",
    "plt.ylabel(\"probability(%)\")\n",
    "plt.bar(z_basis_filtered, probs_filtered * 100)\n",
    "plt.show()"
   ]
  },
  {
   "cell_type": "markdown",
   "metadata": {},
   "source": [
    "## How to Interpret the Measurement Histogram\n",
    "\n",
    "After running QAOA and measuring the quantum state, you obtain a histogram where:\n",
    "\n",
    "- **Each bar** represents a possible assignment (bitstring) of the qubits, corresponding to a candidate mapping between the two graphs.\n",
    "- **The height of each bar** shows the probability of measuring that particular bitstring.\n",
    "\n",
    "### What does this mean for graph isomorphism?\n",
    "\n",
    "- **High-probability bitstrings** are the most likely solutions found by QAOA.\n",
    "- **If the graphs are isomorphic:**  \n",
    "  The histogram will show one or more bitstrings with high probability that correspond to valid permutation matrices (each row and column has exactly one '1'). These bitstrings represent isomorphisms between the graphs.\n",
    "- **If the graphs are not isomorphic:**  \n",
    "  No bitstring will correspond to a valid permutation matrix with zero cost, and the histogram will not show a clear, dominant solution.\n",
    "\n",
    "### How to use the histogram:\n",
    "\n",
    "1. **Identify the bitstrings with the highest probability.**\n",
    "2. **Reshape each bitstring into an $n \\times n$ matrix** (where $n$ is the number of vertices).\n",
    "3. **Check if the matrix is a valid permutation matrix.**\n",
    "4. **If so,** this mapping is a candidate isomorphism between the two graphs.\n",
    "\n",
    "**Summary:**  \n",
    "The histogram visually highlights which mappings QAOA considers most likely to be isomorphisms. The presence of a dominant bar (or bars) suggests a strong candidate for graph isomorphism."
   ]
  }
 ],
 "metadata": {
  "kernelspec": {
   "display_name": "QC",
   "language": "python",
   "name": "python3"
  },
  "language_info": {
   "codemirror_mode": {
    "name": "ipython",
    "version": 3
   },
   "file_extension": ".py",
   "mimetype": "text/x-python",
   "name": "python",
   "nbconvert_exporter": "python",
   "pygments_lexer": "ipython3",
   "version": "3.10.16"
  }
 },
 "nbformat": 4,
 "nbformat_minor": 2
}
