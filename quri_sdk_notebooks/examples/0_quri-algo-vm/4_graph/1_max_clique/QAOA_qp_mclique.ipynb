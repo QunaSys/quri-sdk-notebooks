{
 "cells": [
  {
   "cell_type": "code",
   "execution_count": null,
   "metadata": {},
   "outputs": [],
   "source": [
    "from quri_parts.core.operator import Operator, pauli_label\n",
    "from scipy.optimize import minimize\n",
    "import numpy as np\n",
    "from quri_parts.circuit import LinearMappedUnboundParametricQuantumCircuit, Parameter\n",
    "from quri_parts.core.state import quantum_state\n",
    "from quri_parts.qulacs.estimator import create_qulacs_vector_estimator\n",
    "import networkx as nx"
   ]
  },
  {
   "cell_type": "code",
   "execution_count": null,
   "metadata": {},
   "outputs": [],
   "source": [
    "# Build an example graph\n",
    "graph = {\n",
    "    'nodes': list(range(5)),\n",
    "    'edges': [\n",
    "        (0, 1), (0, 2), (1, 2),\n",
    "        (0, 3), (2, 4)\n",
    "    ]\n",
    "}\n",
    "\n",
    "G = nx.Graph()\n",
    "G.add_nodes_from(graph['nodes'])\n",
    "G.add_edges_from(graph['edges'])\n",
    "\n",
    "nodes = G.nodes()\n",
    "num_qubits = len(nodes)"
   ]
  },
  {
   "cell_type": "code",
   "execution_count": 82,
   "metadata": {},
   "outputs": [
    {
     "data": {
      "image/png": "[encoded data removed]",
      "text/plain": [
       "<Figure size 640x480 with 1 Axes>"
      ]
     },
     "metadata": {},
     "output_type": "display_data"
    }
   ],
   "source": [
    "import matplotlib.pyplot as plt\n",
    "%matplotlib inline\n",
    "\n",
    "full_graph_color = \"#C0C0C0\"\n",
    "pos = nx.spring_layout(G, seed=42)\n",
    "nx.draw(G, pos, with_labels=True, node_color=full_graph_color, edge_color=\"gray\",\n",
    "        node_size=1500, font_size=12, font_weight=\"bold\")\n",
    "\n",
    "plt.show()"
   ]
  },
  {
   "cell_type": "code",
   "execution_count": null,
   "metadata": {},
   "outputs": [],
   "source": [
    "# Define Hamiltonian of Max Clique problem\n",
    "obs_dict = {}\n",
    "\n",
    "def add_term(term: str, coeff: float):\n",
    "    key = pauli_label(term)\n",
    "    if key in obs_dict:\n",
    "        obs_dict[key] += coeff\n",
    "    else:\n",
    "        obs_dict[key] = coeff\n",
    "\n",
    "# 1. For each vertex i, act -(1-Z_i)/2 = -0.5*I + 0.5*Z_i\n",
    "for i in range(num_qubits):\n",
    "    add_term({}, -0.5)\n",
    "    add_term(f\"Z{i}\", 0.5)   # -0.5 * Z_i\n",
    "\n",
    "# 2. For each vertex pair (i,j) (i<j) add panelty if they aren't adjacented：\n",
    "#    A/4*(1 - Z_i - Z_j + Z_i Z_j)\n",
    "A = 2\n",
    "for i in range(num_qubits):\n",
    "    for j in range(i+1, num_qubits):\n",
    "        if (i, j) not in G.edges and (j, i) not in G.edges:\n",
    "            add_term({}, A/4)           # constant: A/4 * I\n",
    "            add_term(f\"Z{i}\", -A/4)         # -A/4 * Z_i\n",
    "            add_term(f\"Z{j}\", -A/4)         # -A/4 * Z_j\n",
    "            add_term(f\"Z{i} Z{j}\", A/4)    # A/4 * Z_i Z_j\n",
    "\n",
    "cost_observable = Operator(obs_dict)"
   ]
  },
  {
   "cell_type": "code",
   "execution_count": null,
   "metadata": {},
   "outputs": [
    {
     "name": "stdout",
     "output_type": "stream",
     "text": [
      "QAOA Cost: -1.7987319585692663\n",
      "Optimized Parameter: [0.08405668 0.49605427 1.0941677  0.27089656]\n"
     ]
    }
   ],
   "source": [
    "# A function to add U_C(gamma) to a circuit\n",
    "def add_U_C(circuit: LinearMappedUnboundParametricQuantumCircuit, gamma_idx: int) -> None:\n",
    "    gamma = circuit.add_parameter(f\"gamma_{gamma_idx}\")\n",
    "    # Single qubit term: exp(i*theta/2*Z)\n",
    "    for i in range(num_qubits):\n",
    "        circuit.add_ParametricRZ_gate(i, {gamma: -2})\n",
    "\n",
    "    # Two qubits term( penalty): exp(i*A/4*theta*(-Zi-Zj+Zi*Zj))\n",
    "    for i in range(num_qubits):\n",
    "        for j in range(i+1, num_qubits):\n",
    "            if (i, j) not in G.edges and (j, i) not in G.edges:\n",
    "                circuit.add_ParametricRZ_gate(i, {gamma: 4})\n",
    "                circuit.add_ParametricRZ_gate(j, {gamma: 4})\n",
    "                circuit.add_CNOT_gate(i, j)\n",
    "                circuit.add_ParametricRZ_gate(j, {gamma: -4})\n",
    "                circuit.add_CNOT_gate(i, j)\n",
    "\n",
    "\n",
    "# A function to add U_X(beta) to a circuit\n",
    "def add_U_X(circuit: LinearMappedUnboundParametricQuantumCircuit, beta_idx: int) -> None:\n",
    "    beta = circuit.add_parameter(f\"beta_{beta_idx}\")\n",
    "    for i in range(num_qubits):\n",
    "        circuit.add_ParametricRX_gate(i, {beta: 2})\n",
    "    return circuit\n",
    "\n",
    "## Create an estimator\n",
    "estimator = create_qulacs_vector_estimator()\n",
    "\n",
    "depth=2 # Numbers of trotterization\n",
    "def QAOA_output_onelayer(x: list[float]) -> float:\n",
    "    circuit = LinearMappedUnboundParametricQuantumCircuit(num_qubits)\n",
    "    ## to create superposition, apply Hadamard gate\n",
    "    for i in range(num_qubits):\n",
    "        circuit.add_H_gate(i)\n",
    "\n",
    "    ## apply  U_C, U_X\n",
    "    for _ in range(depth):\n",
    "        add_U_C(circuit, 0)\n",
    "        add_U_X(circuit, 0)\n",
    "\n",
    "    bound_circuit = circuit.bind_parameters(x)\n",
    "    \n",
    "    ## prepare |beta, gamma>\n",
    "    state = quantum_state(num_qubits, circuit=bound_circuit)\n",
    "    return estimator(cost_observable, state).value.real\n",
    "\n",
    "x0 = np.array( [0.1 for _ in range(2*depth)])\n",
    "\n",
    "## minimize with scipy.minimize\n",
    "result = minimize(QAOA_output_onelayer, x0, options={'maxiter':1000}, method='powell')\n",
    "print(\"QAOA Cost:\", result.fun) # value after optimization\n",
    "print(\"Optimized Parameter:\", result.x) # (beta, gamma) after optimization"
   ]
  },
  {
   "cell_type": "code",
   "execution_count": null,
   "metadata": {},
   "outputs": [
    {
     "name": "stdout",
     "output_type": "stream",
     "text": [
      "[ 0.0673575   0.6652492   2.31206133  6.75735405  0.6652492   7.94858672\n",
      "  6.75735405 21.82397668  5.17919418 13.46549841  0.68479712  2.09293562\n",
      "  0.85184188  2.52325672  0.04617564  0.3255119   5.17919418  0.85184188\n",
      "  0.68479712  0.04617564 13.46549841  2.52325672  2.09293562  0.3255119\n",
      "  0.85180367  0.19495394  0.28174729  0.37261288  0.19495394  0.22209082\n",
      "  0.37261288  0.1736129 ]\n"
     ]
    }
   ],
   "source": [
    "from quri_parts.qulacs.simulator import evaluate_state_to_vector\n",
    "# prepare |beta, gamma> using optimized best, gamma\n",
    "\n",
    "circuit = LinearMappedUnboundParametricQuantumCircuit(num_qubits)\n",
    "## to create superposition, apply Hadamard gate (Initialization)\n",
    "for i in range(num_qubits):\n",
    "    circuit.add_H_gate(i)\n",
    "\n",
    "##apply  U_C, U_X\n",
    "for i in range(depth):\n",
    "    add_U_C(circuit, 0)\n",
    "    add_U_X(circuit, 0)\n",
    "\n",
    "bound_circuit = circuit.bind_parameters(result.x)\n",
    "## prepare |beta, gamma>\n",
    "state = quantum_state(num_qubits, circuit=bound_circuit)\n",
    "\n",
    "## Find the of each component of the state vector = probability distribution when observed in the z direction. (Square of the absolute value observation probability)\n",
    "probs = np.abs(evaluate_state_to_vector(state).vector)**2\n",
    "print(probs*100)"
   ]
  },
  {
   "cell_type": "code",
   "execution_count": null,
   "metadata": {},
   "outputs": [
    {
     "data": {
      "image/png": "[encoded data removed]",
      "text/plain": [
       "<Figure size 1000x500 with 1 Axes>"
      ]
     },
     "metadata": {},
     "output_type": "display_data"
    }
   ],
   "source": [
    "import numpy as np\n",
    "import matplotlib.pyplot as plt\n",
    "%matplotlib inline\n",
    "\n",
    "threshold = 0.02  # Only print values whose probability above threshold\n",
    "indices = np.where(probs > threshold)[0]\n",
    "z_basis_filtered = [format(i, \"b\").zfill(num_qubits) for i in indices]\n",
    "probs_filtered = probs[indices]\n",
    "\n",
    "plt.figure(figsize=(10, 5))\n",
    "plt.xlabel(\"states\")\n",
    "plt.ylabel(\"probability(%)\")\n",
    "plt.bar(z_basis_filtered, probs_filtered * 100)\n",
    "plt.show()\n"
   ]
  },
  {
   "cell_type": "code",
   "execution_count": null,
   "metadata": {},
   "outputs": [],
   "source": []
  }
 ],
 "metadata": {
  "kernelspec": {
   "display_name": "QC",
   "language": "python",
   "name": "python3"
  },
  "language_info": {
   "codemirror_mode": {
    "name": "ipython",
    "version": 3
   },
   "file_extension": ".py",
   "mimetype": "text/x-python",
   "name": "python",
   "nbconvert_exporter": "python",
   "pygments_lexer": "ipython3",
   "version": "3.10.14"
  }
 },
 "nbformat": 4,
 "nbformat_minor": 2
}
