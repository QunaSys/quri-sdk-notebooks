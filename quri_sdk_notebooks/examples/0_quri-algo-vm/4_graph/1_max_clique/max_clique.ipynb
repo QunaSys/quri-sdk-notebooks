{
 "cells": [
  {
   "cell_type": "markdown",
   "id": "9f8a7ac2",
   "metadata": {},
   "source": [
    "# Max Clique problem\n",
    "Max clique problem is a classic NP-hard problem in Graph theory. The goal is to find the largest clique (a subset of vertices that form a complete subgraph) in a given undirected graph. <br>\n",
    "This problem has applications in various fields, including:\n",
    "* **Social network analysis**: Idnetifying highly connected communities.\n",
    "* **Financial markets**: Detecting highly correlated asset groups for risk assessment and portfolio diversification.\n",
    "* **Bioinformatics**: Detecting modules in protein-protein interaction networks.\n",
    "\n",
    "## Problem Definition\n",
    "Given a undirected graph **G=(V, E)** , where **V** is the set of vertices, **E** is the set of edges, representing connections between vertices. <br>\n",
    "The objective is to find the largest clique **C** $\\subseteq$ **V**, such that for any two vertices **u, v** $\\in$ **C**, the edge (u, v) exists in **E**.\n",
    "\n",
    "### Max Clique graph demo\n",
    "![](./max_clique_demo.png)\n",
    "\n",
    "## Modified version: Weighted Max Clique problem\n",
    "## Problem Definition\n",
    "Given an undirected graph **G=(V, E)** , where **V** is the set of vertices and **E** is the set of edges representing connections between vertices, <br>\n",
    "each vertex **v** $\\in$ **V** is assigned a non-negative weight **w(v)**.\n",
    "The objective is to find a clique **C** $\\subseteq$ **V** meaning that for any two vertices **u, v** $\\in$ **C**, <br>\n",
    "the edge (u, v) exists in **E** such that the sum of vertex weights $\\sum_{v\\in C} w(v)$ is maximized.\n",
    "\n",
    "### Weighted Max Clique demo\n",
    "![](./max_weighted_clique_graph_demo.png)"
   ]
  },
  {
   "cell_type": "markdown",
   "id": "3984dc07",
   "metadata": {},
   "source": [
    "## QUBO Hamiltonian for Max clique problem\n",
    "Transforming Max Clique into a QUBO Hamiltonian allows us to leverage quantum and classical optimizers alike to efficiently search for the subset that forms the maximum clique. <br>\n",
    "Below is a concise formulation of the QUBO Hamiltonian and its rationale.\n",
    "\n",
    "## Max Clique:\n",
    "\n",
    "$$\n",
    "H_{\\text{MC}} \\;=\\; -\\alpha \\sum_{i=1}^n x_i \\;+\\; \\beta \\sum_{\\substack{(i,j)\\notin E \\\\ i<j}} x_i\\, x_j\n",
    "$$\n",
    "\n",
    "- **$x_i$**: Indicates whether vertex $i$ is chosen.   \n",
    "- **$\\alpha, \\beta > 0$**: Parameters controlling the reward for collecting vertices and penalty for non‐adjacent selections.\n",
    "\n",
    "1. $-\\alpha \\sum_{i=1}^n x_i$:  \n",
    "   This term rewards including more vertices in the solution. We use a negative sign because we want to **minimize** the Hamiltonian, so a larger $\\sum x_i$ lowers the overall energy.\n",
    "\n",
    "2. $\\beta \\sum_{\\substack{(i,j)\\notin E \\\\ i<j}} x_i x_j$:  \n",
    "   As a clique requires every pair of chosen vertices to be adjacent, we penalize pairs $(i,j)$ not in $E$. If both $x_i$ and $x_j$ are 1 but $(i,j)\\notin E$, this increases the energy. Thus $\\beta > 0$ is a **penalty** factor discouraging invalid pairs.\n",
    "\n",
    "---\n",
    "\n",
    "## Weighted Max Clique:\n",
    "\n",
    "$$\n",
    "H_{\\text{WMC}} \n",
    "\\;=\\;\n",
    "-\\alpha \\sum_{i=1}^n w_i\\, x_i \n",
    "\\;+\\;\n",
    "\\lambda \\sum_{\\substack{(i,j)\\notin E \\\\ i<j}} x_i\\, x_j\n",
    "$$\n",
    "\n",
    "- **$w_i$**: The weight of vertex $i$.  \n",
    "- **$x_i$**: Indicates whether vertex $i$ is chosen.  \n",
    "- **$\\alpha, \\lambda > 0$**: Parameters controlling the reward for high‐weight vertices and penalty for non‐adjacent selections.\n",
    "\n",
    "1. $-\\alpha \\sum_{i=1}^n w_i x_i$:  \n",
    "   This **weighted reward** term encourages choosing vertices with higher weights. Because we are **minimizing** $H_{\\text{WMC}}$, the negative sign helps increase the total weight of selected vertices as much as possible. The parameter $\\alpha$ determines how strongly we value the weights relative to the penalty term.\n",
    "\n",
    "2. $\\lambda \\sum_{\\substack{(i,j)\\notin E \\\\ i<j}} x_i x_j$:  \n",
    "   This **penalty** term ensures that any pair of vertices $(i,j)$ not connected by an edge will raise the energy if both are selected. Thus, $\\lambda$ must be large enough to prevent choosing non‐adjacent vertices simultaneously, preserving the clique property."
   ]
  }
 ],
 "metadata": {
  "kernelspec": {
   "display_name": "QC",
   "language": "python",
   "name": "python3"
  },
  "language_info": {
   "codemirror_mode": {
    "name": "ipython",
    "version": 3
   },
   "file_extension": ".py",
   "mimetype": "text/x-python",
   "name": "python",
   "nbconvert_exporter": "python",
   "pygments_lexer": "ipython3",
   "version": "3.10.14"
  }
 },
 "nbformat": 4,
 "nbformat_minor": 5
}
