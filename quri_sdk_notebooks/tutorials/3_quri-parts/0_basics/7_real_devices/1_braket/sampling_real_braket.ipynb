{
  "cells": [
    {
      "cell_type": "markdown",
      "id": "a533cde3",
      "metadata": {},
      "source": [
        "# Sampling on Braket's real quantum computers\n",
        "\n",
        "Here we introduce the Braket backends and some Braket specific features QURI Parts provide"
      ]
    },
    {
      "cell_type": "markdown",
      "id": "f0ff7af6",
      "metadata": {},
      "source": [
        "## Prerequisite\n",
        "\n",
        "This section requires topics described in previous sections([Samplers](../../1_sampler/index.md), [Sampling estimation](../../6_sampling_estimation/index.md) and [Sampling Backends](../0_sampling_backends/index.md)), so you need to read them before this section.\n",
        "\n",
        "In this section, we use [Amazon Braket](https://aws.amazon.com/braket/) as the platform with real quantum computers. In order to use Braket devices provided on AWS, you need to have an AWS account and enable Braket service. Please see [Amazon Braket Documentation](https://docs.aws.amazon.com/braket/index.html) for details. In this section, instead, we use the local simulator included in [Amazon Braket SDK](https://amazon-braket-sdk-python.readthedocs.io/en/latest/index.html), which does not require an AWS account. The Braket devices provided on AWS and the local simulator have the same interface, you can simply replace them each other.\n",
        "\n",
        "QURI Parts modules used in this tutorial: `quri-parts-circuit`, `quri-parts-core` and `quri-parts-braket`. You can install them as follows:"
      ]
    },
    {
      "cell_type": "code",
      "execution_count": null,
      "id": "cdf46a7a",
      "metadata": {},
      "outputs": [
        {
          "name": "stdout",
          "output_type": "stream",
          "text": [
            "Requirement already satisfied: quri-parts[braket] in /home/ywatanabekoba/.cache/pypoetry/virtualenvs/quri-sdk-notebooks-dFiwJr5S-py3.11/lib/python3.11/site-packages (0.22.0)\r\n",
            "Requirement already satisfied: quri-parts-algo in /home/ywatanabekoba/.cache/pypoetry/virtualenvs/quri-sdk-notebooks-dFiwJr5S-py3.11/lib/python3.11/site-packages (from quri-parts[braket]) (0.22.0)\r\n",
            "Requirement already satisfied: quri-parts-braket in /home/ywatanabekoba/.cache/pypoetry/virtualenvs/quri-sdk-notebooks-dFiwJr5S-py3.11/lib/python3.11/site-packages (from quri-parts[braket]) (0.22.0)\r\n",
            "Requirement already satisfied: quri-parts-chem in /home/ywatanabekoba/.cache/pypoetry/virtualenvs/quri-sdk-notebooks-dFiwJr5S-py3.11/lib/python3.11/site-packages (from quri-parts[braket]) (0.22.0)\r\n",
            "Requirement already satisfied: quri-parts-circuit in /home/ywatanabekoba/.cache/pypoetry/virtualenvs/quri-sdk-notebooks-dFiwJr5S-py3.11/lib/python3.11/site-packages (from quri-parts[braket]) (0.22.0)\r\n",
            "Requirement already satisfied: quri-parts-core in /home/ywatanabekoba/.cache/pypoetry/virtualenvs/quri-sdk-notebooks-dFiwJr5S-py3.11/lib/python3.11/site-packages (from quri-parts[braket]) (0.22.0)\r\n",
            "Requirement already satisfied: quri-parts-rust in /home/ywatanabekoba/.cache/pypoetry/virtualenvs/quri-sdk-notebooks-dFiwJr5S-py3.11/lib/python3.11/site-packages (from quri-parts[braket]) (0.22.0)\r\n",
            "Requirement already satisfied: scipy<2.0.0,>=1.9.1 in /home/ywatanabekoba/.cache/pypoetry/virtualenvs/quri-sdk-notebooks-dFiwJr5S-py3.11/lib/python3.11/site-packages (from quri-parts-algo->quri-parts[braket]) (1.15.3)\r\n",
            "Requirement already satisfied: typing-extensions<5.0.0,>=4.1.1 in /home/ywatanabekoba/.cache/pypoetry/virtualenvs/quri-sdk-notebooks-dFiwJr5S-py3.11/lib/python3.11/site-packages (from quri-parts-algo->quri-parts[braket]) (4.13.2)\r\n",
            "Requirement already satisfied: amazon-braket-schemas<2.0.0,>=1.22.0 in /home/ywatanabekoba/.cache/pypoetry/virtualenvs/quri-sdk-notebooks-dFiwJr5S-py3.11/lib/python3.11/site-packages (from quri-parts-braket->quri-parts[braket]) (1.24.0)\r\n",
            "Requirement already satisfied: amazon-braket-sdk<2.0.0,>=1.25.1 in /home/ywatanabekoba/.cache/pypoetry/virtualenvs/quri-sdk-notebooks-dFiwJr5S-py3.11/lib/python3.11/site-packages (from quri-parts-braket->quri-parts[braket]) (1.91.2)\r\n",
            "Requirement already satisfied: numpy>=1.22.0 in /home/ywatanabekoba/.cache/pypoetry/virtualenvs/quri-sdk-notebooks-dFiwJr5S-py3.11/lib/python3.11/site-packages (from quri-parts-circuit->quri-parts[braket]) (1.26.4)\r\n",
            "Requirement already satisfied: networkx in /home/ywatanabekoba/.cache/pypoetry/virtualenvs/quri-sdk-notebooks-dFiwJr5S-py3.11/lib/python3.11/site-packages (from quri-parts-core->quri-parts[braket]) (3.4.2)\r\n",
            "Requirement already satisfied: quri-parts-qulacs in /home/ywatanabekoba/.cache/pypoetry/virtualenvs/quri-sdk-notebooks-dFiwJr5S-py3.11/lib/python3.11/site-packages (from quri-parts-core->quri-parts[braket]) (0.22.0)\r\n",
            "Requirement already satisfied: pydantic>2 in /home/ywatanabekoba/.cache/pypoetry/virtualenvs/quri-sdk-notebooks-dFiwJr5S-py3.11/lib/python3.11/site-packages (from amazon-braket-schemas<2.0.0,>=1.22.0->quri-parts-braket->quri-parts[braket]) (2.11.4)\r\n"
          ]
        },
        {
          "name": "stdout",
          "output_type": "stream",
          "text": [
            "Requirement already satisfied: amazon-braket-default-simulator>=1.26.0 in /home/ywatanabekoba/.cache/pypoetry/virtualenvs/quri-sdk-notebooks-dFiwJr5S-py3.11/lib/python3.11/site-packages (from amazon-braket-sdk<2.0.0,>=1.25.1->quri-parts-braket->quri-parts[braket]) (1.26.4)\r\n",
            "Requirement already satisfied: oqpy~=0.3.5 in /home/ywatanabekoba/.cache/pypoetry/virtualenvs/quri-sdk-notebooks-dFiwJr5S-py3.11/lib/python3.11/site-packages (from amazon-braket-sdk<2.0.0,>=1.25.1->quri-parts-braket->quri-parts[braket]) (0.3.7)\r\n",
            "Requirement already satisfied: backoff in /home/ywatanabekoba/.cache/pypoetry/virtualenvs/quri-sdk-notebooks-dFiwJr5S-py3.11/lib/python3.11/site-packages (from amazon-braket-sdk<2.0.0,>=1.25.1->quri-parts-braket->quri-parts[braket]) (2.2.1)\r\n",
            "Requirement already satisfied: boltons in /home/ywatanabekoba/.cache/pypoetry/virtualenvs/quri-sdk-notebooks-dFiwJr5S-py3.11/lib/python3.11/site-packages (from amazon-braket-sdk<2.0.0,>=1.25.1->quri-parts-braket->quri-parts[braket]) (25.0.0)\r\n",
            "Requirement already satisfied: boto3>=1.28.53 in /home/ywatanabekoba/.cache/pypoetry/virtualenvs/quri-sdk-notebooks-dFiwJr5S-py3.11/lib/python3.11/site-packages (from amazon-braket-sdk<2.0.0,>=1.25.1->quri-parts-braket->quri-parts[braket]) (1.38.18)\r\n",
            "Requirement already satisfied: cloudpickle==2.2.1 in /home/ywatanabekoba/.cache/pypoetry/virtualenvs/quri-sdk-notebooks-dFiwJr5S-py3.11/lib/python3.11/site-packages (from amazon-braket-sdk<2.0.0,>=1.25.1->quri-parts-braket->quri-parts[braket]) (2.2.1)\r\n",
            "Requirement already satisfied: nest-asyncio in /home/ywatanabekoba/.cache/pypoetry/virtualenvs/quri-sdk-notebooks-dFiwJr5S-py3.11/lib/python3.11/site-packages (from amazon-braket-sdk<2.0.0,>=1.25.1->quri-parts-braket->quri-parts[braket]) (1.6.0)\r\n",
            "Requirement already satisfied: openpulse in /home/ywatanabekoba/.cache/pypoetry/virtualenvs/quri-sdk-notebooks-dFiwJr5S-py3.11/lib/python3.11/site-packages (from amazon-braket-sdk<2.0.0,>=1.25.1->quri-parts-braket->quri-parts[braket]) (1.0.1)\r\n",
            "Requirement already satisfied: openqasm3 in /home/ywatanabekoba/.cache/pypoetry/virtualenvs/quri-sdk-notebooks-dFiwJr5S-py3.11/lib/python3.11/site-packages (from amazon-braket-sdk<2.0.0,>=1.25.1->quri-parts-braket->quri-parts[braket]) (1.0.1)\r\n",
            "Requirement already satisfied: sympy in /home/ywatanabekoba/.cache/pypoetry/virtualenvs/quri-sdk-notebooks-dFiwJr5S-py3.11/lib/python3.11/site-packages (from amazon-braket-sdk<2.0.0,>=1.25.1->quri-parts-braket->quri-parts[braket]) (1.14.0)\r\n",
            "Requirement already satisfied: backports.entry-points-selectable in /home/ywatanabekoba/.cache/pypoetry/virtualenvs/quri-sdk-notebooks-dFiwJr5S-py3.11/lib/python3.11/site-packages (from amazon-braket-sdk<2.0.0,>=1.25.1->quri-parts-braket->quri-parts[braket]) (1.3.0)\r\n",
            "Requirement already satisfied: qulacs>=0.5.6 in /home/ywatanabekoba/.cache/pypoetry/virtualenvs/quri-sdk-notebooks-dFiwJr5S-py3.11/lib/python3.11/site-packages (from quri-parts-qulacs->quri-parts-core->quri-parts[braket]) (0.6.11)\r\n",
            "Requirement already satisfied: opt_einsum in /home/ywatanabekoba/.cache/pypoetry/virtualenvs/quri-sdk-notebooks-dFiwJr5S-py3.11/lib/python3.11/site-packages (from amazon-braket-default-simulator>=1.26.0->amazon-braket-sdk<2.0.0,>=1.25.1->quri-parts-braket->quri-parts[braket]) (3.4.0)\r\n",
            "Requirement already satisfied: antlr4-python3-runtime==4.9.2 in /home/ywatanabekoba/.cache/pypoetry/virtualenvs/quri-sdk-notebooks-dFiwJr5S-py3.11/lib/python3.11/site-packages (from amazon-braket-default-simulator>=1.26.0->amazon-braket-sdk<2.0.0,>=1.25.1->quri-parts-braket->quri-parts[braket]) (4.9.2)\r\n",
            "Requirement already satisfied: botocore<1.39.0,>=1.38.18 in /home/ywatanabekoba/.cache/pypoetry/virtualenvs/quri-sdk-notebooks-dFiwJr5S-py3.11/lib/python3.11/site-packages (from boto3>=1.28.53->amazon-braket-sdk<2.0.0,>=1.25.1->quri-parts-braket->quri-parts[braket]) (1.38.18)\r\n",
            "Requirement already satisfied: jmespath<2.0.0,>=0.7.1 in /home/ywatanabekoba/.cache/pypoetry/virtualenvs/quri-sdk-notebooks-dFiwJr5S-py3.11/lib/python3.11/site-packages (from boto3>=1.28.53->amazon-braket-sdk<2.0.0,>=1.25.1->quri-parts-braket->quri-parts[braket]) (1.0.1)\r\n",
            "Requirement already satisfied: s3transfer<0.13.0,>=0.12.0 in /home/ywatanabekoba/.cache/pypoetry/virtualenvs/quri-sdk-notebooks-dFiwJr5S-py3.11/lib/python3.11/site-packages (from boto3>=1.28.53->amazon-braket-sdk<2.0.0,>=1.25.1->quri-parts-braket->quri-parts[braket]) (0.12.0)\r\n"
          ]
        },
        {
          "name": "stdout",
          "output_type": "stream",
          "text": [
            "Requirement already satisfied: mypy-extensions>=0.2.0 in /home/ywatanabekoba/.cache/pypoetry/virtualenvs/quri-sdk-notebooks-dFiwJr5S-py3.11/lib/python3.11/site-packages (from oqpy~=0.3.5->amazon-braket-sdk<2.0.0,>=1.25.1->quri-parts-braket->quri-parts[braket]) (1.1.0)\r\n",
            "Requirement already satisfied: annotated-types>=0.6.0 in /home/ywatanabekoba/.cache/pypoetry/virtualenvs/quri-sdk-notebooks-dFiwJr5S-py3.11/lib/python3.11/site-packages (from pydantic>2->amazon-braket-schemas<2.0.0,>=1.22.0->quri-parts-braket->quri-parts[braket]) (0.7.0)\r\n",
            "Requirement already satisfied: pydantic-core==2.33.2 in /home/ywatanabekoba/.cache/pypoetry/virtualenvs/quri-sdk-notebooks-dFiwJr5S-py3.11/lib/python3.11/site-packages (from pydantic>2->amazon-braket-schemas<2.0.0,>=1.22.0->quri-parts-braket->quri-parts[braket]) (2.33.2)\r\n",
            "Requirement already satisfied: typing-inspection>=0.4.0 in /home/ywatanabekoba/.cache/pypoetry/virtualenvs/quri-sdk-notebooks-dFiwJr5S-py3.11/lib/python3.11/site-packages (from pydantic>2->amazon-braket-schemas<2.0.0,>=1.22.0->quri-parts-braket->quri-parts[braket]) (0.4.0)\r\n",
            "Requirement already satisfied: mpmath<1.4,>=1.1.0 in /home/ywatanabekoba/.cache/pypoetry/virtualenvs/quri-sdk-notebooks-dFiwJr5S-py3.11/lib/python3.11/site-packages (from sympy->amazon-braket-sdk<2.0.0,>=1.25.1->quri-parts-braket->quri-parts[braket]) (1.3.0)\r\n"
          ]
        },
        {
          "name": "stdout",
          "output_type": "stream",
          "text": [
            "Requirement already satisfied: python-dateutil<3.0.0,>=2.1 in /home/ywatanabekoba/.cache/pypoetry/virtualenvs/quri-sdk-notebooks-dFiwJr5S-py3.11/lib/python3.11/site-packages (from botocore<1.39.0,>=1.38.18->boto3>=1.28.53->amazon-braket-sdk<2.0.0,>=1.25.1->quri-parts-braket->quri-parts[braket]) (2.9.0.post0)\r\n",
            "Requirement already satisfied: urllib3!=2.2.0,<3,>=1.25.4 in /home/ywatanabekoba/.cache/pypoetry/virtualenvs/quri-sdk-notebooks-dFiwJr5S-py3.11/lib/python3.11/site-packages (from botocore<1.39.0,>=1.38.18->boto3>=1.28.53->amazon-braket-sdk<2.0.0,>=1.25.1->quri-parts-braket->quri-parts[braket]) (2.4.0)\r\n",
            "Requirement already satisfied: six>=1.5 in /home/ywatanabekoba/.cache/pypoetry/virtualenvs/quri-sdk-notebooks-dFiwJr5S-py3.11/lib/python3.11/site-packages (from python-dateutil<3.0.0,>=2.1->botocore<1.39.0,>=1.38.18->boto3>=1.28.53->amazon-braket-sdk<2.0.0,>=1.25.1->quri-parts-braket->quri-parts[braket]) (1.17.0)\r\n"
          ]
        },
        {
          "name": "stdout",
          "output_type": "stream",
          "text": [
            "\r\n",
            "\u001b[1m[\u001b[0m\u001b[34;49mnotice\u001b[0m\u001b[1;39;49m]\u001b[0m\u001b[39;49m A new release of pip is available: \u001b[0m\u001b[31;49m25.0.1\u001b[0m\u001b[39;49m -> \u001b[0m\u001b[32;49m25.1.1\u001b[0m\r\n",
            "\u001b[1m[\u001b[0m\u001b[34;49mnotice\u001b[0m\u001b[1;39;49m]\u001b[0m\u001b[39;49m To update, run: \u001b[0m\u001b[32;49mpip install --upgrade pip\u001b[0m\r\n"
          ]
        }
      ],
      "source": [
        "!pip install \"quri-parts[braket]\""
      ]
    },
    {
      "cell_type": "markdown",
      "id": "ddbcded0",
      "metadata": {},
      "source": [
        "## The BraketSamplingBackend\n",
        "\n",
        "How to create a `SamplingBackend` object depends on the used backend. For Braket devices, you can create a `BraketSamplingBackend` by passing a `braket.devices.Device` object (provided by Amazon Braket SDK):"
      ]
    },
    {
      "cell_type": "code",
      "execution_count": null,
      "id": "cad810b9",
      "metadata": {},
      "outputs": [],
      "source": [
        "from braket.aws import AwsDevice\n",
        "from braket.devices import LocalSimulator\n",
        "\n",
        "# A device for QPU provided on AWS\n",
        "# device = AwsDevice(\"arn:aws:braket:us-west-1::device/qpu/rigetti/Aspen-M-2\")\n",
        "\n",
        "# A device for the local simulator\n",
        "device = LocalSimulator()"
      ]
    },
    {
      "cell_type": "code",
      "execution_count": null,
      "id": "c6e85888",
      "metadata": {},
      "outputs": [],
      "source": [
        "from quri_parts.braket.backend import BraketSamplingBackend\n",
        "\n",
        "# Create a SamplingBackend with the device\n",
        "backend = BraketSamplingBackend(device)"
      ]
    },
    {
      "cell_type": "markdown",
      "id": "f097c085",
      "metadata": {},
      "source": [
        "With the sampling backend we just created, we can run the exact codes as in the [Sampling Backend and Sampler](../sampling_backends/#sampling-backend-and-sampler) section of the Sampling backend tutorial."
      ]
    },
    {
      "cell_type": "markdown",
      "id": "32041bd2",
      "metadata": {},
      "source": [
        "## Qubit mapping\n",
        "\n",
        "Here, we explain some details you need to know when you use the devices provided by Braket. Following the code in the [Sampling Backend](../0_sampling_backends/index.md) tutorial, we consider the following qubit mapping sampling."
      ]
    },
    {
      "cell_type": "code",
      "execution_count": null,
      "id": "70104976",
      "metadata": {},
      "outputs": [
        {
          "name": "stdout",
          "output_type": "stream",
          "text": [
            "{5: 440, 13: 67, 3: 435, 11: 58}\n"
          ]
        }
      ],
      "source": [
        "from numpy import pi\n",
        "from quri_parts.circuit import QuantumCircuit\n",
        "from quri_parts.core.sampling import create_sampler_from_sampling_backend\n",
        "\n",
        "circuit = QuantumCircuit(4)\n",
        "circuit.add_X_gate(0)\n",
        "circuit.add_H_gate(1)\n",
        "circuit.add_Y_gate(2)\n",
        "circuit.add_CNOT_gate(1, 2)\n",
        "circuit.add_RX_gate(3, pi/4)\n",
        "\n",
        "backend = BraketSamplingBackend(device, qubit_mapping={0: 3, 1: 2, 2: 0, 3: 1})\n",
        "sampler = create_sampler_from_sampling_backend(backend)\n",
        "sampling_result = sampler(circuit, 1000)\n",
        "print(sampling_result)"
      ]
    },
    {
      "cell_type": "markdown",
      "id": "91c01db0",
      "metadata": {},
      "source": [
        "The result looks similar to one with no qubit mapping, since the measurement result from the device is mapped backward so that it is interpreted in terms of the original qubit indices."
      ]
    },
    {
      "cell_type": "markdown",
      "id": "c98e4dda",
      "metadata": {},
      "source": [
        "<div class=\"alert alert-info\">\n",
        "    You may notice that the above mapping is a permutation of the original qubit indices and device qubits with indices larger than 3 are not involved. The reason for choosing such a mapping is to avoid an error of <code>LocalSimulator</code>: the <code>LocalSimulator</code> does not accept non-contiguous qubit indices. On the other hand, the qubit mapping feature of the <code>SamplingBackend</code> accepts such a mapping, as shown below.\n",
        "</div>"
      ]
    },
    {
      "cell_type": "markdown",
      "id": "b51b2d11",
      "metadata": {},
      "source": [
        "When you apply qubit mapping to devices provided on AWS, you will need to [enable manual qubit allocation by passing disable_qubit_rewiring=True](https://docs.aws.amazon.com/braket/latest/developerguide/braket-constructing-circuit.html#manual-qubit-allocation) to the device. You can specify such an argument (i.e. keyword arguments for `run` method of a `braket.devices.Device` object) via `run_kwargs` argument of the `BraketSamplingBackend` object:"
      ]
    },
    {
      "cell_type": "code",
      "execution_count": null,
      "id": "5ae085fe",
      "metadata": {},
      "outputs": [],
      "source": [
        "# Commented out because it requires an access to a real device on AWS\n",
        "\n",
        "# device = AwsDevice(\"arn:aws:braket:us-west-1::device/qpu/rigetti/Aspen-M-2\")\n",
        "# backend = BraketSamplingBackend(\n",
        "#     device,\n",
        "#     qubit_mapping={0: 10, 1: 13, 2: 17, 3: 21},\n",
        "#     run_kwargs={\"disable_qubit_rewiring\": True},\n",
        "# )\n",
        "# sampler = create_sampler_from_sampling_backend(backend)\n",
        "# sampling_result = sampler(circuit, 1000)\n",
        "# print(sampling_result)"
      ]
    },
    {
      "cell_type": "markdown",
      "id": "af882249",
      "metadata": {},
      "source": [
        "## Circuit transpilation before execution\n",
        "\n",
        "The transpilation performed by default depends on the backend; in the case of `BraketSamplingBackend`, it uses `quri_parts.braket.circuit.BraketSetTranspiler` for all devices, and also performs some device-specific transpilation defined in `quri_parts.braket.backend.transpiler`. It is possible to change the former one (device-independent transpilation) by supplying `circuit_transpiler` argument to `BraketSamplingBackend`."
      ]
    }
  ],
  "metadata": {
    "language_info": {
      "name": "python",
      "pygments_lexer": "ipython3"
    }
  },
  "nbformat": 4,
  "nbformat_minor": 5
}
