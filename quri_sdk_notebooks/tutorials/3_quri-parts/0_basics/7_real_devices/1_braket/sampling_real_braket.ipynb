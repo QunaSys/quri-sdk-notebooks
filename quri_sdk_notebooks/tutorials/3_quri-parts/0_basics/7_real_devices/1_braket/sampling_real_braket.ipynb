{
  "cells": [
    {
      "cell_type": "markdown",
      "id": "a533cde3",
      "metadata": {},
      "source": [
        "# Sampling on Braket's real quantum computers\n",
        "\n",
        "Here we introduce the Braket backends and some Braket specific features QURI Parts provide"
      ]
    },
    {
      "cell_type": "markdown",
      "id": "f0ff7af6",
      "metadata": {},
      "source": [
        "## Prerequisite\n",
        "\n",
        "This section requires topics described in previous sections([Samplers](../../1_sampler/index.md), [Sampling estimation](../../6_sampling_estimation/index.md) and [Sampling Backends](../0_sampling_backends/index.md)), so you need to read them before this section.\n",
        "\n",
        "In this section, we use [Amazon Braket](https://aws.amazon.com/braket/) as the platform with real quantum computers. In order to use Braket devices provided on AWS, you need to have an AWS account and enable Braket service. Please see [Amazon Braket Documentation](https://docs.aws.amazon.com/braket/index.html) for details. In this section, instead, we use the local simulator included in [Amazon Braket SDK](https://amazon-braket-sdk-python.readthedocs.io/en/latest/index.html), which does not require an AWS account. The Braket devices provided on AWS and the local simulator have the same interface, you can simply replace them each other.\n",
        "\n",
        "QURI Parts modules used in this tutorial: `quri-parts-circuit`, `quri-parts-core` and `quri-parts-braket`. You can install them as follows:"
      ]
    },
    {
      "cell_type": "code",
      "execution_count": null,
      "id": "cdf46a7a",
      "metadata": {},
      "outputs": [
        {
          "name": "stdout",
          "output_type": "stream",
          "text": [
            "Requirement already satisfied: quri-parts[braket] in /home/drokles/.cache/pypoetry/virtualenvs/quri-sdk-notebooks-l1kMe6Lz-py3.11/lib/python3.11/site-packages (0.20.3)\r\n",
            "Requirement already satisfied: quri-parts-algo in /home/drokles/.cache/pypoetry/virtualenvs/quri-sdk-notebooks-l1kMe6Lz-py3.11/lib/python3.11/site-packages (from quri-parts[braket]) (0.20.3)\r\n"
          ]
        },
        {
          "name": "stdout",
          "output_type": "stream",
          "text": [
            "Collecting quri-parts-braket (from quri-parts[braket])\r\n",
            "  Using cached quri_parts_braket-0.20.3-py3-none-any.whl.metadata (1.4 kB)\r\n",
            "Requirement already satisfied: quri-parts-chem in /home/drokles/.cache/pypoetry/virtualenvs/quri-sdk-notebooks-l1kMe6Lz-py3.11/lib/python3.11/site-packages (from quri-parts[braket]) (0.20.3)\r\n",
            "Requirement already satisfied: quri-parts-circuit in /home/drokles/.cache/pypoetry/virtualenvs/quri-sdk-notebooks-l1kMe6Lz-py3.11/lib/python3.11/site-packages (from quri-parts[braket]) (0.20.3)\r\n",
            "Requirement already satisfied: quri-parts-core in /home/drokles/.cache/pypoetry/virtualenvs/quri-sdk-notebooks-l1kMe6Lz-py3.11/lib/python3.11/site-packages (from quri-parts[braket]) (0.20.3)\r\n",
            "Requirement already satisfied: scipy<2.0.0,>=1.9.1 in /home/drokles/.cache/pypoetry/virtualenvs/quri-sdk-notebooks-l1kMe6Lz-py3.11/lib/python3.11/site-packages (from quri-parts-algo->quri-parts[braket]) (1.11.4)\r\n",
            "Requirement already satisfied: typing-extensions<5.0.0,>=4.1.1 in /home/drokles/.cache/pypoetry/virtualenvs/quri-sdk-notebooks-l1kMe6Lz-py3.11/lib/python3.11/site-packages (from quri-parts-algo->quri-parts[braket]) (4.12.2)\r\n"
          ]
        },
        {
          "name": "stdout",
          "output_type": "stream",
          "text": [
            "Collecting amazon-braket-schemas<2.0.0,>=1.22.0 (from quri-parts-braket->quri-parts[braket])\r\n",
            "  Using cached amazon_braket_schemas-1.22.3-py3-none-any.whl.metadata (5.8 kB)\r\n"
          ]
        },
        {
          "name": "stdout",
          "output_type": "stream",
          "text": [
            "Collecting amazon-braket-sdk<2.0.0,>=1.25.1 (from quri-parts-braket->quri-parts[braket])\r\n"
          ]
        },
        {
          "name": "stdout",
          "output_type": "stream",
          "text": [
            "  Downloading amazon_braket_sdk-1.88.2.post0-py3-none-any.whl.metadata (14 kB)\r\n",
            "Requirement already satisfied: numpy>=1.22.0 in /home/drokles/.cache/pypoetry/virtualenvs/quri-sdk-notebooks-l1kMe6Lz-py3.11/lib/python3.11/site-packages (from quri-parts-circuit->quri-parts[braket]) (1.26.4)\r\n",
            "Requirement already satisfied: quri-parts-rust in /home/drokles/.cache/pypoetry/virtualenvs/quri-sdk-notebooks-l1kMe6Lz-py3.11/lib/python3.11/site-packages (from quri-parts-circuit->quri-parts[braket]) (0.20.2)\r\n",
            "Requirement already satisfied: networkx in /home/drokles/.cache/pypoetry/virtualenvs/quri-sdk-notebooks-l1kMe6Lz-py3.11/lib/python3.11/site-packages (from quri-parts-core->quri-parts[braket]) (3.4.2)\r\n",
            "Requirement already satisfied: pydantic>2 in /home/drokles/.cache/pypoetry/virtualenvs/quri-sdk-notebooks-l1kMe6Lz-py3.11/lib/python3.11/site-packages (from amazon-braket-schemas<2.0.0,>=1.22.0->quri-parts-braket->quri-parts[braket]) (2.10.2)\r\n"
          ]
        },
        {
          "name": "stdout",
          "output_type": "stream",
          "text": [
            "Collecting amazon-braket-default-simulator>=1.26.0 (from amazon-braket-sdk<2.0.0,>=1.25.1->quri-parts-braket->quri-parts[braket])\r\n"
          ]
        },
        {
          "name": "stdout",
          "output_type": "stream",
          "text": [
            "  Downloading amazon_braket_default_simulator-1.26.1-py3-none-any.whl.metadata (6.3 kB)\r\n"
          ]
        },
        {
          "name": "stdout",
          "output_type": "stream",
          "text": [
            "Collecting oqpy~=0.3.5 (from amazon-braket-sdk<2.0.0,>=1.25.1->quri-parts-braket->quri-parts[braket])\r\n",
            "  Using cached oqpy-0.3.7-py3-none-any.whl.metadata (8.3 kB)\r\n"
          ]
        },
        {
          "name": "stdout",
          "output_type": "stream",
          "text": [
            "Collecting backoff (from amazon-braket-sdk<2.0.0,>=1.25.1->quri-parts-braket->quri-parts[braket])\r\n",
            "  Using cached backoff-2.2.1-py3-none-any.whl.metadata (14 kB)\r\n"
          ]
        },
        {
          "name": "stdout",
          "output_type": "stream",
          "text": [
            "Collecting boltons (from amazon-braket-sdk<2.0.0,>=1.25.1->quri-parts-braket->quri-parts[braket])\r\n",
            "  Using cached boltons-24.1.0-py3-none-any.whl.metadata (1.5 kB)\r\n"
          ]
        },
        {
          "name": "stdout",
          "output_type": "stream",
          "text": [
            "Collecting boto3>=1.28.53 (from amazon-braket-sdk<2.0.0,>=1.25.1->quri-parts-braket->quri-parts[braket])\r\n"
          ]
        },
        {
          "name": "stdout",
          "output_type": "stream",
          "text": [
            "  Downloading boto3-1.35.73-py3-none-any.whl.metadata (6.7 kB)\r\n"
          ]
        },
        {
          "name": "stdout",
          "output_type": "stream",
          "text": [
            "Collecting cloudpickle==2.2.1 (from amazon-braket-sdk<2.0.0,>=1.25.1->quri-parts-braket->quri-parts[braket])\r\n",
            "  Using cached cloudpickle-2.2.1-py3-none-any.whl.metadata (6.9 kB)\r\n",
            "Requirement already satisfied: nest-asyncio in /home/drokles/.cache/pypoetry/virtualenvs/quri-sdk-notebooks-l1kMe6Lz-py3.11/lib/python3.11/site-packages (from amazon-braket-sdk<2.0.0,>=1.25.1->quri-parts-braket->quri-parts[braket]) (1.6.0)\r\n"
          ]
        },
        {
          "name": "stdout",
          "output_type": "stream",
          "text": [
            "Collecting openpulse (from amazon-braket-sdk<2.0.0,>=1.25.1->quri-parts-braket->quri-parts[braket])\r\n",
            "  Using cached openpulse-1.0.1-py3-none-any.whl.metadata (2.0 kB)\r\n"
          ]
        },
        {
          "name": "stdout",
          "output_type": "stream",
          "text": [
            "Collecting openqasm3 (from amazon-braket-sdk<2.0.0,>=1.25.1->quri-parts-braket->quri-parts[braket])\r\n"
          ]
        },
        {
          "name": "stdout",
          "output_type": "stream",
          "text": [
            "  Using cached openqasm3-1.0.0-py3-none-any.whl.metadata (6.0 kB)\r\n",
            "Requirement already satisfied: sympy in /home/drokles/.cache/pypoetry/virtualenvs/quri-sdk-notebooks-l1kMe6Lz-py3.11/lib/python3.11/site-packages (from amazon-braket-sdk<2.0.0,>=1.25.1->quri-parts-braket->quri-parts[braket]) (1.13.3)\r\n"
          ]
        },
        {
          "name": "stdout",
          "output_type": "stream",
          "text": [
            "Collecting backports.entry-points-selectable (from amazon-braket-sdk<2.0.0,>=1.25.1->quri-parts-braket->quri-parts[braket])\r\n",
            "  Using cached backports.entry_points_selectable-1.3.0-py3-none-any.whl.metadata (4.1 kB)\r\n"
          ]
        },
        {
          "name": "stdout",
          "output_type": "stream",
          "text": [
            "Collecting opt_einsum (from amazon-braket-default-simulator>=1.26.0->amazon-braket-sdk<2.0.0,>=1.25.1->quri-parts-braket->quri-parts[braket])\r\n"
          ]
        },
        {
          "name": "stdout",
          "output_type": "stream",
          "text": [
            "  Using cached opt_einsum-3.4.0-py3-none-any.whl.metadata (6.3 kB)\r\n",
            "Collecting antlr4-python3-runtime==4.9.2 (from amazon-braket-default-simulator>=1.26.0->amazon-braket-sdk<2.0.0,>=1.25.1->quri-parts-braket->quri-parts[braket])\r\n",
            "  Using cached antlr4_python3_runtime-4.9.2-py3-none-any.whl\r\n"
          ]
        },
        {
          "name": "stdout",
          "output_type": "stream",
          "text": [
            "Collecting botocore<1.36.0,>=1.35.73 (from boto3>=1.28.53->amazon-braket-sdk<2.0.0,>=1.25.1->quri-parts-braket->quri-parts[braket])\r\n"
          ]
        },
        {
          "name": "stdout",
          "output_type": "stream",
          "text": [
            "  Downloading botocore-1.35.73-py3-none-any.whl.metadata (5.7 kB)\r\n"
          ]
        },
        {
          "name": "stdout",
          "output_type": "stream",
          "text": [
            "Collecting jmespath<2.0.0,>=0.7.1 (from boto3>=1.28.53->amazon-braket-sdk<2.0.0,>=1.25.1->quri-parts-braket->quri-parts[braket])\r\n",
            "  Using cached jmespath-1.0.1-py3-none-any.whl.metadata (7.6 kB)\r\n"
          ]
        },
        {
          "name": "stdout",
          "output_type": "stream",
          "text": [
            "Collecting s3transfer<0.11.0,>=0.10.0 (from boto3>=1.28.53->amazon-braket-sdk<2.0.0,>=1.25.1->quri-parts-braket->quri-parts[braket])\r\n",
            "  Using cached s3transfer-0.10.4-py3-none-any.whl.metadata (1.7 kB)\r\n"
          ]
        },
        {
          "name": "stdout",
          "output_type": "stream",
          "text": [
            "Collecting mypy-extensions>=0.2.0 (from oqpy~=0.3.5->amazon-braket-sdk<2.0.0,>=1.25.1->quri-parts-braket->quri-parts[braket])\r\n",
            "  Using cached mypy_extensions-1.0.0-py3-none-any.whl.metadata (1.1 kB)\r\n",
            "Requirement already satisfied: annotated-types>=0.6.0 in /home/drokles/.cache/pypoetry/virtualenvs/quri-sdk-notebooks-l1kMe6Lz-py3.11/lib/python3.11/site-packages (from pydantic>2->amazon-braket-schemas<2.0.0,>=1.22.0->quri-parts-braket->quri-parts[braket]) (0.7.0)\r\n",
            "Requirement already satisfied: pydantic-core==2.27.1 in /home/drokles/.cache/pypoetry/virtualenvs/quri-sdk-notebooks-l1kMe6Lz-py3.11/lib/python3.11/site-packages (from pydantic>2->amazon-braket-schemas<2.0.0,>=1.22.0->quri-parts-braket->quri-parts[braket]) (2.27.1)\r\n"
          ]
        },
        {
          "name": "stdout",
          "output_type": "stream",
          "text": [
            "Requirement already satisfied: mpmath<1.4,>=1.1.0 in /home/drokles/.cache/pypoetry/virtualenvs/quri-sdk-notebooks-l1kMe6Lz-py3.11/lib/python3.11/site-packages (from sympy->amazon-braket-sdk<2.0.0,>=1.25.1->quri-parts-braket->quri-parts[braket]) (1.3.0)\r\n",
            "Requirement already satisfied: python-dateutil<3.0.0,>=2.1 in /home/drokles/.cache/pypoetry/virtualenvs/quri-sdk-notebooks-l1kMe6Lz-py3.11/lib/python3.11/site-packages (from botocore<1.36.0,>=1.35.73->boto3>=1.28.53->amazon-braket-sdk<2.0.0,>=1.25.1->quri-parts-braket->quri-parts[braket]) (2.9.0.post0)\r\n",
            "Requirement already satisfied: urllib3!=2.2.0,<3,>=1.25.4 in /home/drokles/.cache/pypoetry/virtualenvs/quri-sdk-notebooks-l1kMe6Lz-py3.11/lib/python3.11/site-packages (from botocore<1.36.0,>=1.35.73->boto3>=1.28.53->amazon-braket-sdk<2.0.0,>=1.25.1->quri-parts-braket->quri-parts[braket]) (2.2.3)\r\n"
          ]
        },
        {
          "name": "stdout",
          "output_type": "stream",
          "text": [
            "Requirement already satisfied: six>=1.5 in /home/drokles/.cache/pypoetry/virtualenvs/quri-sdk-notebooks-l1kMe6Lz-py3.11/lib/python3.11/site-packages (from python-dateutil<3.0.0,>=2.1->botocore<1.36.0,>=1.35.73->boto3>=1.28.53->amazon-braket-sdk<2.0.0,>=1.25.1->quri-parts-braket->quri-parts[braket]) (1.16.0)\r\n",
            "Using cached quri_parts_braket-0.20.3-py3-none-any.whl (14 kB)\r\n",
            "Using cached amazon_braket_schemas-1.22.3-py3-none-any.whl (127 kB)\r\n"
          ]
        },
        {
          "name": "stdout",
          "output_type": "stream",
          "text": [
            "Downloading amazon_braket_sdk-1.88.2.post0-py3-none-any.whl (315 kB)\r\n",
            "\u001b[?25l   \u001b[38;5;237m━━━━━━━━━━━━━━━━━━━━━━━━━━━━━━━━━━━━━━━━\u001b[0m \u001b[32m0.0/315.7 kB\u001b[0m \u001b[31m?\u001b[0m eta \u001b[36m-:--:--\u001b[0m\r\n",
            "\u001b[2K   \u001b[38;2;249;38;114m━━━━━\u001b[0m\u001b[38;5;237m╺\u001b[0m\u001b[38;5;237m━━━━━━━━━━━━━━━━━━━━━━━━━━━━━━━━━━\u001b[0m \u001b[32m41.0/315.7 kB\u001b[0m \u001b[31m1.1 MB/s\u001b[0m eta \u001b[36m0:00:01\u001b[0m"
          ]
        },
        {
          "name": "stdout",
          "output_type": "stream",
          "text": [
            "\r\n",
            "\u001b[2K   \u001b[38;2;249;38;114m━━━━━━━━━━━━━━━━━━━━━━\u001b[0m\u001b[38;5;237m╺\u001b[0m\u001b[38;5;237m━━━━━━━━━━━━━━━━━\u001b[0m \u001b[32m174.1/315.7 kB\u001b[0m \u001b[31m2.6 MB/s\u001b[0m eta \u001b[36m0:00:01\u001b[0m"
          ]
        },
        {
          "name": "stdout",
          "output_type": "stream",
          "text": [
            "\r\n",
            "\u001b[2K   \u001b[38;2;114;156;31m━━━━━━━━━━━━━━━━━━━━━━━━━━━━━━━━━━━━━━━━\u001b[0m \u001b[32m315.7/315.7 kB\u001b[0m \u001b[31m3.2 MB/s\u001b[0m eta \u001b[36m0:00:00\u001b[0m\r\n",
            "\u001b[?25hUsing cached cloudpickle-2.2.1-py3-none-any.whl (25 kB)\r\n",
            "Downloading amazon_braket_default_simulator-1.26.1-py3-none-any.whl (223 kB)\r\n",
            "\u001b[?25l   \u001b[38;5;237m━━━━━━━━━━━━━━━━━━━━━━━━━━━━━━━━━━━━━━━━\u001b[0m \u001b[32m0.0/224.0 kB\u001b[0m \u001b[31m?\u001b[0m eta \u001b[36m-:--:--\u001b[0m"
          ]
        },
        {
          "name": "stdout",
          "output_type": "stream",
          "text": [
            "\r\n",
            "\u001b[2K   \u001b[38;2;249;38;114m━━━━━━━━━━━━━━━━━━━━━━━━━\u001b[0m\u001b[38;2;249;38;114m╸\u001b[0m\u001b[38;5;237m━━━━━━━━━━━━━━\u001b[0m \u001b[32m143.4/224.0 kB\u001b[0m \u001b[31m5.9 MB/s\u001b[0m eta \u001b[36m0:00:01\u001b[0m"
          ]
        },
        {
          "name": "stdout",
          "output_type": "stream",
          "text": [
            "\r\n",
            "\u001b[2K   \u001b[38;2;114;156;31m━━━━━━━━━━━━━━━━━━━━━━━━━━━━━━━━━━━━━━━━\u001b[0m \u001b[32m224.0/224.0 kB\u001b[0m \u001b[31m4.4 MB/s\u001b[0m eta \u001b[36m0:00:00\u001b[0m\r\n",
            "\u001b[?25hDownloading boto3-1.35.73-py3-none-any.whl (139 kB)\r\n",
            "\u001b[?25l   \u001b[38;5;237m━━━━━━━━━━━━━━━━━━━━━━━━━━━━━━━━━━━━━━━━\u001b[0m \u001b[32m0.0/139.2 kB\u001b[0m \u001b[31m?\u001b[0m eta \u001b[36m-:--:--\u001b[0m"
          ]
        },
        {
          "name": "stdout",
          "output_type": "stream",
          "text": [
            "\r\n",
            "\u001b[2K   \u001b[38;2;249;38;114m━━━━━━━━━━━━━━━━━━━━━━━━━━\u001b[0m\u001b[38;5;237m╺\u001b[0m\u001b[38;5;237m━━━━━━━━━━━━━\u001b[0m \u001b[32m92.2/139.2 kB\u001b[0m \u001b[31m3.9 MB/s\u001b[0m eta \u001b[36m0:00:01\u001b[0m\r\n",
            "\u001b[2K   \u001b[38;2;114;156;31m━━━━━━━━━━━━━━━━━━━━━━━━━━━━━━━━━━━━━━━━\u001b[0m \u001b[32m139.2/139.2 kB\u001b[0m \u001b[31m3.5 MB/s\u001b[0m eta \u001b[36m0:00:00\u001b[0m\r\n",
            "\u001b[?25hUsing cached oqpy-0.3.7-py3-none-any.whl (36 kB)\r\n",
            "Using cached openpulse-1.0.1-py3-none-any.whl (537 kB)\r\n",
            "Using cached openqasm3-1.0.0-py3-none-any.whl (539 kB)\r\n"
          ]
        },
        {
          "name": "stdout",
          "output_type": "stream",
          "text": [
            "Using cached backoff-2.2.1-py3-none-any.whl (15 kB)\r\n",
            "Using cached backports.entry_points_selectable-1.3.0-py3-none-any.whl (6.2 kB)\r\n",
            "Using cached boltons-24.1.0-py3-none-any.whl (192 kB)\r\n",
            "Downloading botocore-1.35.73-py3-none-any.whl (13.1 MB)\r\n",
            "\u001b[?25l   \u001b[38;5;237m━━━━━━━━━━━━━━━━━━━━━━━━━━━━━━━━━━━━━━━━\u001b[0m \u001b[32m0.0/13.1 MB\u001b[0m \u001b[31m?\u001b[0m eta \u001b[36m-:--:--\u001b[0m"
          ]
        },
        {
          "name": "stdout",
          "output_type": "stream",
          "text": [
            "\r\n",
            "\u001b[2K   \u001b[38;2;249;38;114m╸\u001b[0m\u001b[38;5;237m━━━━━━━━━━━━━━━━━━━━━━━━━━━━━━━━━━━━━━━\u001b[0m \u001b[32m0.3/13.1 MB\u001b[0m \u001b[31m8.7 MB/s\u001b[0m eta \u001b[36m0:00:02\u001b[0m"
          ]
        },
        {
          "name": "stdout",
          "output_type": "stream",
          "text": [
            "\r\n",
            "\u001b[2K   \u001b[38;2;249;38;114m━━\u001b[0m\u001b[38;5;237m╺\u001b[0m\u001b[38;5;237m━━━━━━━━━━━━━━━━━━━━━━━━━━━━━━━━━━━━━\u001b[0m \u001b[32m0.8/13.1 MB\u001b[0m \u001b[31m12.0 MB/s\u001b[0m eta \u001b[36m0:00:02\u001b[0m\r\n",
            "\u001b[2K   \u001b[38;2;249;38;114m━━━\u001b[0m\u001b[38;2;249;38;114m╸\u001b[0m\u001b[38;5;237m━━━━━━━━━━━━━━━━━━━━━━━━━━━━━━━━━━━━\u001b[0m \u001b[32m1.2/13.1 MB\u001b[0m \u001b[31m12.2 MB/s\u001b[0m eta \u001b[36m0:00:01\u001b[0m"
          ]
        },
        {
          "name": "stdout",
          "output_type": "stream",
          "text": [
            "\r\n",
            "\u001b[2K   \u001b[38;2;249;38;114m━━━━━\u001b[0m\u001b[38;2;249;38;114m╸\u001b[0m\u001b[38;5;237m━━━━━━━━━━━━━━━━━━━━━━━━━━━━━━━━━━\u001b[0m \u001b[32m1.8/13.1 MB\u001b[0m \u001b[31m13.4 MB/s\u001b[0m eta \u001b[36m0:00:01\u001b[0m"
          ]
        },
        {
          "name": "stdout",
          "output_type": "stream",
          "text": [
            "\r\n",
            "\u001b[2K   \u001b[38;2;249;38;114m━━━━━━━\u001b[0m\u001b[38;5;237m╺\u001b[0m\u001b[38;5;237m━━━━━━━━━━━━━━━━━━━━━━━━━━━━━━━━\u001b[0m \u001b[32m2.4/13.1 MB\u001b[0m \u001b[31m14.3 MB/s\u001b[0m eta \u001b[36m0:00:01\u001b[0m\r\n",
            "\u001b[2K   \u001b[38;2;249;38;114m━━━━━━━━━\u001b[0m\u001b[38;5;237m╺\u001b[0m\u001b[38;5;237m━━━━━━━━━━━━━━━━━━━━━━━━━━━━━━\u001b[0m \u001b[32m3.1/13.1 MB\u001b[0m \u001b[31m15.1 MB/s\u001b[0m eta \u001b[36m0:00:01\u001b[0m"
          ]
        },
        {
          "name": "stdout",
          "output_type": "stream",
          "text": [
            "\r\n",
            "\u001b[2K   \u001b[38;2;249;38;114m━━━━━━━━━━━\u001b[0m\u001b[38;2;249;38;114m╸\u001b[0m\u001b[38;5;237m━━━━━━━━━━━━━━━━━━━━━━━━━━━━\u001b[0m \u001b[32m3.8/13.1 MB\u001b[0m \u001b[31m15.9 MB/s\u001b[0m eta \u001b[36m0:00:01\u001b[0m"
          ]
        },
        {
          "name": "stdout",
          "output_type": "stream",
          "text": [
            "\r\n",
            "\u001b[2K   \u001b[38;2;249;38;114m━━━━━━━━━━━━━\u001b[0m\u001b[38;2;249;38;114m╸\u001b[0m\u001b[38;5;237m━━━━━━━━━━━━━━━━━━━━━━━━━━\u001b[0m \u001b[32m4.5/13.1 MB\u001b[0m \u001b[31m16.4 MB/s\u001b[0m eta \u001b[36m0:00:01\u001b[0m\r\n",
            "\u001b[2K   \u001b[38;2;249;38;114m━━━━━━━━━━━━━━━\u001b[0m\u001b[38;2;249;38;114m╸\u001b[0m\u001b[38;5;237m━━━━━━━━━━━━━━━━━━━━━━━━\u001b[0m \u001b[32m5.1/13.1 MB\u001b[0m \u001b[31m16.8 MB/s\u001b[0m eta \u001b[36m0:00:01\u001b[0m"
          ]
        },
        {
          "name": "stdout",
          "output_type": "stream",
          "text": [
            "\r\n",
            "\u001b[2K   \u001b[38;2;249;38;114m━━━━━━━━━━━━━━━━━\u001b[0m\u001b[38;2;249;38;114m╸\u001b[0m\u001b[38;5;237m━━━━━━━━━━━━━━━━━━━━━━\u001b[0m \u001b[32m5.8/13.1 MB\u001b[0m \u001b[31m16.9 MB/s\u001b[0m eta \u001b[36m0:00:01\u001b[0m"
          ]
        },
        {
          "name": "stdout",
          "output_type": "stream",
          "text": [
            "\r\n",
            "\u001b[2K   \u001b[38;2;249;38;114m━━━━━━━━━━━━━━━━━━━━\u001b[0m\u001b[38;5;237m╺\u001b[0m\u001b[38;5;237m━━━━━━━━━━━━━━━━━━━\u001b[0m \u001b[32m6.7/13.1 MB\u001b[0m \u001b[31m17.6 MB/s\u001b[0m eta \u001b[36m0:00:01\u001b[0m\r\n",
            "\u001b[2K   \u001b[38;2;249;38;114m━━━━━━━━━━━━━━━━━━━━━━\u001b[0m\u001b[38;2;249;38;114m╸\u001b[0m\u001b[38;5;237m━━━━━━━━━━━━━━━━━\u001b[0m \u001b[32m7.5/13.1 MB\u001b[0m \u001b[31m18.1 MB/s\u001b[0m eta \u001b[36m0:00:01\u001b[0m"
          ]
        },
        {
          "name": "stdout",
          "output_type": "stream",
          "text": [
            "\r\n",
            "\u001b[2K   \u001b[38;2;249;38;114m━━━━━━━━━━━━━━━━━━━━━━━━━\u001b[0m\u001b[38;5;237m╺\u001b[0m\u001b[38;5;237m━━━━━━━━━━━━━━\u001b[0m \u001b[32m8.3/13.1 MB\u001b[0m \u001b[31m18.7 MB/s\u001b[0m eta \u001b[36m0:00:01\u001b[0m"
          ]
        },
        {
          "name": "stdout",
          "output_type": "stream",
          "text": [
            "\r\n",
            "\u001b[2K   \u001b[38;2;249;38;114m━━━━━━━━━━━━━━━━━━━━━━━━━━━━\u001b[0m\u001b[38;5;237m╺\u001b[0m\u001b[38;5;237m━━━━━━━━━━━\u001b[0m \u001b[32m9.2/13.1 MB\u001b[0m \u001b[31m19.2 MB/s\u001b[0m eta \u001b[36m0:00:01\u001b[0m\r\n",
            "\u001b[2K   \u001b[38;2;249;38;114m━━━━━━━━━━━━━━━━━━━━━━━━━━━━━━\u001b[0m\u001b[38;2;249;38;114m╸\u001b[0m\u001b[38;5;237m━━━━━━━━━\u001b[0m \u001b[32m10.0/13.1 MB\u001b[0m \u001b[31m19.5 MB/s\u001b[0m eta \u001b[36m0:00:01\u001b[0m"
          ]
        },
        {
          "name": "stdout",
          "output_type": "stream",
          "text": [
            "\r\n",
            "\u001b[2K   \u001b[38;2;249;38;114m━━━━━━━━━━━━━━━━━━━━━━━━━━━━━━━━━\u001b[0m\u001b[38;2;249;38;114m╸\u001b[0m\u001b[38;5;237m━━━━━━\u001b[0m \u001b[32m11.1/13.1 MB\u001b[0m \u001b[31m21.4 MB/s\u001b[0m eta \u001b[36m0:00:01\u001b[0m"
          ]
        },
        {
          "name": "stdout",
          "output_type": "stream",
          "text": [
            "\r\n",
            "\u001b[2K   \u001b[38;2;249;38;114m━━━━━━━━━━━━━━━━━━━━━━━━━━━━━━━━━━━━\u001b[0m\u001b[38;5;237m╺\u001b[0m\u001b[38;5;237m━━━\u001b[0m \u001b[32m11.9/13.1 MB\u001b[0m \u001b[31m22.6 MB/s\u001b[0m eta \u001b[36m0:00:01\u001b[0m\r\n",
            "\u001b[2K   \u001b[38;2;249;38;114m━━━━━━━━━━━━━━━━━━━━━━━━━━━━━━━━━━━━━━━\u001b[0m\u001b[38;2;249;38;114m╸\u001b[0m \u001b[32m13.0/13.1 MB\u001b[0m \u001b[31m24.0 MB/s\u001b[0m eta \u001b[36m0:00:01\u001b[0m"
          ]
        },
        {
          "name": "stdout",
          "output_type": "stream",
          "text": [
            "\r\n",
            "\u001b[2K   \u001b[38;2;114;156;31m━━━━━━━━━━━━━━━━━━━━━━━━━━━━━━━━━━━━━━━━\u001b[0m \u001b[32m13.1/13.1 MB\u001b[0m \u001b[31m22.9 MB/s\u001b[0m eta \u001b[36m0:00:00\u001b[0m\r\n",
            "\u001b[?25hUsing cached jmespath-1.0.1-py3-none-any.whl (20 kB)\r\n",
            "Using cached mypy_extensions-1.0.0-py3-none-any.whl (4.7 kB)\r\n",
            "Using cached s3transfer-0.10.4-py3-none-any.whl (83 kB)\r\n",
            "Using cached opt_einsum-3.4.0-py3-none-any.whl (71 kB)\r\n"
          ]
        },
        {
          "name": "stdout",
          "output_type": "stream",
          "text": [
            "Installing collected packages: openqasm3, antlr4-python3-runtime, opt_einsum, mypy-extensions, jmespath, cloudpickle, boltons, backports.entry-points-selectable, backoff, openpulse, botocore, s3transfer, oqpy, amazon-braket-schemas, boto3, amazon-braket-default-simulator, amazon-braket-sdk, quri-parts-braket\r\n"
          ]
        },
        {
          "name": "stdout",
          "output_type": "stream",
          "text": [
            "Successfully installed amazon-braket-default-simulator-1.26.1 amazon-braket-schemas-1.22.3 amazon-braket-sdk-1.88.2.post0 antlr4-python3-runtime-4.9.2 backoff-2.2.1 backports.entry-points-selectable-1.3.0 boltons-24.1.0 boto3-1.35.73 botocore-1.35.73 cloudpickle-2.2.1 jmespath-1.0.1 mypy-extensions-1.0.0 openpulse-1.0.1 openqasm3-1.0.0 opt_einsum-3.4.0 oqpy-0.3.7 quri-parts-braket-0.20.3 s3transfer-0.10.4\r\n"
          ]
        },
        {
          "name": "stdout",
          "output_type": "stream",
          "text": [
            "\r\n",
            "\u001b[1m[\u001b[0m\u001b[34;49mnotice\u001b[0m\u001b[1;39;49m]\u001b[0m\u001b[39;49m A new release of pip is available: \u001b[0m\u001b[31;49m24.0\u001b[0m\u001b[39;49m -> \u001b[0m\u001b[32;49m24.3.1\u001b[0m\r\n",
            "\u001b[1m[\u001b[0m\u001b[34;49mnotice\u001b[0m\u001b[1;39;49m]\u001b[0m\u001b[39;49m To update, run: \u001b[0m\u001b[32;49mpip install --upgrade pip\u001b[0m\r\n"
          ]
        }
      ],
      "source": [
        "!pip install \"quri-parts[braket]\""
      ]
    },
    {
      "cell_type": "markdown",
      "id": "ddbcded0",
      "metadata": {},
      "source": [
        "## The BraketSamplingBackend\n",
        "\n",
        "How to create a `SamplingBackend` object depends on the used backend. For Braket devices, you can create a `BraketSamplingBackend` by passing a `braket.devices.Device` object (provided by Amazon Braket SDK):"
      ]
    },
    {
      "cell_type": "code",
      "execution_count": null,
      "id": "cad810b9",
      "metadata": {},
      "outputs": [],
      "source": [
        "from braket.aws import AwsDevice\n",
        "from braket.devices import LocalSimulator\n",
        "\n",
        "# A device for QPU provided on AWS\n",
        "# device = AwsDevice(\"arn:aws:braket:us-west-1::device/qpu/rigetti/Aspen-M-2\")\n",
        "\n",
        "# A device for the local simulator\n",
        "device = LocalSimulator()"
      ]
    },
    {
      "cell_type": "code",
      "execution_count": null,
      "id": "c6e85888",
      "metadata": {},
      "outputs": [],
      "source": [
        "from quri_parts.braket.backend import BraketSamplingBackend\n",
        "\n",
        "# Create a SamplingBackend with the device\n",
        "backend = BraketSamplingBackend(device)"
      ]
    },
    {
      "cell_type": "markdown",
      "id": "f097c085",
      "metadata": {},
      "source": [
        "With the sampling backend we just created, we can run the exact codes as in the [Sampling Backend and Sampler](../sampling_backends/#sampling-backend-and-sampler) section of the Sampling backend tutorial."
      ]
    },
    {
      "cell_type": "markdown",
      "id": "32041bd2",
      "metadata": {},
      "source": [
        "## Qubit mapping\n",
        "\n",
        "Here, we explain some details you need to know when you use the devices provided by Braket. Following the code in the [Sampling Backend](../0_sampling_backends/index.md) tutorial, we consider the following qubit mapping sampling."
      ]
    },
    {
      "cell_type": "code",
      "execution_count": null,
      "id": "70104976",
      "metadata": {},
      "outputs": [
        {
          "name": "stdout",
          "output_type": "stream",
          "text": [
            "{5: 427, 11: 84, 3: 434, 13: 55}\n"
          ]
        }
      ],
      "source": [
        "from numpy import pi\n",
        "from quri_parts.circuit import QuantumCircuit\n",
        "from quri_parts.core.sampling import create_sampler_from_sampling_backend\n",
        "\n",
        "circuit = QuantumCircuit(4)\n",
        "circuit.add_X_gate(0)\n",
        "circuit.add_H_gate(1)\n",
        "circuit.add_Y_gate(2)\n",
        "circuit.add_CNOT_gate(1, 2)\n",
        "circuit.add_RX_gate(3, pi/4)\n",
        "\n",
        "backend = BraketSamplingBackend(device, qubit_mapping={0: 3, 1: 2, 2: 0, 3: 1})\n",
        "sampler = create_sampler_from_sampling_backend(backend)\n",
        "sampling_result = sampler(circuit, 1000)\n",
        "print(sampling_result)"
      ]
    },
    {
      "cell_type": "markdown",
      "id": "91c01db0",
      "metadata": {},
      "source": [
        "The result looks similar to one with no qubit mapping, since the measurement result from the device is mapped backward so that it is interpreted in terms of the original qubit indices."
      ]
    },
    {
      "cell_type": "markdown",
      "id": "c98e4dda",
      "metadata": {},
      "source": [
        "<div class=\"alert alert-info\">\n",
        "    You may notice that the above mapping is a permutation of the original qubit indices and device qubits with indices larger than 3 are not involved. The reason for choosing such a mapping is to avoid an error of <code>LocalSimulator</code>: the <code>LocalSimulator</code> does not accept non-contiguous qubit indices. On the other hand, the qubit mapping feature of the <code>SamplingBackend</code> accepts such a mapping, as shown below.\n",
        "</div>"
      ]
    },
    {
      "cell_type": "markdown",
      "id": "b51b2d11",
      "metadata": {},
      "source": [
        "When you apply qubit mapping to devices provided on AWS, you will need to [enable manual qubit allocation by passing disable_qubit_rewiring=True](https://docs.aws.amazon.com/braket/latest/developerguide/braket-constructing-circuit.html#manual-qubit-allocation) to the device. You can specify such an argument (i.e. keyword arguments for `run` method of a `braket.devices.Device` object) via `run_kwargs` argument of the `BraketSamplingBackend` object:"
      ]
    },
    {
      "cell_type": "code",
      "execution_count": null,
      "id": "5ae085fe",
      "metadata": {},
      "outputs": [],
      "source": [
        "# Commented out because it requires an access to a real device on AWS\n",
        "\n",
        "# device = AwsDevice(\"arn:aws:braket:us-west-1::device/qpu/rigetti/Aspen-M-2\")\n",
        "# backend = BraketSamplingBackend(\n",
        "#     device,\n",
        "#     qubit_mapping={0: 10, 1: 13, 2: 17, 3: 21},\n",
        "#     run_kwargs={\"disable_qubit_rewiring\": True},\n",
        "# )\n",
        "# sampler = create_sampler_from_sampling_backend(backend)\n",
        "# sampling_result = sampler(circuit, 1000)\n",
        "# print(sampling_result)"
      ]
    },
    {
      "cell_type": "markdown",
      "id": "af882249",
      "metadata": {},
      "source": [
        "## Circuit transpilation before execution\n",
        "\n",
        "The transpilation performed by default depends on the backend; in the case of `BraketSamplingBackend`, it uses `quri_parts.braket.circuit.BraketSetTranspiler` for all devices, and also performs some device-specific transpilation defined in `quri_parts.braket.backend.transpiler`. It is possible to change the former one (device-independent transpilation) by supplying `circuit_transpiler` argument to `BraketSamplingBackend`."
      ]
    },
    {
      "cell_type": "markdown",
      "id": "9a880bf8",
      "metadata": {},
      "source": [
        "## Data Saving and Replaying"
      ]
    },
    {
      "cell_type": "markdown",
      "id": "669b0fe2",
      "metadata": {},
      "source": [
        "As we might want to perform different analysis using the same data generated by real devices, having a way to save and retrieve past experiment data can be useful. In this section, we explain how to save and replay past experiment data generated by Qiskit devices."
      ]
    },
    {
      "cell_type": "markdown",
      "id": "9c3ebf78",
      "metadata": {},
      "source": [
        "The data saving feature can be activated by setting the `save_data_while_sampling` to True. Both `BraketSamplingBackend` support this feature. Let’s use the local Aer simulator as an example."
      ]
    },
    {
      "cell_type": "code",
      "execution_count": null,
      "id": "15dd756c",
      "metadata": {},
      "outputs": [
        {
          "name": "stdout",
          "output_type": "stream",
          "text": [
            "Counter({3: 47, 5: 35, 11: 11, 13: 7})\n",
            "Counter({3: 110, 5: 81, 11: 6, 13: 3})\n"
          ]
        }
      ],
      "source": [
        "from quri_parts.braket.backend import BraketSamplingBackend\n",
        "from braket.devices import LocalSimulator\n",
        "from quri_parts.core.sampling import create_sampler_from_sampling_backend\n",
        "\n",
        "circuit_1 = QuantumCircuit(4)\n",
        "circuit_1.add_X_gate(0)\n",
        "circuit_1.add_H_gate(1)\n",
        "circuit_1.add_Y_gate(2)\n",
        "circuit_1.add_CNOT_gate(1, 2)\n",
        "circuit_1.add_RX_gate(3, pi/4)\n",
        "\n",
        "\n",
        "circuit_2 = QuantumCircuit(4)\n",
        "circuit_2.add_X_gate(0)\n",
        "circuit_2.add_H_gate(1)\n",
        "circuit_2.add_Y_gate(2)\n",
        "circuit_2.add_CNOT_gate(1, 2)\n",
        "circuit_2.add_RX_gate(3, pi/8)\n",
        "\n",
        "\n",
        "sampling_backend = BraketSamplingBackend(\n",
        "\tdevice=LocalSimulator(),\n",
        "\tsave_data_while_sampling=True # activate data saving feature\n",
        ")\n",
        "\n",
        "sampler = create_sampler_from_sampling_backend(sampling_backend)\n",
        "\n",
        "cnt1 = sampler(circuit_1, 100)\n",
        "cnt2 = sampler(circuit_2, 200)\n",
        "\n",
        "print(cnt1)\n",
        "print(cnt2)"
      ]
    },
    {
      "cell_type": "markdown",
      "id": "687b9f50",
      "metadata": {},
      "source": [
        "After performing sampling job like the above, we may save the sampling data into a json file:"
      ]
    },
    {
      "cell_type": "code",
      "execution_count": null,
      "id": "3b118653",
      "metadata": {},
      "outputs": [],
      "source": [
        "import json\n",
        "\n",
        "with open('saved_sampling_job.json', 'w') as fp:\n",
        "\tjson.dump(sampling_backend.jobs_json, fp)"
      ]
    },
    {
      "cell_type": "markdown",
      "id": "a2a2b5ac",
      "metadata": {},
      "source": [
        "The `jobs_json` property accessed above encodes all the past sampling jobs in the order they were submitted. Now, let’s load it back to the memory and replay with the `BraketSavedDataSamplingBackend`."
      ]
    },
    {
      "cell_type": "code",
      "execution_count": null,
      "id": "25315db6",
      "metadata": {},
      "outputs": [
        {
          "name": "stdout",
          "output_type": "stream",
          "text": [
            "{5: 35, 3: 47, 13: 7, 11: 11}\n",
            "{3: 110, 5: 81, 11: 6, 13: 3}\n"
          ]
        }
      ],
      "source": [
        "from quri_parts.braket.backend import BraketSavedDataSamplingBackend\n",
        "\n",
        "with open('saved_sampling_job.json', 'r') as fp:\n",
        "\tsaved_data = json.load(fp)\n",
        "\n",
        "replay_backend = BraketSavedDataSamplingBackend(\n",
        "\tdevice=LocalSimulator(),\n",
        "\tsaved_data=saved_data\n",
        ")\n",
        "\n",
        "replay_sampler = create_sampler_from_sampling_backend(replay_backend)\n",
        "\n",
        "replay_cnt1 = replay_sampler(circuit_1, 100)\n",
        "replay_cnt2 = replay_sampler(circuit_2, 200)\n",
        "\n",
        "print(replay_cnt1)\n",
        "print(replay_cnt2)"
      ]
    }
  ],
  "metadata": {
    "language_info": {
      "name": "python",
      "pygments_lexer": "ipython3"
    }
  },
  "nbformat": 4,
  "nbformat_minor": 5
}
