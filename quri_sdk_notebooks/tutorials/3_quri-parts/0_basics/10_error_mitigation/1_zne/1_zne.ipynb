{
  "cells": [
    {
      "cell_type": "markdown",
      "metadata": {},
      "source": [
        "# Zero-noise extrapolation\n",
        "\n",
        "\n",
        "ZNE is an error mitigation method that extrapolates the noiseless value from the multiple noise level values. The method consists of three steps:\n",
        "\n",
        "(1) Whole or part of original circuit is extended to scale the noise level. This yields multiple circuits with various noise levels. The simplest case is noise level 3.0, where we generate the scaled circuit\n",
        "$$\n",
        "U_{\\text{original}} \\rightarrow U_{\\text{original}}U^{-1}_{\\text{original}}U_{\\text{original}}.\n",
        "$$\n",
        "We can expect that this corresponds to noise level 3.0 since this circuit has three times as many gates as original gate has.\n",
        "\n",
        "(2) Calculate the expectation value $\\langle O(l)\\rangle$ corresponding to each noise level, where $l$ is noise level and $\\langle O(l)\\rangle$ is the expectation value of operator $O$ at noise level $l$. That is, $l=1$ is the original circuit and $l > 1.0$ corresponds to the extended circuit.\n",
        "\n",
        "(3) What we want to know is the expectation value $\\langle O(0)\\rangle$, which is the expectation value when there is no noise. We estimate it by extrapolation using multiple expectation values computed at different noise levels.\n",
        "\n"
      ]
    },
    {
      "cell_type": "markdown",
      "metadata": {},
      "source": [
        "## Prerequisite\n",
        "\n",
        "QURI Parts modules used in this tutorial: `quri-parts-algo`, `quri-parts-circuit`, `quri-parts-core` and `quri-parts-qulacs`. You can install them as follows:"
      ]
    },
    {
      "cell_type": "code",
      "execution_count": null,
      "metadata": {},
      "outputs": [],
      "source": [
        "# !pip install \"quri-parts[qulacs]\""
      ]
    },
    {
      "cell_type": "markdown",
      "metadata": {},
      "source": [
        "## Preparation and overview\n",
        "\n",
        "Here, we prepare the circuit and the noise model we use throughout this tutorial. The circuit we use in this tutorial consists of an identity part and a non-trivial part. The non-trivial part is responsible for converting the state $|000\\rangle$ into  $\\frac{1}{\\sqrt{2}}\\left(|000\\rangle + |111\\rangle\\right)$, while we decompose the identity circuit into multiple gates to amplify the effect of the noises."
      ]
    },
    {
      "cell_type": "code",
      "execution_count": null,
      "metadata": {},
      "outputs": [
        {
          "name": "stdout",
          "output_type": "stream",
          "text": [
            "The circuit:\n",
            "   ___     ___     ___     ___     ___     ___     ___     ___     ___                  \n",
            "  |RX |   |RZ |   | T |   |RY |   |RY |   |Tdg|   |RZ |   |RX |   | H |                 \n",
            "--|0  |---|2  |---|4  |---|6  |---|8  |---|10 |---|12 |---|14 |---|16 |-----●-------●---\n",
            "  |___|   |___|   |___|   |___|   |___|   |___|   |___|   |___|   |___|     |       |   \n",
            "   ___     ___     ___     ___     ___     ___     ___     ___             _|_      |   \n",
            "  |RY |   |sXd|   |RX |   |Tdg|   | T |   |RX |   |sqX|   |RY |           |CX |     |   \n",
            "--|1  |---|3  |---|5  |---|7  |---|9  |---|11 |---|13 |---|15 |-----------|17 |-----|---\n",
            "  |___|   |___|   |___|   |___|   |___|   |___|   |___|   |___|           |___|     |   \n",
            "                                                                                   _|_  \n",
            "                                                                                  |CX | \n",
            "----------------------------------------------------------------------------------|18 |-\n",
            "                                                                                  |___| \n"
          ]
        }
      ],
      "source": [
        "from quri_parts.circuit import QuantumCircuit\n",
        "from quri_parts.circuit.utils.circuit_drawer import draw_circuit\n",
        "\n",
        "qubit_count = 3\n",
        "\n",
        "identity_circuit = QuantumCircuit(3)\n",
        "identity_circuit.add_RX_gate(0, 1.3)\n",
        "identity_circuit.add_RY_gate(1, 0.2)\n",
        "identity_circuit.add_RZ_gate(0, -2.3)\n",
        "identity_circuit.add_SqrtXdag_gate(1)\n",
        "identity_circuit.add_T_gate(0)\n",
        "identity_circuit.add_RX_gate(1, 0.4)\n",
        "identity_circuit.add_RY_gate(0, 2.7)\n",
        "identity_circuit.add_Tdag_gate(1)\n",
        "identity_circuit.add_RY_gate(0, -2.7)\n",
        "identity_circuit.add_T_gate(1)\n",
        "identity_circuit.add_Tdag_gate(0)\n",
        "identity_circuit.add_RX_gate(1, -0.4)\n",
        "identity_circuit.add_RZ_gate(0, 2.3)\n",
        "identity_circuit.add_SqrtX_gate(1)\n",
        "identity_circuit.add_RX_gate(0, -1.3)\n",
        "identity_circuit.add_RY_gate(1, -0.2)\n",
        "\n",
        "circuit = QuantumCircuit(3)\n",
        "circuit += identity_circuit\n",
        "circuit.add_H_gate(0)\n",
        "circuit.add_CNOT_gate(0, 1)\n",
        "circuit.add_CNOT_gate(0, 2)\n",
        "\n",
        "\n",
        "print(\"The circuit:\")\n",
        "draw_circuit(circuit, line_length=200)"
      ]
    },
    {
      "cell_type": "markdown",
      "metadata": {},
      "source": [
        "Then, we create a noise model with some `NoiseInstruction`s. Here we consider `BitFlipNoise` and `DepolarizingNoise`."
      ]
    },
    {
      "cell_type": "code",
      "execution_count": null,
      "metadata": {},
      "outputs": [],
      "source": [
        "from quri_parts.circuit.noise import (\n",
        "    BitFlipNoise,\n",
        "    DepolarizingNoise,\n",
        "    NoiseModel,\n",
        ")\n",
        "\n",
        "noise_model = NoiseModel([\n",
        "    BitFlipNoise(error_prob=0.01),\n",
        "    DepolarizingNoise(error_prob=0.01),\n",
        "])"
      ]
    },
    {
      "cell_type": "markdown",
      "metadata": {},
      "source": [
        "### Zero-noise extrapolation and peformance\n",
        "\n",
        "Here, we explicitly show how to build an estimator that performs ZNE. In this simple example, we will compare the performance of a ZNE estimator  with that of noiseless and noisy esimators. We first prepare an operator for this purpose."
      ]
    },
    {
      "cell_type": "code",
      "execution_count": null,
      "metadata": {},
      "outputs": [],
      "source": [
        "from quri_parts.core.operator import Operator, pauli_label, PAULI_IDENTITY\n",
        "op = Operator({\n",
        "    pauli_label(\"Z0\"): 0.25,\n",
        "    pauli_label(\"Z1 Z2\"): 2.0,\n",
        "    pauli_label(\"X1 X2\"): 0.5,\n",
        "    pauli_label(\"Z1 Y2\"): 1.0,\n",
        "    pauli_label(\"X1 Y2\"): 2.0,\n",
        "    PAULI_IDENTITY: 3.0,\n",
        "})"
      ]
    },
    {
      "cell_type": "markdown",
      "metadata": {},
      "source": [
        "Next, we build a ZNE estimator. In this example, the ZNE estimator we create performs a quadratic regression using 3 data points, which corresponds to using 3 different scale factors. The gates that are folded are chosen randomly. Note that to create a ZNE estimator, we first need a noisy concurrent estimator, where we use the Qulacs density matrix concurrent estimator."
      ]
    },
    {
      "cell_type": "code",
      "execution_count": null,
      "metadata": {},
      "outputs": [],
      "source": [
        "from quri_parts.algo.mitigation.zne import create_polynomial_extrapolate, create_zne_estimator, create_folding_random\n",
        "from quri_parts.qulacs.estimator import create_qulacs_density_matrix_concurrent_estimator\n",
        "\n",
        "folding = create_folding_random()\n",
        "scale_factors = [1.0, 2.0, 3.0]\n",
        "poly_extrapolation = create_polynomial_extrapolate(order=2)\n",
        "noisy_concurrent_estimator = create_qulacs_density_matrix_concurrent_estimator(noise_model)\n",
        "\n",
        "zne_estimator = create_zne_estimator(\n",
        "    noisy_concurrent_estimator, scale_factors, poly_extrapolation, folding\n",
        ")"
      ]
    },
    {
      "cell_type": "markdown",
      "metadata": {},
      "source": [
        "With the ZNE estimator at hand, let's compare it's performance against the noiseless and noisy estimators."
      ]
    },
    {
      "cell_type": "code",
      "execution_count": null,
      "metadata": {},
      "outputs": [
        {
          "name": "stdout",
          "output_type": "stream",
          "text": [
            "Noiseless estimate: 4.9999999999999964\n",
            "Noisy estimate: 4.409201598385633\n",
            "ZNE estimate: 4.63323234974228\n"
          ]
        }
      ],
      "source": [
        "from quri_parts.qulacs.estimator import create_qulacs_density_matrix_estimator, create_qulacs_vector_estimator\n",
        "from quri_parts.core.state import quantum_state\n",
        "\n",
        "state = quantum_state(qubit_count, circuit=circuit)\n",
        "noiseless_estimator = create_qulacs_vector_estimator()\n",
        "noisy_estimator = create_qulacs_density_matrix_estimator(noise_model)\n",
        "\n",
        "print(\"Noiseless estimate:\", noiseless_estimator(op, state).value.real)\n",
        "print(\"Noisy estimate:\", noisy_estimator(op, state).value.real)\n",
        "print(\"ZNE estimate:\", zne_estimator(op, state).value)"
      ]
    },
    {
      "cell_type": "markdown",
      "metadata": {},
      "source": [
        "## Building the ZNE estimator step by step\n",
        "\n",
        "Now we start to explain all the steps necessary to construct a ZNE estimator. This involves:\n",
        "\n",
        "- Build a set of folded circuits by assigning a sequence of scaled factors.\n",
        "- A noisy concurrent estimator is required to perform noisy estimation on the folded circuits. Then we obtain a set of data:\n",
        "$$\n",
        "\\begin{equation}\n",
        "    \\left\\lbrace (\\text{ScaleFactor}_0, \\text{NoisyEstimation}_0), \\cdots \\right\\rbrace\n",
        "\\end{equation}\n",
        "$$\n",
        "- Pick a extrapolation scheme to predict the noiseless result ($\\text{ScaleFactor} = 0$) from noisy estimations of the noisy estimator."
      ]
    },
    {
      "cell_type": "markdown",
      "metadata": {},
      "source": [
        "### Create scaled circuits\n",
        "\n",
        "Next, create scaled circuits. To scale the circuits `scaling_circuit_folding` can be used. QURI Parts has multiple options for circuit folding. Here we use random folding. "
      ]
    },
    {
      "cell_type": "code",
      "execution_count": null,
      "metadata": {},
      "outputs": [
        {
          "name": "stdout",
          "output_type": "stream",
          "text": [
            "\n",
            "scale_factor = 1.0\n",
            "   ___     ___     ___     ___     ___     ___     ___     ___     ___                  \n",
            "  |RX |   |RZ |   | T |   |RY |   |RY |   |Tdg|   |RZ |   |RX |   | H |                 \n",
            "--|0  |---|2  |---|4  |---|6  |---|8  |---|10 |---|12 |---|14 |---|16 |-----●-------●---\n",
            "  |___|   |___|   |___|   |___|   |___|   |___|   |___|   |___|   |___|     |       |   \n",
            "   ___     ___     ___     ___     ___     ___     ___     ___             _|_      |   \n",
            "  |RY |   |sXd|   |RX |   |Tdg|   | T |   |RX |   |sqX|   |RY |           |CX |     |   \n",
            "--|1  |---|3  |---|5  |---|7  |---|9  |---|11 |---|13 |---|15 |-----------|17 |-----|---\n",
            "  |___|   |___|   |___|   |___|   |___|   |___|   |___|   |___|           |___|     |   \n",
            "                                                                                   _|_  \n",
            "                                                                                  |CX | \n",
            "----------------------------------------------------------------------------------|18 |-\n",
            "                                                                                  |___| \n",
            "\n",
            "scale_factor = 2.0\n",
            "   ___     ___     ___     ___     ___     ___     ___     ___     ___     ___     ___     ___     ___     ___     ___     ___     ___     ___     ___                  \n",
            "  |RX |   |RX |   |RX |   |RZ |   |RZ |   |RZ |   | T |   |Tdg|   | T |   |RY |   |RY |   |RY |   |RY |   |RY |   |RY |   |Tdg|   |RZ |   |RX |   | H |                 \n",
            "--|0  |---|1  |---|2  |---|6  |---|7  |---|8  |---|12 |---|13 |---|14 |---|18 |---|19 |---|20 |---|24 |---|25 |---|26 |---|28 |---|30 |---|32 |---|34 |-----●-------●---\n",
            "  |___|   |___|   |___|   |___|   |___|   |___|   |___|   |___|   |___|   |___|   |___|   |___|   |___|   |___|   |___|   |___|   |___|   |___|   |___|     |       |   \n",
            "   ___     ___     ___     ___     ___     ___     ___     ___     ___     ___     ___     ___     ___     ___     ___     ___                             _|_      |   \n",
            "  |RY |   |RY |   |RY |   |sXd|   |sqX|   |sXd|   |RX |   |RX |   |RX |   |Tdg|   | T |   |Tdg|   | T |   |RX |   |sqX|   |RY |                           |CX |     |   \n",
            "--|3  |---|4  |---|5  |---|9  |---|10 |---|11 |---|15 |---|16 |---|17 |---|21 |---|22 |---|23 |---|27 |---|29 |---|31 |---|33 |---------------------------|35 |-----|---\n",
            "  |___|   |___|   |___|   |___|   |___|   |___|   |___|   |___|   |___|   |___|   |___|   |___|   |___|   |___|   |___|   |___|                           |___|     |   \n",
            "                                                                                                                                                                   _|_  \n",
            "                                                                                                                                                                  |CX | \n",
            "------------------------------------------------------------------------------------------------------------------------------------------------------------------|36 |-\n",
            "                                                                                                                                                                  |___| \n",
            "\n",
            "scale_factor = 3.0\n",
            "   ___     ___     ___     ___     ___     ___     ___     ___     ___     ___     ___     ___     ___     ___     ___     ___     ___     ___     ___     ___     ___     ___     ___     ___     ___     ___     ___                                                  \n",
            "  |RX |   |RX |   |RX |   |RZ |   |RZ |   |RZ |   | T |   |Tdg|   | T |   |RY |   |RY |   |RY |   |RY |   |RY |   |RY |   |Tdg|   | T |   |Tdg|   |RZ |   |RZ |   |RZ |   |RX |   |RX |   |RX |   | H |   | H |   | H |                                                 \n",
            "--|0  |---|1  |---|2  |---|6  |---|7  |---|8  |---|12 |---|13 |---|14 |---|18 |---|19 |---|20 |---|24 |---|25 |---|26 |---|30 |---|31 |---|32 |---|36 |---|37 |---|38 |---|42 |---|43 |---|44 |---|48 |---|49 |---|50 |-----●-------●-------●-------●-------●-------●---\n",
            "  |___|   |___|   |___|   |___|   |___|   |___|   |___|   |___|   |___|   |___|   |___|   |___|   |___|   |___|   |___|   |___|   |___|   |___|   |___|   |___|   |___|   |___|   |___|   |___|   |___|   |___|   |___|     |       |       |       |       |       |   \n",
            "   ___     ___     ___     ___     ___     ___     ___     ___     ___     ___     ___     ___     ___     ___     ___     ___     ___     ___     ___     ___     ___     ___     ___     ___                             _|_     _|_     _|_      |       |       |   \n",
            "  |RY |   |RY |   |RY |   |sXd|   |sqX|   |sXd|   |RX |   |RX |   |RX |   |Tdg|   | T |   |Tdg|   | T |   |Tdg|   | T |   |RX |   |RX |   |RX |   |sqX|   |sXd|   |sqX|   |RY |   |RY |   |RY |                           |CX |   |CX |   |CX |     |       |       |   \n",
            "--|3  |---|4  |---|5  |---|9  |---|10 |---|11 |---|15 |---|16 |---|17 |---|21 |---|22 |---|23 |---|27 |---|28 |---|29 |---|33 |---|34 |---|35 |---|39 |---|40 |---|41 |---|45 |---|46 |---|47 |---------------------------|51 |---|52 |---|53 |-----|-------|-------|---\n",
            "  |___|   |___|   |___|   |___|   |___|   |___|   |___|   |___|   |___|   |___|   |___|   |___|   |___|   |___|   |___|   |___|   |___|   |___|   |___|   |___|   |___|   |___|   |___|   |___|                           |___|   |___|   |___|     |       |       |   \n",
            "                                                                                                                                                                                                                                                   _|_     _|_     _|_  \n",
            "                                                                                                                                                                                                                                                  |CX |   |CX |   |CX | \n",
            "--------------------------------------------------------------------------------------------------------------------------------------------------------------------------------------------------------------------------------------------------|54 |---|55 |---|56 |-\n",
            "                                                                                                                                                                                                                                                  |___|   |___|   |___| \n"
          ]
        }
      ],
      "source": [
        "from quri_parts.algo.mitigation.zne import (\n",
        "    create_folding_random,\n",
        "    scaling_circuit_folding,\n",
        ")\n",
        "\n",
        "random_folding = create_folding_random()\n",
        "scale_factors = [1.0, 2.0, 3.0]\n",
        "scaled_circuits: list[QuantumCircuit] = []\n",
        "\n",
        "for scale_factor in scale_factors:\n",
        "    print(\"\")\n",
        "    print(f\"{scale_factor = }\")\n",
        "    scaled_circuits.append(\n",
        "        scaled_circuit:=scaling_circuit_folding(circuit, scale_factor, random_folding)\n",
        "    )\n",
        "    draw_circuit(scaled_circuit, line_length=800)"
      ]
    },
    {
      "cell_type": "markdown",
      "metadata": {},
      "source": [
        "### Noisy estimation on folded circuits"
      ]
    },
    {
      "cell_type": "code",
      "execution_count": null,
      "metadata": {},
      "outputs": [
        {
          "name": "stdout",
          "output_type": "stream",
          "text": [
            "scale factor 1.0: len(scaled_circuit.gates)=19, estimate: (4.409201598385633+0j)\n",
            "scale factor 2.0: len(scaled_circuit.gates)=37, estimate: (4.099074907751644+0j)\n",
            "scale factor 3.0: len(scaled_circuit.gates)=57, estimate: (3.7028522778403077+0j)\n"
          ]
        }
      ],
      "source": [
        "estimates = noisy_concurrent_estimator(\n",
        "    [op], [quantum_state(qubit_count, circuit=scaled_circuit) for scaled_circuit in scaled_circuits]\n",
        ")\n",
        "\n",
        "for scale_factor, scaled_circuit, estimate in zip(scale_factors, scaled_circuits, estimates):\n",
        "    print(\n",
        "        f\"scale factor {scale_factor}: {len(scaled_circuit.gates)=}, estimate: {estimate.value}\"\n",
        "    )"
      ]
    },
    {
      "cell_type": "markdown",
      "metadata": {},
      "source": [
        "### Extrapolate zero-noise value\n",
        "\n",
        "The last step is extrapolation. QURI Parts has multiple options for extrapolation. Here we use second-order polynomial extrapolation."
      ]
    },
    {
      "cell_type": "code",
      "execution_count": null,
      "metadata": {},
      "outputs": [
        {
          "name": "stdout",
          "output_type": "stream",
          "text": [
            "mitigated estimate: (4.633232349742281+0j)\n"
          ]
        }
      ],
      "source": [
        "from quri_parts.algo.mitigation.zne import create_polynomial_extrapolate\n",
        "\n",
        "poly_extrapolation = create_polynomial_extrapolate(order=2)\n",
        "exp_vals = poly_extrapolation(scale_factors, [e.value for e in estimates])\n",
        "print(f\"mitigated estimate: {exp_vals}\")"
      ]
    },
    {
      "cell_type": "code",
      "execution_count": null,
      "metadata": {},
      "outputs": [
        {
          "name": "stderr",
          "output_type": "stream",
          "text": [
            "/Users/daniel/anaconda3/envs/qagc/lib/python3.11/site-packages/matplotlib/cbook.py:1762: ComplexWarning: Casting complex values to real discards the imaginary part\n",
            "  return math.isfinite(val)\n",
            "/Users/daniel/anaconda3/envs/qagc/lib/python3.11/site-packages/matplotlib/cbook.py:1398: ComplexWarning: Casting complex values to real discards the imaginary part\n",
            "  return np.asarray(x, float)\n"
          ]
        },
        {
          "data": {
            "image/png": "[encoded data removed]",
            "text/plain": [
              "<Figure size 800x600 with 1 Axes>"
            ]
          },
          "metadata": {},
          "output_type": "display_data"
        }
      ],
      "source": [
        "import matplotlib.pyplot as plt\n",
        "import seaborn as sns\n",
        "\n",
        "sns.set_theme(\"talk\")\n",
        "plt.rcParams[\"figure.figsize\"] = (8, 6)\n",
        "plt.plot([0, *scale_factors], [exp_vals, *[e.value.real for e in estimates]], \"-o\", label=\"noisy estimates\\non scaled circuits\")\n",
        "plt.plot([0], [exp_vals.real], \"or\", label=\"ZNE prediction\")\n",
        "plt.plot([0], [noiseless_estimator(op, state).value.real], \"ok\", label=\"Noiseless estimate\")\n",
        "plt.xlabel(\"scale factor\")\n",
        "plt.ylabel(\"$\\\\langle O \\\\rangle$\")\n",
        "plt.xticks([0, 1, 2, 3], [0, 1, 2, 3])\n",
        "plt.title(\"Extrapolation in ZNE mitigation\")\n",
        "plt.legend()\n",
        "plt.show()"
      ]
    },
    {
      "cell_type": "markdown",
      "metadata": {},
      "source": [
        "### Create ZNE estimator\n",
        "\n",
        "You can also create a `QuantumEstimator` that returns the error-mitigated estimate of a given operator and state by performing ZNE behind the scenes."
      ]
    },
    {
      "cell_type": "code",
      "execution_count": null,
      "metadata": {},
      "outputs": [
        {
          "data": {
            "text/plain": [
              "np.float64(4.63323234974228)"
            ]
          },
          "execution_count": 12,
          "metadata": {},
          "output_type": "execute_result"
        }
      ],
      "source": [
        "from quri_parts.algo.mitigation.zne import create_zne_estimator\n",
        "\n",
        "zne_estimator = create_zne_estimator(\n",
        "    noisy_concurrent_estimator, scale_factors, poly_extrapolation, random_folding\n",
        ")\n",
        "\n",
        "mitigated_estimate = zne_estimator(op, state)\n",
        "mitigated_estimate.value"
      ]
    }
  ],
  "metadata": {
    "language_info": {
      "name": "python",
      "pygments_lexer": "ipython3"
    }
  },
  "nbformat": 4,
  "nbformat_minor": 4
}
