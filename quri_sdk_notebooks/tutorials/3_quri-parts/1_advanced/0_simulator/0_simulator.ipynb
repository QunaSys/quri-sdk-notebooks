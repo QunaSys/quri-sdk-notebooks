{
  "cells": [
    {
      "cell_type": "markdown",
      "metadata": {},
      "source": [
        "# Simulators\n",
        "\n",
        "Sometimes when we assemble algorithms, it is useful to check whether or not the resulting state is consistent with our expectation. As the state is not something we have access to with experiment, we need to use a simulator to obtain the exact final output state. In QURI Parts, a simulator is any function that work with the explicit state vector or density matrices."
      ]
    },
    {
      "cell_type": "markdown",
      "metadata": {},
      "source": [
        "## Qulacs simulators\n",
        "\n",
        "In the `quri_parts.qulacs.simulator` module, we provide 3 simulator features for state vectors.\n",
        "\n",
        "- `evaluate_state_to_vector`\n",
        "- `run_circuit`\n",
        "- `get_marginal_probability`\n",
        "\n",
        "We introduce their functionalities in the following sections."
      ]
    },
    {
      "cell_type": "markdown",
      "metadata": {},
      "source": [
        "### `evaluate_state_to_vector`\n",
        "\n",
        "`evaluate_state_to_vector` is a function that converts any non-parametric states into a `QuantumStateVector` with an empty circuit."
      ]
    },
    {
      "cell_type": "code",
      "execution_count": null,
      "metadata": {},
      "outputs": [],
      "source": [
        "from quri_parts.qulacs import evaluate_state_to_vector # >= 0.22.0\n",
        "from quri_parts.core import quantum_state # >= 0.22.0"
      ]
    },
    {
      "cell_type": "markdown",
      "metadata": {},
      "source": [
        "#### Converts a `ComputationalBasisState`\n",
        "For example, `bits = 2 = 0b10` represents $|10\\rangle$. Note that vectors are arranged as follows: |00>, |01>, |10>, |11>, ... ."
      ]
    },
    {
      "cell_type": "code",
      "execution_count": null,
      "metadata": {},
      "outputs": [
        {
          "name": "stdout",
          "output_type": "stream",
          "text": [
            "State vector:\n",
            "[0.+0.j 0.+0.j 1.+0.j 0.+0.j]\n",
            "\n",
            "Circuit:\n",
            "()\n"
          ]
        }
      ],
      "source": [
        "comp_state = quantum_state(n_qubits=2, bits=2)\n",
        "\n",
        "out_state = evaluate_state_to_vector(comp_state)\n",
        "\n",
        "print(\"State vector:\")\n",
        "print(out_state.vector)\n",
        "print(\"\")\n",
        "print(\"Circuit:\")\n",
        "print(out_state.circuit.gates)"
      ]
    },
    {
      "cell_type": "markdown",
      "metadata": {},
      "source": [
        "#### Converts a `GeneralCircuitQuantumState`"
      ]
    },
    {
      "cell_type": "code",
      "execution_count": null,
      "metadata": {},
      "outputs": [
        {
          "name": "stdout",
          "output_type": "stream",
          "text": [
            "State vector:\n",
            "[0.70710678+0.j 0.        +0.j 0.        +0.j 0.70710678+0.j]\n",
            "\n",
            "Circuit:\n",
            "()\n"
          ]
        }
      ],
      "source": [
        "from quri_parts.circuit import QuantumCircuit\n",
        "\n",
        "circuit = QuantumCircuit(2)\n",
        "circuit.add_H_gate(0)\n",
        "circuit.add_CNOT_gate(0, 1)\n",
        "\n",
        "bell_state = quantum_state(n_qubits=2, circuit=circuit)\n",
        "out_state = evaluate_state_to_vector(bell_state)\n",
        "\n",
        "print(\"State vector:\")\n",
        "print(out_state.vector)\n",
        "print(\"\")\n",
        "print(\"Circuit:\")\n",
        "print(out_state.circuit.gates)"
      ]
    },
    {
      "cell_type": "markdown",
      "metadata": {},
      "source": [
        "#### Converts a `QuantumStateVector`"
      ]
    },
    {
      "cell_type": "code",
      "execution_count": null,
      "metadata": {},
      "outputs": [
        {
          "name": "stdout",
          "output_type": "stream",
          "text": [
            "State vector:\n",
            "[-0.79984233+0.05948561j -0.11448516+0.15617958j -0.36818841-0.34434725j\n",
            " -0.06357203-0.24705397j]\n",
            "\n",
            "Circuit:\n",
            "()\n"
          ]
        }
      ],
      "source": [
        "import numpy as np\n",
        "from scipy.stats import unitary_group\n",
        "\n",
        "\n",
        "circuit = QuantumCircuit(2)\n",
        "circuit.add_H_gate(0)\n",
        "circuit.add_CNOT_gate(0, 1)\n",
        "\n",
        "init_state_vector = unitary_group.rvs(4)[:, 0]\n",
        "state = quantum_state(n_qubits=2, vector=init_state_vector, circuit=circuit)\n",
        "out_state = evaluate_state_to_vector(state)\n",
        "\n",
        "print(\"State vector:\")\n",
        "print(out_state.vector)\n",
        "print(\"\")\n",
        "print(\"Circuit:\")\n",
        "print(out_state.circuit.gates)"
      ]
    },
    {
      "cell_type": "markdown",
      "metadata": {},
      "source": [
        "### `run_circuit`\n",
        "\n",
        "`run_circuit` is a function that acts a quantum circuit on a state vector represented by a `numpy.array` and returns the resulting state vector."
      ]
    },
    {
      "cell_type": "code",
      "execution_count": null,
      "metadata": {},
      "outputs": [
        {
          "data": {
            "text/plain": [
              "array([ 0.09131265+0.18696161j,  0.71439843-0.18955385j,\n",
              "        0.01844452+0.21492955j, -0.50837931-0.32469547j])"
            ]
          },
          "execution_count": 5,
          "metadata": {},
          "output_type": "execute_result"
        }
      ],
      "source": [
        "from quri_parts.qulacs.simulator import run_circuit\n",
        "\n",
        "n_qubits = 2\n",
        "\n",
        "circuit = QuantumCircuit(n_qubits)\n",
        "circuit.add_H_gate(0)\n",
        "circuit.add_CNOT_gate(0, 1)\n",
        "\n",
        "init_state_vector = unitary_group.rvs(2**n_qubits)[:, 0]\n",
        "out_state = run_circuit(circuit, init_state_vector)\n",
        "out_state"
      ]
    },
    {
      "cell_type": "markdown",
      "metadata": {},
      "source": [
        "### `get_marginal_probability`\n",
        "\n",
        "Sometimes we need to perform partial measurement to a state. `get_marginal_probability` returns the probability of obtaining the specified computational basis eigenstate after measuring a subset of the qubits. For example, for a state with 3 qubits, setting `measured_values={0: 1, 2: 0}` outputs the probability of obtaining 1 from the 0th qubit and 0 from the 2nd qubit. That is, the probability is obtained from the coefficients of $|001\\rangle$ and $|011\\rangle$."
      ]
    },
    {
      "cell_type": "code",
      "execution_count": null,
      "metadata": {},
      "outputs": [
        {
          "name": "stdout",
          "output_type": "stream",
          "text": [
            "State vector:\n",
            "[ 0.09674875+0.10254395j  0.0798036 +0.36765882j -0.11317883-0.03277787j\n",
            "  0.0541727 -0.18152099j -0.21847249-0.58450099j -0.12238927-0.15721131j\n",
            " -0.03144415+0.32903147j  0.15142689-0.47704057j]\n",
            "\n",
            "Probability of measuring 1 from to 0th qubit and 0 from the 2nd qubit: 0.17742617256915683\n"
          ]
        }
      ],
      "source": [
        "from quri_parts.qulacs.simulator import get_marginal_probability\n",
        "\n",
        "n_qubits = 3\n",
        "\n",
        "init_state = unitary_group.rvs(2**n_qubits)[:, 0]\n",
        "\n",
        "state = quantum_state(n_qubits=n_qubits, vector=init_state)\n",
        "out_state = evaluate_state_to_vector(state)\n",
        "print(\"State vector:\")\n",
        "print(out_state.vector)\n",
        "print(\"\")\n",
        "print(\n",
        "    \"Probability of measuring 1 from to 0th qubit and 0 from the 2nd qubit:\",\n",
        "    get_marginal_probability(init_state, measured_values={0: 1, 2: 0})\n",
        ")"
      ]
    },
    {
      "cell_type": "markdown",
      "metadata": {},
      "source": [
        "## Stim simulators\n",
        "\n",
        "We also provide\n",
        "\n",
        "- `evaluate_state_to_vector`\n",
        "- `run_circuit`\n",
        "\n",
        "in the `quri_parts.stim.simulator` module. The functionalities are the same as those in `quri_parts.qulacs.simulator` except that they only accept Clifford circuits and performs the circuit execution using [Stim](https://github.com/quantumlib/Stim)."
      ]
    }
  ],
  "metadata": {
    "language_info": {
      "name": "python",
      "pygments_lexer": "ipython3"
    }
  },
  "nbformat": 4,
  "nbformat_minor": 4
}
