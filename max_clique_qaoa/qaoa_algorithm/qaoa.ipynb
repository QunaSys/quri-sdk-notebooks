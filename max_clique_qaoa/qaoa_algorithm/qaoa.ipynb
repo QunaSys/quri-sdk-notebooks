{
 "cells": [
  {
   "cell_type": "code",
   "id": "initial_id",
   "metadata": {
    "collapsed": true,
    "ExecuteTime": {
     "end_time": "2025-01-20T04:43:19.040915Z",
     "start_time": "2025-01-20T04:43:19.036467Z"
    }
   },
   "source": [
    "from quri_parts.core.operator import Operator, pauli_label\n",
    "import networkx as nx\n",
    "import numpy as np"
   ],
   "outputs": [],
   "execution_count": 3
  },
  {
   "metadata": {
    "ExecuteTime": {
     "end_time": "2025-01-20T04:43:20.858954Z",
     "start_time": "2025-01-20T04:43:20.828096Z"
    }
   },
   "cell_type": "code",
   "source": [
    "G = nx.Graph()\n",
    "G.add_edges_from([(0,1), (1,2), (2,3), (3,0), (0,2)])  # Sample graph\n",
    "\n",
    "# Convert max clique to QUBO\n",
    "n = len(G.nodes())\n",
    "Q = np.zeros((n,n))\n",
    "for i in range(n):\n",
    "    for j in range(n):\n",
    "        if i != j:\n",
    "            if not G.has_edge(i,j):\n",
    "                Q[i,j] += 1\n",
    "            Q[i,i] += -1\n",
    "            Q[j,j] += -1\n",
    "\n",
    "# Convert QUBO to Hamiltonian operator\n",
    "hamiltonian = Operator()\n",
    "for i in range(n):\n",
    "    for j in range(i, n):\n",
    "        if abs(Q[i,j]) > 1e-10:\n",
    "            if i == j:\n",
    "                # Diagonal terms\n",
    "                hamiltonian += Q[i,i] * pauli_label(f\"Z{i}\")\n",
    "            else:\n",
    "                # Off-diagonal terms\n",
    "                hamiltonian += Q[i,j] * pauli_label(f\"Z{i}Z{j}\")\n"
   ],
   "id": "110d2607dabf1e9d",
   "outputs": [
    {
     "ename": "TypeError",
     "evalue": "unsupported operand type(s) for *: 'float' and 'PauliLabel'",
     "output_type": "error",
     "traceback": [
      "\u001B[0;31m---------------------------------------------------------------------------\u001B[0m",
      "\u001B[0;31mTypeError\u001B[0m                                 Traceback (most recent call last)",
      "Cell \u001B[0;32mIn[4], line 22\u001B[0m\n\u001B[1;32m     19\u001B[0m \u001B[38;5;28;01mif\u001B[39;00m \u001B[38;5;28mabs\u001B[39m(Q[i,j]) \u001B[38;5;241m>\u001B[39m \u001B[38;5;241m1e-10\u001B[39m:\n\u001B[1;32m     20\u001B[0m     \u001B[38;5;28;01mif\u001B[39;00m i \u001B[38;5;241m==\u001B[39m j:\n\u001B[1;32m     21\u001B[0m         \u001B[38;5;66;03m# Diagonal terms\u001B[39;00m\n\u001B[0;32m---> 22\u001B[0m         hamiltonian \u001B[38;5;241m+\u001B[39m\u001B[38;5;241m=\u001B[39m \u001B[43mQ\u001B[49m\u001B[43m[\u001B[49m\u001B[43mi\u001B[49m\u001B[43m,\u001B[49m\u001B[43mi\u001B[49m\u001B[43m]\u001B[49m\u001B[43m \u001B[49m\u001B[38;5;241;43m*\u001B[39;49m\u001B[43m \u001B[49m\u001B[43mpauli_label\u001B[49m\u001B[43m(\u001B[49m\u001B[38;5;124;43mf\u001B[39;49m\u001B[38;5;124;43m\"\u001B[39;49m\u001B[38;5;124;43mZ\u001B[39;49m\u001B[38;5;132;43;01m{\u001B[39;49;00m\u001B[43mi\u001B[49m\u001B[38;5;132;43;01m}\u001B[39;49;00m\u001B[38;5;124;43m\"\u001B[39;49m\u001B[43m)\u001B[49m\n\u001B[1;32m     23\u001B[0m     \u001B[38;5;28;01melse\u001B[39;00m:\n\u001B[1;32m     24\u001B[0m         \u001B[38;5;66;03m# Off-diagonal terms\u001B[39;00m\n\u001B[1;32m     25\u001B[0m         hamiltonian \u001B[38;5;241m+\u001B[39m\u001B[38;5;241m=\u001B[39m Q[i,j] \u001B[38;5;241m*\u001B[39m pauli_label(\u001B[38;5;124mf\u001B[39m\u001B[38;5;124m\"\u001B[39m\u001B[38;5;124mZ\u001B[39m\u001B[38;5;132;01m{\u001B[39;00mi\u001B[38;5;132;01m}\u001B[39;00m\u001B[38;5;124mZ\u001B[39m\u001B[38;5;132;01m{\u001B[39;00mj\u001B[38;5;132;01m}\u001B[39;00m\u001B[38;5;124m\"\u001B[39m)\n",
      "\u001B[0;31mTypeError\u001B[0m: unsupported operand type(s) for *: 'float' and 'PauliLabel'"
     ]
    }
   ],
   "execution_count": 4
  },
  {
   "metadata": {},
   "cell_type": "code",
   "outputs": [],
   "execution_count": null,
   "source": "",
   "id": "923be1526a2771fa"
  }
 ],
 "metadata": {
  "kernelspec": {
   "display_name": "Python 3",
   "language": "python",
   "name": "python3"
  },
  "language_info": {
   "codemirror_mode": {
    "name": "ipython",
    "version": 2
   },
   "file_extension": ".py",
   "mimetype": "text/x-python",
   "name": "python",
   "nbconvert_exporter": "python",
   "pygments_lexer": "ipython2",
   "version": "2.7.6"
  }
 },
 "nbformat": 4,
 "nbformat_minor": 5
}
